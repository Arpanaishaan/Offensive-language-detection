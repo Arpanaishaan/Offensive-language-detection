{
 "cells": [
  {
   "cell_type": "code",
   "execution_count": 2,
   "metadata": {
    "executionInfo": {
     "elapsed": 16,
     "status": "ok",
     "timestamp": 1708674496054,
     "user": {
      "displayName": "jadaprojects09",
      "userId": "16719958102440739805"
     },
     "user_tz": -330
    },
    "id": "amVfH2etbAKj"
   },
   "outputs": [],
   "source": [
    "import warnings as En_Offen_span__w\n",
    "En_Offen_span__w.filterwarnings(\"ignore\")\n",
    "import pandas as En_Offen_span__N"
   ]
  },
  {
   "cell_type": "code",
   "execution_count": 3,
   "metadata": {
    "colab": {
     "base_uri": "https://localhost:8080/",
     "height": 423
    },
    "executionInfo": {
     "elapsed": 744,
     "status": "ok",
     "timestamp": 1708674496788,
     "user": {
      "displayName": "jadaprojects09",
      "userId": "16719958102440739805"
     },
     "user_tz": -330
    },
    "id": "XDwNWiYvbYOk",
    "outputId": "70413027-9e05-4997-b232-71160d8a1aec"
   },
   "outputs": [
    {
     "data": {
      "application/vnd.google.colaboratory.intrinsic+json": {
       "summary": "{\n  \"name\": \"En_Offen_span_1\",\n  \"rows\": 9527,\n  \"fields\": [\n    {\n      \"column\": \"tweet a etiquetar\",\n      \"properties\": {\n        \"dtype\": \"string\",\n        \"num_unique_values\": 9497,\n        \"samples\": [\n          \"marcofloresriv miguelmontero aprendieron r pido haitiano\",\n          \"elweondelcool pipesh jalessandri seguro vo teni ma po cochino culiao seguro hai trabajado vida saco wea sigu dedic ndote abdominal dem s seguir haciendo plata\",\n          \"vicktoriav chilexpresshelp arimuack sernac supuestament iban respond hoy hicieron weon variar empresa zmartgam compr producto evaluado m s mil siempr preocupado hijo puta hicieron culpa encomienda qu\"\n        ],\n        \"semantic_type\": \"\",\n        \"description\": \"\"\n      }\n    },\n    {\n      \"column\": \"hate speech/estereotipo\",\n      \"properties\": {\n        \"dtype\": \"number\",\n        \"std\": 0.24444237822646114,\n        \"min\": 0.0,\n        \"max\": 1.0,\n        \"num_unique_values\": 2,\n        \"samples\": [\n          1.0,\n          0.0\n        ],\n        \"semantic_type\": \"\",\n        \"description\": \"\"\n      }\n    }\n  ]\n}",
       "type": "dataframe",
       "variable_name": "En_Offen_span_1"
      },
      "text/html": [
       "\n",
       "  <div id=\"df-0daeeffa-bc8c-4e76-8571-545ae8dd9e42\" class=\"colab-df-container\">\n",
       "    <div>\n",
       "<style scoped>\n",
       "    .dataframe tbody tr th:only-of-type {\n",
       "        vertical-align: middle;\n",
       "    }\n",
       "\n",
       "    .dataframe tbody tr th {\n",
       "        vertical-align: top;\n",
       "    }\n",
       "\n",
       "    .dataframe thead th {\n",
       "        text-align: right;\n",
       "    }\n",
       "</style>\n",
       "<table border=\"1\" class=\"dataframe\">\n",
       "  <thead>\n",
       "    <tr style=\"text-align: right;\">\n",
       "      <th></th>\n",
       "      <th>tweet a etiquetar</th>\n",
       "      <th>hate speech/estereotipo</th>\n",
       "    </tr>\n",
       "  </thead>\n",
       "  <tbody>\n",
       "    <tr>\n",
       "      <th>0</th>\n",
       "      <td>tan tan feminista invisibilizaban constantemen...</td>\n",
       "      <td>0.0</td>\n",
       "    </tr>\n",
       "    <tr>\n",
       "      <th>1</th>\n",
       "      <td>eneatipo cooperativa karina ol carga q convirt...</td>\n",
       "      <td>0.0</td>\n",
       "    </tr>\n",
       "    <tr>\n",
       "      <th>2</th>\n",
       "      <td>sabr n femiorca karina ol flaiterio mapuchento...</td>\n",
       "      <td>1.0</td>\n",
       "    </tr>\n",
       "    <tr>\n",
       "      <th>3</th>\n",
       "      <td>antodellaw jonaoval carolinaleitao penalolen v...</td>\n",
       "      <td>0.0</td>\n",
       "    </tr>\n",
       "    <tr>\n",
       "      <th>4</th>\n",
       "      <td>ciudadanolevi debajo piedra flaiterio</td>\n",
       "      <td>0.0</td>\n",
       "    </tr>\n",
       "    <tr>\n",
       "      <th>...</th>\n",
       "      <td>...</td>\n",
       "      <td>...</td>\n",
       "    </tr>\n",
       "    <tr>\n",
       "      <th>9522</th>\n",
       "      <td>tere marinov toda raz n sra marinov hoy femini...</td>\n",
       "      <td>1.0</td>\n",
       "    </tr>\n",
       "    <tr>\n",
       "      <th>9523</th>\n",
       "      <td>anariagrando andreaenlaruta clintjoselint ver ...</td>\n",
       "      <td>0.0</td>\n",
       "    </tr>\n",
       "    <tr>\n",
       "      <th>9524</th>\n",
       "      <td>feminista tan agresor dan risa verdad asco con...</td>\n",
       "      <td>0.0</td>\n",
       "    </tr>\n",
       "    <tr>\n",
       "      <th>9525</th>\n",
       "      <td>machinet feminista dicen colega karina oliva</td>\n",
       "      <td>0.0</td>\n",
       "    </tr>\n",
       "    <tr>\n",
       "      <th>9526</th>\n",
       "      <td>andreaenlaruta clintjoselint entonc feminista ...</td>\n",
       "      <td>0.0</td>\n",
       "    </tr>\n",
       "  </tbody>\n",
       "</table>\n",
       "<p>9527 rows × 2 columns</p>\n",
       "</div>\n",
       "    <div class=\"colab-df-buttons\">\n",
       "\n",
       "  <div class=\"colab-df-container\">\n",
       "    <button class=\"colab-df-convert\" onclick=\"convertToInteractive('df-0daeeffa-bc8c-4e76-8571-545ae8dd9e42')\"\n",
       "            title=\"Convert this dataframe to an interactive table.\"\n",
       "            style=\"display:none;\">\n",
       "\n",
       "  <svg xmlns=\"http://www.w3.org/2000/svg\" height=\"24px\" viewBox=\"0 -960 960 960\">\n",
       "    <path d=\"M120-120v-720h720v720H120Zm60-500h600v-160H180v160Zm220 220h160v-160H400v160Zm0 220h160v-160H400v160ZM180-400h160v-160H180v160Zm440 0h160v-160H620v160ZM180-180h160v-160H180v160Zm440 0h160v-160H620v160Z\"/>\n",
       "  </svg>\n",
       "    </button>\n",
       "\n",
       "  <style>\n",
       "    .colab-df-container {\n",
       "      display:flex;\n",
       "      gap: 12px;\n",
       "    }\n",
       "\n",
       "    .colab-df-convert {\n",
       "      background-color: #E8F0FE;\n",
       "      border: none;\n",
       "      border-radius: 50%;\n",
       "      cursor: pointer;\n",
       "      display: none;\n",
       "      fill: #1967D2;\n",
       "      height: 32px;\n",
       "      padding: 0 0 0 0;\n",
       "      width: 32px;\n",
       "    }\n",
       "\n",
       "    .colab-df-convert:hover {\n",
       "      background-color: #E2EBFA;\n",
       "      box-shadow: 0px 1px 2px rgba(60, 64, 67, 0.3), 0px 1px 3px 1px rgba(60, 64, 67, 0.15);\n",
       "      fill: #174EA6;\n",
       "    }\n",
       "\n",
       "    .colab-df-buttons div {\n",
       "      margin-bottom: 4px;\n",
       "    }\n",
       "\n",
       "    [theme=dark] .colab-df-convert {\n",
       "      background-color: #3B4455;\n",
       "      fill: #D2E3FC;\n",
       "    }\n",
       "\n",
       "    [theme=dark] .colab-df-convert:hover {\n",
       "      background-color: #434B5C;\n",
       "      box-shadow: 0px 1px 3px 1px rgba(0, 0, 0, 0.15);\n",
       "      filter: drop-shadow(0px 1px 2px rgba(0, 0, 0, 0.3));\n",
       "      fill: #FFFFFF;\n",
       "    }\n",
       "  </style>\n",
       "\n",
       "    <script>\n",
       "      const buttonEl =\n",
       "        document.querySelector('#df-0daeeffa-bc8c-4e76-8571-545ae8dd9e42 button.colab-df-convert');\n",
       "      buttonEl.style.display =\n",
       "        google.colab.kernel.accessAllowed ? 'block' : 'none';\n",
       "\n",
       "      async function convertToInteractive(key) {\n",
       "        const element = document.querySelector('#df-0daeeffa-bc8c-4e76-8571-545ae8dd9e42');\n",
       "        const dataTable =\n",
       "          await google.colab.kernel.invokeFunction('convertToInteractive',\n",
       "                                                    [key], {});\n",
       "        if (!dataTable) return;\n",
       "\n",
       "        const docLinkHtml = 'Like what you see? Visit the ' +\n",
       "          '<a target=\"_blank\" href=https://colab.research.google.com/notebooks/data_table.ipynb>data table notebook</a>'\n",
       "          + ' to learn more about interactive tables.';\n",
       "        element.innerHTML = '';\n",
       "        dataTable['output_type'] = 'display_data';\n",
       "        await google.colab.output.renderOutput(dataTable, element);\n",
       "        const docLink = document.createElement('div');\n",
       "        docLink.innerHTML = docLinkHtml;\n",
       "        element.appendChild(docLink);\n",
       "      }\n",
       "    </script>\n",
       "  </div>\n",
       "\n",
       "\n",
       "<div id=\"df-6f02562c-139d-4bf5-8115-7e2d1a6d62e7\">\n",
       "  <button class=\"colab-df-quickchart\" onclick=\"quickchart('df-6f02562c-139d-4bf5-8115-7e2d1a6d62e7')\"\n",
       "            title=\"Suggest charts\"\n",
       "            style=\"display:none;\">\n",
       "\n",
       "<svg xmlns=\"http://www.w3.org/2000/svg\" height=\"24px\"viewBox=\"0 0 24 24\"\n",
       "     width=\"24px\">\n",
       "    <g>\n",
       "        <path d=\"M19 3H5c-1.1 0-2 .9-2 2v14c0 1.1.9 2 2 2h14c1.1 0 2-.9 2-2V5c0-1.1-.9-2-2-2zM9 17H7v-7h2v7zm4 0h-2V7h2v10zm4 0h-2v-4h2v4z\"/>\n",
       "    </g>\n",
       "</svg>\n",
       "  </button>\n",
       "\n",
       "<style>\n",
       "  .colab-df-quickchart {\n",
       "      --bg-color: #E8F0FE;\n",
       "      --fill-color: #1967D2;\n",
       "      --hover-bg-color: #E2EBFA;\n",
       "      --hover-fill-color: #174EA6;\n",
       "      --disabled-fill-color: #AAA;\n",
       "      --disabled-bg-color: #DDD;\n",
       "  }\n",
       "\n",
       "  [theme=dark] .colab-df-quickchart {\n",
       "      --bg-color: #3B4455;\n",
       "      --fill-color: #D2E3FC;\n",
       "      --hover-bg-color: #434B5C;\n",
       "      --hover-fill-color: #FFFFFF;\n",
       "      --disabled-bg-color: #3B4455;\n",
       "      --disabled-fill-color: #666;\n",
       "  }\n",
       "\n",
       "  .colab-df-quickchart {\n",
       "    background-color: var(--bg-color);\n",
       "    border: none;\n",
       "    border-radius: 50%;\n",
       "    cursor: pointer;\n",
       "    display: none;\n",
       "    fill: var(--fill-color);\n",
       "    height: 32px;\n",
       "    padding: 0;\n",
       "    width: 32px;\n",
       "  }\n",
       "\n",
       "  .colab-df-quickchart:hover {\n",
       "    background-color: var(--hover-bg-color);\n",
       "    box-shadow: 0 1px 2px rgba(60, 64, 67, 0.3), 0 1px 3px 1px rgba(60, 64, 67, 0.15);\n",
       "    fill: var(--button-hover-fill-color);\n",
       "  }\n",
       "\n",
       "  .colab-df-quickchart-complete:disabled,\n",
       "  .colab-df-quickchart-complete:disabled:hover {\n",
       "    background-color: var(--disabled-bg-color);\n",
       "    fill: var(--disabled-fill-color);\n",
       "    box-shadow: none;\n",
       "  }\n",
       "\n",
       "  .colab-df-spinner {\n",
       "    border: 2px solid var(--fill-color);\n",
       "    border-color: transparent;\n",
       "    border-bottom-color: var(--fill-color);\n",
       "    animation:\n",
       "      spin 1s steps(1) infinite;\n",
       "  }\n",
       "\n",
       "  @keyframes spin {\n",
       "    0% {\n",
       "      border-color: transparent;\n",
       "      border-bottom-color: var(--fill-color);\n",
       "      border-left-color: var(--fill-color);\n",
       "    }\n",
       "    20% {\n",
       "      border-color: transparent;\n",
       "      border-left-color: var(--fill-color);\n",
       "      border-top-color: var(--fill-color);\n",
       "    }\n",
       "    30% {\n",
       "      border-color: transparent;\n",
       "      border-left-color: var(--fill-color);\n",
       "      border-top-color: var(--fill-color);\n",
       "      border-right-color: var(--fill-color);\n",
       "    }\n",
       "    40% {\n",
       "      border-color: transparent;\n",
       "      border-right-color: var(--fill-color);\n",
       "      border-top-color: var(--fill-color);\n",
       "    }\n",
       "    60% {\n",
       "      border-color: transparent;\n",
       "      border-right-color: var(--fill-color);\n",
       "    }\n",
       "    80% {\n",
       "      border-color: transparent;\n",
       "      border-right-color: var(--fill-color);\n",
       "      border-bottom-color: var(--fill-color);\n",
       "    }\n",
       "    90% {\n",
       "      border-color: transparent;\n",
       "      border-bottom-color: var(--fill-color);\n",
       "    }\n",
       "  }\n",
       "</style>\n",
       "\n",
       "  <script>\n",
       "    async function quickchart(key) {\n",
       "      const quickchartButtonEl =\n",
       "        document.querySelector('#' + key + ' button');\n",
       "      quickchartButtonEl.disabled = true;  // To prevent multiple clicks.\n",
       "      quickchartButtonEl.classList.add('colab-df-spinner');\n",
       "      try {\n",
       "        const charts = await google.colab.kernel.invokeFunction(\n",
       "            'suggestCharts', [key], {});\n",
       "      } catch (error) {\n",
       "        console.error('Error during call to suggestCharts:', error);\n",
       "      }\n",
       "      quickchartButtonEl.classList.remove('colab-df-spinner');\n",
       "      quickchartButtonEl.classList.add('colab-df-quickchart-complete');\n",
       "    }\n",
       "    (() => {\n",
       "      let quickchartButtonEl =\n",
       "        document.querySelector('#df-6f02562c-139d-4bf5-8115-7e2d1a6d62e7 button');\n",
       "      quickchartButtonEl.style.display =\n",
       "        google.colab.kernel.accessAllowed ? 'block' : 'none';\n",
       "    })();\n",
       "  </script>\n",
       "</div>\n",
       "\n",
       "  <div id=\"id_61608d87-e995-43c4-a070-ba94bc57bfc7\">\n",
       "    <style>\n",
       "      .colab-df-generate {\n",
       "        background-color: #E8F0FE;\n",
       "        border: none;\n",
       "        border-radius: 50%;\n",
       "        cursor: pointer;\n",
       "        display: none;\n",
       "        fill: #1967D2;\n",
       "        height: 32px;\n",
       "        padding: 0 0 0 0;\n",
       "        width: 32px;\n",
       "      }\n",
       "\n",
       "      .colab-df-generate:hover {\n",
       "        background-color: #E2EBFA;\n",
       "        box-shadow: 0px 1px 2px rgba(60, 64, 67, 0.3), 0px 1px 3px 1px rgba(60, 64, 67, 0.15);\n",
       "        fill: #174EA6;\n",
       "      }\n",
       "\n",
       "      [theme=dark] .colab-df-generate {\n",
       "        background-color: #3B4455;\n",
       "        fill: #D2E3FC;\n",
       "      }\n",
       "\n",
       "      [theme=dark] .colab-df-generate:hover {\n",
       "        background-color: #434B5C;\n",
       "        box-shadow: 0px 1px 3px 1px rgba(0, 0, 0, 0.15);\n",
       "        filter: drop-shadow(0px 1px 2px rgba(0, 0, 0, 0.3));\n",
       "        fill: #FFFFFF;\n",
       "      }\n",
       "    </style>\n",
       "    <button class=\"colab-df-generate\" onclick=\"generateWithVariable('En_Offen_span_1')\"\n",
       "            title=\"Generate code using this dataframe.\"\n",
       "            style=\"display:none;\">\n",
       "\n",
       "  <svg xmlns=\"http://www.w3.org/2000/svg\" height=\"24px\"viewBox=\"0 0 24 24\"\n",
       "       width=\"24px\">\n",
       "    <path d=\"M7,19H8.4L18.45,9,17,7.55,7,17.6ZM5,21V16.75L18.45,3.32a2,2,0,0,1,2.83,0l1.4,1.43a1.91,1.91,0,0,1,.58,1.4,1.91,1.91,0,0,1-.58,1.4L9.25,21ZM18.45,9,17,7.55Zm-12,3A5.31,5.31,0,0,0,4.9,8.1,5.31,5.31,0,0,0,1,6.5,5.31,5.31,0,0,0,4.9,4.9,5.31,5.31,0,0,0,6.5,1,5.31,5.31,0,0,0,8.1,4.9,5.31,5.31,0,0,0,12,6.5,5.46,5.46,0,0,0,6.5,12Z\"/>\n",
       "  </svg>\n",
       "    </button>\n",
       "    <script>\n",
       "      (() => {\n",
       "      const buttonEl =\n",
       "        document.querySelector('#id_61608d87-e995-43c4-a070-ba94bc57bfc7 button.colab-df-generate');\n",
       "      buttonEl.style.display =\n",
       "        google.colab.kernel.accessAllowed ? 'block' : 'none';\n",
       "\n",
       "      buttonEl.onclick = () => {\n",
       "        google.colab.notebook.generateWithVariable('En_Offen_span_1');\n",
       "      }\n",
       "      })();\n",
       "    </script>\n",
       "  </div>\n",
       "\n",
       "    </div>\n",
       "  </div>\n"
      ],
      "text/plain": [
       "                                      tweet a etiquetar  \\\n",
       "0     tan tan feminista invisibilizaban constantemen...   \n",
       "1     eneatipo cooperativa karina ol carga q convirt...   \n",
       "2     sabr n femiorca karina ol flaiterio mapuchento...   \n",
       "3     antodellaw jonaoval carolinaleitao penalolen v...   \n",
       "4                 ciudadanolevi debajo piedra flaiterio   \n",
       "...                                                 ...   \n",
       "9522  tere marinov toda raz n sra marinov hoy femini...   \n",
       "9523  anariagrando andreaenlaruta clintjoselint ver ...   \n",
       "9524  feminista tan agresor dan risa verdad asco con...   \n",
       "9525       machinet feminista dicen colega karina oliva   \n",
       "9526  andreaenlaruta clintjoselint entonc feminista ...   \n",
       "\n",
       "      hate speech/estereotipo  \n",
       "0                         0.0  \n",
       "1                         0.0  \n",
       "2                         1.0  \n",
       "3                         0.0  \n",
       "4                         0.0  \n",
       "...                       ...  \n",
       "9522                      1.0  \n",
       "9523                      0.0  \n",
       "9524                      0.0  \n",
       "9525                      0.0  \n",
       "9526                      0.0  \n",
       "\n",
       "[9527 rows x 2 columns]"
      ]
     },
     "execution_count": 3,
     "metadata": {},
     "output_type": "execute_result"
    }
   ],
   "source": [
    "####### Spanish offensive language\n",
    "En_Offen_span_1 = En_Offen_span__N.read_csv('Spanish_final.csv')\n",
    "En_Offen_span_1"
   ]
  },
  {
   "cell_type": "code",
   "execution_count": 4,
   "metadata": {
    "colab": {
     "base_uri": "https://localhost:8080/"
    },
    "executionInfo": {
     "elapsed": 7,
     "status": "ok",
     "timestamp": 1708674496788,
     "user": {
      "displayName": "jadaprojects09",
      "userId": "16719958102440739805"
     },
     "user_tz": -330
    },
    "id": "sdeO03sXcKtJ",
    "outputId": "8dbefe04-415f-4c11-dba7-cf75625734a0"
   },
   "outputs": [
    {
     "data": {
      "text/plain": [
       "0.0    8919\n",
       "1.0     608\n",
       "Name: hate speech/estereotipo, dtype: int64"
      ]
     },
     "execution_count": 4,
     "metadata": {},
     "output_type": "execute_result"
    }
   ],
   "source": [
    "En_Offen_span_1['hate speech/estereotipo'].value_counts()"
   ]
  },
  {
   "cell_type": "code",
   "execution_count": 5,
   "metadata": {
    "executionInfo": {
     "elapsed": 1123,
     "status": "ok",
     "timestamp": 1708674497906,
     "user": {
      "displayName": "jadaprojects09",
      "userId": "16719958102440739805"
     },
     "user_tz": -330
    },
    "id": "mZqCeK7kc00O"
   },
   "outputs": [],
   "source": [
    "from sklearn.feature_extraction.text import TfidfVectorizer as En_Offen_span_1tf\n",
    "\n",
    "En_Offen_span_1zer = En_Offen_span_1tf(analyzer='word', ngram_range= (1,1))\n",
    "En_Offen_span_1x = En_Offen_span_1zer.fit_transform(En_Offen_span_1['tweet a etiquetar'].values.astype('U')).toarray()"
   ]
  },
  {
   "cell_type": "code",
   "execution_count": 6,
   "metadata": {
    "colab": {
     "base_uri": "https://localhost:8080/"
    },
    "executionInfo": {
     "elapsed": 6,
     "status": "ok",
     "timestamp": 1708674497906,
     "user": {
      "displayName": "jadaprojects09",
      "userId": "16719958102440739805"
     },
     "user_tz": -330
    },
    "id": "C6TfSTiqdQmH",
    "outputId": "ae313be2-115a-46a7-8dbe-9bc9584e08be"
   },
   "outputs": [
    {
     "data": {
      "text/plain": [
       "(9527, 26680)"
      ]
     },
     "execution_count": 6,
     "metadata": {},
     "output_type": "execute_result"
    }
   ],
   "source": [
    "En_Offen_span_1x.shape"
   ]
  },
  {
   "cell_type": "code",
   "execution_count": 7,
   "metadata": {
    "executionInfo": {
     "elapsed": 17,
     "status": "ok",
     "timestamp": 1708674498660,
     "user": {
      "displayName": "jadaprojects09",
      "userId": "16719958102440739805"
     },
     "user_tz": -330
    },
    "id": "hY3fdVp5dUuF"
   },
   "outputs": [],
   "source": [
    "En_Offen_span_1y = En_Offen_span_1['hate speech/estereotipo']"
   ]
  },
  {
   "cell_type": "code",
   "execution_count": 8,
   "metadata": {
    "colab": {
     "base_uri": "https://localhost:8080/"
    },
    "executionInfo": {
     "elapsed": 17,
     "status": "ok",
     "timestamp": 1708674498661,
     "user": {
      "displayName": "jadaprojects09",
      "userId": "16719958102440739805"
     },
     "user_tz": -330
    },
    "id": "ek3KovBxddHU",
    "outputId": "93d2e470-a451-46b6-e41d-fcd14e45dd1d"
   },
   "outputs": [
    {
     "name": "stdout",
     "output_type": "stream",
     "text": [
      "Original En_Offen_span_1 datashape Counter({0.0: 8919, 1.0: 608})\n",
      "Resampled En_Offen_span_1 datashape Counter({0.0: 608, 1.0: 608})\n"
     ]
    }
   ],
   "source": [
    "import imblearn\n",
    "from imblearn.under_sampling import RandomUnderSampler as En_Offen_span_1run\n",
    "from collections import Counter as En_Offen_span_1cn\n",
    "print('Original En_Offen_span_1 datashape %s' % En_Offen_span_1cn(En_Offen_span_1y))\n",
    "En_Offen_span_1ml = En_Offen_span_1run()\n",
    "En_Offen_span_1x, En_Offen_span_1y = En_Offen_span_1ml.fit_resample(En_Offen_span_1x, En_Offen_span_1y)\n",
    "print('Resampled En_Offen_span_1 datashape %s' % En_Offen_span_1cn(En_Offen_span_1y))\n"
   ]
  },
  {
   "cell_type": "code",
   "execution_count": 9,
   "metadata": {
    "colab": {
     "base_uri": "https://localhost:8080/"
    },
    "executionInfo": {
     "elapsed": 14,
     "status": "ok",
     "timestamp": 1708674498661,
     "user": {
      "displayName": "jadaprojects09",
      "userId": "16719958102440739805"
     },
     "user_tz": -330
    },
    "id": "jIMAJ971eGoY",
    "outputId": "25c5d208-cd7b-47c2-be09-9da50d5e60ef"
   },
   "outputs": [
    {
     "data": {
      "text/plain": [
       "(1216, 26680)"
      ]
     },
     "execution_count": 9,
     "metadata": {},
     "output_type": "execute_result"
    }
   ],
   "source": [
    "En_Offen_span_1x.shape"
   ]
  },
  {
   "cell_type": "code",
   "execution_count": 10,
   "metadata": {
    "colab": {
     "base_uri": "https://localhost:8080/"
    },
    "executionInfo": {
     "elapsed": 10,
     "status": "ok",
     "timestamp": 1708674498661,
     "user": {
      "displayName": "jadaprojects09",
      "userId": "16719958102440739805"
     },
     "user_tz": -330
    },
    "id": "Z4biyScJeKf_",
    "outputId": "8d57c28f-cc72-40fb-dd94-3403f2595f75"
   },
   "outputs": [
    {
     "data": {
      "text/plain": [
       "(1216,)"
      ]
     },
     "execution_count": 10,
     "metadata": {},
     "output_type": "execute_result"
    }
   ],
   "source": [
    "En_Offen_span_1y.shape"
   ]
  },
  {
   "cell_type": "code",
   "execution_count": 11,
   "metadata": {
    "colab": {
     "base_uri": "https://localhost:8080/"
    },
    "executionInfo": {
     "elapsed": 9,
     "status": "ok",
     "timestamp": 1708674498662,
     "user": {
      "displayName": "jadaprojects09",
      "userId": "16719958102440739805"
     },
     "user_tz": -330
    },
    "id": "yR7QQtZjePpj",
    "outputId": "cf90be46-71f6-46bd-c2b5-b82d55d03c9b"
   },
   "outputs": [
    {
     "name": "stdout",
     "output_type": "stream",
     "text": [
      "(729, 26680)\n",
      "(243, 26680)\n",
      "(244, 26680)\n"
     ]
    }
   ],
   "source": [
    "from sklearn.model_selection import train_test_split as En_Offen_span_1trs\n",
    "\n",
    "En_tssi =0.4\n",
    "En_rast = 40\n",
    "En_tssi1 =0.5\n",
    "\n",
    "En_Offen_span_1xr, En_Offen_span_1xe, En_Offen_span_1yr, En_Offen_span_1ye = En_Offen_span_1trs(En_Offen_span_1x, En_Offen_span_1y, test_size=En_tssi, random_state= En_rast)\n",
    "En_Offen_span_1xd, En_Offen_span_1xe, En_Offen_span_1yd, En_Offen_span_1ye = En_Offen_span_1trs(En_Offen_span_1xe, En_Offen_span_1ye, test_size= En_tssi1, random_state= En_rast)\n",
    "\n",
    "print(En_Offen_span_1xr.shape)\n",
    "print(En_Offen_span_1xd.shape)\n",
    "print(En_Offen_span_1xe.shape)"
   ]
  },
  {
   "cell_type": "markdown",
   "metadata": {
    "id": "e5zZTqeyf1Q0"
   },
   "source": [
    "### ML algorithm"
   ]
  },
  {
   "cell_type": "code",
   "execution_count": 12,
   "metadata": {
    "executionInfo": {
     "elapsed": 6,
     "status": "ok",
     "timestamp": 1708674498662,
     "user": {
      "displayName": "jadaprojects09",
      "userId": "16719958102440739805"
     },
     "user_tz": -330
    },
    "id": "KNQ4t7K1f5UH"
   },
   "outputs": [],
   "source": [
    "from sklearn.metrics import classification_report as En_Offen_span_1cffr\n",
    "from sklearn.metrics import confusion_matrix as En_Offen_span_1cfmt\n",
    "from sklearn.metrics import ConfusionMatrixDisplay as En_Offen_span_1cmxd\n",
    "from sklearn.model_selection import GridSearchCV as En_Offen_span_1grdsh\n",
    "import time as En_Offen_span_1tiim"
   ]
  },
  {
   "cell_type": "markdown",
   "metadata": {
    "id": "IAYiGqHTgUl1"
   },
   "source": [
    "#### decision tree"
   ]
  },
  {
   "cell_type": "code",
   "execution_count": 13,
   "metadata": {
    "colab": {
     "base_uri": "https://localhost:8080/"
    },
    "executionInfo": {
     "elapsed": 11989,
     "status": "ok",
     "timestamp": 1708674510645,
     "user": {
      "displayName": "jadaprojects09",
      "userId": "16719958102440739805"
     },
     "user_tz": -330
    },
    "id": "ng8dI6mXgcRA",
    "outputId": "8ac4d928-0a6a-4625-d76d-ea69bb01e695"
   },
   "outputs": [
    {
     "name": "stdout",
     "output_type": "stream",
     "text": [
      "Fitting 2 folds for each of 18 candidates, totalling 36 fits\n",
      "[CV 1/2; 1/18] START criterion=entropy, max_features=log2, splitter=best........\n",
      "[CV 1/2; 1/18] END criterion=entropy, max_features=log2, splitter=best;, score=0.564 total time=   0.1s\n",
      "[CV 2/2; 1/18] START criterion=entropy, max_features=log2, splitter=best........\n",
      "[CV 2/2; 1/18] END criterion=entropy, max_features=log2, splitter=best;, score=0.488 total time=   0.1s\n",
      "[CV 1/2; 2/18] START criterion=entropy, max_features=log2, splitter=random......\n",
      "[CV 1/2; 2/18] END criterion=entropy, max_features=log2, splitter=random;, score=0.636 total time=   0.1s\n",
      "[CV 2/2; 2/18] START criterion=entropy, max_features=log2, splitter=random......\n",
      "[CV 2/2; 2/18] END criterion=entropy, max_features=log2, splitter=random;, score=0.552 total time=   0.2s\n",
      "[CV 1/2; 3/18] START criterion=entropy, max_features=sqrt, splitter=best........\n",
      "[CV 1/2; 3/18] END criterion=entropy, max_features=sqrt, splitter=best;, score=0.604 total time=   0.2s\n",
      "[CV 2/2; 3/18] START criterion=entropy, max_features=sqrt, splitter=best........\n",
      "[CV 2/2; 3/18] END criterion=entropy, max_features=sqrt, splitter=best;, score=0.620 total time=   0.2s\n",
      "[CV 1/2; 4/18] START criterion=entropy, max_features=sqrt, splitter=random......\n",
      "[CV 1/2; 4/18] END criterion=entropy, max_features=sqrt, splitter=random;, score=0.552 total time=   0.2s\n",
      "[CV 2/2; 4/18] START criterion=entropy, max_features=sqrt, splitter=random......\n",
      "[CV 2/2; 4/18] END criterion=entropy, max_features=sqrt, splitter=random;, score=0.640 total time=   0.3s\n",
      "[CV 1/2; 5/18] START criterion=entropy, max_features=None, splitter=best........\n",
      "[CV 1/2; 5/18] END criterion=entropy, max_features=None, splitter=best;, score=0.696 total time=   0.8s\n",
      "[CV 2/2; 5/18] START criterion=entropy, max_features=None, splitter=best........\n",
      "[CV 2/2; 5/18] END criterion=entropy, max_features=None, splitter=best;, score=0.640 total time=   0.7s\n",
      "[CV 1/2; 6/18] START criterion=entropy, max_features=None, splitter=random......\n",
      "[CV 1/2; 6/18] END criterion=entropy, max_features=None, splitter=random;, score=0.660 total time=   0.6s\n",
      "[CV 2/2; 6/18] START criterion=entropy, max_features=None, splitter=random......\n",
      "[CV 2/2; 6/18] END criterion=entropy, max_features=None, splitter=random;, score=0.660 total time=   0.3s\n",
      "[CV 1/2; 7/18] START criterion=gini, max_features=log2, splitter=best...........\n",
      "[CV 1/2; 7/18] END criterion=gini, max_features=log2, splitter=best;, score=0.564 total time=   0.1s\n",
      "[CV 2/2; 7/18] START criterion=gini, max_features=log2, splitter=best...........\n",
      "[CV 2/2; 7/18] END criterion=gini, max_features=log2, splitter=best;, score=0.488 total time=   0.1s\n",
      "[CV 1/2; 8/18] START criterion=gini, max_features=log2, splitter=random.........\n",
      "[CV 1/2; 8/18] END criterion=gini, max_features=log2, splitter=random;, score=0.560 total time=   0.1s\n",
      "[CV 2/2; 8/18] START criterion=gini, max_features=log2, splitter=random.........\n",
      "[CV 2/2; 8/18] END criterion=gini, max_features=log2, splitter=random;, score=0.552 total time=   0.1s\n",
      "[CV 1/2; 9/18] START criterion=gini, max_features=sqrt, splitter=best...........\n",
      "[CV 1/2; 9/18] END criterion=gini, max_features=sqrt, splitter=best;, score=0.592 total time=   0.1s\n",
      "[CV 2/2; 9/18] START criterion=gini, max_features=sqrt, splitter=best...........\n",
      "[CV 2/2; 9/18] END criterion=gini, max_features=sqrt, splitter=best;, score=0.596 total time=   0.1s\n",
      "[CV 1/2; 10/18] START criterion=gini, max_features=sqrt, splitter=random........\n",
      "[CV 1/2; 10/18] END criterion=gini, max_features=sqrt, splitter=random;, score=0.620 total time=   0.1s\n",
      "[CV 2/2; 10/18] START criterion=gini, max_features=sqrt, splitter=random........\n",
      "[CV 2/2; 10/18] END criterion=gini, max_features=sqrt, splitter=random;, score=0.648 total time=   0.1s\n",
      "[CV 1/2; 11/18] START criterion=gini, max_features=None, splitter=best..........\n",
      "[CV 1/2; 11/18] END criterion=gini, max_features=None, splitter=best;, score=0.708 total time=   0.3s\n",
      "[CV 2/2; 11/18] START criterion=gini, max_features=None, splitter=best..........\n",
      "[CV 2/2; 11/18] END criterion=gini, max_features=None, splitter=best;, score=0.628 total time=   0.5s\n",
      "[CV 1/2; 12/18] START criterion=gini, max_features=None, splitter=random........\n",
      "[CV 1/2; 12/18] END criterion=gini, max_features=None, splitter=random;, score=0.680 total time=   0.7s\n",
      "[CV 2/2; 12/18] START criterion=gini, max_features=None, splitter=random........\n",
      "[CV 2/2; 12/18] END criterion=gini, max_features=None, splitter=random;, score=0.632 total time=   0.3s\n",
      "[CV 1/2; 13/18] START criterion=log_loss, max_features=log2, splitter=best......\n",
      "[CV 1/2; 13/18] END criterion=log_loss, max_features=log2, splitter=best;, score=0.564 total time=   0.1s\n",
      "[CV 2/2; 13/18] START criterion=log_loss, max_features=log2, splitter=best......\n",
      "[CV 2/2; 13/18] END criterion=log_loss, max_features=log2, splitter=best;, score=0.488 total time=   0.1s\n",
      "[CV 1/2; 14/18] START criterion=log_loss, max_features=log2, splitter=random....\n",
      "[CV 1/2; 14/18] END criterion=log_loss, max_features=log2, splitter=random;, score=0.636 total time=   0.1s\n",
      "[CV 2/2; 14/18] START criterion=log_loss, max_features=log2, splitter=random....\n",
      "[CV 2/2; 14/18] END criterion=log_loss, max_features=log2, splitter=random;, score=0.552 total time=   0.1s\n",
      "[CV 1/2; 15/18] START criterion=log_loss, max_features=sqrt, splitter=best......\n",
      "[CV 1/2; 15/18] END criterion=log_loss, max_features=sqrt, splitter=best;, score=0.604 total time=   0.1s\n",
      "[CV 2/2; 15/18] START criterion=log_loss, max_features=sqrt, splitter=best......\n",
      "[CV 2/2; 15/18] END criterion=log_loss, max_features=sqrt, splitter=best;, score=0.620 total time=   0.1s\n",
      "[CV 1/2; 16/18] START criterion=log_loss, max_features=sqrt, splitter=random....\n",
      "[CV 1/2; 16/18] END criterion=log_loss, max_features=sqrt, splitter=random;, score=0.552 total time=   0.2s\n",
      "[CV 2/2; 16/18] START criterion=log_loss, max_features=sqrt, splitter=random....\n",
      "[CV 2/2; 16/18] END criterion=log_loss, max_features=sqrt, splitter=random;, score=0.640 total time=   0.2s\n",
      "[CV 1/2; 17/18] START criterion=log_loss, max_features=None, splitter=best......\n",
      "[CV 1/2; 17/18] END criterion=log_loss, max_features=None, splitter=best;, score=0.696 total time=   0.3s\n",
      "[CV 2/2; 17/18] START criterion=log_loss, max_features=None, splitter=best......\n",
      "[CV 2/2; 17/18] END criterion=log_loss, max_features=None, splitter=best;, score=0.640 total time=   0.4s\n",
      "[CV 1/2; 18/18] START criterion=log_loss, max_features=None, splitter=random....\n",
      "[CV 1/2; 18/18] END criterion=log_loss, max_features=None, splitter=random;, score=0.660 total time=   0.6s\n",
      "[CV 2/2; 18/18] START criterion=log_loss, max_features=None, splitter=random....\n",
      "[CV 2/2; 18/18] END criterion=log_loss, max_features=None, splitter=random;, score=0.660 total time=   0.7s\n",
      "{'criterion': 'entropy', 'max_features': None, 'splitter': 'best'}\n",
      "score-En_Offen_span_1:  0.6679999999999999\n"
     ]
    }
   ],
   "source": [
    "from sklearn.tree import DecisionTreeClassifier as En_Offen_span_1dsne\n",
    "\n",
    "En_Hypm = { 'max_features': ['log2','sqrt',None],\n",
    "               'criterion': ['entropy','gini','log_loss'],\n",
    "               'splitter':['best','random']}\n",
    "\n",
    "\n",
    "En_Hypm_vsb = En_Offen_span_1dsne(random_state= En_rast)\n",
    "En_Hypm_vsb = En_Offen_span_1grdsh(En_Hypm_vsb, En_Hypm,\n",
    "                          cv=2, verbose=10)\n",
    "En_Hypm_vsb.fit(En_Offen_span_1xr[:500], En_Offen_span_1yr[:500])\n",
    "\n",
    "print(En_Hypm_vsb.best_params_)\n",
    "print(\"score-En_Offen_span_1: \", En_Hypm_vsb.best_score_)"
   ]
  },
  {
   "cell_type": "code",
   "execution_count": 14,
   "metadata": {
    "colab": {
     "base_uri": "https://localhost:8080/",
     "height": 709
    },
    "executionInfo": {
     "elapsed": 3404,
     "status": "ok",
     "timestamp": 1708674514031,
     "user": {
      "displayName": "jadaprojects09",
      "userId": "16719958102440739805"
     },
     "user_tz": -330
    },
    "id": "Z_klDQ6kgcSk",
    "outputId": "13fa8295-6df0-4429-e8a5-8e8035462053"
   },
   "outputs": [
    {
     "name": "stdout",
     "output_type": "stream",
     "text": [
      "\n",
      " training duration: 2.8975014686584473 \n",
      "\n",
      "              precision    recall  f1-score   support\n",
      "\n",
      "         0.0       0.70      0.77      0.73       127\n",
      "         1.0       0.72      0.63      0.67       116\n",
      "\n",
      "    accuracy                           0.70       243\n",
      "   macro avg       0.71      0.70      0.70       243\n",
      "weighted avg       0.70      0.70      0.70       243\n",
      "\n",
      "\n",
      " validation duration: 0.19192957878112793 \n",
      "\n"
     ]
    },
    {
     "data": {
      "image/png": "[encoded data removed]",
      "text/plain": [
       "<Figure size 640x480 with 2 Axes>"
      ]
     },
     "metadata": {},
     "output_type": "display_data"
    }
   ],
   "source": [
    "En_pd1 = En_Offen_span_1tiim.time()\n",
    "\n",
    "En_Offen_span_MdA= En_Offen_span_1dsne(**En_Hypm_vsb.best_params_)\n",
    "En_Offen_span_MdA.fit(En_Offen_span_1xr, En_Offen_span_1yr)\n",
    "\n",
    "En_pd2 = En_Offen_span_1tiim.time()\n",
    "print(\"\\n training duration:\", En_pd2-En_pd1,\"\\n\")\n",
    "\n",
    "\n",
    "En_pd1 = En_Offen_span_1tiim.time()\n",
    "\n",
    "En_Offen_span_pct= En_Offen_span_MdA.predict(En_Offen_span_1xd)\n",
    "\n",
    "print(En_Offen_span_1cffr(En_Offen_span_1yd, En_Offen_span_pct))\n",
    "\n",
    "En_tk = En_Offen_span_1cfmt(En_Offen_span_1yd,En_Offen_span_pct)\n",
    "En_rd = En_Offen_span_1cmxd(confusion_matrix = En_tk, display_labels = [0,1])\n",
    "En_rd.plot()\n",
    "\n",
    "En_pd2= En_Offen_span_1tiim.time()\n",
    "print(\"\\n validation duration:\", En_pd2-En_pd1,\"\\n\")"
   ]
  },
  {
   "cell_type": "code",
   "execution_count": 15,
   "metadata": {
    "colab": {
     "base_uri": "https://localhost:8080/",
     "height": 489
    },
    "executionInfo": {
     "elapsed": 866,
     "status": "ok",
     "timestamp": 1708674514889,
     "user": {
      "displayName": "jadaprojects09",
      "userId": "16719958102440739805"
     },
     "user_tz": -330
    },
    "id": "bQxMzST9gcqJ",
    "outputId": "4b4d5b09-c7e4-475c-a763-6efc9aa73d2b"
   },
   "outputs": [
    {
     "data": {
      "image/png": "[encoded data removed]",
      "text/plain": [
       "<Figure size 640x480 with 1 Axes>"
      ]
     },
     "metadata": {},
     "output_type": "display_data"
    },
    {
     "name": "stdout",
     "output_type": "stream",
     "text": [
      "auc- curve: 0.7004819440673364\n"
     ]
    }
   ],
   "source": [
    "from sklearn.metrics import roc_curve as En_Offen_span_rc\n",
    "from sklearn.metrics import roc_auc_score as En_Offen_span_ac\n",
    "import matplotlib.pyplot as En_Offen_span_mt\n",
    "\n",
    "En_Offen_span_Fals, En_Offen_span_tre, En_Offen_span_ths = En_Offen_span_rc(En_Offen_span_1yd, En_Offen_span_pct)\n",
    "En_Offen_span_mt.plot(En_Offen_span_Fals, En_Offen_span_tre)\n",
    "En_Offen_span_mt.ylabel('rate-Fals')\n",
    "En_Offen_span_mt.xlabel('rate-Tru')\n",
    "En_Offen_span_mt.title('roc curve')\n",
    "En_Offen_span_mt.show()\n",
    "print('auc- curve:', En_Offen_span_ac(En_Offen_span_1yd, En_Offen_span_pct))"
   ]
  },
  {
   "cell_type": "code",
   "execution_count": 16,
   "metadata": {
    "colab": {
     "base_uri": "https://localhost:8080/",
     "height": 657
    },
    "executionInfo": {
     "elapsed": 919,
     "status": "ok",
     "timestamp": 1708674515802,
     "user": {
      "displayName": "jadaprojects09",
      "userId": "16719958102440739805"
     },
     "user_tz": -330
    },
    "id": "CbxM3Mjfjty1",
    "outputId": "a853405f-2c3b-41af-c76c-6b84981de249"
   },
   "outputs": [
    {
     "name": "stdout",
     "output_type": "stream",
     "text": [
      "              precision    recall  f1-score   support\n",
      "\n",
      "         0.0       0.65      0.68      0.66       118\n",
      "         1.0       0.69      0.66      0.67       126\n",
      "\n",
      "    accuracy                           0.67       244\n",
      "   macro avg       0.67      0.67      0.67       244\n",
      "weighted avg       0.67      0.67      0.67       244\n",
      "\n",
      "\n",
      " testing duration: 0.12471342086791992 \n",
      "\n"
     ]
    },
    {
     "data": {
      "image/png": "[encoded data removed]",
      "text/plain": [
       "<Figure size 640x480 with 2 Axes>"
      ]
     },
     "metadata": {},
     "output_type": "display_data"
    }
   ],
   "source": [
    "En_pd1 = En_Offen_span_1tiim.time()\n",
    "\n",
    "En_Offen_span_pct= En_Offen_span_MdA.predict(En_Offen_span_1xe)\n",
    "\n",
    "print(En_Offen_span_1cffr(En_Offen_span_1ye, En_Offen_span_pct))\n",
    "\n",
    "En_tk = En_Offen_span_1cfmt(En_Offen_span_1ye,En_Offen_span_pct)\n",
    "En_rd = En_Offen_span_1cmxd(confusion_matrix = En_tk, display_labels = [0,1])\n",
    "En_rd.plot()\n",
    "\n",
    "En_pd2= En_Offen_span_1tiim.time()\n",
    "print(\"\\n testing duration:\", En_pd2-En_pd1,\"\\n\")"
   ]
  },
  {
   "cell_type": "code",
   "execution_count": 17,
   "metadata": {
    "colab": {
     "base_uri": "https://localhost:8080/",
     "height": 489
    },
    "executionInfo": {
     "elapsed": 13,
     "status": "ok",
     "timestamp": 1708674515802,
     "user": {
      "displayName": "jadaprojects09",
      "userId": "16719958102440739805"
     },
     "user_tz": -330
    },
    "id": "J5dOs9pUj4Hw",
    "outputId": "41e6e800-ea8b-4bf4-acd3-49ff6b70b97d"
   },
   "outputs": [
    {
     "data": {
      "image/png": "[encoded data removed]",
      "text/plain": [
       "<Figure size 640x480 with 1 Axes>"
      ]
     },
     "metadata": {},
     "output_type": "display_data"
    },
    {
     "name": "stdout",
     "output_type": "stream",
     "text": [
      "auc- curve: 0.6683481302125369\n"
     ]
    }
   ],
   "source": [
    "En_Offen_span_Fals, En_Offen_span_tre, En_Offen_span_ths = En_Offen_span_rc(En_Offen_span_1ye, En_Offen_span_pct)\n",
    "En_Offen_span_mt.plot(En_Offen_span_Fals, En_Offen_span_tre)\n",
    "En_Offen_span_mt.ylabel('rate-Fals')\n",
    "En_Offen_span_mt.xlabel('rate-Tru')\n",
    "En_Offen_span_mt.title('roc curve')\n",
    "En_Offen_span_mt.show()\n",
    "print('auc- curve:', En_Offen_span_ac(En_Offen_span_1ye, En_Offen_span_pct))"
   ]
  },
  {
   "cell_type": "markdown",
   "metadata": {
    "id": "GOK0iyp-krhA"
   },
   "source": [
    "#### SVM"
   ]
  },
  {
   "cell_type": "code",
   "execution_count": 18,
   "metadata": {
    "colab": {
     "base_uri": "https://localhost:8080/"
    },
    "executionInfo": {
     "elapsed": 235203,
     "status": "ok",
     "timestamp": 1708674750995,
     "user": {
      "displayName": "jadaprojects09",
      "userId": "16719958102440739805"
     },
     "user_tz": -330
    },
    "id": "falRLblIkyJS",
    "outputId": "12cfe779-3eae-4c2c-b91f-e9d359068e6d"
   },
   "outputs": [
    {
     "name": "stdout",
     "output_type": "stream",
     "text": [
      "Fitting 2 folds for each of 48 candidates, totalling 96 fits\n",
      "[CV 1/2; 1/48] START degree=2, gamma=auto, kernel=sigmoid.......................\n",
      "[CV 1/2; 1/48] END degree=2, gamma=auto, kernel=sigmoid;, score=0.588 total time=   6.2s\n",
      "[CV 2/2; 1/48] START degree=2, gamma=auto, kernel=sigmoid.......................\n",
      "[CV 2/2; 1/48] END degree=2, gamma=auto, kernel=sigmoid;, score=0.500 total time=   6.7s\n",
      "[CV 1/2; 2/48] START degree=2, gamma=auto, kernel=poly..........................\n",
      "[CV 1/2; 2/48] END degree=2, gamma=auto, kernel=poly;, score=0.492 total time=   5.0s\n",
      "[CV 2/2; 2/48] START degree=2, gamma=auto, kernel=poly..........................\n",
      "[CV 2/2; 2/48] END degree=2, gamma=auto, kernel=poly;, score=0.500 total time=   6.3s\n",
      "[CV 1/2; 3/48] START degree=2, gamma=auto, kernel=rbg...........................\n",
      "[CV 1/2; 3/48] END degree=2, gamma=auto, kernel=rbg;, score=nan total time=   0.0s\n",
      "[CV 2/2; 3/48] START degree=2, gamma=auto, kernel=rbg...........................\n",
      "[CV 2/2; 3/48] END degree=2, gamma=auto, kernel=rbg;, score=nan total time=   0.0s\n",
      "[CV 1/2; 4/48] START degree=2, gamma=auto, kernel=linear........................\n",
      "[CV 1/2; 4/48] END degree=2, gamma=auto, kernel=linear;, score=0.724 total time=   2.2s\n",
      "[CV 2/2; 4/48] START degree=2, gamma=auto, kernel=linear........................\n",
      "[CV 2/2; 4/48] END degree=2, gamma=auto, kernel=linear;, score=0.696 total time=   2.2s\n",
      "[CV 1/2; 5/48] START degree=2, gamma=scale, kernel=sigmoid......................\n",
      "[CV 1/2; 5/48] END degree=2, gamma=scale, kernel=sigmoid;, score=0.728 total time=   4.3s\n",
      "[CV 2/2; 5/48] START degree=2, gamma=scale, kernel=sigmoid......................\n",
      "[CV 2/2; 5/48] END degree=2, gamma=scale, kernel=sigmoid;, score=0.692 total time=   7.3s\n",
      "[CV 1/2; 6/48] START degree=2, gamma=scale, kernel=poly.........................\n",
      "[CV 1/2; 6/48] END degree=2, gamma=scale, kernel=poly;, score=0.704 total time=   5.2s\n",
      "[CV 2/2; 6/48] START degree=2, gamma=scale, kernel=poly.........................\n",
      "[CV 2/2; 6/48] END degree=2, gamma=scale, kernel=poly;, score=0.600 total time=   4.9s\n",
      "[CV 1/2; 7/48] START degree=2, gamma=scale, kernel=rbg..........................\n",
      "[CV 1/2; 7/48] END degree=2, gamma=scale, kernel=rbg;, score=nan total time=   0.1s\n",
      "[CV 2/2; 7/48] START degree=2, gamma=scale, kernel=rbg..........................\n",
      "[CV 2/2; 7/48] END degree=2, gamma=scale, kernel=rbg;, score=nan total time=   0.1s\n",
      "[CV 1/2; 8/48] START degree=2, gamma=scale, kernel=linear.......................\n",
      "[CV 1/2; 8/48] END degree=2, gamma=scale, kernel=linear;, score=0.724 total time=   4.2s\n",
      "[CV 2/2; 8/48] START degree=2, gamma=scale, kernel=linear.......................\n",
      "[CV 2/2; 8/48] END degree=2, gamma=scale, kernel=linear;, score=0.696 total time=   5.6s\n",
      "[CV 1/2; 9/48] START degree=3, gamma=auto, kernel=sigmoid.......................\n",
      "[CV 1/2; 9/48] END degree=3, gamma=auto, kernel=sigmoid;, score=0.588 total time=   6.2s\n",
      "[CV 2/2; 9/48] START degree=3, gamma=auto, kernel=sigmoid.......................\n",
      "[CV 2/2; 9/48] END degree=3, gamma=auto, kernel=sigmoid;, score=0.500 total time=   4.3s\n",
      "[CV 1/2; 10/48] START degree=3, gamma=auto, kernel=poly.........................\n",
      "[CV 1/2; 10/48] END degree=3, gamma=auto, kernel=poly;, score=0.496 total time=   4.5s\n",
      "[CV 2/2; 10/48] START degree=3, gamma=auto, kernel=poly.........................\n",
      "[CV 2/2; 10/48] END degree=3, gamma=auto, kernel=poly;, score=0.500 total time=   5.7s\n",
      "[CV 1/2; 11/48] START degree=3, gamma=auto, kernel=rbg..........................\n",
      "[CV 1/2; 11/48] END degree=3, gamma=auto, kernel=rbg;, score=nan total time=   0.0s\n",
      "[CV 2/2; 11/48] START degree=3, gamma=auto, kernel=rbg..........................\n",
      "[CV 2/2; 11/48] END degree=3, gamma=auto, kernel=rbg;, score=nan total time=   0.0s\n",
      "[CV 1/2; 12/48] START degree=3, gamma=auto, kernel=linear.......................\n",
      "[CV 1/2; 12/48] END degree=3, gamma=auto, kernel=linear;, score=0.724 total time=   2.0s\n",
      "[CV 2/2; 12/48] START degree=3, gamma=auto, kernel=linear.......................\n",
      "[CV 2/2; 12/48] END degree=3, gamma=auto, kernel=linear;, score=0.696 total time=   2.1s\n",
      "[CV 1/2; 13/48] START degree=3, gamma=scale, kernel=sigmoid.....................\n",
      "[CV 1/2; 13/48] END degree=3, gamma=scale, kernel=sigmoid;, score=0.728 total time=   2.2s\n",
      "[CV 2/2; 13/48] START degree=3, gamma=scale, kernel=sigmoid.....................\n",
      "[CV 2/2; 13/48] END degree=3, gamma=scale, kernel=sigmoid;, score=0.692 total time=   2.2s\n",
      "[CV 1/2; 14/48] START degree=3, gamma=scale, kernel=poly........................\n",
      "[CV 1/2; 14/48] END degree=3, gamma=scale, kernel=poly;, score=0.572 total time=   4.2s\n",
      "[CV 2/2; 14/48] START degree=3, gamma=scale, kernel=poly........................\n",
      "[CV 2/2; 14/48] END degree=3, gamma=scale, kernel=poly;, score=0.508 total time=   2.2s\n",
      "[CV 1/2; 15/48] START degree=3, gamma=scale, kernel=rbg.........................\n",
      "[CV 1/2; 15/48] END degree=3, gamma=scale, kernel=rbg;, score=nan total time=   0.0s\n",
      "[CV 2/2; 15/48] START degree=3, gamma=scale, kernel=rbg.........................\n",
      "[CV 2/2; 15/48] END degree=3, gamma=scale, kernel=rbg;, score=nan total time=   0.0s\n",
      "[CV 1/2; 16/48] START degree=3, gamma=scale, kernel=linear......................\n",
      "[CV 1/2; 16/48] END degree=3, gamma=scale, kernel=linear;, score=0.724 total time=   2.1s\n",
      "[CV 2/2; 16/48] START degree=3, gamma=scale, kernel=linear......................\n",
      "[CV 2/2; 16/48] END degree=3, gamma=scale, kernel=linear;, score=0.696 total time=   2.1s\n",
      "[CV 1/2; 17/48] START degree=4, gamma=auto, kernel=sigmoid......................\n",
      "[CV 1/2; 17/48] END degree=4, gamma=auto, kernel=sigmoid;, score=0.588 total time=   2.1s\n",
      "[CV 2/2; 17/48] START degree=4, gamma=auto, kernel=sigmoid......................\n",
      "[CV 2/2; 17/48] END degree=4, gamma=auto, kernel=sigmoid;, score=0.500 total time=   3.0s\n",
      "[CV 1/2; 18/48] START degree=4, gamma=auto, kernel=poly.........................\n",
      "[CV 1/2; 18/48] END degree=4, gamma=auto, kernel=poly;, score=0.680 total time=   3.1s\n",
      "[CV 2/2; 18/48] START degree=4, gamma=auto, kernel=poly.........................\n",
      "[CV 2/2; 18/48] END degree=4, gamma=auto, kernel=poly;, score=0.500 total time=   2.1s\n",
      "[CV 1/2; 19/48] START degree=4, gamma=auto, kernel=rbg..........................\n",
      "[CV 1/2; 19/48] END degree=4, gamma=auto, kernel=rbg;, score=nan total time=   0.0s\n",
      "[CV 2/2; 19/48] START degree=4, gamma=auto, kernel=rbg..........................\n",
      "[CV 2/2; 19/48] END degree=4, gamma=auto, kernel=rbg;, score=nan total time=   0.0s\n",
      "[CV 1/2; 20/48] START degree=4, gamma=auto, kernel=linear.......................\n",
      "[CV 1/2; 20/48] END degree=4, gamma=auto, kernel=linear;, score=0.724 total time=   2.1s\n",
      "[CV 2/2; 20/48] START degree=4, gamma=auto, kernel=linear.......................\n",
      "[CV 2/2; 20/48] END degree=4, gamma=auto, kernel=linear;, score=0.696 total time=   2.1s\n",
      "[CV 1/2; 21/48] START degree=4, gamma=scale, kernel=sigmoid.....................\n",
      "[CV 1/2; 21/48] END degree=4, gamma=scale, kernel=sigmoid;, score=0.728 total time=   2.1s\n",
      "[CV 2/2; 21/48] START degree=4, gamma=scale, kernel=sigmoid.....................\n",
      "[CV 2/2; 21/48] END degree=4, gamma=scale, kernel=sigmoid;, score=0.692 total time=   4.2s\n",
      "[CV 1/2; 22/48] START degree=4, gamma=scale, kernel=poly........................\n",
      "[CV 1/2; 22/48] END degree=4, gamma=scale, kernel=poly;, score=0.496 total time=   2.6s\n",
      "[CV 2/2; 22/48] START degree=4, gamma=scale, kernel=poly........................\n",
      "[CV 2/2; 22/48] END degree=4, gamma=scale, kernel=poly;, score=0.496 total time=   2.1s\n",
      "[CV 1/2; 23/48] START degree=4, gamma=scale, kernel=rbg.........................\n",
      "[CV 1/2; 23/48] END degree=4, gamma=scale, kernel=rbg;, score=nan total time=   0.0s\n",
      "[CV 2/2; 23/48] START degree=4, gamma=scale, kernel=rbg.........................\n",
      "[CV 2/2; 23/48] END degree=4, gamma=scale, kernel=rbg;, score=nan total time=   0.0s\n",
      "[CV 1/2; 24/48] START degree=4, gamma=scale, kernel=linear......................\n",
      "[CV 1/2; 24/48] END degree=4, gamma=scale, kernel=linear;, score=0.724 total time=   2.1s\n",
      "[CV 2/2; 24/48] START degree=4, gamma=scale, kernel=linear......................\n",
      "[CV 2/2; 24/48] END degree=4, gamma=scale, kernel=linear;, score=0.696 total time=   2.1s\n",
      "[CV 1/2; 25/48] START degree=5, gamma=auto, kernel=sigmoid......................\n",
      "[CV 1/2; 25/48] END degree=5, gamma=auto, kernel=sigmoid;, score=0.588 total time=   3.7s\n",
      "[CV 2/2; 25/48] START degree=5, gamma=auto, kernel=sigmoid......................\n",
      "[CV 2/2; 25/48] END degree=5, gamma=auto, kernel=sigmoid;, score=0.500 total time=   2.5s\n",
      "[CV 1/2; 26/48] START degree=5, gamma=auto, kernel=poly.........................\n",
      "[CV 1/2; 26/48] END degree=5, gamma=auto, kernel=poly;, score=0.688 total time=   2.1s\n",
      "[CV 2/2; 26/48] START degree=5, gamma=auto, kernel=poly.........................\n",
      "[CV 2/2; 26/48] END degree=5, gamma=auto, kernel=poly;, score=0.500 total time=   2.1s\n",
      "[CV 1/2; 27/48] START degree=5, gamma=auto, kernel=rbg..........................\n",
      "[CV 1/2; 27/48] END degree=5, gamma=auto, kernel=rbg;, score=nan total time=   0.0s\n",
      "[CV 2/2; 27/48] START degree=5, gamma=auto, kernel=rbg..........................\n",
      "[CV 2/2; 27/48] END degree=5, gamma=auto, kernel=rbg;, score=nan total time=   0.0s\n",
      "[CV 1/2; 28/48] START degree=5, gamma=auto, kernel=linear.......................\n",
      "[CV 1/2; 28/48] END degree=5, gamma=auto, kernel=linear;, score=0.724 total time=   2.1s\n",
      "[CV 2/2; 28/48] START degree=5, gamma=auto, kernel=linear.......................\n",
      "[CV 2/2; 28/48] END degree=5, gamma=auto, kernel=linear;, score=0.696 total time=   2.2s\n",
      "[CV 1/2; 29/48] START degree=5, gamma=scale, kernel=sigmoid.....................\n",
      "[CV 1/2; 29/48] END degree=5, gamma=scale, kernel=sigmoid;, score=0.728 total time=   4.1s\n",
      "[CV 2/2; 29/48] START degree=5, gamma=scale, kernel=sigmoid.....................\n",
      "[CV 2/2; 29/48] END degree=5, gamma=scale, kernel=sigmoid;, score=0.692 total time=   2.2s\n",
      "[CV 1/2; 30/48] START degree=5, gamma=scale, kernel=poly........................\n",
      "[CV 1/2; 30/48] END degree=5, gamma=scale, kernel=poly;, score=0.492 total time=   2.2s\n",
      "[CV 2/2; 30/48] START degree=5, gamma=scale, kernel=poly........................\n",
      "[CV 2/2; 30/48] END degree=5, gamma=scale, kernel=poly;, score=0.496 total time=   2.2s\n",
      "[CV 1/2; 31/48] START degree=5, gamma=scale, kernel=rbg.........................\n",
      "[CV 1/2; 31/48] END degree=5, gamma=scale, kernel=rbg;, score=nan total time=   0.0s\n",
      "[CV 2/2; 31/48] START degree=5, gamma=scale, kernel=rbg.........................\n",
      "[CV 2/2; 31/48] END degree=5, gamma=scale, kernel=rbg;, score=nan total time=   0.0s\n",
      "[CV 1/2; 32/48] START degree=5, gamma=scale, kernel=linear......................\n",
      "[CV 1/2; 32/48] END degree=5, gamma=scale, kernel=linear;, score=0.724 total time=   2.3s\n",
      "[CV 2/2; 32/48] START degree=5, gamma=scale, kernel=linear......................\n",
      "[CV 2/2; 32/48] END degree=5, gamma=scale, kernel=linear;, score=0.696 total time=   3.3s\n",
      "[CV 1/2; 33/48] START degree=6, gamma=auto, kernel=sigmoid......................\n",
      "[CV 1/2; 33/48] END degree=6, gamma=auto, kernel=sigmoid;, score=0.588 total time=   4.4s\n",
      "[CV 2/2; 33/48] START degree=6, gamma=auto, kernel=sigmoid......................\n",
      "[CV 2/2; 33/48] END degree=6, gamma=auto, kernel=sigmoid;, score=0.500 total time=   2.1s\n",
      "[CV 1/2; 34/48] START degree=6, gamma=auto, kernel=poly.........................\n",
      "[CV 1/2; 34/48] END degree=6, gamma=auto, kernel=poly;, score=0.684 total time=   2.1s\n",
      "[CV 2/2; 34/48] START degree=6, gamma=auto, kernel=poly.........................\n",
      "[CV 2/2; 34/48] END degree=6, gamma=auto, kernel=poly;, score=0.500 total time=   2.8s\n",
      "[CV 1/2; 35/48] START degree=6, gamma=auto, kernel=rbg..........................\n",
      "[CV 1/2; 35/48] END degree=6, gamma=auto, kernel=rbg;, score=nan total time=   0.1s\n",
      "[CV 2/2; 35/48] START degree=6, gamma=auto, kernel=rbg..........................\n",
      "[CV 2/2; 35/48] END degree=6, gamma=auto, kernel=rbg;, score=nan total time=   0.0s\n",
      "[CV 1/2; 36/48] START degree=6, gamma=auto, kernel=linear.......................\n",
      "[CV 1/2; 36/48] END degree=6, gamma=auto, kernel=linear;, score=0.724 total time=   6.1s\n",
      "[CV 2/2; 36/48] START degree=6, gamma=auto, kernel=linear.......................\n",
      "[CV 2/2; 36/48] END degree=6, gamma=auto, kernel=linear;, score=0.696 total time=   5.1s\n",
      "[CV 1/2; 37/48] START degree=6, gamma=scale, kernel=sigmoid.....................\n",
      "[CV 1/2; 37/48] END degree=6, gamma=scale, kernel=sigmoid;, score=0.728 total time=   2.0s\n",
      "[CV 2/2; 37/48] START degree=6, gamma=scale, kernel=sigmoid.....................\n",
      "[CV 2/2; 37/48] END degree=6, gamma=scale, kernel=sigmoid;, score=0.692 total time=   4.0s\n",
      "[CV 1/2; 38/48] START degree=6, gamma=scale, kernel=poly........................\n",
      "[CV 1/2; 38/48] END degree=6, gamma=scale, kernel=poly;, score=0.492 total time=   2.3s\n",
      "[CV 2/2; 38/48] START degree=6, gamma=scale, kernel=poly........................\n",
      "[CV 2/2; 38/48] END degree=6, gamma=scale, kernel=poly;, score=0.496 total time=   2.2s\n",
      "[CV 1/2; 39/48] START degree=6, gamma=scale, kernel=rbg.........................\n",
      "[CV 1/2; 39/48] END degree=6, gamma=scale, kernel=rbg;, score=nan total time=   0.0s\n",
      "[CV 2/2; 39/48] START degree=6, gamma=scale, kernel=rbg.........................\n",
      "[CV 2/2; 39/48] END degree=6, gamma=scale, kernel=rbg;, score=nan total time=   0.0s\n",
      "[CV 1/2; 40/48] START degree=6, gamma=scale, kernel=linear......................\n",
      "[CV 1/2; 40/48] END degree=6, gamma=scale, kernel=linear;, score=0.724 total time=   2.1s\n",
      "[CV 2/2; 40/48] START degree=6, gamma=scale, kernel=linear......................\n",
      "[CV 2/2; 40/48] END degree=6, gamma=scale, kernel=linear;, score=0.696 total time=   2.1s\n",
      "[CV 1/2; 41/48] START degree=7, gamma=auto, kernel=sigmoid......................\n",
      "[CV 1/2; 41/48] END degree=7, gamma=auto, kernel=sigmoid;, score=0.588 total time=   2.6s\n",
      "[CV 2/2; 41/48] START degree=7, gamma=auto, kernel=sigmoid......................\n",
      "[CV 2/2; 41/48] END degree=7, gamma=auto, kernel=sigmoid;, score=0.500 total time=   3.4s\n",
      "[CV 1/2; 42/48] START degree=7, gamma=auto, kernel=poly.........................\n",
      "[CV 1/2; 42/48] END degree=7, gamma=auto, kernel=poly;, score=0.684 total time=   2.0s\n",
      "[CV 2/2; 42/48] START degree=7, gamma=auto, kernel=poly.........................\n",
      "[CV 2/2; 42/48] END degree=7, gamma=auto, kernel=poly;, score=0.500 total time=   2.0s\n",
      "[CV 1/2; 43/48] START degree=7, gamma=auto, kernel=rbg..........................\n",
      "[CV 1/2; 43/48] END degree=7, gamma=auto, kernel=rbg;, score=nan total time=   0.0s\n",
      "[CV 2/2; 43/48] START degree=7, gamma=auto, kernel=rbg..........................\n",
      "[CV 2/2; 43/48] END degree=7, gamma=auto, kernel=rbg;, score=nan total time=   0.0s\n",
      "[CV 1/2; 44/48] START degree=7, gamma=auto, kernel=linear.......................\n",
      "[CV 1/2; 44/48] END degree=7, gamma=auto, kernel=linear;, score=0.724 total time=   2.1s\n",
      "[CV 2/2; 44/48] START degree=7, gamma=auto, kernel=linear.......................\n",
      "[CV 2/2; 44/48] END degree=7, gamma=auto, kernel=linear;, score=0.696 total time=   2.1s\n",
      "[CV 1/2; 45/48] START degree=7, gamma=scale, kernel=sigmoid.....................\n",
      "[CV 1/2; 45/48] END degree=7, gamma=scale, kernel=sigmoid;, score=0.728 total time=   3.5s\n",
      "[CV 2/2; 45/48] START degree=7, gamma=scale, kernel=sigmoid.....................\n",
      "[CV 2/2; 45/48] END degree=7, gamma=scale, kernel=sigmoid;, score=0.692 total time=   2.9s\n",
      "[CV 1/2; 46/48] START degree=7, gamma=scale, kernel=poly........................\n",
      "[CV 1/2; 46/48] END degree=7, gamma=scale, kernel=poly;, score=0.492 total time=   2.1s\n",
      "[CV 2/2; 46/48] START degree=7, gamma=scale, kernel=poly........................\n",
      "[CV 2/2; 46/48] END degree=7, gamma=scale, kernel=poly;, score=0.496 total time=   2.1s\n",
      "[CV 1/2; 47/48] START degree=7, gamma=scale, kernel=rbg.........................\n",
      "[CV 1/2; 47/48] END degree=7, gamma=scale, kernel=rbg;, score=nan total time=   0.0s\n",
      "[CV 2/2; 47/48] START degree=7, gamma=scale, kernel=rbg.........................\n",
      "[CV 2/2; 47/48] END degree=7, gamma=scale, kernel=rbg;, score=nan total time=   0.0s\n",
      "[CV 1/2; 48/48] START degree=7, gamma=scale, kernel=linear......................\n",
      "[CV 1/2; 48/48] END degree=7, gamma=scale, kernel=linear;, score=0.724 total time=   2.1s\n",
      "[CV 2/2; 48/48] START degree=7, gamma=scale, kernel=linear......................\n",
      "[CV 2/2; 48/48] END degree=7, gamma=scale, kernel=linear;, score=0.696 total time=   3.3s\n",
      "{'degree': 2, 'gamma': 'auto', 'kernel': 'linear'}\n",
      "score-En_Offen_span_1:  0.71\n"
     ]
    }
   ],
   "source": [
    "from sklearn.svm import SVC as En_Offen_span_1spv\n",
    "\n",
    "En_Hypm = { 'kernel': ['sigmoid','poly','rbg','linear'],\n",
    "               'gamma': ['auto','scale'],\n",
    "               'degree':[2,3,4,5,6,7]}\n",
    "\n",
    "\n",
    "En_Hypm_vsb = En_Offen_span_1spv(random_state= En_rast)\n",
    "En_Hypm_vsb = En_Offen_span_1grdsh(En_Hypm_vsb, En_Hypm,\n",
    "                          cv=2, verbose=10)\n",
    "En_Hypm_vsb.fit(En_Offen_span_1xr[:500], En_Offen_span_1yr[:500])\n",
    "\n",
    "print(En_Hypm_vsb.best_params_)\n",
    "print(\"score-En_Offen_span_1: \", En_Hypm_vsb.best_score_)"
   ]
  },
  {
   "cell_type": "code",
   "execution_count": 19,
   "metadata": {
    "colab": {
     "base_uri": "https://localhost:8080/",
     "height": 709
    },
    "executionInfo": {
     "elapsed": 16339,
     "status": "ok",
     "timestamp": 1708674767311,
     "user": {
      "displayName": "jadaprojects09",
      "userId": "16719958102440739805"
     },
     "user_tz": -330
    },
    "id": "D_dBiPj8kyKz",
    "outputId": "5f94d54d-dd0d-4313-f9c3-300bf42df42b"
   },
   "outputs": [
    {
     "name": "stdout",
     "output_type": "stream",
     "text": [
      "\n",
      " training duration: 11.965814352035522 \n",
      "\n",
      "              precision    recall  f1-score   support\n",
      "\n",
      "         0.0       0.74      0.75      0.74       127\n",
      "         1.0       0.72      0.71      0.71       116\n",
      "\n",
      "    accuracy                           0.73       243\n",
      "   macro avg       0.73      0.73      0.73       243\n",
      "weighted avg       0.73      0.73      0.73       243\n",
      "\n",
      "\n",
      " validation duration: 4.0203211307525635 \n",
      "\n"
     ]
    },
    {
     "data": {
      "image/png": "[encoded data removed]",
      "text/plain": [
       "<Figure size 640x480 with 2 Axes>"
      ]
     },
     "metadata": {},
     "output_type": "display_data"
    }
   ],
   "source": [
    "En_pd1 = En_Offen_span_1tiim.time()\n",
    "\n",
    "En_Offen_span_MdB= En_Offen_span_1spv(**En_Hypm_vsb.best_params_)\n",
    "En_Offen_span_MdB.fit(En_Offen_span_1xr, En_Offen_span_1yr)\n",
    "\n",
    "En_pd2 = En_Offen_span_1tiim.time()\n",
    "print(\"\\n training duration:\", En_pd2-En_pd1,\"\\n\")\n",
    "\n",
    "\n",
    "En_pd1 = En_Offen_span_1tiim.time()\n",
    "\n",
    "En_Offen_span_pct= En_Offen_span_MdB.predict(En_Offen_span_1xd)\n",
    "\n",
    "print(En_Offen_span_1cffr(En_Offen_span_1yd, En_Offen_span_pct))\n",
    "\n",
    "En_tk = En_Offen_span_1cfmt(En_Offen_span_1yd,En_Offen_span_pct)\n",
    "En_rd = En_Offen_span_1cmxd(confusion_matrix = En_tk, display_labels = [0,1])\n",
    "En_rd.plot()\n",
    "\n",
    "En_pd2= En_Offen_span_1tiim.time()\n",
    "print(\"\\n validation duration:\", En_pd2-En_pd1,\"\\n\")"
   ]
  },
  {
   "cell_type": "code",
   "execution_count": 20,
   "metadata": {
    "colab": {
     "base_uri": "https://localhost:8080/",
     "height": 489
    },
    "executionInfo": {
     "elapsed": 36,
     "status": "ok",
     "timestamp": 1708674767312,
     "user": {
      "displayName": "jadaprojects09",
      "userId": "16719958102440739805"
     },
     "user_tz": -330
    },
    "id": "kIeL9cV6mQja",
    "outputId": "0fb67526-33e7-44e2-ff48-0f5901164485"
   },
   "outputs": [
    {
     "data": {
      "image/png": "[encoded data removed]",
      "text/plain": [
       "<Figure size 640x480 with 1 Axes>"
      ]
     },
     "metadata": {},
     "output_type": "display_data"
    },
    {
     "name": "stdout",
     "output_type": "stream",
     "text": [
      "auc- curve: 0.727464023893565\n"
     ]
    }
   ],
   "source": [
    "En_Offen_span_Fals, En_Offen_span_tre, En_Offen_span_ths = En_Offen_span_rc(En_Offen_span_1yd, En_Offen_span_pct)\n",
    "En_Offen_span_mt.plot(En_Offen_span_Fals, En_Offen_span_tre)\n",
    "En_Offen_span_mt.ylabel('rate-Fals')\n",
    "En_Offen_span_mt.xlabel('rate-Tru')\n",
    "En_Offen_span_mt.title('roc curve')\n",
    "En_Offen_span_mt.show()\n",
    "print('auc- curve:', En_Offen_span_ac(En_Offen_span_1yd, En_Offen_span_pct))"
   ]
  },
  {
   "cell_type": "code",
   "execution_count": 21,
   "metadata": {
    "colab": {
     "base_uri": "https://localhost:8080/",
     "height": 657
    },
    "executionInfo": {
     "elapsed": 3605,
     "status": "ok",
     "timestamp": 1708674770888,
     "user": {
      "displayName": "jadaprojects09",
      "userId": "16719958102440739805"
     },
     "user_tz": -330
    },
    "id": "AIYWOoq8kyON",
    "outputId": "c6615fbf-661d-4f1a-de88-d05ca1485009"
   },
   "outputs": [
    {
     "name": "stdout",
     "output_type": "stream",
     "text": [
      "              precision    recall  f1-score   support\n",
      "\n",
      "         0.0       0.80      0.69      0.74       118\n",
      "         1.0       0.74      0.83      0.79       126\n",
      "\n",
      "    accuracy                           0.77       244\n",
      "   macro avg       0.77      0.76      0.76       244\n",
      "weighted avg       0.77      0.77      0.77       244\n",
      "\n",
      "\n",
      " testing duration: 3.1944594383239746 \n",
      "\n"
     ]
    },
    {
     "data": {
      "image/png": "[encoded data removed]",
      "text/plain": [
       "<Figure size 640x480 with 2 Axes>"
      ]
     },
     "metadata": {},
     "output_type": "display_data"
    }
   ],
   "source": [
    "En_pd1 = En_Offen_span_1tiim.time()\n",
    "\n",
    "En_Offen_span_pct= En_Offen_span_MdB.predict(En_Offen_span_1xe)\n",
    "\n",
    "print(En_Offen_span_1cffr(En_Offen_span_1ye, En_Offen_span_pct))\n",
    "\n",
    "En_tk = En_Offen_span_1cfmt(En_Offen_span_1ye,En_Offen_span_pct)\n",
    "En_rd = En_Offen_span_1cmxd(confusion_matrix = En_tk, display_labels = [0,1])\n",
    "En_rd.plot()\n",
    "\n",
    "En_pd2= En_Offen_span_1tiim.time()\n",
    "print(\"\\n testing duration:\", En_pd2-En_pd1,\"\\n\")"
   ]
  },
  {
   "cell_type": "code",
   "execution_count": 22,
   "metadata": {
    "colab": {
     "base_uri": "https://localhost:8080/",
     "height": 489
    },
    "executionInfo": {
     "elapsed": 16,
     "status": "ok",
     "timestamp": 1708674770889,
     "user": {
      "displayName": "jadaprojects09",
      "userId": "16719958102440739805"
     },
     "user_tz": -330
    },
    "id": "9qT2xKVHkyP0",
    "outputId": "447984cd-de25-49ab-a36a-143ef15db621"
   },
   "outputs": [
    {
     "data": {
      "image/png": "[encoded data removed]",
      "text/plain": [
       "<Figure size 640x480 with 1 Axes>"
      ]
     },
     "metadata": {},
     "output_type": "display_data"
    },
    {
     "name": "stdout",
     "output_type": "stream",
     "text": [
      "auc- curve: 0.7641242937853107\n"
     ]
    }
   ],
   "source": [
    "En_Offen_span_Fals, En_Offen_span_tre, En_Offen_span_ths = En_Offen_span_rc(En_Offen_span_1ye, En_Offen_span_pct)\n",
    "En_Offen_span_mt.plot(En_Offen_span_Fals, En_Offen_span_tre)\n",
    "En_Offen_span_mt.ylabel('rate-Fals')\n",
    "En_Offen_span_mt.xlabel('rate-Tru')\n",
    "En_Offen_span_mt.title('roc curve')\n",
    "En_Offen_span_mt.show()\n",
    "print('auc- curve:', En_Offen_span_ac(En_Offen_span_1ye, En_Offen_span_pct))"
   ]
  },
  {
   "cell_type": "markdown",
   "metadata": {
    "id": "C2Yg6t3gmlDM"
   },
   "source": [
    "#### naïve bayes"
   ]
  },
  {
   "cell_type": "code",
   "execution_count": 23,
   "metadata": {
    "colab": {
     "base_uri": "https://localhost:8080/"
    },
    "executionInfo": {
     "elapsed": 2614,
     "status": "ok",
     "timestamp": 1708674773491,
     "user": {
      "displayName": "jadaprojects09",
      "userId": "16719958102440739805"
     },
     "user_tz": -330
    },
    "id": "FNB2XCWRmorB",
    "outputId": "9f2a900a-25f4-441b-ff41-e8261b6fa3db"
   },
   "outputs": [
    {
     "name": "stdout",
     "output_type": "stream",
     "text": [
      "Fitting 2 folds for each of 5 candidates, totalling 10 fits\n",
      "[CV 1/2; 1/5] START var_smoothing=1e-09.........................................\n",
      "[CV 1/2; 1/5] END ..........var_smoothing=1e-09;, score=0.660 total time=   0.2s\n",
      "[CV 2/2; 1/5] START var_smoothing=1e-09.........................................\n",
      "[CV 2/2; 1/5] END ..........var_smoothing=1e-09;, score=0.624 total time=   0.2s\n",
      "[CV 1/2; 2/5] START var_smoothing=1e-10.........................................\n",
      "[CV 1/2; 2/5] END ..........var_smoothing=1e-10;, score=0.660 total time=   0.2s\n",
      "[CV 2/2; 2/5] START var_smoothing=1e-10.........................................\n",
      "[CV 2/2; 2/5] END ..........var_smoothing=1e-10;, score=0.624 total time=   0.2s\n",
      "[CV 1/2; 3/5] START var_smoothing=1e-11.........................................\n",
      "[CV 1/2; 3/5] END ..........var_smoothing=1e-11;, score=0.660 total time=   0.2s\n",
      "[CV 2/2; 3/5] START var_smoothing=1e-11.........................................\n",
      "[CV 2/2; 3/5] END ..........var_smoothing=1e-11;, score=0.624 total time=   0.2s\n",
      "[CV 1/2; 4/5] START var_smoothing=1e-12.........................................\n",
      "[CV 1/2; 4/5] END ..........var_smoothing=1e-12;, score=0.660 total time=   0.2s\n",
      "[CV 2/2; 4/5] START var_smoothing=1e-12.........................................\n",
      "[CV 2/2; 4/5] END ..........var_smoothing=1e-12;, score=0.624 total time=   0.3s\n",
      "[CV 1/2; 5/5] START var_smoothing=1e-13.........................................\n",
      "[CV 1/2; 5/5] END ..........var_smoothing=1e-13;, score=0.660 total time=   0.2s\n",
      "[CV 2/2; 5/5] START var_smoothing=1e-13.........................................\n",
      "[CV 2/2; 5/5] END ..........var_smoothing=1e-13;, score=0.624 total time=   0.3s\n",
      "{'var_smoothing': 1e-09}\n",
      "score-En_Offen_span_1:  0.642\n"
     ]
    }
   ],
   "source": [
    "from sklearn.naive_bayes import GaussianNB as En_Offen_span_1nvb\n",
    "\n",
    "En_Hypm = { 'var_smoothing': [1e-9,1e-10,1e-11,1e-12,1e-13]}\n",
    "\n",
    "\n",
    "En_Hypm_vsb = En_Offen_span_1nvb()\n",
    "En_Hypm_vsb = En_Offen_span_1grdsh(En_Hypm_vsb, En_Hypm,\n",
    "                          cv=2, verbose=10)\n",
    "En_Hypm_vsb.fit(En_Offen_span_1xr[:500], En_Offen_span_1yr[:500])\n",
    "\n",
    "print(En_Hypm_vsb.best_params_)\n",
    "print(\"score-En_Offen_span_1: \", En_Hypm_vsb.best_score_)"
   ]
  },
  {
   "cell_type": "code",
   "execution_count": 24,
   "metadata": {
    "colab": {
     "base_uri": "https://localhost:8080/",
     "height": 715
    },
    "executionInfo": {
     "elapsed": 772,
     "status": "ok",
     "timestamp": 1708674774259,
     "user": {
      "displayName": "jadaprojects09",
      "userId": "16719958102440739805"
     },
     "user_tz": -330
    },
    "id": "h2jnjuoZmotC",
    "outputId": "e56feaf4-d1c7-4fbf-cbdf-1e67f59013f5"
   },
   "outputs": [
    {
     "name": "stdout",
     "output_type": "stream",
     "text": [
      "\n",
      " training duration: 0.34493184089660645 \n",
      "\n",
      "              precision    recall  f1-score   support\n",
      "\n",
      "         0.0       0.62      0.54      0.58       127\n",
      "         1.0       0.56      0.65      0.60       116\n",
      "\n",
      "    accuracy                           0.59       243\n",
      "   macro avg       0.59      0.59      0.59       243\n",
      "weighted avg       0.59      0.59      0.59       243\n",
      "\n",
      "\n",
      " validation duration: 0.1770625114440918 \n",
      "\n"
     ]
    },
    {
     "data": {
      "image/png": "[encoded data removed]",
      "text/plain": [
       "<Figure size 640x480 with 2 Axes>"
      ]
     },
     "metadata": {},
     "output_type": "display_data"
    }
   ],
   "source": [
    "En_pd1 = En_Offen_span_1tiim.time()\n",
    "\n",
    "En_Offen_span_MdC= En_Offen_span_1nvb(**En_Hypm_vsb.best_params_)\n",
    "En_Offen_span_MdC.fit(En_Offen_span_1xr, En_Offen_span_1yr)\n",
    "\n",
    "En_pd2 = En_Offen_span_1tiim.time()\n",
    "print(\"\\n training duration:\", En_pd2-En_pd1,\"\\n\")\n",
    "\n",
    "\n",
    "En_pd1 = En_Offen_span_1tiim.time()\n",
    "\n",
    "En_Offen_span_pct= En_Offen_span_MdC.predict(En_Offen_span_1xd)\n",
    "\n",
    "print(En_Offen_span_1cffr(En_Offen_span_1yd, En_Offen_span_pct))\n",
    "\n",
    "En_tk = En_Offen_span_1cfmt(En_Offen_span_1yd,En_Offen_span_pct)\n",
    "En_rd = En_Offen_span_1cmxd(confusion_matrix = En_tk, display_labels = [0,1])\n",
    "En_rd.plot()\n",
    "\n",
    "En_pd2= En_Offen_span_1tiim.time()\n",
    "print(\"\\n validation duration:\", En_pd2-En_pd1,\"\\n\")"
   ]
  },
  {
   "cell_type": "code",
   "execution_count": 25,
   "metadata": {
    "colab": {
     "base_uri": "https://localhost:8080/",
     "height": 489
    },
    "executionInfo": {
     "elapsed": 616,
     "status": "ok",
     "timestamp": 1708674774869,
     "user": {
      "displayName": "jadaprojects09",
      "userId": "16719958102440739805"
     },
     "user_tz": -330
    },
    "id": "UrlIwNMimowN",
    "outputId": "299c07fe-49c3-414f-8fbb-a3c8250cd301"
   },
   "outputs": [
    {
     "data": {
      "image/png": "[encoded data removed]",
      "text/plain": [
       "<Figure size 640x480 with 1 Axes>"
      ]
     },
     "metadata": {},
     "output_type": "display_data"
    },
    {
     "name": "stdout",
     "output_type": "stream",
     "text": [
      "auc- curve: 0.5909923975020364\n"
     ]
    }
   ],
   "source": [
    "En_Offen_span_Fals, En_Offen_span_tre, En_Offen_span_ths = En_Offen_span_rc(En_Offen_span_1yd, En_Offen_span_pct)\n",
    "En_Offen_span_mt.plot(En_Offen_span_Fals, En_Offen_span_tre)\n",
    "En_Offen_span_mt.ylabel('rate-Fals')\n",
    "En_Offen_span_mt.xlabel('rate-Tru')\n",
    "En_Offen_span_mt.title('roc curve')\n",
    "En_Offen_span_mt.show()\n",
    "print('auc- curve:', En_Offen_span_ac(En_Offen_span_1yd, En_Offen_span_pct))"
   ]
  },
  {
   "cell_type": "code",
   "execution_count": 26,
   "metadata": {
    "colab": {
     "base_uri": "https://localhost:8080/",
     "height": 657
    },
    "executionInfo": {
     "elapsed": 777,
     "status": "ok",
     "timestamp": 1708674775640,
     "user": {
      "displayName": "jadaprojects09",
      "userId": "16719958102440739805"
     },
     "user_tz": -330
    },
    "id": "Is3dwpcSmoxs",
    "outputId": "6eb44e80-9af4-4902-9155-95a91bf25615"
   },
   "outputs": [
    {
     "name": "stdout",
     "output_type": "stream",
     "text": [
      "              precision    recall  f1-score   support\n",
      "\n",
      "         0.0       0.67      0.49      0.57       118\n",
      "         1.0       0.62      0.77      0.69       126\n",
      "\n",
      "    accuracy                           0.64       244\n",
      "   macro avg       0.64      0.63      0.63       244\n",
      "weighted avg       0.64      0.64      0.63       244\n",
      "\n",
      "\n",
      " testing duration: 0.2080683708190918 \n",
      "\n"
     ]
    },
    {
     "data": {
      "image/png": "[encoded data removed]",
      "text/plain": [
       "<Figure size 640x480 with 2 Axes>"
      ]
     },
     "metadata": {},
     "output_type": "display_data"
    }
   ],
   "source": [
    "En_pd1 = En_Offen_span_1tiim.time()\n",
    "\n",
    "En_Offen_span_pct= En_Offen_span_MdC.predict(En_Offen_span_1xe)\n",
    "\n",
    "print(En_Offen_span_1cffr(En_Offen_span_1ye, En_Offen_span_pct))\n",
    "\n",
    "En_tk = En_Offen_span_1cfmt(En_Offen_span_1ye,En_Offen_span_pct)\n",
    "En_rd = En_Offen_span_1cmxd(confusion_matrix = En_tk, display_labels = [0,1])\n",
    "En_rd.plot()\n",
    "\n",
    "En_pd2= En_Offen_span_1tiim.time()\n",
    "print(\"\\n testing duration:\", En_pd2-En_pd1,\"\\n\")"
   ]
  },
  {
   "cell_type": "code",
   "execution_count": 27,
   "metadata": {
    "colab": {
     "base_uri": "https://localhost:8080/",
     "height": 489
    },
    "executionInfo": {
     "elapsed": 10,
     "status": "ok",
     "timestamp": 1708674775641,
     "user": {
      "displayName": "jadaprojects09",
      "userId": "16719958102440739805"
     },
     "user_tz": -330
    },
    "id": "ePVg_YPhntk1",
    "outputId": "52eac48b-ed28-4163-e89e-6729bf9d8423"
   },
   "outputs": [
    {
     "data": {
      "image/png": "[encoded data removed]",
      "text/plain": [
       "<Figure size 640x480 with 1 Axes>"
      ]
     },
     "metadata": {},
     "output_type": "display_data"
    },
    {
     "name": "stdout",
     "output_type": "stream",
     "text": [
      "auc- curve: 0.6306833467850417\n"
     ]
    }
   ],
   "source": [
    "En_Offen_span_Fals, En_Offen_span_tre, En_Offen_span_ths = En_Offen_span_rc(En_Offen_span_1ye, En_Offen_span_pct)\n",
    "En_Offen_span_mt.plot(En_Offen_span_Fals, En_Offen_span_tre)\n",
    "En_Offen_span_mt.ylabel('rate-Fals')\n",
    "En_Offen_span_mt.xlabel('rate-Tru')\n",
    "En_Offen_span_mt.title('roc curve')\n",
    "En_Offen_span_mt.show()\n",
    "print('auc- curve:', En_Offen_span_ac(En_Offen_span_1ye, En_Offen_span_pct))"
   ]
  },
  {
   "cell_type": "markdown",
   "metadata": {
    "id": "ZJHeOEI3oOL4"
   },
   "source": [
    "#### Adaboost"
   ]
  },
  {
   "cell_type": "code",
   "execution_count": 28,
   "metadata": {
    "colab": {
     "base_uri": "https://localhost:8080/"
    },
    "executionInfo": {
     "elapsed": 538184,
     "status": "ok",
     "timestamp": 1708675313816,
     "user": {
      "displayName": "jadaprojects09",
      "userId": "16719958102440739805"
     },
     "user_tz": -330
    },
    "id": "id78XeTkoR4i",
    "outputId": "5bd30e4a-d4fd-401a-cfe9-7ecd99c265ed"
   },
   "outputs": [
    {
     "name": "stdout",
     "output_type": "stream",
     "text": [
      "Fitting 2 folds for each of 50 candidates, totalling 100 fits\n",
      "[CV 1/2; 1/50] START algorithm=SAMME.R, learning_rate=1.0, n_estimators=40......\n",
      "[CV 1/2; 1/50] END algorithm=SAMME.R, learning_rate=1.0, n_estimators=40;, score=0.728 total time=   3.6s\n",
      "[CV 2/2; 1/50] START algorithm=SAMME.R, learning_rate=1.0, n_estimators=40......\n",
      "[CV 2/2; 1/50] END algorithm=SAMME.R, learning_rate=1.0, n_estimators=40;, score=0.640 total time=   3.2s\n",
      "[CV 1/2; 2/50] START algorithm=SAMME.R, learning_rate=1.0, n_estimators=50......\n",
      "[CV 1/2; 2/50] END algorithm=SAMME.R, learning_rate=1.0, n_estimators=50;, score=0.752 total time=   4.4s\n",
      "[CV 2/2; 2/50] START algorithm=SAMME.R, learning_rate=1.0, n_estimators=50......\n",
      "[CV 2/2; 2/50] END algorithm=SAMME.R, learning_rate=1.0, n_estimators=50;, score=0.628 total time=   4.9s\n",
      "[CV 1/2; 3/50] START algorithm=SAMME.R, learning_rate=1.0, n_estimators=60......\n",
      "[CV 1/2; 3/50] END algorithm=SAMME.R, learning_rate=1.0, n_estimators=60;, score=0.700 total time=   5.1s\n",
      "[CV 2/2; 3/50] START algorithm=SAMME.R, learning_rate=1.0, n_estimators=60......\n",
      "[CV 2/2; 3/50] END algorithm=SAMME.R, learning_rate=1.0, n_estimators=60;, score=0.616 total time=   6.1s\n",
      "[CV 1/2; 4/50] START algorithm=SAMME.R, learning_rate=1.0, n_estimators=70......\n",
      "[CV 1/2; 4/50] END algorithm=SAMME.R, learning_rate=1.0, n_estimators=70;, score=0.696 total time=   5.8s\n",
      "[CV 2/2; 4/50] START algorithm=SAMME.R, learning_rate=1.0, n_estimators=70......\n",
      "[CV 2/2; 4/50] END algorithm=SAMME.R, learning_rate=1.0, n_estimators=70;, score=0.616 total time=   7.2s\n",
      "[CV 1/2; 5/50] START algorithm=SAMME.R, learning_rate=1.0, n_estimators=80......\n",
      "[CV 1/2; 5/50] END algorithm=SAMME.R, learning_rate=1.0, n_estimators=80;, score=0.692 total time=   7.1s\n",
      "[CV 2/2; 5/50] START algorithm=SAMME.R, learning_rate=1.0, n_estimators=80......\n",
      "[CV 2/2; 5/50] END algorithm=SAMME.R, learning_rate=1.0, n_estimators=80;, score=0.620 total time=   7.8s\n",
      "[CV 1/2; 6/50] START algorithm=SAMME.R, learning_rate=2.0, n_estimators=40......\n",
      "[CV 1/2; 6/50] END algorithm=SAMME.R, learning_rate=2.0, n_estimators=40;, score=0.604 total time=   3.6s\n",
      "[CV 2/2; 6/50] START algorithm=SAMME.R, learning_rate=2.0, n_estimators=40......\n",
      "[CV 2/2; 6/50] END algorithm=SAMME.R, learning_rate=2.0, n_estimators=40;, score=0.556 total time=   3.4s\n",
      "[CV 1/2; 7/50] START algorithm=SAMME.R, learning_rate=2.0, n_estimators=50......\n",
      "[CV 1/2; 7/50] END algorithm=SAMME.R, learning_rate=2.0, n_estimators=50;, score=0.572 total time=   5.5s\n",
      "[CV 2/2; 7/50] START algorithm=SAMME.R, learning_rate=2.0, n_estimators=50......\n",
      "[CV 2/2; 7/50] END algorithm=SAMME.R, learning_rate=2.0, n_estimators=50;, score=0.580 total time=   4.5s\n",
      "[CV 1/2; 8/50] START algorithm=SAMME.R, learning_rate=2.0, n_estimators=60......\n",
      "[CV 1/2; 8/50] END algorithm=SAMME.R, learning_rate=2.0, n_estimators=60;, score=0.592 total time=   6.7s\n",
      "[CV 2/2; 8/50] START algorithm=SAMME.R, learning_rate=2.0, n_estimators=60......\n",
      "[CV 2/2; 8/50] END algorithm=SAMME.R, learning_rate=2.0, n_estimators=60;, score=0.580 total time=   5.2s\n",
      "[CV 1/2; 9/50] START algorithm=SAMME.R, learning_rate=2.0, n_estimators=70......\n",
      "[CV 1/2; 9/50] END algorithm=SAMME.R, learning_rate=2.0, n_estimators=70;, score=0.592 total time=   6.0s\n",
      "[CV 2/2; 9/50] START algorithm=SAMME.R, learning_rate=2.0, n_estimators=70......\n",
      "[CV 2/2; 9/50] END algorithm=SAMME.R, learning_rate=2.0, n_estimators=70;, score=0.580 total time=   6.4s\n",
      "[CV 1/2; 10/50] START algorithm=SAMME.R, learning_rate=2.0, n_estimators=80.....\n",
      "[CV 1/2; 10/50] END algorithm=SAMME.R, learning_rate=2.0, n_estimators=80;, score=0.592 total time=   7.3s\n",
      "[CV 2/2; 10/50] START algorithm=SAMME.R, learning_rate=2.0, n_estimators=80.....\n",
      "[CV 2/2; 10/50] END algorithm=SAMME.R, learning_rate=2.0, n_estimators=80;, score=0.556 total time=   7.6s\n",
      "[CV 1/2; 11/50] START algorithm=SAMME.R, learning_rate=3.0, n_estimators=40.....\n",
      "[CV 1/2; 11/50] END algorithm=SAMME.R, learning_rate=3.0, n_estimators=40;, score=0.468 total time=   3.6s\n",
      "[CV 2/2; 11/50] START algorithm=SAMME.R, learning_rate=3.0, n_estimators=40.....\n",
      "[CV 2/2; 11/50] END algorithm=SAMME.R, learning_rate=3.0, n_estimators=40;, score=0.576 total time=   4.7s\n",
      "[CV 1/2; 12/50] START algorithm=SAMME.R, learning_rate=3.0, n_estimators=50.....\n",
      "[CV 1/2; 12/50] END algorithm=SAMME.R, learning_rate=3.0, n_estimators=50;, score=0.468 total time=   4.5s\n",
      "[CV 2/2; 12/50] START algorithm=SAMME.R, learning_rate=3.0, n_estimators=50.....\n",
      "[CV 2/2; 12/50] END algorithm=SAMME.R, learning_rate=3.0, n_estimators=50;, score=0.576 total time=   4.2s\n",
      "[CV 1/2; 13/50] START algorithm=SAMME.R, learning_rate=3.0, n_estimators=60.....\n",
      "[CV 1/2; 13/50] END algorithm=SAMME.R, learning_rate=3.0, n_estimators=60;, score=0.468 total time=   5.8s\n",
      "[CV 2/2; 13/50] START algorithm=SAMME.R, learning_rate=3.0, n_estimators=60.....\n",
      "[CV 2/2; 13/50] END algorithm=SAMME.R, learning_rate=3.0, n_estimators=60;, score=0.576 total time=   5.0s\n",
      "[CV 1/2; 14/50] START algorithm=SAMME.R, learning_rate=3.0, n_estimators=70.....\n",
      "[CV 1/2; 14/50] END algorithm=SAMME.R, learning_rate=3.0, n_estimators=70;, score=0.560 total time=   7.2s\n",
      "[CV 2/2; 14/50] START algorithm=SAMME.R, learning_rate=3.0, n_estimators=70.....\n",
      "[CV 2/2; 14/50] END algorithm=SAMME.R, learning_rate=3.0, n_estimators=70;, score=0.576 total time=   5.7s\n",
      "[CV 1/2; 15/50] START algorithm=SAMME.R, learning_rate=3.0, n_estimators=80.....\n",
      "[CV 1/2; 15/50] END algorithm=SAMME.R, learning_rate=3.0, n_estimators=80;, score=0.560 total time=   7.9s\n",
      "[CV 2/2; 15/50] START algorithm=SAMME.R, learning_rate=3.0, n_estimators=80.....\n",
      "[CV 2/2; 15/50] END algorithm=SAMME.R, learning_rate=3.0, n_estimators=80;, score=0.576 total time=   6.9s\n",
      "[CV 1/2; 16/50] START algorithm=SAMME.R, learning_rate=4.0, n_estimators=40.....\n",
      "[CV 1/2; 16/50] END algorithm=SAMME.R, learning_rate=4.0, n_estimators=40;, score=0.468 total time=   4.2s\n",
      "[CV 2/2; 16/50] START algorithm=SAMME.R, learning_rate=4.0, n_estimators=40.....\n",
      "[CV 2/2; 16/50] END algorithm=SAMME.R, learning_rate=4.0, n_estimators=40;, score=0.576 total time=   3.0s\n",
      "[CV 1/2; 17/50] START algorithm=SAMME.R, learning_rate=4.0, n_estimators=50.....\n",
      "[CV 1/2; 17/50] END algorithm=SAMME.R, learning_rate=4.0, n_estimators=50;, score=0.468 total time=   4.0s\n",
      "[CV 2/2; 17/50] START algorithm=SAMME.R, learning_rate=4.0, n_estimators=50.....\n",
      "[CV 2/2; 17/50] END algorithm=SAMME.R, learning_rate=4.0, n_estimators=50;, score=0.576 total time=   5.0s\n",
      "[CV 1/2; 18/50] START algorithm=SAMME.R, learning_rate=4.0, n_estimators=60.....\n",
      "[CV 1/2; 18/50] END algorithm=SAMME.R, learning_rate=4.0, n_estimators=60;, score=0.560 total time=   5.2s\n",
      "[CV 2/2; 18/50] START algorithm=SAMME.R, learning_rate=4.0, n_estimators=60.....\n",
      "[CV 2/2; 18/50] END algorithm=SAMME.R, learning_rate=4.0, n_estimators=60;, score=0.576 total time=   5.1s\n",
      "[CV 1/2; 19/50] START algorithm=SAMME.R, learning_rate=4.0, n_estimators=70.....\n",
      "[CV 1/2; 19/50] END algorithm=SAMME.R, learning_rate=4.0, n_estimators=70;, score=0.560 total time=   6.8s\n",
      "[CV 2/2; 19/50] START algorithm=SAMME.R, learning_rate=4.0, n_estimators=70.....\n",
      "[CV 2/2; 19/50] END algorithm=SAMME.R, learning_rate=4.0, n_estimators=70;, score=0.576 total time=   5.7s\n",
      "[CV 1/2; 20/50] START algorithm=SAMME.R, learning_rate=4.0, n_estimators=80.....\n",
      "[CV 1/2; 20/50] END algorithm=SAMME.R, learning_rate=4.0, n_estimators=80;, score=0.560 total time=   7.7s\n",
      "[CV 2/2; 20/50] START algorithm=SAMME.R, learning_rate=4.0, n_estimators=80.....\n",
      "[CV 2/2; 20/50] END algorithm=SAMME.R, learning_rate=4.0, n_estimators=80;, score=0.576 total time=   6.6s\n",
      "[CV 1/2; 21/50] START algorithm=SAMME.R, learning_rate=5.0, n_estimators=40.....\n",
      "[CV 1/2; 21/50] END algorithm=SAMME.R, learning_rate=5.0, n_estimators=40;, score=0.544 total time=   4.1s\n",
      "[CV 2/2; 21/50] START algorithm=SAMME.R, learning_rate=5.0, n_estimators=40.....\n",
      "[CV 2/2; 21/50] END algorithm=SAMME.R, learning_rate=5.0, n_estimators=40;, score=0.576 total time=   3.1s\n",
      "[CV 1/2; 22/50] START algorithm=SAMME.R, learning_rate=5.0, n_estimators=50.....\n",
      "[CV 1/2; 22/50] END algorithm=SAMME.R, learning_rate=5.0, n_estimators=50;, score=0.544 total time=   3.6s\n",
      "[CV 2/2; 22/50] START algorithm=SAMME.R, learning_rate=5.0, n_estimators=50.....\n",
      "[CV 2/2; 22/50] END algorithm=SAMME.R, learning_rate=5.0, n_estimators=50;, score=0.576 total time=   4.7s\n",
      "[CV 1/2; 23/50] START algorithm=SAMME.R, learning_rate=5.0, n_estimators=60.....\n",
      "[CV 1/2; 23/50] END algorithm=SAMME.R, learning_rate=5.0, n_estimators=60;, score=0.544 total time=   4.8s\n",
      "[CV 2/2; 23/50] START algorithm=SAMME.R, learning_rate=5.0, n_estimators=60.....\n",
      "[CV 2/2; 23/50] END algorithm=SAMME.R, learning_rate=5.0, n_estimators=60;, score=0.576 total time=   5.1s\n",
      "[CV 1/2; 24/50] START algorithm=SAMME.R, learning_rate=5.0, n_estimators=70.....\n",
      "[CV 1/2; 24/50] END algorithm=SAMME.R, learning_rate=5.0, n_estimators=70;, score=0.544 total time=   8.3s\n",
      "[CV 2/2; 24/50] START algorithm=SAMME.R, learning_rate=5.0, n_estimators=70.....\n",
      "[CV 2/2; 24/50] END algorithm=SAMME.R, learning_rate=5.0, n_estimators=70;, score=0.576 total time=   5.9s\n",
      "[CV 1/2; 25/50] START algorithm=SAMME.R, learning_rate=5.0, n_estimators=80.....\n",
      "[CV 1/2; 25/50] END algorithm=SAMME.R, learning_rate=5.0, n_estimators=80;, score=0.544 total time=   7.4s\n",
      "[CV 2/2; 25/50] START algorithm=SAMME.R, learning_rate=5.0, n_estimators=80.....\n",
      "[CV 2/2; 25/50] END algorithm=SAMME.R, learning_rate=5.0, n_estimators=80;, score=0.576 total time=   6.2s\n",
      "[CV 1/2; 26/50] START algorithm=SAMME, learning_rate=1.0, n_estimators=40.......\n",
      "[CV 1/2; 26/50] END algorithm=SAMME, learning_rate=1.0, n_estimators=40;, score=0.656 total time=   4.3s\n",
      "[CV 2/2; 26/50] START algorithm=SAMME, learning_rate=1.0, n_estimators=40.......\n",
      "[CV 2/2; 26/50] END algorithm=SAMME, learning_rate=1.0, n_estimators=40;, score=0.564 total time=   3.1s\n",
      "[CV 1/2; 27/50] START algorithm=SAMME, learning_rate=1.0, n_estimators=50.......\n",
      "[CV 1/2; 27/50] END algorithm=SAMME, learning_rate=1.0, n_estimators=50;, score=0.656 total time=   4.0s\n",
      "[CV 2/2; 27/50] START algorithm=SAMME, learning_rate=1.0, n_estimators=50.......\n",
      "[CV 2/2; 27/50] END algorithm=SAMME, learning_rate=1.0, n_estimators=50;, score=0.564 total time=   4.4s\n",
      "[CV 1/2; 28/50] START algorithm=SAMME, learning_rate=1.0, n_estimators=60.......\n",
      "[CV 1/2; 28/50] END algorithm=SAMME, learning_rate=1.0, n_estimators=60;, score=0.664 total time=   5.1s\n",
      "[CV 2/2; 28/50] START algorithm=SAMME, learning_rate=1.0, n_estimators=60.......\n",
      "[CV 2/2; 28/50] END algorithm=SAMME, learning_rate=1.0, n_estimators=60;, score=0.560 total time=   4.7s\n",
      "[CV 1/2; 29/50] START algorithm=SAMME, learning_rate=1.0, n_estimators=70.......\n",
      "[CV 1/2; 29/50] END algorithm=SAMME, learning_rate=1.0, n_estimators=70;, score=0.664 total time=   6.6s\n",
      "[CV 2/2; 29/50] START algorithm=SAMME, learning_rate=1.0, n_estimators=70.......\n",
      "[CV 2/2; 29/50] END algorithm=SAMME, learning_rate=1.0, n_estimators=70;, score=0.556 total time=   5.2s\n",
      "[CV 1/2; 30/50] START algorithm=SAMME, learning_rate=1.0, n_estimators=80.......\n",
      "[CV 1/2; 30/50] END algorithm=SAMME, learning_rate=1.0, n_estimators=80;, score=0.652 total time=   7.4s\n",
      "[CV 2/2; 30/50] START algorithm=SAMME, learning_rate=1.0, n_estimators=80.......\n",
      "[CV 2/2; 30/50] END algorithm=SAMME, learning_rate=1.0, n_estimators=80;, score=0.564 total time=   6.0s\n",
      "[CV 1/2; 31/50] START algorithm=SAMME, learning_rate=2.0, n_estimators=40.......\n",
      "[CV 1/2; 31/50] END algorithm=SAMME, learning_rate=2.0, n_estimators=40;, score=0.644 total time=   3.5s\n",
      "[CV 2/2; 31/50] START algorithm=SAMME, learning_rate=2.0, n_estimators=40.......\n",
      "[CV 2/2; 31/50] END algorithm=SAMME, learning_rate=2.0, n_estimators=40;, score=0.572 total time=   3.9s\n",
      "[CV 1/2; 32/50] START algorithm=SAMME, learning_rate=2.0, n_estimators=50.......\n",
      "[CV 1/2; 32/50] END algorithm=SAMME, learning_rate=2.0, n_estimators=50;, score=0.672 total time=   4.4s\n",
      "[CV 2/2; 32/50] START algorithm=SAMME, learning_rate=2.0, n_estimators=50.......\n",
      "[CV 2/2; 32/50] END algorithm=SAMME, learning_rate=2.0, n_estimators=50;, score=0.548 total time=   4.2s\n",
      "[CV 1/2; 33/50] START algorithm=SAMME, learning_rate=2.0, n_estimators=60.......\n",
      "[CV 1/2; 33/50] END algorithm=SAMME, learning_rate=2.0, n_estimators=60;, score=0.668 total time=   5.5s\n",
      "[CV 2/2; 33/50] START algorithm=SAMME, learning_rate=2.0, n_estimators=60.......\n",
      "[CV 2/2; 33/50] END algorithm=SAMME, learning_rate=2.0, n_estimators=60;, score=0.544 total time=   4.7s\n",
      "[CV 1/2; 34/50] START algorithm=SAMME, learning_rate=2.0, n_estimators=70.......\n",
      "[CV 1/2; 34/50] END algorithm=SAMME, learning_rate=2.0, n_estimators=70;, score=0.668 total time=   6.3s\n",
      "[CV 2/2; 34/50] START algorithm=SAMME, learning_rate=2.0, n_estimators=70.......\n",
      "[CV 2/2; 34/50] END algorithm=SAMME, learning_rate=2.0, n_estimators=70;, score=0.540 total time=   5.6s\n",
      "[CV 1/2; 35/50] START algorithm=SAMME, learning_rate=2.0, n_estimators=80.......\n",
      "[CV 1/2; 35/50] END algorithm=SAMME, learning_rate=2.0, n_estimators=80;, score=0.648 total time=   7.3s\n",
      "[CV 2/2; 35/50] START algorithm=SAMME, learning_rate=2.0, n_estimators=80.......\n",
      "[CV 2/2; 35/50] END algorithm=SAMME, learning_rate=2.0, n_estimators=80;, score=0.552 total time=   6.1s\n",
      "[CV 1/2; 36/50] START algorithm=SAMME, learning_rate=3.0, n_estimators=40.......\n",
      "[CV 1/2; 36/50] END algorithm=SAMME, learning_rate=3.0, n_estimators=40;, score=0.652 total time=   3.0s\n",
      "[CV 2/2; 36/50] START algorithm=SAMME, learning_rate=3.0, n_estimators=40.......\n",
      "[CV 2/2; 36/50] END algorithm=SAMME, learning_rate=3.0, n_estimators=40;, score=0.500 total time=   4.3s\n",
      "[CV 1/2; 37/50] START algorithm=SAMME, learning_rate=3.0, n_estimators=50.......\n",
      "[CV 1/2; 37/50] END algorithm=SAMME, learning_rate=3.0, n_estimators=50;, score=0.652 total time=   3.9s\n",
      "[CV 2/2; 37/50] START algorithm=SAMME, learning_rate=3.0, n_estimators=50.......\n",
      "[CV 2/2; 37/50] END algorithm=SAMME, learning_rate=3.0, n_estimators=50;, score=0.500 total time=   3.5s\n",
      "[CV 1/2; 38/50] START algorithm=SAMME, learning_rate=3.0, n_estimators=60.......\n",
      "[CV 1/2; 38/50] END algorithm=SAMME, learning_rate=3.0, n_estimators=60;, score=0.652 total time=   5.8s\n",
      "[CV 2/2; 38/50] START algorithm=SAMME, learning_rate=3.0, n_estimators=60.......\n",
      "[CV 2/2; 38/50] END algorithm=SAMME, learning_rate=3.0, n_estimators=60;, score=0.500 total time=   4.6s\n",
      "[CV 1/2; 39/50] START algorithm=SAMME, learning_rate=3.0, n_estimators=70.......\n",
      "[CV 1/2; 39/50] END algorithm=SAMME, learning_rate=3.0, n_estimators=70;, score=0.652 total time=   5.7s\n",
      "[CV 2/2; 39/50] START algorithm=SAMME, learning_rate=3.0, n_estimators=70.......\n",
      "[CV 2/2; 39/50] END algorithm=SAMME, learning_rate=3.0, n_estimators=70;, score=0.500 total time=   5.6s\n",
      "[CV 1/2; 40/50] START algorithm=SAMME, learning_rate=3.0, n_estimators=80.......\n",
      "[CV 1/2; 40/50] END algorithm=SAMME, learning_rate=3.0, n_estimators=80;, score=0.652 total time=   5.7s\n",
      "[CV 2/2; 40/50] START algorithm=SAMME, learning_rate=3.0, n_estimators=80.......\n",
      "[CV 2/2; 40/50] END algorithm=SAMME, learning_rate=3.0, n_estimators=80;, score=0.524 total time=   7.3s\n",
      "[CV 1/2; 41/50] START algorithm=SAMME, learning_rate=4.0, n_estimators=40.......\n",
      "[CV 1/2; 41/50] END algorithm=SAMME, learning_rate=4.0, n_estimators=40;, score=0.584 total time=   3.2s\n",
      "[CV 2/2; 41/50] START algorithm=SAMME, learning_rate=4.0, n_estimators=40.......\n",
      "[CV 2/2; 41/50] END algorithm=SAMME, learning_rate=4.0, n_estimators=40;, score=0.500 total time=   3.4s\n",
      "[CV 1/2; 42/50] START algorithm=SAMME, learning_rate=4.0, n_estimators=50.......\n",
      "[CV 1/2; 42/50] END algorithm=SAMME, learning_rate=4.0, n_estimators=50;, score=0.584 total time=   5.0s\n",
      "[CV 2/2; 42/50] START algorithm=SAMME, learning_rate=4.0, n_estimators=50.......\n",
      "[CV 2/2; 42/50] END algorithm=SAMME, learning_rate=4.0, n_estimators=50;, score=0.500 total time=   3.9s\n",
      "[CV 1/2; 43/50] START algorithm=SAMME, learning_rate=4.0, n_estimators=60.......\n",
      "[CV 1/2; 43/50] END algorithm=SAMME, learning_rate=4.0, n_estimators=60;, score=0.584 total time=   4.7s\n",
      "[CV 2/2; 43/50] START algorithm=SAMME, learning_rate=4.0, n_estimators=60.......\n",
      "[CV 2/2; 43/50] END algorithm=SAMME, learning_rate=4.0, n_estimators=60;, score=0.500 total time=   5.4s\n",
      "[CV 1/2; 44/50] START algorithm=SAMME, learning_rate=4.0, n_estimators=70.......\n",
      "[CV 1/2; 44/50] END algorithm=SAMME, learning_rate=4.0, n_estimators=70;, score=0.584 total time=   5.5s\n",
      "[CV 2/2; 44/50] START algorithm=SAMME, learning_rate=4.0, n_estimators=70.......\n",
      "[CV 2/2; 44/50] END algorithm=SAMME, learning_rate=4.0, n_estimators=70;, score=0.500 total time=   6.6s\n",
      "[CV 1/2; 45/50] START algorithm=SAMME, learning_rate=4.0, n_estimators=80.......\n",
      "[CV 1/2; 45/50] END algorithm=SAMME, learning_rate=4.0, n_estimators=80;, score=0.584 total time=   6.5s\n",
      "[CV 2/2; 45/50] START algorithm=SAMME, learning_rate=4.0, n_estimators=80.......\n",
      "[CV 2/2; 45/50] END algorithm=SAMME, learning_rate=4.0, n_estimators=80;, score=0.500 total time=   7.1s\n",
      "[CV 1/2; 46/50] START algorithm=SAMME, learning_rate=5.0, n_estimators=40.......\n",
      "[CV 1/2; 46/50] END algorithm=SAMME, learning_rate=5.0, n_estimators=40;, score=0.584 total time=   3.2s\n",
      "[CV 2/2; 46/50] START algorithm=SAMME, learning_rate=5.0, n_estimators=40.......\n",
      "[CV 2/2; 46/50] END algorithm=SAMME, learning_rate=5.0, n_estimators=40;, score=0.500 total time=   3.6s\n",
      "[CV 1/2; 47/50] START algorithm=SAMME, learning_rate=5.0, n_estimators=50.......\n",
      "[CV 1/2; 47/50] END algorithm=SAMME, learning_rate=5.0, n_estimators=50;, score=0.584 total time=   5.1s\n",
      "[CV 2/2; 47/50] START algorithm=SAMME, learning_rate=5.0, n_estimators=50.......\n",
      "[CV 2/2; 47/50] END algorithm=SAMME, learning_rate=5.0, n_estimators=50;, score=0.500 total time=   3.6s\n",
      "[CV 1/2; 48/50] START algorithm=SAMME, learning_rate=5.0, n_estimators=60.......\n",
      "[CV 1/2; 48/50] END algorithm=SAMME, learning_rate=5.0, n_estimators=60;, score=0.584 total time=   4.4s\n",
      "[CV 2/2; 48/50] START algorithm=SAMME, learning_rate=5.0, n_estimators=60.......\n",
      "[CV 2/2; 48/50] END algorithm=SAMME, learning_rate=5.0, n_estimators=60;, score=0.500 total time=   5.8s\n",
      "[CV 1/2; 49/50] START algorithm=SAMME, learning_rate=5.0, n_estimators=70.......\n",
      "[CV 1/2; 49/50] END algorithm=SAMME, learning_rate=5.0, n_estimators=70;, score=0.584 total time=   5.9s\n",
      "[CV 2/2; 49/50] START algorithm=SAMME, learning_rate=5.0, n_estimators=70.......\n",
      "[CV 2/2; 49/50] END algorithm=SAMME, learning_rate=5.0, n_estimators=70;, score=0.500 total time=   7.1s\n",
      "[CV 1/2; 50/50] START algorithm=SAMME, learning_rate=5.0, n_estimators=80.......\n",
      "[CV 1/2; 50/50] END algorithm=SAMME, learning_rate=5.0, n_estimators=80;, score=0.584 total time=   6.4s\n",
      "[CV 2/2; 50/50] START algorithm=SAMME, learning_rate=5.0, n_estimators=80.......\n",
      "[CV 2/2; 50/50] END algorithm=SAMME, learning_rate=5.0, n_estimators=80;, score=0.500 total time=   7.3s\n",
      "{'algorithm': 'SAMME.R', 'learning_rate': 1.0, 'n_estimators': 50}\n",
      "score-En_Offen_span_1:  0.69\n"
     ]
    }
   ],
   "source": [
    "from sklearn.ensemble import AdaBoostClassifier as En_Offen_span_1ads\n",
    "\n",
    "En_Hypm = { 'algorithm': ['SAMME.R','SAMME'],\n",
    "               'learning_rate': [1.0,2.0,3.0,4.0,5.0],\n",
    "               'n_estimators':[40,50,60,70,80]}\n",
    "\n",
    "\n",
    "En_Hypm_vsb = En_Offen_span_1ads(random_state= En_rast)\n",
    "En_Hypm_vsb = En_Offen_span_1grdsh(En_Hypm_vsb, En_Hypm,\n",
    "                          cv=2, verbose=10)\n",
    "En_Hypm_vsb.fit(En_Offen_span_1xr[:500], En_Offen_span_1yr[:500])\n",
    "\n",
    "print(En_Hypm_vsb.best_params_)\n",
    "print(\"score-En_Offen_span_1: \", En_Hypm_vsb.best_score_)"
   ]
  },
  {
   "cell_type": "code",
   "execution_count": 29,
   "metadata": {
    "colab": {
     "base_uri": "https://localhost:8080/",
     "height": 709
    },
    "executionInfo": {
     "elapsed": 16185,
     "status": "ok",
     "timestamp": 1708675329979,
     "user": {
      "displayName": "jadaprojects09",
      "userId": "16719958102440739805"
     },
     "user_tz": -330
    },
    "id": "v0e5qH3AoSit",
    "outputId": "4ce87b1d-d9ca-45cc-8b25-b5b53cc3ed0b"
   },
   "outputs": [
    {
     "name": "stdout",
     "output_type": "stream",
     "text": [
      "\n",
      " training duration: 15.758771896362305 \n",
      "\n",
      "              precision    recall  f1-score   support\n",
      "\n",
      "         0.0       0.67      0.72      0.69       127\n",
      "         1.0       0.67      0.60      0.63       116\n",
      "\n",
      "    accuracy                           0.67       243\n",
      "   macro avg       0.67      0.66      0.66       243\n",
      "weighted avg       0.67      0.67      0.67       243\n",
      "\n",
      "\n",
      " validation duration: 0.532160758972168 \n",
      "\n"
     ]
    },
    {
     "data": {
      "image/png": "[encoded data removed]",
      "text/plain": [
       "<Figure size 640x480 with 2 Axes>"
      ]
     },
     "metadata": {},
     "output_type": "display_data"
    }
   ],
   "source": [
    "En_pd1 = En_Offen_span_1tiim.time()\n",
    "\n",
    "En_Offen_span_MdD= En_Offen_span_1ads(**En_Hypm_vsb.best_params_)\n",
    "En_Offen_span_MdD.fit(En_Offen_span_1xr, En_Offen_span_1yr)\n",
    "\n",
    "En_pd2 = En_Offen_span_1tiim.time()\n",
    "print(\"\\n training duration:\", En_pd2-En_pd1,\"\\n\")\n",
    "\n",
    "\n",
    "En_pd1 = En_Offen_span_1tiim.time()\n",
    "\n",
    "En_Offen_span_pct= En_Offen_span_MdD.predict(En_Offen_span_1xd)\n",
    "\n",
    "print(En_Offen_span_1cffr(En_Offen_span_1yd, En_Offen_span_pct))\n",
    "\n",
    "En_tk = En_Offen_span_1cfmt(En_Offen_span_1yd,En_Offen_span_pct)\n",
    "En_rd = En_Offen_span_1cmxd(confusion_matrix = En_tk, display_labels = [0,1])\n",
    "En_rd.plot()\n",
    "\n",
    "En_pd2= En_Offen_span_1tiim.time()\n",
    "print(\"\\n validation duration:\", En_pd2-En_pd1,\"\\n\")"
   ]
  },
  {
   "cell_type": "code",
   "execution_count": 30,
   "metadata": {
    "colab": {
     "base_uri": "https://localhost:8080/",
     "height": 489
    },
    "executionInfo": {
     "elapsed": 8,
     "status": "ok",
     "timestamp": 1708675330548,
     "user": {
      "displayName": "jadaprojects09",
      "userId": "16719958102440739805"
     },
     "user_tz": -330
    },
    "id": "LFvV87SqoSkU",
    "outputId": "9d93b64f-4148-44e4-9753-357f0a575638"
   },
   "outputs": [
    {
     "data": {
      "image/png": "[encoded data removed]",
      "text/plain": [
       "<Figure size 640x480 with 1 Axes>"
      ]
     },
     "metadata": {},
     "output_type": "display_data"
    },
    {
     "name": "stdout",
     "output_type": "stream",
     "text": [
      "auc- curve: 0.6639288623404833\n"
     ]
    }
   ],
   "source": [
    "En_Offen_span_Fals, En_Offen_span_tre, En_Offen_span_ths = En_Offen_span_rc(En_Offen_span_1yd, En_Offen_span_pct)\n",
    "En_Offen_span_mt.plot(En_Offen_span_Fals, En_Offen_span_tre)\n",
    "En_Offen_span_mt.ylabel('rate-Fals')\n",
    "En_Offen_span_mt.xlabel('rate-Tru')\n",
    "En_Offen_span_mt.title('roc curve')\n",
    "En_Offen_span_mt.show()\n",
    "print('auc- curve:', En_Offen_span_ac(En_Offen_span_1yd, En_Offen_span_pct))"
   ]
  },
  {
   "cell_type": "code",
   "execution_count": 31,
   "metadata": {
    "colab": {
     "base_uri": "https://localhost:8080/",
     "height": 663
    },
    "executionInfo": {
     "elapsed": 4496,
     "status": "ok",
     "timestamp": 1708675335039,
     "user": {
      "displayName": "jadaprojects09",
      "userId": "16719958102440739805"
     },
     "user_tz": -330
    },
    "id": "hrR1ffK-oSok",
    "outputId": "2e4b8cba-9be3-43a4-a134-3f6ec50f534f"
   },
   "outputs": [
    {
     "name": "stdout",
     "output_type": "stream",
     "text": [
      "              precision    recall  f1-score   support\n",
      "\n",
      "         0.0       0.70      0.71      0.71       118\n",
      "         1.0       0.73      0.71      0.72       126\n",
      "\n",
      "    accuracy                           0.71       244\n",
      "   macro avg       0.71      0.71      0.71       244\n",
      "weighted avg       0.71      0.71      0.71       244\n",
      "\n",
      "\n",
      " testing duration: 0.5358026027679443 \n",
      "\n"
     ]
    },
    {
     "data": {
      "image/png": "[encoded data removed]",
      "text/plain": [
       "<Figure size 640x480 with 2 Axes>"
      ]
     },
     "metadata": {},
     "output_type": "display_data"
    }
   ],
   "source": [
    "En_pd1 = En_Offen_span_1tiim.time()\n",
    "\n",
    "En_Offen_span_pct= En_Offen_span_MdD.predict(En_Offen_span_1xe)\n",
    "\n",
    "print(En_Offen_span_1cffr(En_Offen_span_1ye, En_Offen_span_pct))\n",
    "\n",
    "En_tk = En_Offen_span_1cfmt(En_Offen_span_1ye,En_Offen_span_pct)\n",
    "En_rd = En_Offen_span_1cmxd(confusion_matrix = En_tk, display_labels = [0,1])\n",
    "En_rd.plot()\n",
    "\n",
    "En_pd2= En_Offen_span_1tiim.time()\n",
    "print(\"\\n testing duration:\", En_pd2-En_pd1,\"\\n\")"
   ]
  },
  {
   "cell_type": "code",
   "execution_count": 32,
   "metadata": {
    "colab": {
     "base_uri": "https://localhost:8080/",
     "height": 489
    },
    "executionInfo": {
     "elapsed": 30,
     "status": "ok",
     "timestamp": 1708675335039,
     "user": {
      "displayName": "jadaprojects09",
      "userId": "16719958102440739805"
     },
     "user_tz": -330
    },
    "id": "Q-pWzEa-pnQ_",
    "outputId": "a635f7bf-e1ef-4b89-c7b7-606e35bbf9dd"
   },
   "outputs": [
    {
     "data": {
      "image/png": "[encoded data removed]",
      "text/plain": [
       "<Figure size 640x480 with 1 Axes>"
      ]
     },
     "metadata": {},
     "output_type": "display_data"
    },
    {
     "name": "stdout",
     "output_type": "stream",
     "text": [
      "auc- curve: 0.7130750605326877\n"
     ]
    }
   ],
   "source": [
    "En_Offen_span_Fals, En_Offen_span_tre, En_Offen_span_ths = En_Offen_span_rc(En_Offen_span_1ye, En_Offen_span_pct)\n",
    "En_Offen_span_mt.plot(En_Offen_span_Fals, En_Offen_span_tre)\n",
    "En_Offen_span_mt.ylabel('rate-Fals')\n",
    "En_Offen_span_mt.xlabel('rate-Tru')\n",
    "En_Offen_span_mt.title('roc curve')\n",
    "En_Offen_span_mt.show()\n",
    "print('auc- curve:', En_Offen_span_ac(En_Offen_span_1ye, En_Offen_span_pct))"
   ]
  },
  {
   "cell_type": "markdown",
   "metadata": {
    "id": "T5pp7G1vpx_z"
   },
   "source": [
    "#### XGBoost"
   ]
  },
  {
   "cell_type": "code",
   "execution_count": 33,
   "metadata": {
    "colab": {
     "base_uri": "https://localhost:8080/"
    },
    "executionInfo": {
     "elapsed": 178751,
     "status": "ok",
     "timestamp": 1708675513762,
     "user": {
      "displayName": "jadaprojects09",
      "userId": "16719958102440739805"
     },
     "user_tz": -330
    },
    "id": "oGLtnj5zp1lj",
    "outputId": "ad1d0dd9-10bc-4e87-fee3-d53b2d7e9189"
   },
   "outputs": [
    {
     "name": "stdout",
     "output_type": "stream",
     "text": [
      "Fitting 2 folds for each of 64 candidates, totalling 128 fits\n",
      "[CV 1/2; 1/64] START learning_rate=0.1, n_estimators=20, subsample=0.01.........\n",
      "[CV 1/2; 1/64] END learning_rate=0.1, n_estimators=20, subsample=0.01;, score=0.496 total time=   1.2s\n",
      "[CV 2/2; 1/64] START learning_rate=0.1, n_estimators=20, subsample=0.01.........\n",
      "[CV 2/2; 1/64] END learning_rate=0.1, n_estimators=20, subsample=0.01;, score=0.500 total time=   1.0s\n",
      "[CV 1/2; 2/64] START learning_rate=0.1, n_estimators=20, subsample=0.04.........\n",
      "[CV 1/2; 2/64] END learning_rate=0.1, n_estimators=20, subsample=0.04;, score=0.496 total time=   1.0s\n",
      "[CV 2/2; 2/64] START learning_rate=0.1, n_estimators=20, subsample=0.04.........\n",
      "[CV 2/2; 2/64] END learning_rate=0.1, n_estimators=20, subsample=0.04;, score=0.500 total time=   1.0s\n",
      "[CV 1/2; 3/64] START learning_rate=0.1, n_estimators=20, subsample=0.06.........\n",
      "[CV 1/2; 3/64] END learning_rate=0.1, n_estimators=20, subsample=0.06;, score=0.496 total time=   1.0s\n",
      "[CV 2/2; 3/64] START learning_rate=0.1, n_estimators=20, subsample=0.06.........\n",
      "[CV 2/2; 3/64] END learning_rate=0.1, n_estimators=20, subsample=0.06;, score=0.524 total time=   1.4s\n",
      "[CV 1/2; 4/64] START learning_rate=0.1, n_estimators=20, subsample=0.09.........\n",
      "[CV 1/2; 4/64] END learning_rate=0.1, n_estimators=20, subsample=0.09;, score=0.552 total time=   1.9s\n",
      "[CV 2/2; 4/64] START learning_rate=0.1, n_estimators=20, subsample=0.09.........\n",
      "[CV 2/2; 4/64] END learning_rate=0.1, n_estimators=20, subsample=0.09;, score=0.548 total time=   1.3s\n",
      "[CV 1/2; 5/64] START learning_rate=0.1, n_estimators=40, subsample=0.01.........\n",
      "[CV 1/2; 5/64] END learning_rate=0.1, n_estimators=40, subsample=0.01;, score=0.496 total time=   1.2s\n",
      "[CV 2/2; 5/64] START learning_rate=0.1, n_estimators=40, subsample=0.01.........\n",
      "[CV 2/2; 5/64] END learning_rate=0.1, n_estimators=40, subsample=0.01;, score=0.500 total time=   1.1s\n",
      "[CV 1/2; 6/64] START learning_rate=0.1, n_estimators=40, subsample=0.04.........\n",
      "[CV 1/2; 6/64] END learning_rate=0.1, n_estimators=40, subsample=0.04;, score=0.496 total time=   1.2s\n",
      "[CV 2/2; 6/64] START learning_rate=0.1, n_estimators=40, subsample=0.04.........\n",
      "[CV 2/2; 6/64] END learning_rate=0.1, n_estimators=40, subsample=0.04;, score=0.528 total time=   1.1s\n",
      "[CV 1/2; 7/64] START learning_rate=0.1, n_estimators=40, subsample=0.06.........\n",
      "[CV 1/2; 7/64] END learning_rate=0.1, n_estimators=40, subsample=0.06;, score=0.496 total time=   1.1s\n",
      "[CV 2/2; 7/64] START learning_rate=0.1, n_estimators=40, subsample=0.06.........\n",
      "[CV 2/2; 7/64] END learning_rate=0.1, n_estimators=40, subsample=0.06;, score=0.524 total time=   1.1s\n",
      "[CV 1/2; 8/64] START learning_rate=0.1, n_estimators=40, subsample=0.09.........\n",
      "[CV 1/2; 8/64] END learning_rate=0.1, n_estimators=40, subsample=0.09;, score=0.596 total time=   1.2s\n",
      "[CV 2/2; 8/64] START learning_rate=0.1, n_estimators=40, subsample=0.09.........\n",
      "[CV 2/2; 8/64] END learning_rate=0.1, n_estimators=40, subsample=0.09;, score=0.588 total time=   1.2s\n",
      "[CV 1/2; 9/64] START learning_rate=0.1, n_estimators=60, subsample=0.01.........\n",
      "[CV 1/2; 9/64] END learning_rate=0.1, n_estimators=60, subsample=0.01;, score=0.496 total time=   2.3s\n",
      "[CV 2/2; 9/64] START learning_rate=0.1, n_estimators=60, subsample=0.01.........\n",
      "[CV 2/2; 9/64] END learning_rate=0.1, n_estimators=60, subsample=0.01;, score=0.500 total time=   1.8s\n",
      "[CV 1/2; 10/64] START learning_rate=0.1, n_estimators=60, subsample=0.04........\n",
      "[CV 1/2; 10/64] END learning_rate=0.1, n_estimators=60, subsample=0.04;, score=0.556 total time=   1.3s\n",
      "[CV 2/2; 10/64] START learning_rate=0.1, n_estimators=60, subsample=0.04........\n",
      "[CV 2/2; 10/64] END learning_rate=0.1, n_estimators=60, subsample=0.04;, score=0.500 total time=   1.3s\n",
      "[CV 1/2; 11/64] START learning_rate=0.1, n_estimators=60, subsample=0.06........\n",
      "[CV 1/2; 11/64] END learning_rate=0.1, n_estimators=60, subsample=0.06;, score=0.580 total time=   1.3s\n",
      "[CV 2/2; 11/64] START learning_rate=0.1, n_estimators=60, subsample=0.06........\n",
      "[CV 2/2; 11/64] END learning_rate=0.1, n_estimators=60, subsample=0.06;, score=0.584 total time=   1.3s\n",
      "[CV 1/2; 12/64] START learning_rate=0.1, n_estimators=60, subsample=0.09........\n",
      "[CV 1/2; 12/64] END learning_rate=0.1, n_estimators=60, subsample=0.09;, score=0.616 total time=   1.4s\n",
      "[CV 2/2; 12/64] START learning_rate=0.1, n_estimators=60, subsample=0.09........\n",
      "[CV 2/2; 12/64] END learning_rate=0.1, n_estimators=60, subsample=0.09;, score=0.644 total time=   1.3s\n",
      "[CV 1/2; 13/64] START learning_rate=0.1, n_estimators=80, subsample=0.01........\n",
      "[CV 1/2; 13/64] END learning_rate=0.1, n_estimators=80, subsample=0.01;, score=0.496 total time=   1.5s\n",
      "[CV 2/2; 13/64] START learning_rate=0.1, n_estimators=80, subsample=0.01........\n",
      "[CV 2/2; 13/64] END learning_rate=0.1, n_estimators=80, subsample=0.01;, score=0.500 total time=   3.1s\n",
      "[CV 1/2; 14/64] START learning_rate=0.1, n_estimators=80, subsample=0.04........\n",
      "[CV 1/2; 14/64] END learning_rate=0.1, n_estimators=80, subsample=0.04;, score=0.492 total time=   1.5s\n",
      "[CV 2/2; 14/64] START learning_rate=0.1, n_estimators=80, subsample=0.04........\n",
      "[CV 2/2; 14/64] END learning_rate=0.1, n_estimators=80, subsample=0.04;, score=0.500 total time=   1.5s\n",
      "[CV 1/2; 15/64] START learning_rate=0.1, n_estimators=80, subsample=0.06........\n",
      "[CV 1/2; 15/64] END learning_rate=0.1, n_estimators=80, subsample=0.06;, score=0.588 total time=   1.5s\n",
      "[CV 2/2; 15/64] START learning_rate=0.1, n_estimators=80, subsample=0.06........\n",
      "[CV 2/2; 15/64] END learning_rate=0.1, n_estimators=80, subsample=0.06;, score=0.576 total time=   1.5s\n",
      "[CV 1/2; 16/64] START learning_rate=0.1, n_estimators=80, subsample=0.09........\n",
      "[CV 1/2; 16/64] END learning_rate=0.1, n_estimators=80, subsample=0.09;, score=0.592 total time=   1.6s\n",
      "[CV 2/2; 16/64] START learning_rate=0.1, n_estimators=80, subsample=0.09........\n",
      "[CV 2/2; 16/64] END learning_rate=0.1, n_estimators=80, subsample=0.09;, score=0.628 total time=   1.7s\n",
      "[CV 1/2; 17/64] START learning_rate=0.3, n_estimators=20, subsample=0.01........\n",
      "[CV 1/2; 17/64] END learning_rate=0.3, n_estimators=20, subsample=0.01;, score=0.496 total time=   0.9s\n",
      "[CV 2/2; 17/64] START learning_rate=0.3, n_estimators=20, subsample=0.01........\n",
      "[CV 2/2; 17/64] END learning_rate=0.3, n_estimators=20, subsample=0.01;, score=0.500 total time=   1.8s\n",
      "[CV 1/2; 18/64] START learning_rate=0.3, n_estimators=20, subsample=0.04........\n",
      "[CV 1/2; 18/64] END learning_rate=0.3, n_estimators=20, subsample=0.04;, score=0.496 total time=   1.5s\n",
      "[CV 2/2; 18/64] START learning_rate=0.3, n_estimators=20, subsample=0.04........\n",
      "[CV 2/2; 18/64] END learning_rate=0.3, n_estimators=20, subsample=0.04;, score=0.500 total time=   0.9s\n",
      "[CV 1/2; 19/64] START learning_rate=0.3, n_estimators=20, subsample=0.06........\n",
      "[CV 1/2; 19/64] END learning_rate=0.3, n_estimators=20, subsample=0.06;, score=0.592 total time=   0.9s\n",
      "[CV 2/2; 19/64] START learning_rate=0.3, n_estimators=20, subsample=0.06........\n",
      "[CV 2/2; 19/64] END learning_rate=0.3, n_estimators=20, subsample=0.06;, score=0.528 total time=   0.9s\n",
      "[CV 1/2; 20/64] START learning_rate=0.3, n_estimators=20, subsample=0.09........\n",
      "[CV 1/2; 20/64] END learning_rate=0.3, n_estimators=20, subsample=0.09;, score=0.588 total time=   0.9s\n",
      "[CV 2/2; 20/64] START learning_rate=0.3, n_estimators=20, subsample=0.09........\n",
      "[CV 2/2; 20/64] END learning_rate=0.3, n_estimators=20, subsample=0.09;, score=0.544 total time=   0.9s\n",
      "[CV 1/2; 21/64] START learning_rate=0.3, n_estimators=40, subsample=0.01........\n",
      "[CV 1/2; 21/64] END learning_rate=0.3, n_estimators=40, subsample=0.01;, score=0.504 total time=   1.0s\n",
      "[CV 2/2; 21/64] START learning_rate=0.3, n_estimators=40, subsample=0.01........\n",
      "[CV 2/2; 21/64] END learning_rate=0.3, n_estimators=40, subsample=0.01;, score=0.500 total time=   1.1s\n",
      "[CV 1/2; 22/64] START learning_rate=0.3, n_estimators=40, subsample=0.04........\n",
      "[CV 1/2; 22/64] END learning_rate=0.3, n_estimators=40, subsample=0.04;, score=0.576 total time=   1.1s\n",
      "[CV 2/2; 22/64] START learning_rate=0.3, n_estimators=40, subsample=0.04........\n",
      "[CV 2/2; 22/64] END learning_rate=0.3, n_estimators=40, subsample=0.04;, score=0.588 total time=   1.1s\n",
      "[CV 1/2; 23/64] START learning_rate=0.3, n_estimators=40, subsample=0.06........\n",
      "[CV 1/2; 23/64] END learning_rate=0.3, n_estimators=40, subsample=0.06;, score=0.576 total time=   1.1s\n",
      "[CV 2/2; 23/64] START learning_rate=0.3, n_estimators=40, subsample=0.06........\n",
      "[CV 2/2; 23/64] END learning_rate=0.3, n_estimators=40, subsample=0.06;, score=0.528 total time=   2.4s\n",
      "[CV 1/2; 24/64] START learning_rate=0.3, n_estimators=40, subsample=0.09........\n",
      "[CV 1/2; 24/64] END learning_rate=0.3, n_estimators=40, subsample=0.09;, score=0.532 total time=   1.5s\n",
      "[CV 2/2; 24/64] START learning_rate=0.3, n_estimators=40, subsample=0.09........\n",
      "[CV 2/2; 24/64] END learning_rate=0.3, n_estimators=40, subsample=0.09;, score=0.628 total time=   1.1s\n",
      "[CV 1/2; 25/64] START learning_rate=0.3, n_estimators=60, subsample=0.01........\n",
      "[CV 1/2; 25/64] END learning_rate=0.3, n_estimators=60, subsample=0.01;, score=0.496 total time=   1.2s\n",
      "[CV 2/2; 25/64] START learning_rate=0.3, n_estimators=60, subsample=0.01........\n",
      "[CV 2/2; 25/64] END learning_rate=0.3, n_estimators=60, subsample=0.01;, score=0.500 total time=   1.3s\n",
      "[CV 1/2; 26/64] START learning_rate=0.3, n_estimators=60, subsample=0.04........\n",
      "[CV 1/2; 26/64] END learning_rate=0.3, n_estimators=60, subsample=0.04;, score=0.540 total time=   1.3s\n",
      "[CV 2/2; 26/64] START learning_rate=0.3, n_estimators=60, subsample=0.04........\n",
      "[CV 2/2; 26/64] END learning_rate=0.3, n_estimators=60, subsample=0.04;, score=0.500 total time=   1.3s\n",
      "[CV 1/2; 27/64] START learning_rate=0.3, n_estimators=60, subsample=0.06........\n",
      "[CV 1/2; 27/64] END learning_rate=0.3, n_estimators=60, subsample=0.06;, score=0.592 total time=   1.3s\n",
      "[CV 2/2; 27/64] START learning_rate=0.3, n_estimators=60, subsample=0.06........\n",
      "[CV 2/2; 27/64] END learning_rate=0.3, n_estimators=60, subsample=0.06;, score=0.568 total time=   1.3s\n",
      "[CV 1/2; 28/64] START learning_rate=0.3, n_estimators=60, subsample=0.09........\n",
      "[CV 1/2; 28/64] END learning_rate=0.3, n_estimators=60, subsample=0.09;, score=0.520 total time=   3.0s\n",
      "[CV 2/2; 28/64] START learning_rate=0.3, n_estimators=60, subsample=0.09........\n",
      "[CV 2/2; 28/64] END learning_rate=0.3, n_estimators=60, subsample=0.09;, score=0.636 total time=   1.6s\n",
      "[CV 1/2; 29/64] START learning_rate=0.3, n_estimators=80, subsample=0.01........\n",
      "[CV 1/2; 29/64] END learning_rate=0.3, n_estimators=80, subsample=0.01;, score=0.496 total time=   1.5s\n",
      "[CV 2/2; 29/64] START learning_rate=0.3, n_estimators=80, subsample=0.01........\n",
      "[CV 2/2; 29/64] END learning_rate=0.3, n_estimators=80, subsample=0.01;, score=0.500 total time=   1.5s\n",
      "[CV 1/2; 30/64] START learning_rate=0.3, n_estimators=80, subsample=0.04........\n",
      "[CV 1/2; 30/64] END learning_rate=0.3, n_estimators=80, subsample=0.04;, score=0.600 total time=   1.5s\n",
      "[CV 2/2; 30/64] START learning_rate=0.3, n_estimators=80, subsample=0.04........\n",
      "[CV 2/2; 30/64] END learning_rate=0.3, n_estimators=80, subsample=0.04;, score=0.588 total time=   1.5s\n",
      "[CV 1/2; 31/64] START learning_rate=0.3, n_estimators=80, subsample=0.06........\n",
      "[CV 1/2; 31/64] END learning_rate=0.3, n_estimators=80, subsample=0.06;, score=0.572 total time=   1.5s\n",
      "[CV 2/2; 31/64] START learning_rate=0.3, n_estimators=80, subsample=0.06........\n",
      "[CV 2/2; 31/64] END learning_rate=0.3, n_estimators=80, subsample=0.06;, score=0.580 total time=   1.5s\n",
      "[CV 1/2; 32/64] START learning_rate=0.3, n_estimators=80, subsample=0.09........\n",
      "[CV 1/2; 32/64] END learning_rate=0.3, n_estimators=80, subsample=0.09;, score=0.612 total time=   3.4s\n",
      "[CV 2/2; 32/64] START learning_rate=0.3, n_estimators=80, subsample=0.09........\n",
      "[CV 2/2; 32/64] END learning_rate=0.3, n_estimators=80, subsample=0.09;, score=0.632 total time=   1.6s\n",
      "[CV 1/2; 33/64] START learning_rate=0.5, n_estimators=20, subsample=0.01........\n",
      "[CV 1/2; 33/64] END learning_rate=0.5, n_estimators=20, subsample=0.01;, score=0.496 total time=   0.8s\n",
      "[CV 2/2; 33/64] START learning_rate=0.5, n_estimators=20, subsample=0.01........\n",
      "[CV 2/2; 33/64] END learning_rate=0.5, n_estimators=20, subsample=0.01;, score=0.500 total time=   0.9s\n",
      "[CV 1/2; 34/64] START learning_rate=0.5, n_estimators=20, subsample=0.04........\n",
      "[CV 1/2; 34/64] END learning_rate=0.5, n_estimators=20, subsample=0.04;, score=0.496 total time=   0.9s\n",
      "[CV 2/2; 34/64] START learning_rate=0.5, n_estimators=20, subsample=0.04........\n",
      "[CV 2/2; 34/64] END learning_rate=0.5, n_estimators=20, subsample=0.04;, score=0.528 total time=   0.9s\n",
      "[CV 1/2; 35/64] START learning_rate=0.5, n_estimators=20, subsample=0.06........\n",
      "[CV 1/2; 35/64] END learning_rate=0.5, n_estimators=20, subsample=0.06;, score=0.592 total time=   0.9s\n",
      "[CV 2/2; 35/64] START learning_rate=0.5, n_estimators=20, subsample=0.06........\n",
      "[CV 2/2; 35/64] END learning_rate=0.5, n_estimators=20, subsample=0.06;, score=0.524 total time=   0.9s\n",
      "[CV 1/2; 36/64] START learning_rate=0.5, n_estimators=20, subsample=0.09........\n",
      "[CV 1/2; 36/64] END learning_rate=0.5, n_estimators=20, subsample=0.09;, score=0.604 total time=   0.9s\n",
      "[CV 2/2; 36/64] START learning_rate=0.5, n_estimators=20, subsample=0.09........\n",
      "[CV 2/2; 36/64] END learning_rate=0.5, n_estimators=20, subsample=0.09;, score=0.536 total time=   0.9s\n",
      "[CV 1/2; 37/64] START learning_rate=0.5, n_estimators=40, subsample=0.01........\n",
      "[CV 1/2; 37/64] END learning_rate=0.5, n_estimators=40, subsample=0.01;, score=0.504 total time=   1.2s\n",
      "[CV 2/2; 37/64] START learning_rate=0.5, n_estimators=40, subsample=0.01........\n",
      "[CV 2/2; 37/64] END learning_rate=0.5, n_estimators=40, subsample=0.01;, score=0.500 total time=   2.0s\n",
      "[CV 1/2; 38/64] START learning_rate=0.5, n_estimators=40, subsample=0.04........\n",
      "[CV 1/2; 38/64] END learning_rate=0.5, n_estimators=40, subsample=0.04;, score=0.576 total time=   1.7s\n",
      "[CV 2/2; 38/64] START learning_rate=0.5, n_estimators=40, subsample=0.04........\n",
      "[CV 2/2; 38/64] END learning_rate=0.5, n_estimators=40, subsample=0.04;, score=0.588 total time=   1.1s\n",
      "[CV 1/2; 39/64] START learning_rate=0.5, n_estimators=40, subsample=0.06........\n",
      "[CV 1/2; 39/64] END learning_rate=0.5, n_estimators=40, subsample=0.06;, score=0.576 total time=   1.1s\n",
      "[CV 2/2; 39/64] START learning_rate=0.5, n_estimators=40, subsample=0.06........\n",
      "[CV 2/2; 39/64] END learning_rate=0.5, n_estimators=40, subsample=0.06;, score=0.528 total time=   1.1s\n",
      "[CV 1/2; 40/64] START learning_rate=0.5, n_estimators=40, subsample=0.09........\n",
      "[CV 1/2; 40/64] END learning_rate=0.5, n_estimators=40, subsample=0.09;, score=0.524 total time=   1.1s\n",
      "[CV 2/2; 40/64] START learning_rate=0.5, n_estimators=40, subsample=0.09........\n",
      "[CV 2/2; 40/64] END learning_rate=0.5, n_estimators=40, subsample=0.09;, score=0.636 total time=   1.1s\n",
      "[CV 1/2; 41/64] START learning_rate=0.5, n_estimators=60, subsample=0.01........\n",
      "[CV 1/2; 41/64] END learning_rate=0.5, n_estimators=60, subsample=0.01;, score=0.496 total time=   1.3s\n",
      "[CV 2/2; 41/64] START learning_rate=0.5, n_estimators=60, subsample=0.01........\n",
      "[CV 2/2; 41/64] END learning_rate=0.5, n_estimators=60, subsample=0.01;, score=0.500 total time=   1.3s\n",
      "[CV 1/2; 42/64] START learning_rate=0.5, n_estimators=60, subsample=0.04........\n",
      "[CV 1/2; 42/64] END learning_rate=0.5, n_estimators=60, subsample=0.04;, score=0.540 total time=   1.3s\n",
      "[CV 2/2; 42/64] START learning_rate=0.5, n_estimators=60, subsample=0.04........\n",
      "[CV 2/2; 42/64] END learning_rate=0.5, n_estimators=60, subsample=0.04;, score=0.560 total time=   2.4s\n",
      "[CV 1/2; 43/64] START learning_rate=0.5, n_estimators=60, subsample=0.06........\n",
      "[CV 1/2; 43/64] END learning_rate=0.5, n_estimators=60, subsample=0.06;, score=0.544 total time=   1.9s\n",
      "[CV 2/2; 43/64] START learning_rate=0.5, n_estimators=60, subsample=0.06........\n",
      "[CV 2/2; 43/64] END learning_rate=0.5, n_estimators=60, subsample=0.06;, score=0.568 total time=   1.3s\n",
      "[CV 1/2; 44/64] START learning_rate=0.5, n_estimators=60, subsample=0.09........\n",
      "[CV 1/2; 44/64] END learning_rate=0.5, n_estimators=60, subsample=0.09;, score=0.548 total time=   1.4s\n",
      "[CV 2/2; 44/64] START learning_rate=0.5, n_estimators=60, subsample=0.09........\n",
      "[CV 2/2; 44/64] END learning_rate=0.5, n_estimators=60, subsample=0.09;, score=0.652 total time=   1.4s\n",
      "[CV 1/2; 45/64] START learning_rate=0.5, n_estimators=80, subsample=0.01........\n",
      "[CV 1/2; 45/64] END learning_rate=0.5, n_estimators=80, subsample=0.01;, score=0.496 total time=   1.5s\n",
      "[CV 2/2; 45/64] START learning_rate=0.5, n_estimators=80, subsample=0.01........\n",
      "[CV 2/2; 45/64] END learning_rate=0.5, n_estimators=80, subsample=0.01;, score=0.500 total time=   1.5s\n",
      "[CV 1/2; 46/64] START learning_rate=0.5, n_estimators=80, subsample=0.04........\n",
      "[CV 1/2; 46/64] END learning_rate=0.5, n_estimators=80, subsample=0.04;, score=0.600 total time=   1.5s\n",
      "[CV 2/2; 46/64] START learning_rate=0.5, n_estimators=80, subsample=0.04........\n",
      "[CV 2/2; 46/64] END learning_rate=0.5, n_estimators=80, subsample=0.04;, score=0.588 total time=   2.4s\n",
      "[CV 1/2; 47/64] START learning_rate=0.5, n_estimators=80, subsample=0.06........\n",
      "[CV 1/2; 47/64] END learning_rate=0.5, n_estimators=80, subsample=0.06;, score=0.572 total time=   2.4s\n",
      "[CV 2/2; 47/64] START learning_rate=0.5, n_estimators=80, subsample=0.06........\n",
      "[CV 2/2; 47/64] END learning_rate=0.5, n_estimators=80, subsample=0.06;, score=0.576 total time=   1.5s\n",
      "[CV 1/2; 48/64] START learning_rate=0.5, n_estimators=80, subsample=0.09........\n",
      "[CV 1/2; 48/64] END learning_rate=0.5, n_estimators=80, subsample=0.09;, score=0.600 total time=   1.6s\n",
      "[CV 2/2; 48/64] START learning_rate=0.5, n_estimators=80, subsample=0.09........\n",
      "[CV 2/2; 48/64] END learning_rate=0.5, n_estimators=80, subsample=0.09;, score=0.620 total time=   1.6s\n",
      "[CV 1/2; 49/64] START learning_rate=0.7, n_estimators=20, subsample=0.01........\n",
      "[CV 1/2; 49/64] END learning_rate=0.7, n_estimators=20, subsample=0.01;, score=0.504 total time=   0.9s\n",
      "[CV 2/2; 49/64] START learning_rate=0.7, n_estimators=20, subsample=0.01........\n",
      "[CV 2/2; 49/64] END learning_rate=0.7, n_estimators=20, subsample=0.01;, score=0.500 total time=   0.9s\n",
      "[CV 1/2; 50/64] START learning_rate=0.7, n_estimators=20, subsample=0.04........\n",
      "[CV 1/2; 50/64] END learning_rate=0.7, n_estimators=20, subsample=0.04;, score=0.496 total time=   0.9s\n",
      "[CV 2/2; 50/64] START learning_rate=0.7, n_estimators=20, subsample=0.04........\n",
      "[CV 2/2; 50/64] END learning_rate=0.7, n_estimators=20, subsample=0.04;, score=0.528 total time=   0.9s\n",
      "[CV 1/2; 51/64] START learning_rate=0.7, n_estimators=20, subsample=0.06........\n",
      "[CV 1/2; 51/64] END learning_rate=0.7, n_estimators=20, subsample=0.06;, score=0.576 total time=   0.9s\n",
      "[CV 2/2; 51/64] START learning_rate=0.7, n_estimators=20, subsample=0.06........\n",
      "[CV 2/2; 51/64] END learning_rate=0.7, n_estimators=20, subsample=0.06;, score=0.516 total time=   1.7s\n",
      "[CV 1/2; 52/64] START learning_rate=0.7, n_estimators=20, subsample=0.09........\n",
      "[CV 1/2; 52/64] END learning_rate=0.7, n_estimators=20, subsample=0.09;, score=0.528 total time=   1.7s\n",
      "[CV 2/2; 52/64] START learning_rate=0.7, n_estimators=20, subsample=0.09........\n",
      "[CV 2/2; 52/64] END learning_rate=0.7, n_estimators=20, subsample=0.09;, score=0.536 total time=   1.0s\n",
      "[CV 1/2; 53/64] START learning_rate=0.7, n_estimators=40, subsample=0.01........\n",
      "[CV 1/2; 53/64] END learning_rate=0.7, n_estimators=40, subsample=0.01;, score=0.504 total time=   1.1s\n",
      "[CV 2/2; 53/64] START learning_rate=0.7, n_estimators=40, subsample=0.01........\n",
      "[CV 2/2; 53/64] END learning_rate=0.7, n_estimators=40, subsample=0.01;, score=0.500 total time=   1.0s\n",
      "[CV 1/2; 54/64] START learning_rate=0.7, n_estimators=40, subsample=0.04........\n",
      "[CV 1/2; 54/64] END learning_rate=0.7, n_estimators=40, subsample=0.04;, score=0.576 total time=   1.1s\n",
      "[CV 2/2; 54/64] START learning_rate=0.7, n_estimators=40, subsample=0.04........\n",
      "[CV 2/2; 54/64] END learning_rate=0.7, n_estimators=40, subsample=0.04;, score=0.588 total time=   1.1s\n",
      "[CV 1/2; 55/64] START learning_rate=0.7, n_estimators=40, subsample=0.06........\n",
      "[CV 1/2; 55/64] END learning_rate=0.7, n_estimators=40, subsample=0.06;, score=0.572 total time=   1.1s\n",
      "[CV 2/2; 55/64] START learning_rate=0.7, n_estimators=40, subsample=0.06........\n",
      "[CV 2/2; 55/64] END learning_rate=0.7, n_estimators=40, subsample=0.06;, score=0.524 total time=   1.1s\n",
      "[CV 1/2; 56/64] START learning_rate=0.7, n_estimators=40, subsample=0.09........\n",
      "[CV 1/2; 56/64] END learning_rate=0.7, n_estimators=40, subsample=0.09;, score=0.540 total time=   1.1s\n",
      "[CV 2/2; 56/64] START learning_rate=0.7, n_estimators=40, subsample=0.09........\n",
      "[CV 2/2; 56/64] END learning_rate=0.7, n_estimators=40, subsample=0.09;, score=0.624 total time=   1.2s\n",
      "[CV 1/2; 57/64] START learning_rate=0.7, n_estimators=60, subsample=0.01........\n",
      "[CV 1/2; 57/64] END learning_rate=0.7, n_estimators=60, subsample=0.01;, score=0.496 total time=   2.8s\n",
      "[CV 2/2; 57/64] START learning_rate=0.7, n_estimators=60, subsample=0.01........\n",
      "[CV 2/2; 57/64] END learning_rate=0.7, n_estimators=60, subsample=0.01;, score=0.500 total time=   1.5s\n",
      "[CV 1/2; 58/64] START learning_rate=0.7, n_estimators=60, subsample=0.04........\n",
      "[CV 1/2; 58/64] END learning_rate=0.7, n_estimators=60, subsample=0.04;, score=0.540 total time=   1.3s\n",
      "[CV 2/2; 58/64] START learning_rate=0.7, n_estimators=60, subsample=0.04........\n",
      "[CV 2/2; 58/64] END learning_rate=0.7, n_estimators=60, subsample=0.04;, score=0.560 total time=   1.3s\n",
      "[CV 1/2; 59/64] START learning_rate=0.7, n_estimators=60, subsample=0.06........\n",
      "[CV 1/2; 59/64] END learning_rate=0.7, n_estimators=60, subsample=0.06;, score=0.532 total time=   1.3s\n",
      "[CV 2/2; 59/64] START learning_rate=0.7, n_estimators=60, subsample=0.06........\n",
      "[CV 2/2; 59/64] END learning_rate=0.7, n_estimators=60, subsample=0.06;, score=0.560 total time=   1.3s\n",
      "[CV 1/2; 60/64] START learning_rate=0.7, n_estimators=60, subsample=0.09........\n",
      "[CV 1/2; 60/64] END learning_rate=0.7, n_estimators=60, subsample=0.09;, score=0.500 total time=   1.4s\n",
      "[CV 2/2; 60/64] START learning_rate=0.7, n_estimators=60, subsample=0.09........\n",
      "[CV 2/2; 60/64] END learning_rate=0.7, n_estimators=60, subsample=0.09;, score=0.648 total time=   1.4s\n",
      "[CV 1/2; 61/64] START learning_rate=0.7, n_estimators=80, subsample=0.01........\n",
      "[CV 1/2; 61/64] END learning_rate=0.7, n_estimators=80, subsample=0.01;, score=0.496 total time=   1.5s\n",
      "[CV 2/2; 61/64] START learning_rate=0.7, n_estimators=80, subsample=0.01........\n",
      "[CV 2/2; 61/64] END learning_rate=0.7, n_estimators=80, subsample=0.01;, score=0.500 total time=   3.1s\n",
      "[CV 1/2; 62/64] START learning_rate=0.7, n_estimators=80, subsample=0.04........\n",
      "[CV 1/2; 62/64] END learning_rate=0.7, n_estimators=80, subsample=0.04;, score=0.556 total time=   1.5s\n",
      "[CV 2/2; 62/64] START learning_rate=0.7, n_estimators=80, subsample=0.04........\n",
      "[CV 2/2; 62/64] END learning_rate=0.7, n_estimators=80, subsample=0.04;, score=0.588 total time=   1.5s\n",
      "[CV 1/2; 63/64] START learning_rate=0.7, n_estimators=80, subsample=0.06........\n",
      "[CV 1/2; 63/64] END learning_rate=0.7, n_estimators=80, subsample=0.06;, score=0.556 total time=   1.5s\n",
      "[CV 2/2; 63/64] START learning_rate=0.7, n_estimators=80, subsample=0.06........\n",
      "[CV 2/2; 63/64] END learning_rate=0.7, n_estimators=80, subsample=0.06;, score=0.580 total time=   1.5s\n",
      "[CV 1/2; 64/64] START learning_rate=0.7, n_estimators=80, subsample=0.09........\n",
      "[CV 1/2; 64/64] END learning_rate=0.7, n_estimators=80, subsample=0.09;, score=0.608 total time=   1.6s\n",
      "[CV 2/2; 64/64] START learning_rate=0.7, n_estimators=80, subsample=0.09........\n",
      "[CV 2/2; 64/64] END learning_rate=0.7, n_estimators=80, subsample=0.09;, score=0.616 total time=   1.6s\n",
      "{'learning_rate': 0.1, 'n_estimators': 60, 'subsample': 0.09}\n",
      "score-En_Offen_span_1:  0.63\n"
     ]
    }
   ],
   "source": [
    "from xgboost import XGBClassifier as En_Offen_span_1etg\n",
    "\n",
    "En_Hypm = { 'n_estimators': [20,40,60,80],\n",
    "               'subsample': [0.01,0.04,0.06,0.09],\n",
    "               'learning_rate':[0.1,0.3,0.5,0.7]}\n",
    "\n",
    "\n",
    "En_Hypm_vsb = En_Offen_span_1etg(random_state= En_rast)\n",
    "En_Hypm_vsb = En_Offen_span_1grdsh(En_Hypm_vsb, En_Hypm,\n",
    "                          cv=2, verbose=10)\n",
    "En_Hypm_vsb.fit(En_Offen_span_1xr[:500], En_Offen_span_1yr[:500])\n",
    "\n",
    "print(En_Hypm_vsb.best_params_)\n",
    "print(\"score-En_Offen_span_1: \", En_Hypm_vsb.best_score_)"
   ]
  },
  {
   "cell_type": "code",
   "execution_count": 34,
   "metadata": {
    "colab": {
     "base_uri": "https://localhost:8080/",
     "height": 715
    },
    "executionInfo": {
     "elapsed": 4517,
     "status": "ok",
     "timestamp": 1708675518262,
     "user": {
      "displayName": "jadaprojects09",
      "userId": "16719958102440739805"
     },
     "user_tz": -330
    },
    "id": "rBupKsGMp1nS",
    "outputId": "033ab950-e1b5-40d6-f049-1922d84aeb49"
   },
   "outputs": [
    {
     "name": "stdout",
     "output_type": "stream",
     "text": [
      "\n",
      " training duration: 4.207855701446533 \n",
      "\n",
      "              precision    recall  f1-score   support\n",
      "\n",
      "         0.0       0.68      0.79      0.73       127\n",
      "         1.0       0.72      0.59      0.64       116\n",
      "\n",
      "    accuracy                           0.69       243\n",
      "   macro avg       0.70      0.69      0.69       243\n",
      "weighted avg       0.69      0.69      0.69       243\n",
      "\n",
      "\n",
      " validation duration: 0.08825969696044922 \n",
      "\n"
     ]
    },
    {
     "data": {
      "image/png": "[encoded data removed]",
      "text/plain": [
       "<Figure size 640x480 with 2 Axes>"
      ]
     },
     "metadata": {},
     "output_type": "display_data"
    }
   ],
   "source": [
    "En_pd1 = En_Offen_span_1tiim.time()\n",
    "\n",
    "En_Offen_span_MdE= En_Offen_span_1etg(**En_Hypm_vsb.best_params_)\n",
    "En_Offen_span_MdE.fit(En_Offen_span_1xr, En_Offen_span_1yr)\n",
    "\n",
    "En_pd2 = En_Offen_span_1tiim.time()\n",
    "print(\"\\n training duration:\", En_pd2-En_pd1,\"\\n\")\n",
    "\n",
    "\n",
    "En_pd1 = En_Offen_span_1tiim.time()\n",
    "\n",
    "En_Offen_span_pct= En_Offen_span_MdE.predict(En_Offen_span_1xd)\n",
    "\n",
    "print(En_Offen_span_1cffr(En_Offen_span_1yd, En_Offen_span_pct))\n",
    "\n",
    "En_tk = En_Offen_span_1cfmt(En_Offen_span_1yd,En_Offen_span_pct)\n",
    "En_rd = En_Offen_span_1cmxd(confusion_matrix = En_tk, display_labels = [0,1])\n",
    "En_rd.plot()\n",
    "\n",
    "En_pd2= En_Offen_span_1tiim.time()\n",
    "print(\"\\n validation duration:\", En_pd2-En_pd1,\"\\n\")"
   ]
  },
  {
   "cell_type": "code",
   "execution_count": 35,
   "metadata": {
    "colab": {
     "base_uri": "https://localhost:8080/",
     "height": 489
    },
    "executionInfo": {
     "elapsed": 24,
     "status": "ok",
     "timestamp": 1708675518262,
     "user": {
      "displayName": "jadaprojects09",
      "userId": "16719958102440739805"
     },
     "user_tz": -330
    },
    "id": "uIdfxXbLp1sW",
    "outputId": "af86a9f0-c92c-429c-8aa4-dd00aa2e0442"
   },
   "outputs": [
    {
     "data": {
      "image/png": "[encoded data removed]",
      "text/plain": [
       "<Figure size 640x480 with 1 Axes>"
      ]
     },
     "metadata": {},
     "output_type": "display_data"
    },
    {
     "name": "stdout",
     "output_type": "stream",
     "text": [
      "auc- curve: 0.6868042356774368\n"
     ]
    }
   ],
   "source": [
    "En_Offen_span_Fals, En_Offen_span_tre, En_Offen_span_ths = En_Offen_span_rc(En_Offen_span_1yd, En_Offen_span_pct)\n",
    "En_Offen_span_mt.plot(En_Offen_span_Fals, En_Offen_span_tre)\n",
    "En_Offen_span_mt.ylabel('rate-Fals')\n",
    "En_Offen_span_mt.xlabel('rate-Tru')\n",
    "En_Offen_span_mt.title('roc curve')\n",
    "En_Offen_span_mt.show()\n",
    "print('auc- curve:', En_Offen_span_ac(En_Offen_span_1yd, En_Offen_span_pct))"
   ]
  },
  {
   "cell_type": "code",
   "execution_count": 36,
   "metadata": {
    "colab": {
     "base_uri": "https://localhost:8080/",
     "height": 657
    },
    "executionInfo": {
     "elapsed": 878,
     "status": "ok",
     "timestamp": 1708675519118,
     "user": {
      "displayName": "jadaprojects09",
      "userId": "16719958102440739805"
     },
     "user_tz": -330
    },
    "id": "S7C95mO9p28v",
    "outputId": "3b3e8e95-020e-44e7-b92f-f7ee00e77707"
   },
   "outputs": [
    {
     "name": "stdout",
     "output_type": "stream",
     "text": [
      "              precision    recall  f1-score   support\n",
      "\n",
      "         0.0       0.59      0.64      0.62       118\n",
      "         1.0       0.64      0.59      0.61       126\n",
      "\n",
      "    accuracy                           0.61       244\n",
      "   macro avg       0.62      0.62      0.61       244\n",
      "weighted avg       0.62      0.61      0.61       244\n",
      "\n",
      "\n",
      " testing duration: 0.0914468765258789 \n",
      "\n"
     ]
    },
    {
     "data": {
      "image/png": "[encoded data removed]",
      "text/plain": [
       "<Figure size 640x480 with 2 Axes>"
      ]
     },
     "metadata": {},
     "output_type": "display_data"
    }
   ],
   "source": [
    "En_pd1 = En_Offen_span_1tiim.time()\n",
    "\n",
    "En_Offen_span_pct= En_Offen_span_MdE.predict(En_Offen_span_1xe)\n",
    "\n",
    "print(En_Offen_span_1cffr(En_Offen_span_1ye, En_Offen_span_pct))\n",
    "\n",
    "En_tk = En_Offen_span_1cfmt(En_Offen_span_1ye,En_Offen_span_pct)\n",
    "En_rd = En_Offen_span_1cmxd(confusion_matrix = En_tk, display_labels = [0,1])\n",
    "En_rd.plot()\n",
    "\n",
    "En_pd2= En_Offen_span_1tiim.time()\n",
    "print(\"\\n testing duration:\", En_pd2-En_pd1,\"\\n\")"
   ]
  },
  {
   "cell_type": "code",
   "execution_count": 37,
   "metadata": {
    "colab": {
     "base_uri": "https://localhost:8080/",
     "height": 489
    },
    "executionInfo": {
     "elapsed": 11,
     "status": "ok",
     "timestamp": 1708675519119,
     "user": {
      "displayName": "jadaprojects09",
      "userId": "16719958102440739805"
     },
     "user_tz": -330
    },
    "id": "RFA7E9ecp2-h",
    "outputId": "0cad5d92-33ef-47a9-a3d1-27155bd43a9a"
   },
   "outputs": [
    {
     "data": {
      "image/png": "[encoded data removed]",
      "text/plain": [
       "<Figure size 640x480 with 1 Axes>"
      ]
     },
     "metadata": {},
     "output_type": "display_data"
    },
    {
     "name": "stdout",
     "output_type": "stream",
     "text": [
      "auc- curve: 0.6156846919558785\n"
     ]
    }
   ],
   "source": [
    "En_Offen_span_Fals, En_Offen_span_tre, En_Offen_span_ths = En_Offen_span_rc(En_Offen_span_1ye, En_Offen_span_pct)\n",
    "En_Offen_span_mt.plot(En_Offen_span_Fals, En_Offen_span_tre)\n",
    "En_Offen_span_mt.ylabel('rate-Fals')\n",
    "En_Offen_span_mt.xlabel('rate-Tru')\n",
    "En_Offen_span_mt.title('roc curve')\n",
    "En_Offen_span_mt.show()\n",
    "print('auc- curve:', En_Offen_span_ac(En_Offen_span_1ye, En_Offen_span_pct))"
   ]
  }
 ],
 "metadata": {
  "colab": {
   "provenance": []
  },
  "kernelspec": {
   "display_name": "Python 3 (ipykernel)",
   "language": "python",
   "name": "python3"
  },
  "language_info": {
   "codemirror_mode": {
    "name": "ipython",
    "version": 3
   },
   "file_extension": ".py",
   "mimetype": "text/x-python",
   "name": "python",
   "nbconvert_exporter": "python",
   "pygments_lexer": "ipython3",
   "version": "3.11.3"
  }
 },
 "nbformat": 4,
 "nbformat_minor": 1
}
