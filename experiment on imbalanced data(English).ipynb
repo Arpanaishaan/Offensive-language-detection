{
 "cells": [
  {
   "cell_type": "code",
   "execution_count": 1,
   "id": "9b7ce902",
   "metadata": {},
   "outputs": [
    {
     "name": "stderr",
     "output_type": "stream",
     "text": [
      "[nltk_data] Downloading package stopwords to\n",
      "[nltk_data]     C:\\Users\\Arpana\\AppData\\Roaming\\nltk_data...\n",
      "[nltk_data]   Package stopwords is already up-to-date!\n"
     ]
    }
   ],
   "source": [
    "import warnings as En_Offen_span__w\n",
    "En_Offen_span__w.filterwarnings(\"ignore\")\n",
    "import pandas as En_Offen_span__N\n",
    "import nltk as En_Offen_span__Tk\n",
    "En_Offen_span__Tk.download('stopwords')\n",
    "import regex as En_Offen_span__XR\n",
    "from nltk.corpus import stopwords as En_Offen_span__DS\n",
    "from nltk.stem.porter import PorterStemmer as En_Offen_span__RP\n",
    "from sklearn import preprocessing as En_Offen_span__ss"
   ]
  },
  {
   "cell_type": "code",
   "execution_count": 2,
   "id": "e6e852be",
   "metadata": {},
   "outputs": [
    {
     "data": {
      "text/html": [
       "<div>\n",
       "<style scoped>\n",
       "    .dataframe tbody tr th:only-of-type {\n",
       "        vertical-align: middle;\n",
       "    }\n",
       "\n",
       "    .dataframe tbody tr th {\n",
       "        vertical-align: top;\n",
       "    }\n",
       "\n",
       "    .dataframe thead th {\n",
       "        text-align: right;\n",
       "    }\n",
       "</style>\n",
       "<table border=\"1\" class=\"dataframe\">\n",
       "  <thead>\n",
       "    <tr style=\"text-align: right;\">\n",
       "      <th></th>\n",
       "      <th>tweet</th>\n",
       "      <th>hate/offensive</th>\n",
       "    </tr>\n",
       "  </thead>\n",
       "  <tbody>\n",
       "    <tr>\n",
       "      <th>0</th>\n",
       "      <td>rt mayasolov woman complain clean hous amp man...</td>\n",
       "      <td>0</td>\n",
       "    </tr>\n",
       "    <tr>\n",
       "      <th>1</th>\n",
       "      <td>rt mleew boy dat cold tyga dwn bad cuffin dat ...</td>\n",
       "      <td>1</td>\n",
       "    </tr>\n",
       "    <tr>\n",
       "      <th>2</th>\n",
       "      <td>rt urkindofbrand dawg rt sbabi life ever fuck ...</td>\n",
       "      <td>1</td>\n",
       "    </tr>\n",
       "    <tr>\n",
       "      <th>3</th>\n",
       "      <td>rt c g anderson viva base look like tranni</td>\n",
       "      <td>1</td>\n",
       "    </tr>\n",
       "    <tr>\n",
       "      <th>4</th>\n",
       "      <td>rt shenikarobert shit hear might true might fa...</td>\n",
       "      <td>1</td>\n",
       "    </tr>\n",
       "    <tr>\n",
       "      <th>...</th>\n",
       "      <td>...</td>\n",
       "      <td>...</td>\n",
       "    </tr>\n",
       "    <tr>\n",
       "      <th>24778</th>\n",
       "      <td>muthaf lie lifeask pearl corey emanuel right t...</td>\n",
       "      <td>1</td>\n",
       "    </tr>\n",
       "    <tr>\n",
       "      <th>24779</th>\n",
       "      <td>gone broke wrong heart babi drove redneck crazi</td>\n",
       "      <td>0</td>\n",
       "    </tr>\n",
       "    <tr>\n",
       "      <th>24780</th>\n",
       "      <td>young buck wanna eat dat nigguh like aint fuck...</td>\n",
       "      <td>1</td>\n",
       "    </tr>\n",
       "    <tr>\n",
       "      <th>24781</th>\n",
       "      <td>youu got wild bitch tellin lie</td>\n",
       "      <td>1</td>\n",
       "    </tr>\n",
       "    <tr>\n",
       "      <th>24782</th>\n",
       "      <td>ruffl ntac eileen dahlia beauti color combin p...</td>\n",
       "      <td>0</td>\n",
       "    </tr>\n",
       "  </tbody>\n",
       "</table>\n",
       "<p>24783 rows × 2 columns</p>\n",
       "</div>"
      ],
      "text/plain": [
       "                                                   tweet  hate/offensive\n",
       "0      rt mayasolov woman complain clean hous amp man...               0\n",
       "1      rt mleew boy dat cold tyga dwn bad cuffin dat ...               1\n",
       "2      rt urkindofbrand dawg rt sbabi life ever fuck ...               1\n",
       "3             rt c g anderson viva base look like tranni               1\n",
       "4      rt shenikarobert shit hear might true might fa...               1\n",
       "...                                                  ...             ...\n",
       "24778  muthaf lie lifeask pearl corey emanuel right t...               1\n",
       "24779    gone broke wrong heart babi drove redneck crazi               0\n",
       "24780  young buck wanna eat dat nigguh like aint fuck...               1\n",
       "24781                     youu got wild bitch tellin lie               1\n",
       "24782  ruffl ntac eileen dahlia beauti color combin p...               0\n",
       "\n",
       "[24783 rows x 2 columns]"
      ]
     },
     "execution_count": 2,
     "metadata": {},
     "output_type": "execute_result"
    }
   ],
   "source": [
    "####### English offensive language\n",
    "En_Offen_span_1 = En_Offen_span__N.read_csv('English_final.csv')\n",
    "En_Offen_span_1"
   ]
  },
  {
   "cell_type": "code",
   "execution_count": 3,
   "id": "bb04d748",
   "metadata": {},
   "outputs": [
    {
     "data": {
      "text/plain": [
       "1    20620\n",
       "0     4163\n",
       "Name: hate/offensive, dtype: int64"
      ]
     },
     "execution_count": 3,
     "metadata": {},
     "output_type": "execute_result"
    }
   ],
   "source": [
    "En_Offen_span_1['hate/offensive'].value_counts()"
   ]
  },
  {
   "cell_type": "code",
   "execution_count": 4,
   "id": "c2256573",
   "metadata": {},
   "outputs": [],
   "source": [
    "from sklearn.feature_extraction.text import TfidfVectorizer as En_Offen_span_1tf\n",
    "\n",
    "En_Offen_span_1zer = En_Offen_span_1tf(analyzer='word', ngram_range= (1,1))\n",
    "En_Offen_span_1x = En_Offen_span_1zer.fit_transform(En_Offen_span_1['tweet'].values.astype('U')).toarray()"
   ]
  },
  {
   "cell_type": "code",
   "execution_count": 5,
   "id": "3fbc9981",
   "metadata": {},
   "outputs": [
    {
     "data": {
      "text/plain": [
       "(24783, 30396)"
      ]
     },
     "execution_count": 5,
     "metadata": {},
     "output_type": "execute_result"
    }
   ],
   "source": [
    "En_Offen_span_1x.shape"
   ]
  },
  {
   "cell_type": "code",
   "execution_count": 6,
   "id": "a50ed7ee",
   "metadata": {},
   "outputs": [],
   "source": [
    "En_Offen_span_1y = En_Offen_span_1['hate/offensive']"
   ]
  },
  {
   "cell_type": "code",
   "execution_count": 7,
   "id": "af917c94",
   "metadata": {},
   "outputs": [
    {
     "data": {
      "text/plain": [
       "(24783,)"
      ]
     },
     "execution_count": 7,
     "metadata": {},
     "output_type": "execute_result"
    }
   ],
   "source": [
    "En_Offen_span_1y.shape"
   ]
  },
  {
   "cell_type": "code",
   "execution_count": 8,
   "id": "28d0d077",
   "metadata": {},
   "outputs": [
    {
     "name": "stdout",
     "output_type": "stream",
     "text": [
      "(14869, 30396)\n",
      "(4957, 30396)\n",
      "(4957, 30396)\n"
     ]
    }
   ],
   "source": [
    "from sklearn.model_selection import train_test_split as En_Offen_span_1trs\n",
    "\n",
    "En_tssi =0.4\n",
    "En_rast = 40\n",
    "En_tssi1 =0.5\n",
    "\n",
    "En_Offen_span_1xr, En_Offen_span_1xe, En_Offen_span_1yr, En_Offen_span_1ye = En_Offen_span_1trs(En_Offen_span_1x, En_Offen_span_1y, test_size=En_tssi, random_state= En_rast)\n",
    "En_Offen_span_1xd, En_Offen_span_1xe, En_Offen_span_1yd, En_Offen_span_1ye = En_Offen_span_1trs(En_Offen_span_1xe, En_Offen_span_1ye, test_size= En_tssi1, random_state= En_rast)\n",
    "\n",
    "print(En_Offen_span_1xr.shape)\n",
    "print(En_Offen_span_1xd.shape)\n",
    "print(En_Offen_span_1xe.shape)"
   ]
  },
  {
   "cell_type": "code",
   "execution_count": 9,
   "id": "f13c1c1a",
   "metadata": {},
   "outputs": [],
   "source": [
    "from sklearn.metrics import classification_report as En_Offen_span_1cffr\n",
    "from sklearn.metrics import confusion_matrix as En_Offen_span_1cfmt\n",
    "from sklearn.metrics import ConfusionMatrixDisplay as En_Offen_span_1cmxd\n",
    "from sklearn.model_selection import GridSearchCV as En_Offen_span_1grdsh\n",
    "import time as En_Offen_span_1tiim"
   ]
  },
  {
   "cell_type": "code",
   "execution_count": 10,
   "id": "66248d93",
   "metadata": {},
   "outputs": [
    {
     "name": "stdout",
     "output_type": "stream",
     "text": [
      "Fitting 2 folds for each of 48 candidates, totalling 96 fits\n",
      "[CV 1/2; 1/48] START degree=2, gamma=auto, kernel=sigmoid.......................\n",
      "[CV 1/2; 1/48] END degree=2, gamma=auto, kernel=sigmoid;, score=0.848 total time=   2.9s\n",
      "[CV 2/2; 1/48] START degree=2, gamma=auto, kernel=sigmoid.......................\n",
      "[CV 2/2; 1/48] END degree=2, gamma=auto, kernel=sigmoid;, score=0.852 total time=   2.2s\n",
      "[CV 1/2; 2/48] START degree=2, gamma=auto, kernel=poly..........................\n",
      "[CV 1/2; 2/48] END degree=2, gamma=auto, kernel=poly;, score=0.848 total time=   1.6s\n",
      "[CV 2/2; 2/48] START degree=2, gamma=auto, kernel=poly..........................\n",
      "[CV 2/2; 2/48] END degree=2, gamma=auto, kernel=poly;, score=0.852 total time=   3.0s\n",
      "[CV 1/2; 3/48] START degree=2, gamma=auto, kernel=rbg...........................\n",
      "[CV 1/2; 3/48] END degree=2, gamma=auto, kernel=rbg;, score=nan total time=   0.0s\n",
      "[CV 2/2; 3/48] START degree=2, gamma=auto, kernel=rbg...........................\n",
      "[CV 2/2; 3/48] END degree=2, gamma=auto, kernel=rbg;, score=nan total time=   0.0s\n",
      "[CV 1/2; 4/48] START degree=2, gamma=auto, kernel=linear........................\n",
      "[CV 1/2; 4/48] END degree=2, gamma=auto, kernel=linear;, score=0.848 total time=   8.1s\n",
      "[CV 2/2; 4/48] START degree=2, gamma=auto, kernel=linear........................\n",
      "[CV 2/2; 4/48] END degree=2, gamma=auto, kernel=linear;, score=0.852 total time=   5.1s\n",
      "[CV 1/2; 5/48] START degree=2, gamma=scale, kernel=sigmoid......................\n",
      "[CV 1/2; 5/48] END degree=2, gamma=scale, kernel=sigmoid;, score=0.848 total time=   7.4s\n",
      "[CV 2/2; 5/48] START degree=2, gamma=scale, kernel=sigmoid......................\n",
      "[CV 2/2; 5/48] END degree=2, gamma=scale, kernel=sigmoid;, score=0.852 total time=   6.4s\n",
      "[CV 1/2; 6/48] START degree=2, gamma=scale, kernel=poly.........................\n",
      "[CV 1/2; 6/48] END degree=2, gamma=scale, kernel=poly;, score=0.848 total time=   7.7s\n",
      "[CV 2/2; 6/48] START degree=2, gamma=scale, kernel=poly.........................\n",
      "[CV 2/2; 6/48] END degree=2, gamma=scale, kernel=poly;, score=0.852 total time=   7.5s\n",
      "[CV 1/2; 7/48] START degree=2, gamma=scale, kernel=rbg..........................\n",
      "[CV 1/2; 7/48] END degree=2, gamma=scale, kernel=rbg;, score=nan total time=   0.0s\n",
      "[CV 2/2; 7/48] START degree=2, gamma=scale, kernel=rbg..........................\n",
      "[CV 2/2; 7/48] END degree=2, gamma=scale, kernel=rbg;, score=nan total time=   0.0s\n",
      "[CV 1/2; 8/48] START degree=2, gamma=scale, kernel=linear.......................\n",
      "[CV 1/2; 8/48] END degree=2, gamma=scale, kernel=linear;, score=0.848 total time=   6.6s\n",
      "[CV 2/2; 8/48] START degree=2, gamma=scale, kernel=linear.......................\n",
      "[CV 2/2; 8/48] END degree=2, gamma=scale, kernel=linear;, score=0.852 total time=   7.5s\n",
      "[CV 1/2; 9/48] START degree=3, gamma=auto, kernel=sigmoid.......................\n",
      "[CV 1/2; 9/48] END degree=3, gamma=auto, kernel=sigmoid;, score=0.848 total time=   1.6s\n",
      "[CV 2/2; 9/48] START degree=3, gamma=auto, kernel=sigmoid.......................\n",
      "[CV 2/2; 9/48] END degree=3, gamma=auto, kernel=sigmoid;, score=0.852 total time=   1.6s\n",
      "[CV 1/2; 10/48] START degree=3, gamma=auto, kernel=poly.........................\n",
      "[CV 1/2; 10/48] END degree=3, gamma=auto, kernel=poly;, score=0.848 total time=   2.5s\n",
      "[CV 2/2; 10/48] START degree=3, gamma=auto, kernel=poly.........................\n",
      "[CV 2/2; 10/48] END degree=3, gamma=auto, kernel=poly;, score=0.852 total time=   2.8s\n",
      "[CV 1/2; 11/48] START degree=3, gamma=auto, kernel=rbg..........................\n",
      "[CV 1/2; 11/48] END degree=3, gamma=auto, kernel=rbg;, score=nan total time=   0.0s\n",
      "[CV 2/2; 11/48] START degree=3, gamma=auto, kernel=rbg..........................\n",
      "[CV 2/2; 11/48] END degree=3, gamma=auto, kernel=rbg;, score=nan total time=   0.0s\n",
      "[CV 1/2; 12/48] START degree=3, gamma=auto, kernel=linear.......................\n",
      "[CV 1/2; 12/48] END degree=3, gamma=auto, kernel=linear;, score=0.848 total time=   7.1s\n",
      "[CV 2/2; 12/48] START degree=3, gamma=auto, kernel=linear.......................\n",
      "[CV 2/2; 12/48] END degree=3, gamma=auto, kernel=linear;, score=0.852 total time=   5.9s\n",
      "[CV 1/2; 13/48] START degree=3, gamma=scale, kernel=sigmoid.....................\n",
      "[CV 1/2; 13/48] END degree=3, gamma=scale, kernel=sigmoid;, score=0.848 total time=   7.9s\n",
      "[CV 2/2; 13/48] START degree=3, gamma=scale, kernel=sigmoid.....................\n",
      "[CV 2/2; 13/48] END degree=3, gamma=scale, kernel=sigmoid;, score=0.852 total time=   5.7s\n",
      "[CV 1/2; 14/48] START degree=3, gamma=scale, kernel=poly........................\n",
      "[CV 1/2; 14/48] END degree=3, gamma=scale, kernel=poly;, score=0.848 total time=   9.2s\n",
      "[CV 2/2; 14/48] START degree=3, gamma=scale, kernel=poly........................\n",
      "[CV 2/2; 14/48] END degree=3, gamma=scale, kernel=poly;, score=0.852 total time=   5.9s\n",
      "[CV 1/2; 15/48] START degree=3, gamma=scale, kernel=rbg.........................\n",
      "[CV 1/2; 15/48] END degree=3, gamma=scale, kernel=rbg;, score=nan total time=   0.0s\n",
      "[CV 2/2; 15/48] START degree=3, gamma=scale, kernel=rbg.........................\n",
      "[CV 2/2; 15/48] END degree=3, gamma=scale, kernel=rbg;, score=nan total time=   0.0s\n",
      "[CV 1/2; 16/48] START degree=3, gamma=scale, kernel=linear......................\n",
      "[CV 1/2; 16/48] END degree=3, gamma=scale, kernel=linear;, score=0.848 total time=   7.8s\n",
      "[CV 2/2; 16/48] START degree=3, gamma=scale, kernel=linear......................\n",
      "[CV 2/2; 16/48] END degree=3, gamma=scale, kernel=linear;, score=0.852 total time=   6.3s\n",
      "[CV 1/2; 17/48] START degree=4, gamma=auto, kernel=sigmoid......................\n",
      "[CV 1/2; 17/48] END degree=4, gamma=auto, kernel=sigmoid;, score=0.848 total time=   1.6s\n",
      "[CV 2/2; 17/48] START degree=4, gamma=auto, kernel=sigmoid......................\n",
      "[CV 2/2; 17/48] END degree=4, gamma=auto, kernel=sigmoid;, score=0.852 total time=   2.4s\n",
      "[CV 1/2; 18/48] START degree=4, gamma=auto, kernel=poly.........................\n",
      "[CV 1/2; 18/48] END degree=4, gamma=auto, kernel=poly;, score=0.848 total time=   2.6s\n",
      "[CV 2/2; 18/48] START degree=4, gamma=auto, kernel=poly.........................\n",
      "[CV 2/2; 18/48] END degree=4, gamma=auto, kernel=poly;, score=0.852 total time=   3.0s\n",
      "[CV 1/2; 19/48] START degree=4, gamma=auto, kernel=rbg..........................\n",
      "[CV 1/2; 19/48] END degree=4, gamma=auto, kernel=rbg;, score=nan total time=   0.0s\n",
      "[CV 2/2; 19/48] START degree=4, gamma=auto, kernel=rbg..........................\n",
      "[CV 2/2; 19/48] END degree=4, gamma=auto, kernel=rbg;, score=nan total time=   0.0s\n",
      "[CV 1/2; 20/48] START degree=4, gamma=auto, kernel=linear.......................\n",
      "[CV 1/2; 20/48] END degree=4, gamma=auto, kernel=linear;, score=0.848 total time=   6.0s\n",
      "[CV 2/2; 20/48] START degree=4, gamma=auto, kernel=linear.......................\n",
      "[CV 2/2; 20/48] END degree=4, gamma=auto, kernel=linear;, score=0.852 total time=   7.3s\n",
      "[CV 1/2; 21/48] START degree=4, gamma=scale, kernel=sigmoid.....................\n",
      "[CV 1/2; 21/48] END degree=4, gamma=scale, kernel=sigmoid;, score=0.848 total time=   7.3s\n",
      "[CV 2/2; 21/48] START degree=4, gamma=scale, kernel=sigmoid.....................\n",
      "[CV 2/2; 21/48] END degree=4, gamma=scale, kernel=sigmoid;, score=0.852 total time=   6.5s\n",
      "[CV 1/2; 22/48] START degree=4, gamma=scale, kernel=poly........................\n",
      "[CV 1/2; 22/48] END degree=4, gamma=scale, kernel=poly;, score=0.848 total time=   8.1s\n",
      "[CV 2/2; 22/48] START degree=4, gamma=scale, kernel=poly........................\n",
      "[CV 2/2; 22/48] END degree=4, gamma=scale, kernel=poly;, score=0.852 total time=   6.8s\n",
      "[CV 1/2; 23/48] START degree=4, gamma=scale, kernel=rbg.........................\n",
      "[CV 1/2; 23/48] END degree=4, gamma=scale, kernel=rbg;, score=nan total time=   0.0s\n",
      "[CV 2/2; 23/48] START degree=4, gamma=scale, kernel=rbg.........................\n",
      "[CV 2/2; 23/48] END degree=4, gamma=scale, kernel=rbg;, score=nan total time=   0.0s\n",
      "[CV 1/2; 24/48] START degree=4, gamma=scale, kernel=linear......................\n",
      "[CV 1/2; 24/48] END degree=4, gamma=scale, kernel=linear;, score=0.848 total time=   7.9s\n",
      "[CV 2/2; 24/48] START degree=4, gamma=scale, kernel=linear......................\n",
      "[CV 2/2; 24/48] END degree=4, gamma=scale, kernel=linear;, score=0.852 total time=   6.2s\n",
      "[CV 1/2; 25/48] START degree=5, gamma=auto, kernel=sigmoid......................\n"
     ]
    },
    {
     "name": "stdout",
     "output_type": "stream",
     "text": [
      "[CV 1/2; 25/48] END degree=5, gamma=auto, kernel=sigmoid;, score=0.848 total time=   2.9s\n",
      "[CV 2/2; 25/48] START degree=5, gamma=auto, kernel=sigmoid......................\n",
      "[CV 2/2; 25/48] END degree=5, gamma=auto, kernel=sigmoid;, score=0.852 total time=   2.7s\n",
      "[CV 1/2; 26/48] START degree=5, gamma=auto, kernel=poly.........................\n",
      "[CV 1/2; 26/48] END degree=5, gamma=auto, kernel=poly;, score=0.848 total time=   2.6s\n",
      "[CV 2/2; 26/48] START degree=5, gamma=auto, kernel=poly.........................\n",
      "[CV 2/2; 26/48] END degree=5, gamma=auto, kernel=poly;, score=0.852 total time=   2.0s\n",
      "[CV 1/2; 27/48] START degree=5, gamma=auto, kernel=rbg..........................\n",
      "[CV 1/2; 27/48] END degree=5, gamma=auto, kernel=rbg;, score=nan total time=   0.0s\n",
      "[CV 2/2; 27/48] START degree=5, gamma=auto, kernel=rbg..........................\n",
      "[CV 2/2; 27/48] END degree=5, gamma=auto, kernel=rbg;, score=nan total time=   0.0s\n",
      "[CV 1/2; 28/48] START degree=5, gamma=auto, kernel=linear.......................\n",
      "[CV 1/2; 28/48] END degree=5, gamma=auto, kernel=linear;, score=0.848 total time=   6.5s\n",
      "[CV 2/2; 28/48] START degree=5, gamma=auto, kernel=linear.......................\n",
      "[CV 2/2; 28/48] END degree=5, gamma=auto, kernel=linear;, score=0.852 total time=   8.1s\n",
      "[CV 1/2; 29/48] START degree=5, gamma=scale, kernel=sigmoid.....................\n",
      "[CV 1/2; 29/48] END degree=5, gamma=scale, kernel=sigmoid;, score=0.848 total time=   4.8s\n",
      "[CV 2/2; 29/48] START degree=5, gamma=scale, kernel=sigmoid.....................\n",
      "[CV 2/2; 29/48] END degree=5, gamma=scale, kernel=sigmoid;, score=0.852 total time=   8.7s\n",
      "[CV 1/2; 30/48] START degree=5, gamma=scale, kernel=poly........................\n",
      "[CV 1/2; 30/48] END degree=5, gamma=scale, kernel=poly;, score=0.848 total time=   6.3s\n",
      "[CV 2/2; 30/48] START degree=5, gamma=scale, kernel=poly........................\n",
      "[CV 2/2; 30/48] END degree=5, gamma=scale, kernel=poly;, score=0.852 total time=   8.4s\n",
      "[CV 1/2; 31/48] START degree=5, gamma=scale, kernel=rbg.........................\n",
      "[CV 1/2; 31/48] END degree=5, gamma=scale, kernel=rbg;, score=nan total time=   0.0s\n",
      "[CV 2/2; 31/48] START degree=5, gamma=scale, kernel=rbg.........................\n",
      "[CV 2/2; 31/48] END degree=5, gamma=scale, kernel=rbg;, score=nan total time=   0.0s\n",
      "[CV 1/2; 32/48] START degree=5, gamma=scale, kernel=linear......................\n",
      "[CV 1/2; 32/48] END degree=5, gamma=scale, kernel=linear;, score=0.848 total time=   6.0s\n",
      "[CV 2/2; 32/48] START degree=5, gamma=scale, kernel=linear......................\n",
      "[CV 2/2; 32/48] END degree=5, gamma=scale, kernel=linear;, score=0.852 total time=   7.6s\n",
      "[CV 1/2; 33/48] START degree=6, gamma=auto, kernel=sigmoid......................\n",
      "[CV 1/2; 33/48] END degree=6, gamma=auto, kernel=sigmoid;, score=0.848 total time=   2.5s\n",
      "[CV 2/2; 33/48] START degree=6, gamma=auto, kernel=sigmoid......................\n",
      "[CV 2/2; 33/48] END degree=6, gamma=auto, kernel=sigmoid;, score=0.852 total time=   2.7s\n",
      "[CV 1/2; 34/48] START degree=6, gamma=auto, kernel=poly.........................\n",
      "[CV 1/2; 34/48] END degree=6, gamma=auto, kernel=poly;, score=0.848 total time=   1.7s\n",
      "[CV 2/2; 34/48] START degree=6, gamma=auto, kernel=poly.........................\n",
      "[CV 2/2; 34/48] END degree=6, gamma=auto, kernel=poly;, score=0.852 total time=   1.8s\n",
      "[CV 1/2; 35/48] START degree=6, gamma=auto, kernel=rbg..........................\n",
      "[CV 1/2; 35/48] END degree=6, gamma=auto, kernel=rbg;, score=nan total time=   0.0s\n",
      "[CV 2/2; 35/48] START degree=6, gamma=auto, kernel=rbg..........................\n",
      "[CV 2/2; 35/48] END degree=6, gamma=auto, kernel=rbg;, score=nan total time=   0.0s\n",
      "[CV 1/2; 36/48] START degree=6, gamma=auto, kernel=linear.......................\n",
      "[CV 1/2; 36/48] END degree=6, gamma=auto, kernel=linear;, score=0.848 total time=   8.4s\n",
      "[CV 2/2; 36/48] START degree=6, gamma=auto, kernel=linear.......................\n",
      "[CV 2/2; 36/48] END degree=6, gamma=auto, kernel=linear;, score=0.852 total time=   7.0s\n",
      "[CV 1/2; 37/48] START degree=6, gamma=scale, kernel=sigmoid.....................\n",
      "[CV 1/2; 37/48] END degree=6, gamma=scale, kernel=sigmoid;, score=0.848 total time=   7.6s\n",
      "[CV 2/2; 37/48] START degree=6, gamma=scale, kernel=sigmoid.....................\n",
      "[CV 2/2; 37/48] END degree=6, gamma=scale, kernel=sigmoid;, score=0.852 total time=   6.6s\n",
      "[CV 1/2; 38/48] START degree=6, gamma=scale, kernel=poly........................\n",
      "[CV 1/2; 38/48] END degree=6, gamma=scale, kernel=poly;, score=0.848 total time=   7.9s\n",
      "[CV 2/2; 38/48] START degree=6, gamma=scale, kernel=poly........................\n",
      "[CV 2/2; 38/48] END degree=6, gamma=scale, kernel=poly;, score=0.852 total time=   7.6s\n",
      "[CV 1/2; 39/48] START degree=6, gamma=scale, kernel=rbg.........................\n",
      "[CV 1/2; 39/48] END degree=6, gamma=scale, kernel=rbg;, score=nan total time=   0.0s\n",
      "[CV 2/2; 39/48] START degree=6, gamma=scale, kernel=rbg.........................\n",
      "[CV 2/2; 39/48] END degree=6, gamma=scale, kernel=rbg;, score=nan total time=   0.0s\n",
      "[CV 1/2; 40/48] START degree=6, gamma=scale, kernel=linear......................\n",
      "[CV 1/2; 40/48] END degree=6, gamma=scale, kernel=linear;, score=0.848 total time=   6.9s\n",
      "[CV 2/2; 40/48] START degree=6, gamma=scale, kernel=linear......................\n",
      "[CV 2/2; 40/48] END degree=6, gamma=scale, kernel=linear;, score=0.852 total time=   7.4s\n",
      "[CV 1/2; 41/48] START degree=7, gamma=auto, kernel=sigmoid......................\n",
      "[CV 1/2; 41/48] END degree=7, gamma=auto, kernel=sigmoid;, score=0.848 total time=   1.6s\n",
      "[CV 2/2; 41/48] START degree=7, gamma=auto, kernel=sigmoid......................\n",
      "[CV 2/2; 41/48] END degree=7, gamma=auto, kernel=sigmoid;, score=0.852 total time=   1.7s\n",
      "[CV 1/2; 42/48] START degree=7, gamma=auto, kernel=poly.........................\n",
      "[CV 1/2; 42/48] END degree=7, gamma=auto, kernel=poly;, score=0.848 total time=   2.6s\n",
      "[CV 2/2; 42/48] START degree=7, gamma=auto, kernel=poly.........................\n",
      "[CV 2/2; 42/48] END degree=7, gamma=auto, kernel=poly;, score=0.852 total time=   2.6s\n",
      "[CV 1/2; 43/48] START degree=7, gamma=auto, kernel=rbg..........................\n",
      "[CV 1/2; 43/48] END degree=7, gamma=auto, kernel=rbg;, score=nan total time=   0.0s\n",
      "[CV 2/2; 43/48] START degree=7, gamma=auto, kernel=rbg..........................\n",
      "[CV 2/2; 43/48] END degree=7, gamma=auto, kernel=rbg;, score=nan total time=   0.0s\n",
      "[CV 1/2; 44/48] START degree=7, gamma=auto, kernel=linear.......................\n",
      "[CV 1/2; 44/48] END degree=7, gamma=auto, kernel=linear;, score=0.848 total time=   7.3s\n",
      "[CV 2/2; 44/48] START degree=7, gamma=auto, kernel=linear.......................\n",
      "[CV 2/2; 44/48] END degree=7, gamma=auto, kernel=linear;, score=0.852 total time=   5.5s\n",
      "[CV 1/2; 45/48] START degree=7, gamma=scale, kernel=sigmoid.....................\n",
      "[CV 1/2; 45/48] END degree=7, gamma=scale, kernel=sigmoid;, score=0.848 total time=   8.7s\n",
      "[CV 2/2; 45/48] START degree=7, gamma=scale, kernel=sigmoid.....................\n",
      "[CV 2/2; 45/48] END degree=7, gamma=scale, kernel=sigmoid;, score=0.852 total time=   5.4s\n",
      "[CV 1/2; 46/48] START degree=7, gamma=scale, kernel=poly........................\n",
      "[CV 1/2; 46/48] END degree=7, gamma=scale, kernel=poly;, score=0.848 total time=   9.1s\n",
      "[CV 2/2; 46/48] START degree=7, gamma=scale, kernel=poly........................\n",
      "[CV 2/2; 46/48] END degree=7, gamma=scale, kernel=poly;, score=0.852 total time=   7.1s\n",
      "[CV 1/2; 47/48] START degree=7, gamma=scale, kernel=rbg.........................\n",
      "[CV 1/2; 47/48] END degree=7, gamma=scale, kernel=rbg;, score=nan total time=   0.0s\n",
      "[CV 2/2; 47/48] START degree=7, gamma=scale, kernel=rbg.........................\n",
      "[CV 2/2; 47/48] END degree=7, gamma=scale, kernel=rbg;, score=nan total time=   0.0s\n",
      "[CV 1/2; 48/48] START degree=7, gamma=scale, kernel=linear......................\n",
      "[CV 1/2; 48/48] END degree=7, gamma=scale, kernel=linear;, score=0.848 total time=   8.1s\n",
      "[CV 2/2; 48/48] START degree=7, gamma=scale, kernel=linear......................\n",
      "[CV 2/2; 48/48] END degree=7, gamma=scale, kernel=linear;, score=0.852 total time=   6.7s\n",
      "{'degree': 2, 'gamma': 'auto', 'kernel': 'sigmoid'}\n",
      "score-En_Offen_span_1:  0.85\n"
     ]
    }
   ],
   "source": [
    "from sklearn.svm import SVC as En_Offen_span_1spv\n",
    "\n",
    "En_Hypm = { 'kernel': ['sigmoid','poly','rbg','linear'],\n",
    "               'gamma': ['auto','scale'],\n",
    "               'degree':[2,3,4,5,6,7]}\n",
    "\n",
    "\n",
    "En_Hypm_vsb = En_Offen_span_1spv(random_state= En_rast)\n",
    "En_Hypm_vsb = En_Offen_span_1grdsh(En_Hypm_vsb, En_Hypm,\n",
    "                          cv=2, verbose=10)\n",
    "En_Hypm_vsb.fit(En_Offen_span_1xr[:500], En_Offen_span_1yr[:500])\n",
    "\n",
    "print(En_Hypm_vsb.best_params_)\n",
    "print(\"score-En_Offen_span_1: \", En_Hypm_vsb.best_score_)"
   ]
  },
  {
   "cell_type": "code",
   "execution_count": 11,
   "id": "dc22eb9b",
   "metadata": {},
   "outputs": [
    {
     "name": "stdout",
     "output_type": "stream",
     "text": [
      "\n",
      " training duration: 24.65631413459778 \n",
      "\n",
      "              precision    recall  f1-score   support\n",
      "\n",
      "           0       0.00      0.00      0.00       836\n",
      "           1       0.83      1.00      0.91      4121\n",
      "\n",
      "    accuracy                           0.83      4957\n",
      "   macro avg       0.42      0.50      0.45      4957\n",
      "weighted avg       0.69      0.83      0.75      4957\n",
      "\n",
      "\n",
      " validation duration: 107.73232245445251 \n",
      "\n"
     ]
    },
    {
     "data": {
      "image/png": "[encoded data removed]",
      "text/plain": [
       "<Figure size 640x480 with 2 Axes>"
      ]
     },
     "metadata": {},
     "output_type": "display_data"
    }
   ],
   "source": [
    "En_pd1 = En_Offen_span_1tiim.time()\n",
    "\n",
    "En_Offen_span_MdB= En_Offen_span_1spv(**En_Hypm_vsb.best_params_)\n",
    "En_Offen_span_MdB.fit(En_Offen_span_1xr[:1000], En_Offen_span_1yr[:1000])\n",
    "\n",
    "En_pd2 = En_Offen_span_1tiim.time()\n",
    "print(\"\\n training duration:\", En_pd2-En_pd1,\"\\n\")\n",
    "\n",
    "\n",
    "En_pd1 = En_Offen_span_1tiim.time()\n",
    "\n",
    "En_Offen_span_pct= En_Offen_span_MdB.predict(En_Offen_span_1xd)\n",
    "\n",
    "print(En_Offen_span_1cffr(En_Offen_span_1yd, En_Offen_span_pct))\n",
    "\n",
    "En_tk = En_Offen_span_1cfmt(En_Offen_span_1yd,En_Offen_span_pct)\n",
    "En_rd = En_Offen_span_1cmxd(confusion_matrix = En_tk, display_labels = [0,1])\n",
    "En_rd.plot()\n",
    "\n",
    "En_pd2= En_Offen_span_1tiim.time()\n",
    "print(\"\\n validation duration:\", En_pd2-En_pd1,\"\\n\")"
   ]
  },
  {
   "cell_type": "code",
   "execution_count": 13,
   "id": "e3d4b42d",
   "metadata": {},
   "outputs": [
    {
     "data": {
      "image/png": "[encoded data removed]",
      "text/plain": [
       "<Figure size 640x480 with 1 Axes>"
      ]
     },
     "metadata": {},
     "output_type": "display_data"
    },
    {
     "name": "stdout",
     "output_type": "stream",
     "text": [
      "auc- curve: 0.5\n"
     ]
    }
   ],
   "source": [
    "from sklearn.metrics import roc_curve as En_Offen_span_rc\n",
    "from sklearn.metrics import roc_auc_score as En_Offen_span_ac\n",
    "import matplotlib.pyplot as En_Offen_span_mt\n",
    "\n",
    "En_Offen_span_Fals, En_Offen_span_tre, En_Offen_span_ths = En_Offen_span_rc(En_Offen_span_1yd, En_Offen_span_pct)\n",
    "En_Offen_span_mt.plot(En_Offen_span_Fals, En_Offen_span_tre)\n",
    "En_Offen_span_mt.ylabel('rate-Fals')\n",
    "En_Offen_span_mt.xlabel('rate-Tru')\n",
    "En_Offen_span_mt.title('roc curve')\n",
    "En_Offen_span_mt.show()\n",
    "print('auc- curve:', En_Offen_span_ac(En_Offen_span_1yd, En_Offen_span_pct))"
   ]
  },
  {
   "cell_type": "code",
   "execution_count": 14,
   "id": "786973a5",
   "metadata": {},
   "outputs": [
    {
     "name": "stdout",
     "output_type": "stream",
     "text": [
      "              precision    recall  f1-score   support\n",
      "\n",
      "           0       0.00      0.00      0.00       859\n",
      "           1       0.83      1.00      0.91      4098\n",
      "\n",
      "    accuracy                           0.83      4957\n",
      "   macro avg       0.41      0.50      0.45      4957\n",
      "weighted avg       0.68      0.83      0.75      4957\n",
      "\n",
      "\n",
      " testing duration: 107.75154948234558 \n",
      "\n"
     ]
    },
    {
     "data": {
      "image/png": "[encoded data removed]",
      "text/plain": [
       "<Figure size 640x480 with 2 Axes>"
      ]
     },
     "metadata": {},
     "output_type": "display_data"
    }
   ],
   "source": [
    "En_pd1 = En_Offen_span_1tiim.time()\n",
    "\n",
    "En_Offen_span_pct= En_Offen_span_MdB.predict(En_Offen_span_1xe)\n",
    "\n",
    "print(En_Offen_span_1cffr(En_Offen_span_1ye, En_Offen_span_pct))\n",
    "\n",
    "En_tk = En_Offen_span_1cfmt(En_Offen_span_1ye,En_Offen_span_pct)\n",
    "En_rd = En_Offen_span_1cmxd(confusion_matrix = En_tk, display_labels = [0,1])\n",
    "En_rd.plot()\n",
    "\n",
    "En_pd2= En_Offen_span_1tiim.time()\n",
    "print(\"\\n testing duration:\", En_pd2-En_pd1,\"\\n\")"
   ]
  },
  {
   "cell_type": "code",
   "execution_count": 15,
   "id": "5f54b4cc",
   "metadata": {},
   "outputs": [
    {
     "data": {
      "image/png": "[encoded data removed]",
      "text/plain": [
       "<Figure size 640x480 with 1 Axes>"
      ]
     },
     "metadata": {},
     "output_type": "display_data"
    },
    {
     "name": "stdout",
     "output_type": "stream",
     "text": [
      "auc- curve: 0.5\n"
     ]
    }
   ],
   "source": [
    "En_Offen_span_Fals, En_Offen_span_tre, En_Offen_span_ths = En_Offen_span_rc(En_Offen_span_1ye, En_Offen_span_pct)\n",
    "En_Offen_span_mt.plot(En_Offen_span_Fals, En_Offen_span_tre)\n",
    "En_Offen_span_mt.ylabel('rate-Fals')\n",
    "En_Offen_span_mt.xlabel('rate-Tru')\n",
    "En_Offen_span_mt.title('roc curve')\n",
    "En_Offen_span_mt.show()\n",
    "print('auc- curve:', En_Offen_span_ac(En_Offen_span_1ye, En_Offen_span_pct))"
   ]
  },
  {
   "cell_type": "code",
   "execution_count": null,
   "id": "a97bfa9d",
   "metadata": {},
   "outputs": [],
   "source": []
  }
 ],
 "metadata": {
  "kernelspec": {
   "display_name": "Python 3 (ipykernel)",
   "language": "python",
   "name": "python3"
  },
  "language_info": {
   "codemirror_mode": {
    "name": "ipython",
    "version": 3
   },
   "file_extension": ".py",
   "mimetype": "text/x-python",
   "name": "python",
   "nbconvert_exporter": "python",
   "pygments_lexer": "ipython3",
   "version": "3.11.3"
  }
 },
 "nbformat": 4,
 "nbformat_minor": 5
}
