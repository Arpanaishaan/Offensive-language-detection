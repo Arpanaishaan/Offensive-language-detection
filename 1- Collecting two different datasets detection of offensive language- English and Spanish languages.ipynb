{
 "cells": [
  {
   "cell_type": "code",
   "execution_count": 1,
   "metadata": {
    "colab": {
     "base_uri": "https://localhost:8080/"
    },
    "executionInfo": {
     "elapsed": 1564,
     "status": "ok",
     "timestamp": 1708599627095,
     "user": {
      "displayName": "Arpana",
      "userId": "16719958102440739805"
     },
     "user_tz": -330
    },
    "id": "ICifxItmz5L_",
    "outputId": "a1aec25c-d53c-406c-989a-c35277db6282"
   },
   "outputs": [
    {
     "name": "stderr",
     "output_type": "stream",
     "text": [
      "[nltk_data] Downloading package stopwords to\n",
      "[nltk_data]     C:\\Users\\Arpana\\AppData\\Roaming\\nltk_data...\n",
      "[nltk_data]   Unzipping corpora\\stopwords.zip.\n"
     ]
    }
   ],
   "source": [
    "import warnings as En_Offen_span__w\n",
    "En_Offen_span__w.filterwarnings(\"ignore\")\n",
    "import pandas as En_Offen_span__N\n",
    "import nltk as En_Offen_span__Tk\n",
    "En_Offen_span__Tk.download('stopwords')\n",
    "import regex as En_Offen_span__XR\n",
    "from nltk.corpus import stopwords as En_Offen_span__DS\n",
    "from nltk.stem.porter import PorterStemmer as En_Offen_span__RP\n",
    "from sklearn import preprocessing as En_Offen_span__ss"
   ]
  },
  {
   "cell_type": "markdown",
   "metadata": {
    "id": "S5o2OoaR1C5K"
   },
   "source": [
    "Reading English data"
   ]
  },
  {
   "cell_type": "code",
   "execution_count": 2,
   "metadata": {
    "colab": {
     "base_uri": "https://localhost:8080/",
     "height": 423
    },
    "executionInfo": {
     "elapsed": 74,
     "status": "ok",
     "timestamp": 1708599627096,
     "user": {
      "displayName": "Arpana",
      "userId": "16719958102440739805"
     },
     "user_tz": -330
    },
    "id": "kODHrPcZ0N4l",
    "outputId": "2cead38e-47f2-48be-bd3c-b754e24a7c3e"
   },
   "outputs": [
    {
     "data": {
      "text/html": [
       "<div>\n",
       "<style scoped>\n",
       "    .dataframe tbody tr th:only-of-type {\n",
       "        vertical-align: middle;\n",
       "    }\n",
       "\n",
       "    .dataframe tbody tr th {\n",
       "        vertical-align: top;\n",
       "    }\n",
       "\n",
       "    .dataframe thead th {\n",
       "        text-align: right;\n",
       "    }\n",
       "</style>\n",
       "<table border=\"1\" class=\"dataframe\">\n",
       "  <thead>\n",
       "    <tr style=\"text-align: right;\">\n",
       "      <th></th>\n",
       "      <th>Unnamed: 0</th>\n",
       "      <th>count</th>\n",
       "      <th>hate_speech</th>\n",
       "      <th>offensive_language</th>\n",
       "      <th>neither</th>\n",
       "      <th>class</th>\n",
       "      <th>tweet</th>\n",
       "    </tr>\n",
       "  </thead>\n",
       "  <tbody>\n",
       "    <tr>\n",
       "      <th>0</th>\n",
       "      <td>0</td>\n",
       "      <td>3</td>\n",
       "      <td>0</td>\n",
       "      <td>0</td>\n",
       "      <td>3</td>\n",
       "      <td>2</td>\n",
       "      <td>!!! RT @mayasolovely: As a woman you shouldn't...</td>\n",
       "    </tr>\n",
       "    <tr>\n",
       "      <th>1</th>\n",
       "      <td>1</td>\n",
       "      <td>3</td>\n",
       "      <td>0</td>\n",
       "      <td>3</td>\n",
       "      <td>0</td>\n",
       "      <td>1</td>\n",
       "      <td>!!!!! RT @mleew17: boy dats cold...tyga dwn ba...</td>\n",
       "    </tr>\n",
       "    <tr>\n",
       "      <th>2</th>\n",
       "      <td>2</td>\n",
       "      <td>3</td>\n",
       "      <td>0</td>\n",
       "      <td>3</td>\n",
       "      <td>0</td>\n",
       "      <td>1</td>\n",
       "      <td>!!!!!!! RT @UrKindOfBrand Dawg!!!! RT @80sbaby...</td>\n",
       "    </tr>\n",
       "    <tr>\n",
       "      <th>3</th>\n",
       "      <td>3</td>\n",
       "      <td>3</td>\n",
       "      <td>0</td>\n",
       "      <td>2</td>\n",
       "      <td>1</td>\n",
       "      <td>1</td>\n",
       "      <td>!!!!!!!!! RT @C_G_Anderson: @viva_based she lo...</td>\n",
       "    </tr>\n",
       "    <tr>\n",
       "      <th>4</th>\n",
       "      <td>4</td>\n",
       "      <td>6</td>\n",
       "      <td>0</td>\n",
       "      <td>6</td>\n",
       "      <td>0</td>\n",
       "      <td>1</td>\n",
       "      <td>!!!!!!!!!!!!! RT @ShenikaRoberts: The shit you...</td>\n",
       "    </tr>\n",
       "    <tr>\n",
       "      <th>...</th>\n",
       "      <td>...</td>\n",
       "      <td>...</td>\n",
       "      <td>...</td>\n",
       "      <td>...</td>\n",
       "      <td>...</td>\n",
       "      <td>...</td>\n",
       "      <td>...</td>\n",
       "    </tr>\n",
       "    <tr>\n",
       "      <th>24778</th>\n",
       "      <td>25291</td>\n",
       "      <td>3</td>\n",
       "      <td>0</td>\n",
       "      <td>2</td>\n",
       "      <td>1</td>\n",
       "      <td>1</td>\n",
       "      <td>you's a muthaf***in lie &amp;#8220;@LifeAsKing: @2...</td>\n",
       "    </tr>\n",
       "    <tr>\n",
       "      <th>24779</th>\n",
       "      <td>25292</td>\n",
       "      <td>3</td>\n",
       "      <td>0</td>\n",
       "      <td>1</td>\n",
       "      <td>2</td>\n",
       "      <td>2</td>\n",
       "      <td>you've gone and broke the wrong heart baby, an...</td>\n",
       "    </tr>\n",
       "    <tr>\n",
       "      <th>24780</th>\n",
       "      <td>25294</td>\n",
       "      <td>3</td>\n",
       "      <td>0</td>\n",
       "      <td>3</td>\n",
       "      <td>0</td>\n",
       "      <td>1</td>\n",
       "      <td>young buck wanna eat!!.. dat nigguh like I ain...</td>\n",
       "    </tr>\n",
       "    <tr>\n",
       "      <th>24781</th>\n",
       "      <td>25295</td>\n",
       "      <td>6</td>\n",
       "      <td>0</td>\n",
       "      <td>6</td>\n",
       "      <td>0</td>\n",
       "      <td>1</td>\n",
       "      <td>youu got wild bitches tellin you lies</td>\n",
       "    </tr>\n",
       "    <tr>\n",
       "      <th>24782</th>\n",
       "      <td>25296</td>\n",
       "      <td>3</td>\n",
       "      <td>0</td>\n",
       "      <td>0</td>\n",
       "      <td>3</td>\n",
       "      <td>2</td>\n",
       "      <td>~~Ruffled | Ntac Eileen Dahlia - Beautiful col...</td>\n",
       "    </tr>\n",
       "  </tbody>\n",
       "</table>\n",
       "<p>24783 rows × 7 columns</p>\n",
       "</div>"
      ],
      "text/plain": [
       "       Unnamed: 0  count  hate_speech  offensive_language  neither  class  \\\n",
       "0               0      3            0                   0        3      2   \n",
       "1               1      3            0                   3        0      1   \n",
       "2               2      3            0                   3        0      1   \n",
       "3               3      3            0                   2        1      1   \n",
       "4               4      6            0                   6        0      1   \n",
       "...           ...    ...          ...                 ...      ...    ...   \n",
       "24778       25291      3            0                   2        1      1   \n",
       "24779       25292      3            0                   1        2      2   \n",
       "24780       25294      3            0                   3        0      1   \n",
       "24781       25295      6            0                   6        0      1   \n",
       "24782       25296      3            0                   0        3      2   \n",
       "\n",
       "                                                   tweet  \n",
       "0      !!! RT @mayasolovely: As a woman you shouldn't...  \n",
       "1      !!!!! RT @mleew17: boy dats cold...tyga dwn ba...  \n",
       "2      !!!!!!! RT @UrKindOfBrand Dawg!!!! RT @80sbaby...  \n",
       "3      !!!!!!!!! RT @C_G_Anderson: @viva_based she lo...  \n",
       "4      !!!!!!!!!!!!! RT @ShenikaRoberts: The shit you...  \n",
       "...                                                  ...  \n",
       "24778  you's a muthaf***in lie &#8220;@LifeAsKing: @2...  \n",
       "24779  you've gone and broke the wrong heart baby, an...  \n",
       "24780  young buck wanna eat!!.. dat nigguh like I ain...  \n",
       "24781              youu got wild bitches tellin you lies  \n",
       "24782  ~~Ruffled | Ntac Eileen Dahlia - Beautiful col...  \n",
       "\n",
       "[24783 rows x 7 columns]"
      ]
     },
     "execution_count": 2,
     "metadata": {},
     "output_type": "execute_result"
    }
   ],
   "source": [
    "####### English offensive language\n",
    "En_Offen_span_1 = En_Offen_span__N.read_csv('labeled_data.csv')\n",
    "En_Offen_span_1"
   ]
  },
  {
   "cell_type": "code",
   "execution_count": 3,
   "metadata": {
    "colab": {
     "base_uri": "https://localhost:8080/"
    },
    "executionInfo": {
     "elapsed": 71,
     "status": "ok",
     "timestamp": 1708599627097,
     "user": {
      "displayName": "Arpana",
      "userId": "16719958102440739805"
     },
     "user_tz": -330
    },
    "id": "elbhNILv0N8t",
    "outputId": "26d5424a-c372-4fd5-a992-0855e1937497"
   },
   "outputs": [
    {
     "data": {
      "text/plain": [
       "Unnamed: 0            24783\n",
       "count                     5\n",
       "hate_speech               8\n",
       "offensive_language       10\n",
       "neither                  10\n",
       "class                     3\n",
       "tweet                 24783\n",
       "dtype: int64"
      ]
     },
     "execution_count": 3,
     "metadata": {},
     "output_type": "execute_result"
    }
   ],
   "source": [
    "En_Offen_span_1.nunique()"
   ]
  },
  {
   "cell_type": "code",
   "execution_count": 4,
   "metadata": {
    "colab": {
     "base_uri": "https://localhost:8080/"
    },
    "executionInfo": {
     "elapsed": 67,
     "status": "ok",
     "timestamp": 1708599627098,
     "user": {
      "displayName": "Arpana",
      "userId": "16719958102440739805"
     },
     "user_tz": -330
    },
    "id": "FgKdqX9w0N-3",
    "outputId": "6d40c54a-71e3-43ca-fda7-72c349b3c8c8"
   },
   "outputs": [
    {
     "data": {
      "text/plain": [
       "1    19190\n",
       "2     4163\n",
       "0     1430\n",
       "Name: class, dtype: int64"
      ]
     },
     "execution_count": 4,
     "metadata": {},
     "output_type": "execute_result"
    }
   ],
   "source": [
    "En_Offen_span_1['class'].value_counts()"
   ]
  },
  {
   "cell_type": "markdown",
   "metadata": {
    "id": "qJCWGGcq20BG"
   },
   "source": [
    "class label for majority of CF users. 0 - hate speech 1 - offensive language 2 - neither"
   ]
  },
  {
   "cell_type": "code",
   "execution_count": 5,
   "metadata": {
    "colab": {
     "base_uri": "https://localhost:8080/",
     "height": 54
    },
    "executionInfo": {
     "elapsed": 63,
     "status": "ok",
     "timestamp": 1708599627099,
     "user": {
      "displayName": "Arpana",
      "userId": "16719958102440739805"
     },
     "user_tz": -330
    },
    "id": "QXcGYhQg0OBx",
    "outputId": "6ea21179-ab97-4b1a-eb45-23d42d33de95"
   },
   "outputs": [
    {
     "data": {
      "text/plain": [
       "'\"@Blackman38Tide: @WhaleLookyHere @HowdyDowdy11 queer\" gaywad'"
      ]
     },
     "metadata": {},
     "output_type": "display_data"
    },
    {
     "data": {
      "text/plain": [
       "'\"@CB_Baby24: @white_thunduh alsarabsss\" hes a beaner smh you can tell hes a mexican'"
      ]
     },
     "metadata": {},
     "output_type": "display_data"
    }
   ],
   "source": [
    "# (((((( hate speach connents))))))\n",
    "for tx in list(range(100)):\n",
    "  if En_Offen_span_1['class'][tx]==0:\n",
    "    display(En_Offen_span_1['tweet'][tx])"
   ]
  },
  {
   "cell_type": "code",
   "execution_count": 6,
   "metadata": {
    "colab": {
     "base_uri": "https://localhost:8080/",
     "height": 1000
    },
    "executionInfo": {
     "elapsed": 570,
     "status": "ok",
     "timestamp": 1708599627610,
     "user": {
      "displayName": "Arpana",
      "userId": "16719958102440739805"
     },
     "user_tz": -330
    },
    "id": "5QE3G8Pi0OE0",
    "outputId": "9151123f-3d43-4421-bf75-7bb903cc4f9b"
   },
   "outputs": [
    {
     "data": {
      "text/plain": [
       "'!!!!! RT @mleew17: boy dats cold...tyga dwn bad for cuffin dat hoe in the 1st place!!'"
      ]
     },
     "metadata": {},
     "output_type": "display_data"
    },
    {
     "data": {
      "text/plain": [
       "'!!!!!!! RT @UrKindOfBrand Dawg!!!! RT @80sbaby4life: You ever fuck a bitch and she start to cry? You be confused as shit'"
      ]
     },
     "metadata": {},
     "output_type": "display_data"
    },
    {
     "data": {
      "text/plain": [
       "'!!!!!!!!! RT @C_G_Anderson: @viva_based she look like a tranny'"
      ]
     },
     "metadata": {},
     "output_type": "display_data"
    },
    {
     "data": {
      "text/plain": [
       "'!!!!!!!!!!!!! RT @ShenikaRoberts: The shit you hear about me might be true or it might be faker than the bitch who told it to ya &#57361;'"
      ]
     },
     "metadata": {},
     "output_type": "display_data"
    },
    {
     "data": {
      "text/plain": [
       "'!!!!!!!!!!!!!!!!!!\"@T_Madison_x: The shit just blows me..claim you so faithful and down for somebody but still fucking with hoes! &#128514;&#128514;&#128514;\"'"
      ]
     },
     "metadata": {},
     "output_type": "display_data"
    },
    {
     "data": {
      "text/plain": [
       "'!!!!!!\"@__BrighterDays: I can not just sit up and HATE on another bitch .. I got too much shit going on!\"'"
      ]
     },
     "metadata": {},
     "output_type": "display_data"
    },
    {
     "data": {
      "text/plain": [
       "\"!!!!&#8220;@selfiequeenbri: cause I'm tired of you big bitches coming for us skinny girls!!&#8221;\""
      ]
     },
     "metadata": {},
     "output_type": "display_data"
    },
    {
     "data": {
      "text/plain": [
       "'\" &amp; you might not get ya bitch back &amp; thats that \"'"
      ]
     },
     "metadata": {},
     "output_type": "display_data"
    },
    {
     "data": {
      "text/plain": [
       "'\" @rhythmixx_ :hobbies include: fighting Mariam\"\\n\\nbitch'"
      ]
     },
     "metadata": {},
     "output_type": "display_data"
    },
    {
     "data": {
      "text/plain": [
       "'\" Keeks is a bitch she curves everyone \" lol I walked into a conversation like this. Smh'"
      ]
     },
     "metadata": {},
     "output_type": "display_data"
    },
    {
     "data": {
      "text/plain": [
       "'\" Murda Gang bitch its Gang Land \"'"
      ]
     },
     "metadata": {},
     "output_type": "display_data"
    },
    {
     "data": {
      "text/plain": [
       "'\" So hoes that smoke are losers ? \" yea ... go on IG'"
      ]
     },
     "metadata": {},
     "output_type": "display_data"
    },
    {
     "data": {
      "text/plain": [
       "'\" bad bitches is the only thing that i like \"'"
      ]
     },
     "metadata": {},
     "output_type": "display_data"
    },
    {
     "data": {
      "text/plain": [
       "'\" bitch get up off me \"'"
      ]
     },
     "metadata": {},
     "output_type": "display_data"
    },
    {
     "data": {
      "text/plain": [
       "'\" bitch nigga miss me with it \"'"
      ]
     },
     "metadata": {},
     "output_type": "display_data"
    },
    {
     "data": {
      "text/plain": [
       "'\" bitch plz whatever \"'"
      ]
     },
     "metadata": {},
     "output_type": "display_data"
    },
    {
     "data": {
      "text/plain": [
       "'\" bitch who do you love \"'"
      ]
     },
     "metadata": {},
     "output_type": "display_data"
    },
    {
     "data": {
      "text/plain": [
       "'\" bitches get cut off everyday B \"'"
      ]
     },
     "metadata": {},
     "output_type": "display_data"
    },
    {
     "data": {
      "text/plain": [
       "'\" black bottle &amp; a bad bitch \"'"
      ]
     },
     "metadata": {},
     "output_type": "display_data"
    },
    {
     "data": {
      "text/plain": [
       "'\" broke bitch cant tell me nothing \"'"
      ]
     },
     "metadata": {},
     "output_type": "display_data"
    },
    {
     "data": {
      "text/plain": [
       "'\" cancel that bitch like Nino \"'"
      ]
     },
     "metadata": {},
     "output_type": "display_data"
    },
    {
     "data": {
      "text/plain": [
       "'\" cant you see these hoes wont change \"'"
      ]
     },
     "metadata": {},
     "output_type": "display_data"
    },
    {
     "data": {
      "text/plain": [
       "'\" fuck no that bitch dont even suck dick \" &#128514;&#128514;&#128514; the Kermit videos bout to fuck IG up'"
      ]
     },
     "metadata": {},
     "output_type": "display_data"
    },
    {
     "data": {
      "text/plain": [
       "'\" got ya bitch tip toeing on my hardwood floors \" &#128514; http://t.co/cOU2WQ5L4q'"
      ]
     },
     "metadata": {},
     "output_type": "display_data"
    },
    {
     "data": {
      "text/plain": [
       "'\" her pussy lips like Heaven doors \" &#128524;'"
      ]
     },
     "metadata": {},
     "output_type": "display_data"
    },
    {
     "data": {
      "text/plain": [
       "'\" hoe what its hitting for \"'"
      ]
     },
     "metadata": {},
     "output_type": "display_data"
    },
    {
     "data": {
      "text/plain": [
       "'\" i met that pussy on Ocean Dr . i gave that pussy a pill \" &#128524;'"
      ]
     },
     "metadata": {},
     "output_type": "display_data"
    },
    {
     "data": {
      "text/plain": [
       "'\" i need a trippy bitch who fuck on Hennessy \"'"
      ]
     },
     "metadata": {},
     "output_type": "display_data"
    },
    {
     "data": {
      "text/plain": [
       "'\" i spend my money how i want bitch its my business \"'"
      ]
     },
     "metadata": {},
     "output_type": "display_data"
    },
    {
     "data": {
      "text/plain": [
       "'\" i txt my old bitch my new bitch pussy wetter \"'"
      ]
     },
     "metadata": {},
     "output_type": "display_data"
    },
    {
     "data": {
      "text/plain": [
       "'\" i\\'d say im back to the old me but my old bitches would get excited \" &#128524;'"
      ]
     },
     "metadata": {},
     "output_type": "display_data"
    },
    {
     "data": {
      "text/plain": [
       "'\" if you aint bout that Murder Game pussy nigga shut up \"'"
      ]
     },
     "metadata": {},
     "output_type": "display_data"
    },
    {
     "data": {
      "text/plain": [
       "'\" if you\\'re toes ain\\'t done you pussy stinks \"'"
      ]
     },
     "metadata": {},
     "output_type": "display_data"
    },
    {
     "data": {
      "text/plain": [
       "'\" im done with bitter bitches its a wrap for that . if you a angry bird theres a app for that \"'"
      ]
     },
     "metadata": {},
     "output_type": "display_data"
    },
    {
     "data": {
      "text/plain": [
       "'\" is that ya bitch \"'"
      ]
     },
     "metadata": {},
     "output_type": "display_data"
    },
    {
     "data": {
      "text/plain": [
       "'\" it aint nothing to cut a bitch off \"'"
      ]
     },
     "metadata": {},
     "output_type": "display_data"
    },
    {
     "data": {
      "text/plain": [
       "'\" jus meet son now he ya mane ass bitches \" #Shots'"
      ]
     },
     "metadata": {},
     "output_type": "display_data"
    },
    {
     "data": {
      "text/plain": [
       "'\" lames crying over hoes thats tears of a clown \"'"
      ]
     },
     "metadata": {},
     "output_type": "display_data"
    },
    {
     "data": {
      "text/plain": [
       "'\" like Snoop said in 94 we dont love these hoes \"'"
      ]
     },
     "metadata": {},
     "output_type": "display_data"
    },
    {
     "data": {
      "text/plain": [
       "'\" most hated but the hoes favorite \" #2MW #SevenOne # http://t.co/BMdSVMc3rC'"
      ]
     },
     "metadata": {},
     "output_type": "display_data"
    },
    {
     "data": {
      "text/plain": [
       "'\" nice girls bad, make me get naughty. Bad yello hoe, real nice body. Down south chick, like em real thick\" http://t.co/bzRDl3kF7U'"
      ]
     },
     "metadata": {},
     "output_type": "display_data"
    },
    {
     "data": {
      "text/plain": [
       "'\" pimps up pimps up hoes down \" Future voice'"
      ]
     },
     "metadata": {},
     "output_type": "display_data"
    },
    {
     "data": {
      "text/plain": [
       "'\" post a picture of that pussy get 200 likes \"'"
      ]
     },
     "metadata": {},
     "output_type": "display_data"
    },
    {
     "data": {
      "text/plain": [
       "'\" pussy is a powerful drug \" &#128517; #HappyHumpDay http://t.co/R8jsymiB5b'"
      ]
     },
     "metadata": {},
     "output_type": "display_data"
    },
    {
     "data": {
      "text/plain": [
       "'\" quick piece of pussy call it a drive by \"'"
      ]
     },
     "metadata": {},
     "output_type": "display_data"
    },
    {
     "data": {
      "text/plain": [
       "'\" running round here like some brand new pussy thats bout to get fucked \"'"
      ]
     },
     "metadata": {},
     "output_type": "display_data"
    },
    {
     "data": {
      "text/plain": [
       "'\" these bitches even worst they\\'ll send them guys for you \"'"
      ]
     },
     "metadata": {},
     "output_type": "display_data"
    },
    {
     "data": {
      "text/plain": [
       "'\" these hoes like niggas that spend money not talk bout it \"'"
      ]
     },
     "metadata": {},
     "output_type": "display_data"
    },
    {
     "data": {
      "text/plain": [
       "'\" we dont trust these niggas all these bitches \"'"
      ]
     },
     "metadata": {},
     "output_type": "display_data"
    },
    {
     "data": {
      "text/plain": [
       "'\" yall niggas b cuffing hoes cause yall aint never have bitches \"'"
      ]
     },
     "metadata": {},
     "output_type": "display_data"
    },
    {
     "data": {
      "text/plain": [
       "'\" you dodge a bullet \" &#128517; &#8220;@DaRealKha: \"All da bitches I cut off pregnant or bound to be ....thank God &#128591;\"&#8221;'"
      ]
     },
     "metadata": {},
     "output_type": "display_data"
    },
    {
     "data": {
      "text/plain": [
       "'\" young Pill Chamberlain these bitches love my music \"'"
      ]
     },
     "metadata": {},
     "output_type": "display_data"
    },
    {
     "data": {
      "text/plain": [
       "'\"&#128514;&#128514;&#128514;&#128514;&#128514;&#128514;&#128514;&#128514;&#128514;&#128514;&#128514;@VandalSavage_: Teanna Trump probably cleaner than most of these twitter hoes but.........\"'"
      ]
     },
     "metadata": {},
     "output_type": "display_data"
    },
    {
     "data": {
      "text/plain": [
       "'\"&#128514;&#128514;&#128514;&#128514;&#128514;&#128514;&#128514;&#128514;&#128514;&#128514;@DaHomieFuzz: Gay niggas couldn\\'t wait to act like bitches tonight\"'"
      ]
     },
     "metadata": {},
     "output_type": "display_data"
    },
    {
     "data": {
      "text/plain": [
       "'\"&#128514;&#128514;&#128514;@The_Paradox: And ima steal his cat n replace it with a pitbull &#128514;&#128514;&#128514;&#128514; RT @80sbaby4life: @The_Paradox He a bitch you should do it\"'"
      ]
     },
     "metadata": {},
     "output_type": "display_data"
    },
    {
     "data": {
      "text/plain": [
       "'\"&amp; he\\'s gone always be a hoe\"'"
      ]
     },
     "metadata": {},
     "output_type": "display_data"
    },
    {
     "data": {
      "text/plain": [
       "'\"...Son of a bitch took my Tic Tacs.\"\\n\\nI like this movie.'"
      ]
     },
     "metadata": {},
     "output_type": "display_data"
    },
    {
     "data": {
      "text/plain": [
       "'\"..All I wanna do is get money and fuck model bitches!\" - Russell Simmons'"
      ]
     },
     "metadata": {},
     "output_type": "display_data"
    },
    {
     "data": {
      "text/plain": [
       "'\"@2015seniorprobs: I probably wouldn&#8217;t mind school as much if we didn&#8217;t have to deal with bitch ass teachers\". Retweet'"
      ]
     },
     "metadata": {},
     "output_type": "display_data"
    },
    {
     "data": {
      "text/plain": [
       "'\"@A7XDemery: I\\'m a fucking fag they said\"'"
      ]
     },
     "metadata": {},
     "output_type": "display_data"
    },
    {
     "data": {
      "text/plain": [
       "'\"@ARIZZLEINDACUT: Females think dating a pussy is cute now? http://t.co/VxBJg26Gsz\" how does doing this stuff make him a pussy?'"
      ]
     },
     "metadata": {},
     "output_type": "display_data"
    },
    {
     "data": {
      "text/plain": [
       "'\"@AdoreBellaaa: Have ya ever asked your bitch for other bitches - kanye voice\" Yes'"
      ]
     },
     "metadata": {},
     "output_type": "display_data"
    },
    {
     "data": {
      "text/plain": [
       "'\"@AdoreZoey: How u gone bring ur side bitch to a game where You know Ya gf friends at ?! &#128553;&#128553;&#128553;&#128553;\" I SWEAR!!!!!'"
      ]
     },
     "metadata": {},
     "output_type": "display_data"
    },
    {
     "data": {
      "text/plain": [
       "'\"@Almightywayne__: @JetsAndASwisher @Gook____ bitch fuck u http://t.co/pXmGA68NC1\" maybe you\\'ll get better. Just http://t.co/TPreVwfq0S'"
      ]
     },
     "metadata": {},
     "output_type": "display_data"
    },
    {
     "data": {
      "text/plain": [
       "'\"@Almightywayne__: Fuck Red Malone man bitch ass niggah\" could you please use complete sentences?'"
      ]
     },
     "metadata": {},
     "output_type": "display_data"
    },
    {
     "data": {
      "text/plain": [
       "'\"@AutoWorId: Hennessey Venom GT &#128584; http://t.co/i8eGMnKaJ9\" that\\'s one sexy bitch'"
      ]
     },
     "metadata": {},
     "output_type": "display_data"
    },
    {
     "data": {
      "text/plain": [
       "'\"@BOSSBYTCHH: Him seh me pussy wetter then a shower curtain....#ahmesehwetness\"&lt;lmao!!'"
      ]
     },
     "metadata": {},
     "output_type": "display_data"
    },
    {
     "data": {
      "text/plain": [
       "'\"@BRO_HEN314: #Eaglesnation and every #Eagles need to see that pic I just posted because that bitch just said the most racist shit\"'"
      ]
     },
     "metadata": {},
     "output_type": "display_data"
    },
    {
     "data": {
      "text/plain": [
       "'\"@BVSEDCHINK: Yo fuck skateboarding, all y\\'all some wood pushing faggots man, ball is life http://t.co/VBCzP6HMT7\"\\n@AmJemieBenn'"
      ]
     },
     "metadata": {},
     "output_type": "display_data"
    },
    {
     "data": {
      "text/plain": [
       "'\"@BaylaaGottaBody: &#128514;&#128514;&#128514;&#128514; I ain\\'t shit .\" Damn Skippy lol'"
      ]
     },
     "metadata": {},
     "output_type": "display_data"
    },
    {
     "data": {
      "text/plain": [
       "'\"@BeEasyJrizzy: u ever kill a ant on the sidewalk and think damn what if that nigga was on his way to get some pussy\"No bs must b &gt;30%chance'"
      ]
     },
     "metadata": {},
     "output_type": "display_data"
    },
    {
     "data": {
      "text/plain": [
       "'\"@BeenBasedB: @_KudaBrazyy http://t.co/LuUBGL9Y5u\" 0 rings 0 mvps 0 bitches lol'"
      ]
     },
     "metadata": {},
     "output_type": "display_data"
    },
    {
     "data": {
      "text/plain": [
       "'\"@BeenFLYnSolo: ppl talk bad about the ghetto/hood ... but as a kid growing up, a nigga had funnnnnnn !\"'"
      ]
     },
     "metadata": {},
     "output_type": "display_data"
    },
    {
     "data": {
      "text/plain": [
       "'\"@BestProAdvice: The facts on tattoos...tattoo http://t.co/ZwnbhpDZ8e\" he\\'s a pussy with not tattooing them nipples'"
      ]
     },
     "metadata": {},
     "output_type": "display_data"
    },
    {
     "data": {
      "text/plain": [
       "'\"@Bill215_: &#128175;&#128175;&#128175; RT @nel_ayden Bitches be wanting to act like niggas so bad &#128553;&#128553;&#128553; that shit aint cuteeeee\" but niggas act like bitches..'"
      ]
     },
     "metadata": {},
     "output_type": "display_data"
    },
    {
     "data": {
      "text/plain": [
       "'\"@BitchJones92: Get worshiping bitch! http://t.co/R37CejCjou\" woof woof'"
      ]
     },
     "metadata": {},
     "output_type": "display_data"
    },
    {
     "data": {
      "text/plain": [
       "'\"@BlackChiquitita: Wow. RT @thatmanpalmer I\\'m lost. Are those buttcheek piercings? http://t.co/yn6guyOUQ6\" yeah she\\'s a hoe'"
      ]
     },
     "metadata": {},
     "output_type": "display_data"
    },
    {
     "data": {
      "text/plain": [
       "'\"@BlackNerdJade: Ok, sis.\" She\\'d rather be a broke bitch? *shrugs* she\\'ll have to tell me how it works for her'"
      ]
     },
     "metadata": {},
     "output_type": "display_data"
    },
    {
     "data": {
      "text/plain": [
       "'\"@BrokenPiecesmsc: @ItsNotAdam faggot read my tweets after dat k\" it wasn\\'t even funny lol'"
      ]
     },
     "metadata": {},
     "output_type": "display_data"
    },
    {
     "data": {
      "text/plain": [
       "'\"@BrosConfessions: This bitch was so ungrateful http://t.co/06e77bGwbx\" fr ..... LULWHORE'"
      ]
     },
     "metadata": {},
     "output_type": "display_data"
    },
    {
     "data": {
      "text/plain": [
       "'\"@CASHandBOOBIES: I been kidnapped yo bitch\"'"
      ]
     },
     "metadata": {},
     "output_type": "display_data"
    },
    {
     "data": {
      "text/plain": [
       "'\"@CCobey: @AydanMcCoy happy birthday nigs\" Thanks yo'"
      ]
     },
     "metadata": {},
     "output_type": "display_data"
    },
    {
     "data": {
      "text/plain": [
       "'\"@CHlLDHOODRUINER: when ur teacher tells u that u have homework https://t.co/RKk5vawIj1\" this bitch need to go!!!'"
      ]
     },
     "metadata": {},
     "output_type": "display_data"
    },
    {
     "data": {
      "text/plain": [
       "'\"@CaelanG15: \"@22EdHam: @CaelanG15 that nigga was eating that hoe lol\" Hell Yea lol john Paul\" nigga said john paul.. http://t.co/OSIpBKPr9h'"
      ]
     },
     "metadata": {},
     "output_type": "display_data"
    },
    {
     "data": {
      "text/plain": [
       "'\"@CanIFuckOrNah: What would y\\'all lil ugly bald headed bitches do if they stop making make-up &amp; weave?\"'"
      ]
     },
     "metadata": {},
     "output_type": "display_data"
    },
    {
     "data": {
      "text/plain": [
       "'\"@CarelessOne92: Leafs better win this damn game so I can go riot and shit #EarlyChristmas\" you better start looting my nig'"
      ]
     },
     "metadata": {},
     "output_type": "display_data"
    },
    {
     "data": {
      "text/plain": [
       "'\"@CauseWereGuys: Going back to school sucks more dick than the hoes who attend it.\"'"
      ]
     },
     "metadata": {},
     "output_type": "display_data"
    },
    {
     "data": {
      "text/plain": [
       "'\"@CauseWereGuys: On my way to fuck yo bitch http://t.co/j906T5zE2R\" me as a 9 year old'"
      ]
     },
     "metadata": {},
     "output_type": "display_data"
    },
    {
     "data": {
      "text/plain": [
       "'\"@CeleyNichole: @white_thunduh how come you never bring me food\" i dont have a car retard'"
      ]
     },
     "metadata": {},
     "output_type": "display_data"
    },
    {
     "data": {
      "text/plain": [
       "'\"@ChadMFVerbeck: If Richnow doesn\\'t show up with hella tinder hoes Im not his friend anymore\" chill I brought like like 8 prople'"
      ]
     },
     "metadata": {},
     "output_type": "display_data"
    },
    {
     "data": {
      "text/plain": [
       "'\"@ChandlerParsons: How bout them Cowboys!!!!\" Shutup pussy'"
      ]
     },
     "metadata": {},
     "output_type": "display_data"
    }
   ],
   "source": [
    "# (((((( offensive language connents))))))\n",
    "for tx in list(range(100)):\n",
    "  if En_Offen_span_1['class'][tx]==1:\n",
    "    display(En_Offen_span_1['tweet'][tx])"
   ]
  },
  {
   "cell_type": "code",
   "execution_count": 7,
   "metadata": {
    "id": "ZneY3umb0OHv"
   },
   "outputs": [],
   "source": [
    "# ((((((((( Merge hate speech & offensive language content )))))))\n",
    "En_Offen_span_1['hate/offensive']= ''\n",
    "for tx in list(range(En_Offen_span_1.shape[0])):\n",
    "  if En_Offen_span_1['class'][tx]==1 or En_Offen_span_1['class'][tx]==0:\n",
    "    En_Offen_span_1['hate/offensive'][tx]='Yes'\n",
    "  else:\n",
    "    En_Offen_span_1['hate/offensive'][tx]='No'"
   ]
  },
  {
   "cell_type": "code",
   "execution_count": 8,
   "metadata": {
    "colab": {
     "base_uri": "https://localhost:8080/",
     "height": 423
    },
    "executionInfo": {
     "elapsed": 46,
     "status": "ok",
     "timestamp": 1708599641115,
     "user": {
      "displayName": "Arpana",
      "userId": "16719958102440739805"
     },
     "user_tz": -330
    },
    "id": "TiniWOr50OK1",
    "outputId": "bbc318b8-4f26-4254-c796-0c5849fafcf1"
   },
   "outputs": [
    {
     "data": {
      "text/html": [
       "<div>\n",
       "<style scoped>\n",
       "    .dataframe tbody tr th:only-of-type {\n",
       "        vertical-align: middle;\n",
       "    }\n",
       "\n",
       "    .dataframe tbody tr th {\n",
       "        vertical-align: top;\n",
       "    }\n",
       "\n",
       "    .dataframe thead th {\n",
       "        text-align: right;\n",
       "    }\n",
       "</style>\n",
       "<table border=\"1\" class=\"dataframe\">\n",
       "  <thead>\n",
       "    <tr style=\"text-align: right;\">\n",
       "      <th></th>\n",
       "      <th>Unnamed: 0</th>\n",
       "      <th>count</th>\n",
       "      <th>hate_speech</th>\n",
       "      <th>offensive_language</th>\n",
       "      <th>neither</th>\n",
       "      <th>class</th>\n",
       "      <th>tweet</th>\n",
       "      <th>hate/offensive</th>\n",
       "    </tr>\n",
       "  </thead>\n",
       "  <tbody>\n",
       "    <tr>\n",
       "      <th>0</th>\n",
       "      <td>0</td>\n",
       "      <td>3</td>\n",
       "      <td>0</td>\n",
       "      <td>0</td>\n",
       "      <td>3</td>\n",
       "      <td>2</td>\n",
       "      <td>!!! RT @mayasolovely: As a woman you shouldn't...</td>\n",
       "      <td>No</td>\n",
       "    </tr>\n",
       "    <tr>\n",
       "      <th>1</th>\n",
       "      <td>1</td>\n",
       "      <td>3</td>\n",
       "      <td>0</td>\n",
       "      <td>3</td>\n",
       "      <td>0</td>\n",
       "      <td>1</td>\n",
       "      <td>!!!!! RT @mleew17: boy dats cold...tyga dwn ba...</td>\n",
       "      <td>Yes</td>\n",
       "    </tr>\n",
       "    <tr>\n",
       "      <th>2</th>\n",
       "      <td>2</td>\n",
       "      <td>3</td>\n",
       "      <td>0</td>\n",
       "      <td>3</td>\n",
       "      <td>0</td>\n",
       "      <td>1</td>\n",
       "      <td>!!!!!!! RT @UrKindOfBrand Dawg!!!! RT @80sbaby...</td>\n",
       "      <td>Yes</td>\n",
       "    </tr>\n",
       "    <tr>\n",
       "      <th>3</th>\n",
       "      <td>3</td>\n",
       "      <td>3</td>\n",
       "      <td>0</td>\n",
       "      <td>2</td>\n",
       "      <td>1</td>\n",
       "      <td>1</td>\n",
       "      <td>!!!!!!!!! RT @C_G_Anderson: @viva_based she lo...</td>\n",
       "      <td>Yes</td>\n",
       "    </tr>\n",
       "    <tr>\n",
       "      <th>4</th>\n",
       "      <td>4</td>\n",
       "      <td>6</td>\n",
       "      <td>0</td>\n",
       "      <td>6</td>\n",
       "      <td>0</td>\n",
       "      <td>1</td>\n",
       "      <td>!!!!!!!!!!!!! RT @ShenikaRoberts: The shit you...</td>\n",
       "      <td>Yes</td>\n",
       "    </tr>\n",
       "    <tr>\n",
       "      <th>...</th>\n",
       "      <td>...</td>\n",
       "      <td>...</td>\n",
       "      <td>...</td>\n",
       "      <td>...</td>\n",
       "      <td>...</td>\n",
       "      <td>...</td>\n",
       "      <td>...</td>\n",
       "      <td>...</td>\n",
       "    </tr>\n",
       "    <tr>\n",
       "      <th>24778</th>\n",
       "      <td>25291</td>\n",
       "      <td>3</td>\n",
       "      <td>0</td>\n",
       "      <td>2</td>\n",
       "      <td>1</td>\n",
       "      <td>1</td>\n",
       "      <td>you's a muthaf***in lie &amp;#8220;@LifeAsKing: @2...</td>\n",
       "      <td>Yes</td>\n",
       "    </tr>\n",
       "    <tr>\n",
       "      <th>24779</th>\n",
       "      <td>25292</td>\n",
       "      <td>3</td>\n",
       "      <td>0</td>\n",
       "      <td>1</td>\n",
       "      <td>2</td>\n",
       "      <td>2</td>\n",
       "      <td>you've gone and broke the wrong heart baby, an...</td>\n",
       "      <td>No</td>\n",
       "    </tr>\n",
       "    <tr>\n",
       "      <th>24780</th>\n",
       "      <td>25294</td>\n",
       "      <td>3</td>\n",
       "      <td>0</td>\n",
       "      <td>3</td>\n",
       "      <td>0</td>\n",
       "      <td>1</td>\n",
       "      <td>young buck wanna eat!!.. dat nigguh like I ain...</td>\n",
       "      <td>Yes</td>\n",
       "    </tr>\n",
       "    <tr>\n",
       "      <th>24781</th>\n",
       "      <td>25295</td>\n",
       "      <td>6</td>\n",
       "      <td>0</td>\n",
       "      <td>6</td>\n",
       "      <td>0</td>\n",
       "      <td>1</td>\n",
       "      <td>youu got wild bitches tellin you lies</td>\n",
       "      <td>Yes</td>\n",
       "    </tr>\n",
       "    <tr>\n",
       "      <th>24782</th>\n",
       "      <td>25296</td>\n",
       "      <td>3</td>\n",
       "      <td>0</td>\n",
       "      <td>0</td>\n",
       "      <td>3</td>\n",
       "      <td>2</td>\n",
       "      <td>~~Ruffled | Ntac Eileen Dahlia - Beautiful col...</td>\n",
       "      <td>No</td>\n",
       "    </tr>\n",
       "  </tbody>\n",
       "</table>\n",
       "<p>24783 rows × 8 columns</p>\n",
       "</div>"
      ],
      "text/plain": [
       "       Unnamed: 0  count  hate_speech  offensive_language  neither  class  \\\n",
       "0               0      3            0                   0        3      2   \n",
       "1               1      3            0                   3        0      1   \n",
       "2               2      3            0                   3        0      1   \n",
       "3               3      3            0                   2        1      1   \n",
       "4               4      6            0                   6        0      1   \n",
       "...           ...    ...          ...                 ...      ...    ...   \n",
       "24778       25291      3            0                   2        1      1   \n",
       "24779       25292      3            0                   1        2      2   \n",
       "24780       25294      3            0                   3        0      1   \n",
       "24781       25295      6            0                   6        0      1   \n",
       "24782       25296      3            0                   0        3      2   \n",
       "\n",
       "                                                   tweet hate/offensive  \n",
       "0      !!! RT @mayasolovely: As a woman you shouldn't...             No  \n",
       "1      !!!!! RT @mleew17: boy dats cold...tyga dwn ba...            Yes  \n",
       "2      !!!!!!! RT @UrKindOfBrand Dawg!!!! RT @80sbaby...            Yes  \n",
       "3      !!!!!!!!! RT @C_G_Anderson: @viva_based she lo...            Yes  \n",
       "4      !!!!!!!!!!!!! RT @ShenikaRoberts: The shit you...            Yes  \n",
       "...                                                  ...            ...  \n",
       "24778  you's a muthaf***in lie &#8220;@LifeAsKing: @2...            Yes  \n",
       "24779  you've gone and broke the wrong heart baby, an...             No  \n",
       "24780  young buck wanna eat!!.. dat nigguh like I ain...            Yes  \n",
       "24781              youu got wild bitches tellin you lies            Yes  \n",
       "24782  ~~Ruffled | Ntac Eileen Dahlia - Beautiful col...             No  \n",
       "\n",
       "[24783 rows x 8 columns]"
      ]
     },
     "execution_count": 8,
     "metadata": {},
     "output_type": "execute_result"
    }
   ],
   "source": [
    "En_Offen_span_1"
   ]
  },
  {
   "cell_type": "code",
   "execution_count": 9,
   "metadata": {
    "id": "a9XNdPnS4Wh1"
   },
   "outputs": [],
   "source": [
    "En_Offen_span_1= En_Offen_span_1[['tweet','hate/offensive']]"
   ]
  },
  {
   "cell_type": "code",
   "execution_count": 10,
   "metadata": {
    "colab": {
     "base_uri": "https://localhost:8080/"
    },
    "executionInfo": {
     "elapsed": 42,
     "status": "ok",
     "timestamp": 1708599641116,
     "user": {
      "displayName": "Arpana",
      "userId": "16719958102440739805"
     },
     "user_tz": -330
    },
    "id": "TGzJIZOd4WmQ",
    "outputId": "efac01a0-fe59-4dd6-9dc2-7354d1980471"
   },
   "outputs": [
    {
     "name": "stdout",
     "output_type": "stream",
     "text": [
      "Null data count    : 0\n",
      "\n",
      " Duplicate Rows data count : 0\n"
     ]
    }
   ],
   "source": [
    "print(\"Null data count    :\",En_Offen_span_1.isnull().values.sum())\n",
    "print(\"\\n Duplicate Rows data count :\",En_Offen_span_1[En_Offen_span_1.duplicated()].shape[0])"
   ]
  },
  {
   "cell_type": "code",
   "execution_count": 11,
   "metadata": {
    "colab": {
     "base_uri": "https://localhost:8080/",
     "height": 445
    },
    "executionInfo": {
     "elapsed": 40,
     "status": "ok",
     "timestamp": 1708599641116,
     "user": {
      "displayName": "Arpana",
      "userId": "16719958102440739805"
     },
     "user_tz": -330
    },
    "id": "_RVxDjSx4Wp6",
    "outputId": "e7a4c5ea-54ca-482e-c3a9-7076b523c335"
   },
   "outputs": [
    {
     "data": {
      "text/plain": [
       "<Axes: title={'center': 'English tweet category'}>"
      ]
     },
     "execution_count": 11,
     "metadata": {},
     "output_type": "execute_result"
    },
    {
     "data": {
      "image/png": "[encoded data removed]",
      "text/plain": [
       "<Figure size 640x480 with 1 Axes>"
      ]
     },
     "metadata": {},
     "output_type": "display_data"
    }
   ],
   "source": [
    "En_Offen_span_1.groupby('hate/offensive').size().plot(kind='pie', title='English tweet category', autopct='%1.0f%%')"
   ]
  },
  {
   "cell_type": "markdown",
   "metadata": {
    "id": "MBDy91Ww7p0k"
   },
   "source": [
    "83% of English tweets are 'hate/offensive tweets'."
   ]
  },
  {
   "cell_type": "code",
   "execution_count": 12,
   "metadata": {
    "id": "mYilH1eb40w2"
   },
   "outputs": [],
   "source": [
    "# ((((((((( NLP ))))))))))))\n",
    "En_Offen_span__DSQ = En_Offen_span__DS.words('english')\n",
    "En_Offen_span__RPQ = En_Offen_span__RP()\n",
    "\n",
    "def Offen(enoff):\n",
    "    enoff = enoff.lower()\n",
    "    enoff = En_Offen_span__XR.sub(\"[^a-z]+\", \" \", enoff)\n",
    "    enoff = \" \".join([w for w in enoff.split() if w not in En_Offen_span__DSQ])\n",
    "    enoff=' '.join([En_Offen_span__RPQ.stem(w) for w in enoff.split()])\n",
    "    return enoff\n",
    "\n",
    "data=[]\n",
    "for on in En_Offen_span_1['tweet']:\n",
    "    data.append(Offen(on))"
   ]
  },
  {
   "cell_type": "code",
   "execution_count": 13,
   "metadata": {
    "colab": {
     "base_uri": "https://localhost:8080/",
     "height": 423
    },
    "executionInfo": {
     "elapsed": 113,
     "status": "ok",
     "timestamp": 1708599651831,
     "user": {
      "displayName": "Arpana",
      "userId": "16719958102440739805"
     },
     "user_tz": -330
    },
    "id": "ZwbMA8Wz400k",
    "outputId": "aa9f15f8-e21f-4dc2-90bd-6a8fbafe11e1"
   },
   "outputs": [
    {
     "data": {
      "text/html": [
       "<div>\n",
       "<style scoped>\n",
       "    .dataframe tbody tr th:only-of-type {\n",
       "        vertical-align: middle;\n",
       "    }\n",
       "\n",
       "    .dataframe tbody tr th {\n",
       "        vertical-align: top;\n",
       "    }\n",
       "\n",
       "    .dataframe thead th {\n",
       "        text-align: right;\n",
       "    }\n",
       "</style>\n",
       "<table border=\"1\" class=\"dataframe\">\n",
       "  <thead>\n",
       "    <tr style=\"text-align: right;\">\n",
       "      <th></th>\n",
       "      <th>tweet</th>\n",
       "      <th>hate/offensive</th>\n",
       "    </tr>\n",
       "  </thead>\n",
       "  <tbody>\n",
       "    <tr>\n",
       "      <th>0</th>\n",
       "      <td>rt mayasolov woman complain clean hous amp man...</td>\n",
       "      <td>No</td>\n",
       "    </tr>\n",
       "    <tr>\n",
       "      <th>1</th>\n",
       "      <td>rt mleew boy dat cold tyga dwn bad cuffin dat ...</td>\n",
       "      <td>Yes</td>\n",
       "    </tr>\n",
       "    <tr>\n",
       "      <th>2</th>\n",
       "      <td>rt urkindofbrand dawg rt sbabi life ever fuck ...</td>\n",
       "      <td>Yes</td>\n",
       "    </tr>\n",
       "    <tr>\n",
       "      <th>3</th>\n",
       "      <td>rt c g anderson viva base look like tranni</td>\n",
       "      <td>Yes</td>\n",
       "    </tr>\n",
       "    <tr>\n",
       "      <th>4</th>\n",
       "      <td>rt shenikarobert shit hear might true might fa...</td>\n",
       "      <td>Yes</td>\n",
       "    </tr>\n",
       "    <tr>\n",
       "      <th>...</th>\n",
       "      <td>...</td>\n",
       "      <td>...</td>\n",
       "    </tr>\n",
       "    <tr>\n",
       "      <th>24778</th>\n",
       "      <td>muthaf lie lifeask pearl corey emanuel right t...</td>\n",
       "      <td>Yes</td>\n",
       "    </tr>\n",
       "    <tr>\n",
       "      <th>24779</th>\n",
       "      <td>gone broke wrong heart babi drove redneck crazi</td>\n",
       "      <td>No</td>\n",
       "    </tr>\n",
       "    <tr>\n",
       "      <th>24780</th>\n",
       "      <td>young buck wanna eat dat nigguh like aint fuck...</td>\n",
       "      <td>Yes</td>\n",
       "    </tr>\n",
       "    <tr>\n",
       "      <th>24781</th>\n",
       "      <td>youu got wild bitch tellin lie</td>\n",
       "      <td>Yes</td>\n",
       "    </tr>\n",
       "    <tr>\n",
       "      <th>24782</th>\n",
       "      <td>ruffl ntac eileen dahlia beauti color combin p...</td>\n",
       "      <td>No</td>\n",
       "    </tr>\n",
       "  </tbody>\n",
       "</table>\n",
       "<p>24783 rows × 2 columns</p>\n",
       "</div>"
      ],
      "text/plain": [
       "                                                   tweet hate/offensive\n",
       "0      rt mayasolov woman complain clean hous amp man...             No\n",
       "1      rt mleew boy dat cold tyga dwn bad cuffin dat ...            Yes\n",
       "2      rt urkindofbrand dawg rt sbabi life ever fuck ...            Yes\n",
       "3             rt c g anderson viva base look like tranni            Yes\n",
       "4      rt shenikarobert shit hear might true might fa...            Yes\n",
       "...                                                  ...            ...\n",
       "24778  muthaf lie lifeask pearl corey emanuel right t...            Yes\n",
       "24779    gone broke wrong heart babi drove redneck crazi             No\n",
       "24780  young buck wanna eat dat nigguh like aint fuck...            Yes\n",
       "24781                     youu got wild bitch tellin lie            Yes\n",
       "24782  ruffl ntac eileen dahlia beauti color combin p...             No\n",
       "\n",
       "[24783 rows x 2 columns]"
      ]
     },
     "execution_count": 13,
     "metadata": {},
     "output_type": "execute_result"
    }
   ],
   "source": [
    "En_Offen_span_1['tweet']=data\n",
    "En_Offen_span_1"
   ]
  },
  {
   "cell_type": "code",
   "execution_count": 14,
   "metadata": {
    "colab": {
     "base_uri": "https://localhost:8080/",
     "height": 175
    },
    "executionInfo": {
     "elapsed": 102,
     "status": "ok",
     "timestamp": 1708599651831,
     "user": {
      "displayName": "Arpana",
      "userId": "16719958102440739805"
     },
     "user_tz": -330
    },
    "id": "QIGvF_me403F",
    "outputId": "2aae3354-cebe-44fb-bff0-5e64ab588d36"
   },
   "outputs": [
    {
     "data": {
      "text/html": [
       "<div>\n",
       "<style scoped>\n",
       "    .dataframe tbody tr th:only-of-type {\n",
       "        vertical-align: middle;\n",
       "    }\n",
       "\n",
       "    .dataframe tbody tr th {\n",
       "        vertical-align: top;\n",
       "    }\n",
       "\n",
       "    .dataframe thead th {\n",
       "        text-align: right;\n",
       "    }\n",
       "</style>\n",
       "<table border=\"1\" class=\"dataframe\">\n",
       "  <thead>\n",
       "    <tr style=\"text-align: right;\">\n",
       "      <th></th>\n",
       "      <th>tweet</th>\n",
       "      <th>hate/offensive</th>\n",
       "    </tr>\n",
       "  </thead>\n",
       "  <tbody>\n",
       "    <tr>\n",
       "      <th>0</th>\n",
       "      <td>rt mayasolov woman complain clean hous amp man...</td>\n",
       "      <td>0</td>\n",
       "    </tr>\n",
       "    <tr>\n",
       "      <th>1</th>\n",
       "      <td>rt mleew boy dat cold tyga dwn bad cuffin dat ...</td>\n",
       "      <td>1</td>\n",
       "    </tr>\n",
       "    <tr>\n",
       "      <th>2</th>\n",
       "      <td>rt urkindofbrand dawg rt sbabi life ever fuck ...</td>\n",
       "      <td>1</td>\n",
       "    </tr>\n",
       "    <tr>\n",
       "      <th>3</th>\n",
       "      <td>rt c g anderson viva base look like tranni</td>\n",
       "      <td>1</td>\n",
       "    </tr>\n",
       "  </tbody>\n",
       "</table>\n",
       "</div>"
      ],
      "text/plain": [
       "                                               tweet  hate/offensive\n",
       "0  rt mayasolov woman complain clean hous amp man...               0\n",
       "1  rt mleew boy dat cold tyga dwn bad cuffin dat ...               1\n",
       "2  rt urkindofbrand dawg rt sbabi life ever fuck ...               1\n",
       "3         rt c g anderson viva base look like tranni               1"
      ]
     },
     "execution_count": 14,
     "metadata": {},
     "output_type": "execute_result"
    }
   ],
   "source": [
    "En_Offen_span__ssQ = En_Offen_span__ss.LabelEncoder()\n",
    "\n",
    "En_Offen_span_1['hate/offensive']= En_Offen_span__ssQ.fit_transform(En_Offen_span_1['hate/offensive'])\n",
    "\n",
    "En_Offen_span_1.to_csv('English_final.csv', index=False)\n",
    "En_Offen_span_1[:4]"
   ]
  },
  {
   "cell_type": "markdown",
   "metadata": {
    "id": "SZV90ufTZ9pJ"
   },
   "source": [
    "Reading Spanish data"
   ]
  },
  {
   "cell_type": "code",
   "execution_count": 15,
   "metadata": {
    "colab": {
     "base_uri": "https://localhost:8080/",
     "height": 423
    },
    "executionInfo": {
     "elapsed": 98,
     "status": "ok",
     "timestamp": 1708599651832,
     "user": {
      "displayName": "Arpana",
      "userId": "16719958102440739805"
     },
     "user_tz": -330
    },
    "id": "QvcUuyfvZ50-",
    "outputId": "07313b8c-f8b8-4e41-cc82-3f4c4ea1df5a"
   },
   "outputs": [
    {
     "data": {
      "text/html": [
       "<div>\n",
       "<style scoped>\n",
       "    .dataframe tbody tr th:only-of-type {\n",
       "        vertical-align: middle;\n",
       "    }\n",
       "\n",
       "    .dataframe tbody tr th {\n",
       "        vertical-align: top;\n",
       "    }\n",
       "\n",
       "    .dataframe thead th {\n",
       "        text-align: right;\n",
       "    }\n",
       "</style>\n",
       "<table border=\"1\" class=\"dataframe\">\n",
       "  <thead>\n",
       "    <tr style=\"text-align: right;\">\n",
       "      <th></th>\n",
       "      <th>tweet a etiquetar</th>\n",
       "      <th>hate speech/estereotipo</th>\n",
       "    </tr>\n",
       "  </thead>\n",
       "  <tbody>\n",
       "    <tr>\n",
       "      <th>0</th>\n",
       "      <td>Eran tan pero tan feministas que invisibilizab...</td>\n",
       "      <td>0.0</td>\n",
       "    </tr>\n",
       "    <tr>\n",
       "      <th>1</th>\n",
       "      <td>@Eneatipo7 @Cooperativa @karina_ol Me carga en...</td>\n",
       "      <td>0.0</td>\n",
       "    </tr>\n",
       "    <tr>\n",
       "      <th>2</th>\n",
       "      <td>NaN</td>\n",
       "      <td>NaN</td>\n",
       "    </tr>\n",
       "    <tr>\n",
       "      <th>3</th>\n",
       "      <td>NaN</td>\n",
       "      <td>NaN</td>\n",
       "    </tr>\n",
       "    <tr>\n",
       "      <th>4</th>\n",
       "      <td>, ¿Sabrán las femiorcas como @karina_ol y todo...</td>\n",
       "      <td>1.0</td>\n",
       "    </tr>\n",
       "    <tr>\n",
       "      <th>...</th>\n",
       "      <td>...</td>\n",
       "      <td>...</td>\n",
       "    </tr>\n",
       "    <tr>\n",
       "      <th>20959</th>\n",
       "      <td>NaN</td>\n",
       "      <td>NaN</td>\n",
       "    </tr>\n",
       "    <tr>\n",
       "      <th>20960</th>\n",
       "      <td>@andreaenlaruta @Clintjoselint entonces las fe...</td>\n",
       "      <td>0.0</td>\n",
       "    </tr>\n",
       "    <tr>\n",
       "      <th>20961</th>\n",
       "      <td>NaN</td>\n",
       "      <td>NaN</td>\n",
       "    </tr>\n",
       "    <tr>\n",
       "      <th>20962</th>\n",
       "      <td>NaN</td>\n",
       "      <td>NaN</td>\n",
       "    </tr>\n",
       "    <tr>\n",
       "      <th>20963</th>\n",
       "      <td>NaN</td>\n",
       "      <td>NaN</td>\n",
       "    </tr>\n",
       "  </tbody>\n",
       "</table>\n",
       "<p>20964 rows × 2 columns</p>\n",
       "</div>"
      ],
      "text/plain": [
       "                                       tweet a etiquetar  \\\n",
       "0      Eran tan pero tan feministas que invisibilizab...   \n",
       "1      @Eneatipo7 @Cooperativa @karina_ol Me carga en...   \n",
       "2                                                    NaN   \n",
       "3                                                    NaN   \n",
       "4      , ¿Sabrán las femiorcas como @karina_ol y todo...   \n",
       "...                                                  ...   \n",
       "20959                                                NaN   \n",
       "20960  @andreaenlaruta @Clintjoselint entonces las fe...   \n",
       "20961                                                NaN   \n",
       "20962                                                NaN   \n",
       "20963                                                NaN   \n",
       "\n",
       "       hate speech/estereotipo  \n",
       "0                          0.0  \n",
       "1                          0.0  \n",
       "2                          NaN  \n",
       "3                          NaN  \n",
       "4                          1.0  \n",
       "...                        ...  \n",
       "20959                      NaN  \n",
       "20960                      0.0  \n",
       "20961                      NaN  \n",
       "20962                      NaN  \n",
       "20963                      NaN  \n",
       "\n",
       "[20964 rows x 2 columns]"
      ]
     },
     "execution_count": 15,
     "metadata": {},
     "output_type": "execute_result"
    }
   ],
   "source": [
    "####### Spanish offensive language\n",
    "En_Offen_span_2 = En_Offen_span__N.read_csv('dataset_chileno_lenguaje_ofensivo.csv')\n",
    "En_Offen_span_2 = En_Offen_span_2[['tweet a etiquetar', 'hate speech/estereotipo']]\n",
    "En_Offen_span_2"
   ]
  },
  {
   "cell_type": "code",
   "execution_count": 16,
   "metadata": {
    "colab": {
     "base_uri": "https://localhost:8080/"
    },
    "executionInfo": {
     "elapsed": 94,
     "status": "ok",
     "timestamp": 1708599651832,
     "user": {
      "displayName": "Arpana",
      "userId": "16719958102440739805"
     },
     "user_tz": -330
    },
    "id": "DWWISbfSZ54I",
    "outputId": "7713ec57-fb55-46fe-8fc9-e77c313c5b7a"
   },
   "outputs": [
    {
     "data": {
      "text/plain": [
       "tweet a etiquetar          9500\n",
       "hate speech/estereotipo       2\n",
       "dtype: int64"
      ]
     },
     "execution_count": 16,
     "metadata": {},
     "output_type": "execute_result"
    }
   ],
   "source": [
    "En_Offen_span_2.nunique()"
   ]
  },
  {
   "cell_type": "code",
   "execution_count": 17,
   "metadata": {
    "colab": {
     "base_uri": "https://localhost:8080/"
    },
    "executionInfo": {
     "elapsed": 804,
     "status": "ok",
     "timestamp": 1708599652551,
     "user": {
      "displayName": "Arpana",
      "userId": "16719958102440739805"
     },
     "user_tz": -330
    },
    "id": "08gnXq9nZ566",
    "outputId": "ed403fd4-761d-41f4-bcfc-2cbbc0bc8d57"
   },
   "outputs": [
    {
     "data": {
      "text/plain": [
       "0.0    9201\n",
       "1.0     633\n",
       "Name: hate speech/estereotipo, dtype: int64"
      ]
     },
     "execution_count": 17,
     "metadata": {},
     "output_type": "execute_result"
    }
   ],
   "source": [
    "En_Offen_span_2['hate speech/estereotipo'].value_counts()"
   ]
  },
  {
   "cell_type": "markdown",
   "metadata": {
    "id": "1PbZvH7ca2HM"
   },
   "source": [
    "hate speech/estereotipo label. 0.0 - non_hate speech 1.0 - hate speech"
   ]
  },
  {
   "cell_type": "code",
   "execution_count": 18,
   "metadata": {
    "colab": {
     "base_uri": "https://localhost:8080/",
     "height": 985
    },
    "executionInfo": {
     "elapsed": 53,
     "status": "ok",
     "timestamp": 1708599652552,
     "user": {
      "displayName": "Arpana",
      "userId": "16719958102440739805"
     },
     "user_tz": -330
    },
    "id": "nKGJ-yPgZ597",
    "outputId": "8c5b8ba2-f3e7-4c21-8350-8e0b5216c0bc"
   },
   "outputs": [
    {
     "data": {
      "text/plain": [
       "'Eran tan pero tan feministas que invisibilizaban constantemente a las trabajadoras sexuales, haciéndole creer al mundo que eran incapaces de decidir y que cada vez que ejercían su derecho a hacerlo estaban siendo violadas.'"
      ]
     },
     "metadata": {},
     "output_type": "display_data"
    },
    {
     "data": {
      "text/plain": [
       "'@Eneatipo7 @Cooperativa @karina_ol Me carga en lo q se convirtió la 2da vuelta a la gobernación...una flaiterío.'"
      ]
     },
     "metadata": {},
     "output_type": "display_data"
    },
    {
     "data": {
      "text/plain": [
       "'@AntoDelLaw @jonaovalle @CarolinaLeitao @penalolen Una vecina que nada tenia que ver con este flaiterio de sus hijas'"
      ]
     },
     "metadata": {},
     "output_type": "display_data"
    },
    {
     "data": {
      "text/plain": [
       "'@Ciudadanolevi1 Debajo de que piedra estaba ese flaiterio?'"
      ]
     },
     "metadata": {},
     "output_type": "display_data"
    },
    {
     "data": {
      "text/plain": [
       "'@huinka2000 Esto lo vengo diciendo desde el voto obligado por Piñera.\\nDejemos el país en manos de la izquierda 4 años, así nunca más volverán a gobernar.\\nEl flaiterio tiene que saber que es pasar hambre y perder Libertades'"
      ]
     },
     "metadata": {},
     "output_type": "display_data"
    },
    {
     "data": {
      "text/plain": [
       "'Que un militar te diga:\"amigo mejor entre la bicicleta y pase con ella a votar. Este lugar es peligroso\" da a pensar que los flaites se las ganan a los milicos. Que lata!!! Eso es vivir en una narco comuna po.'"
      ]
     },
     "metadata": {},
     "output_type": "display_data"
    },
    {
     "data": {
      "text/plain": [
       "'@13mae13 Por esto lados muchos flaites de pelo pintado'"
      ]
     },
     "metadata": {},
     "output_type": "display_data"
    },
    {
     "data": {
      "text/plain": [
       "'@rodolfopereze Haber, pensando en la cantidad de flaites ignorantes que hay, dos meses.'"
      ]
     },
     "metadata": {},
     "output_type": "display_data"
    },
    {
     "data": {
      "text/plain": [
       "'@Don_CarpeDiem_ @japo97 @alb0black @SauconyLATAM Entiendo. Haces referencia al flaite cuando es pobre. Yo me refiero a la gente con gustos/costumbres flaites, que no necesariamente las adquieren por vulnerabilidad. \\nSorry lo insistente, pero por ejemplo el hijo de la Argandoña cero carencia y harto cuma el wn.'"
      ]
     },
     "metadata": {},
     "output_type": "display_data"
    },
    {
     "data": {
      "text/plain": [
       "'@CEspinozaQ @Cooperativa Jueron loh pacohhh..típica frase de loa flaites retardados'"
      ]
     },
     "metadata": {},
     "output_type": "display_data"
    },
    {
     "data": {
      "text/plain": [
       "'@Piri_Iriarte @pameharmon FUERA LOS FLAITES !!!\\nFUERA LOS 34 MACABROS DEL MAPOCHO 🤡⚠️🐄🤬🤬🤬🤬🤬🤬🤬🤬🤬🤬🐄 https://t.co/A9t7bzXI5r'"
      ]
     },
     "metadata": {},
     "output_type": "display_data"
    },
    {
     "data": {
      "text/plain": [
       "'@24HorasTVN Todos los flaites pueden quedarse en su casa sacandose los mocos..'"
      ]
     },
     "metadata": {},
     "output_type": "display_data"
    },
    {
     "data": {
      "text/plain": [
       "'@24HorasTVN Pero alla no tienen flaites'"
      ]
     },
     "metadata": {},
     "output_type": "display_data"
    },
    {
     "data": {
      "text/plain": [
       "'@alb0black No será musho? No se trata de “rotos” creo yo. Se trata de flaites que llenan las tiendas deportivas. Es cosa de asomarse, las tiendas nike o adidas son las más llenas.'"
      ]
     },
     "metadata": {},
     "output_type": "display_data"
    },
    {
     "data": {
      "text/plain": [
       "'Los descriteriados de la plaza ñuñoa son igual de descriteriados q los del costanera, parque arauco, alto las condes, los q se fueron de vacas a brazil o los q andan en arabia saudita. Manga de flaites.'"
      ]
     },
     "metadata": {},
     "output_type": "display_data"
    },
    {
     "data": {
      "text/plain": [
       "'@GnomoDavid Csm 🤣🤣🤣🤣,y los flaites no entenderán nada, jaja'"
      ]
     },
     "metadata": {},
     "output_type": "display_data"
    },
    {
     "data": {
      "text/plain": [
       "'@ekielmarin @latercera 😂😂😂😂 espero que la institución que se venga sea mas dura con los flaites que webean todos los Viernes en Plaza Italia.'"
      ]
     },
     "metadata": {},
     "output_type": "display_data"
    },
    {
     "data": {
      "text/plain": [
       "'@mmlagoscc Se está iluminando, esto es resultado del populismo barato; eso pasa cuando se elige gente que no tiene la mínima preparación para escribir algo tan serio como la Constitución de un país. Puros flaites ignorantes.'"
      ]
     },
     "metadata": {},
     "output_type": "display_data"
    },
    {
     "data": {
      "text/plain": [
       "'Las dos cagadas de la cabeza, ordinarias, picantes, flaites... https://t.co/bOw60e8nwF'"
      ]
     },
     "metadata": {},
     "output_type": "display_data"
    },
    {
     "data": {
      "text/plain": [
       "'@mmlagoscc Le habla a los 34 flaites de la lista del pueblo o los pelotudos del partido comunista y frente amplio? Ve cómo cambia la cosa cuando se toma los remedios.'"
      ]
     },
     "metadata": {},
     "output_type": "display_data"
    },
    {
     "data": {
      "text/plain": [
       "'@hugoluisdh @YodaZurdo @jgalemparte WAJAJAJA....PUROS FLAITES IGNORANTES...'"
      ]
     },
     "metadata": {},
     "output_type": "display_data"
    },
    {
     "data": {
      "text/plain": [
       "'@LaEufe Flaites según la gran @tere_marinovic'"
      ]
     },
     "metadata": {},
     "output_type": "display_data"
    },
    {
     "data": {
      "text/plain": [
       "'@krasnoffKathryn No faltan los flaites'"
      ]
     },
     "metadata": {},
     "output_type": "display_data"
    },
    {
     "data": {
      "text/plain": [
       "'@MaherIsi En lo personal me parece buena idea, ya vemos cómo con la actual justicia tenemos a los flaites saliendo libre a las 2 hrs.  Con este sistema de jurado, me imagino tipo USA, la ciudadanía que sufre de esos flaites dudo que lo dejen libre a las 2 hrs.'"
      ]
     },
     "metadata": {},
     "output_type": "display_data"
    },
    {
     "data": {
      "text/plain": [
       "'@LabinJoaquin Como será que piensa con el culo y que en ningún momento hablé de toda la lista (la cual tiene en general demandas legítimas). Hable de 34 flaites.\\n\\n34\\nTreinta y cuatro'"
      ]
     },
     "metadata": {},
     "output_type": "display_data"
    },
    {
     "data": {
      "text/plain": [
       "'Qué bueno que no me gusta ese deporte de simios de 11 flaites corriendo detrás de una pelota, odio a PerKing  😍 ✨👌'"
      ]
     },
     "metadata": {},
     "output_type": "display_data"
    },
    {
     "data": {
      "text/plain": [
       "'@pesadillitas @careperro2_0 Flaites auspiciados por el PC, a quienes hicieron pasar por “independientes” para agarrar los votos de quienes no querían votar por partidos.'"
      ]
     },
     "metadata": {},
     "output_type": "display_data"
    },
    {
     "data": {
      "text/plain": [
       "'@clabarra01 @MarcoFloresRiv1 Los \"flaites\" desperdician los mejores años de su vida bebiendo cerveza con asiduidad, en vez de estudiar o trabajar intensamente; a esa edad la energía sobra. Y luego cuando se topan de frente con el fracaso o la miseria, culpan a los ricos. No reconocen sus propias elecciones.'"
      ]
     },
     "metadata": {},
     "output_type": "display_data"
    },
    {
     "data": {
      "text/plain": [
       "'Hace 20 minutos aproximadamente 4 pendejos flaites, todos con pistolas, intentaron asaltarme nuevamente… logré arrancar. Debemos comenzar a portar armas? De qué manera podemos andar seguros? @min_interior @GalliJF @katymartorell'"
      ]
     },
     "metadata": {},
     "output_type": "display_data"
    },
    {
     "data": {
      "text/plain": [
       "'@jano_veronica @noytumama Esto es igual de patetico q los viejos que quieren hablar como flaites y dicen “shigua loco”'"
      ]
     },
     "metadata": {},
     "output_type": "display_data"
    },
    {
     "data": {
      "text/plain": [
       "'@DraMLCordero @MarcoFloresRiv1 Se da cuenta el nivel de flaites y rotos que existen Dra.??\\nseguro que este picante es nini. mantenido por su pobre abuela que le financia las chelas y los pitos.\\nNo lo pesque, tiene severo daño este idiota.'"
      ]
     },
     "metadata": {},
     "output_type": "display_data"
    },
    {
     "data": {
      "text/plain": [
       "'@CEspinozaQ @eljanovega @Cooperativa Automovilistas = flaites?'"
      ]
     },
     "metadata": {},
     "output_type": "display_data"
    },
    {
     "data": {
      "text/plain": [
       "'Flaites qls!\\n\\nY pa’ que no lloren, me acordé de la primera funa que le hizo el hermano a la Kel Calderon. El weón muy cuico pero escribía como el hoyo!'"
      ]
     },
     "metadata": {},
     "output_type": "display_data"
    },
    {
     "data": {
      "text/plain": [
       "'@BetyNayan A los pobres sinverguenzas !! Hay gente de clase media que aún así abona por sus deudas esta gente es fresca care raja así de corta'"
      ]
     },
     "metadata": {},
     "output_type": "display_data"
    },
    {
     "data": {
      "text/plain": [
       "'@pbaltierrat Q dificil es encontrar un gil q argumente sin sacar la tula en tu sector. Ya sabemos como terminó la aventura revolucionaria, para q darle mas vueltas al temita.'"
      ]
     },
     "metadata": {},
     "output_type": "display_data"
    },
    {
     "data": {
      "text/plain": [
       "'@RicardoOrtizMJI @AlessandriFelip Que vote apruebo de nuevo... le pasó por gil, igual que Piñera.'"
      ]
     },
     "metadata": {},
     "output_type": "display_data"
    },
    {
     "data": {
      "text/plain": [
       "'@MarcelinMarshal @anita40511035 @bacigalupe El gil pa huevón, solo te da para repetir lo que escuchas.'"
      ]
     },
     "metadata": {},
     "output_type": "display_data"
    },
    {
     "data": {
      "text/plain": [
       "'Niño de 4 años app vecino de mi mamá \" oye poh Gil culiao te estoy llamando baja\" \\nAsí quede 😦\\n(Y mi mamá me dice que dice hueas peores 😱) \\n\\nY para mi hija un garabato es decir \"estúpida\" https://t.co/H8G1k439M5'"
      ]
     },
     "metadata": {},
     "output_type": "display_data"
    },
    {
     "data": {
      "text/plain": [
       "'@ValenzuelaGeor5 @Naty_Patriota Es una pobre gil @karina_ol'"
      ]
     },
     "metadata": {},
     "output_type": "display_data"
    },
    {
     "data": {
      "text/plain": [
       "'@Cconmemoria @UWeones @ksnegrita @Dieg0_schalper Creo que el término acuñado ahí sería \"vídeo copias\" o \"fotovideos\"... Que impresionante como este gil innova hasta en esto. \\nUn wn con compromiso.'"
      ]
     },
     "metadata": {},
     "output_type": "display_data"
    }
   ],
   "source": [
    "# ((((((non_hate sppech connents))))))\n",
    "for tx in list(range(100)):\n",
    "  if En_Offen_span_2['hate speech/estereotipo'][tx]==0.0:\n",
    "    display(En_Offen_span_2['tweet a etiquetar'][tx])"
   ]
  },
  {
   "cell_type": "code",
   "execution_count": 19,
   "metadata": {
    "colab": {
     "base_uri": "https://localhost:8080/",
     "height": 71
    },
    "executionInfo": {
     "elapsed": 46,
     "status": "ok",
     "timestamp": 1708599652553,
     "user": {
      "displayName": "Arpana",
      "userId": "16719958102440739805"
     },
     "user_tz": -330
    },
    "id": "xbmRcbo3Z6LG",
    "outputId": "112ce32f-4a9c-4b3a-b917-cf4322fcb277"
   },
   "outputs": [
    {
     "data": {
      "text/plain": [
       "', ¿Sabrán las femiorcas como @karina_ol y todo el flaiterio mapuchento , que si hay una cultura y sociedad absolutamente hetero patriarcal, de un machismo extremo, es justamente la mapuche?'"
      ]
     },
     "metadata": {},
     "output_type": "display_data"
    },
    {
     "data": {
      "text/plain": [
       "'@cherrerafe Siiii jajajajaja no hay nadie q se salve… todos flaites!'"
      ]
     },
     "metadata": {},
     "output_type": "display_data"
    }
   ],
   "source": [
    "# ((((((hate sppech connents))))))\n",
    "for tx in list(range(100)):\n",
    "  if En_Offen_span_2['hate speech/estereotipo'][tx]==1.0:\n",
    "    display(En_Offen_span_2['tweet a etiquetar'][tx])"
   ]
  },
  {
   "cell_type": "code",
   "execution_count": 20,
   "metadata": {
    "colab": {
     "base_uri": "https://localhost:8080/"
    },
    "executionInfo": {
     "elapsed": 44,
     "status": "ok",
     "timestamp": 1708599652554,
     "user": {
      "displayName": "Arpana",
      "userId": "16719958102440739805"
     },
     "user_tz": -330
    },
    "id": "IBBUjSJDZ6Om",
    "outputId": "a93065f3-dc9b-41a3-b316-24b5b24e997f"
   },
   "outputs": [
    {
     "name": "stdout",
     "output_type": "stream",
     "text": [
      "Null data count    : 22260\n",
      "\n",
      " Duplicate Rows data count : 11436\n"
     ]
    }
   ],
   "source": [
    "print(\"Null data count    :\",En_Offen_span_2.isnull().values.sum())\n",
    "print(\"\\n Duplicate Rows data count :\",En_Offen_span_2[En_Offen_span_2.duplicated()].shape[0])"
   ]
  },
  {
   "cell_type": "code",
   "execution_count": 21,
   "metadata": {
    "colab": {
     "base_uri": "https://localhost:8080/"
    },
    "executionInfo": {
     "elapsed": 46,
     "status": "ok",
     "timestamp": 1708599652561,
     "user": {
      "displayName": "Arpana",
      "userId": "16719958102440739805"
     },
     "user_tz": -330
    },
    "id": "eYDyW1OBbqsR",
    "outputId": "4df6a74a-c152-4d23-b152-bb258545679d"
   },
   "outputs": [
    {
     "data": {
      "text/plain": [
       "(9527, 2)"
      ]
     },
     "execution_count": 21,
     "metadata": {},
     "output_type": "execute_result"
    }
   ],
   "source": [
    "En_Offen_span_2 = En_Offen_span_2.dropna()\n",
    "En_Offen_span_2 = En_Offen_span_2.drop_duplicates()\n",
    "En_Offen_span_2.shape"
   ]
  },
  {
   "cell_type": "code",
   "execution_count": 22,
   "metadata": {
    "colab": {
     "base_uri": "https://localhost:8080/",
     "height": 445
    },
    "executionInfo": {
     "elapsed": 42,
     "status": "ok",
     "timestamp": 1708599652562,
     "user": {
      "displayName": "Arpana",
      "userId": "16719958102440739805"
     },
     "user_tz": -330
    },
    "id": "z6KT_djVbjKK",
    "outputId": "86eb921c-c1ca-4ddb-d4cd-d6919dc6d4f0"
   },
   "outputs": [
    {
     "data": {
      "text/plain": [
       "<Axes: title={'center': 'Spanish tweet category'}>"
      ]
     },
     "execution_count": 22,
     "metadata": {},
     "output_type": "execute_result"
    },
    {
     "data": {
      "image/png": "[encoded data removed]",
      "text/plain": [
       "<Figure size 640x480 with 1 Axes>"
      ]
     },
     "metadata": {},
     "output_type": "display_data"
    }
   ],
   "source": [
    "En_Offen_span_2.groupby('hate speech/estereotipo').size().plot(kind='pie', title='Spanish tweet category', autopct='%1.0f%%')"
   ]
  },
  {
   "cell_type": "markdown",
   "metadata": {
    "id": "sQrEK_qkcKZI"
   },
   "source": [
    "6% of Spanish tweets are 'hate/offensive tweets'."
   ]
  },
  {
   "cell_type": "code",
   "execution_count": 23,
   "metadata": {
    "id": "FpRLA04ybjOZ"
   },
   "outputs": [],
   "source": [
    "# ((((((((( NLP ))))))))))))\n",
    "En_Offen_span__DSQ = En_Offen_span__DS.words('spanish')\n",
    "En_Offen_span__RPQ = En_Offen_span__RP()\n",
    "\n",
    "def Offen(enoff):\n",
    "    enoff = enoff.lower()\n",
    "    enoff = En_Offen_span__XR.sub(\"[^a-z]+\", \" \", enoff)\n",
    "    enoff = \" \".join([w for w in enoff.split() if w not in En_Offen_span__DSQ])\n",
    "    enoff=' '.join([En_Offen_span__RPQ.stem(w) for w in enoff.split()])\n",
    "    return enoff\n",
    "\n",
    "data=[]\n",
    "for on in En_Offen_span_2['tweet a etiquetar']:\n",
    "    data.append(Offen(on))"
   ]
  },
  {
   "cell_type": "code",
   "execution_count": 24,
   "metadata": {
    "colab": {
     "base_uri": "https://localhost:8080/",
     "height": 423
    },
    "executionInfo": {
     "elapsed": 123,
     "status": "ok",
     "timestamp": 1708599656363,
     "user": {
      "displayName": "Arpana",
      "userId": "16719958102440739805"
     },
     "user_tz": -330
    },
    "id": "eNlgoEe1406G",
    "outputId": "c8b4482c-977a-453c-aff5-db901f9e7819"
   },
   "outputs": [
    {
     "data": {
      "text/html": [
       "<div>\n",
       "<style scoped>\n",
       "    .dataframe tbody tr th:only-of-type {\n",
       "        vertical-align: middle;\n",
       "    }\n",
       "\n",
       "    .dataframe tbody tr th {\n",
       "        vertical-align: top;\n",
       "    }\n",
       "\n",
       "    .dataframe thead th {\n",
       "        text-align: right;\n",
       "    }\n",
       "</style>\n",
       "<table border=\"1\" class=\"dataframe\">\n",
       "  <thead>\n",
       "    <tr style=\"text-align: right;\">\n",
       "      <th></th>\n",
       "      <th>tweet a etiquetar</th>\n",
       "      <th>hate speech/estereotipo</th>\n",
       "    </tr>\n",
       "  </thead>\n",
       "  <tbody>\n",
       "    <tr>\n",
       "      <th>0</th>\n",
       "      <td>tan tan feminista invisibilizaban constantemen...</td>\n",
       "      <td>0.0</td>\n",
       "    </tr>\n",
       "    <tr>\n",
       "      <th>1</th>\n",
       "      <td>eneatipo cooperativa karina ol carga q convirt...</td>\n",
       "      <td>0.0</td>\n",
       "    </tr>\n",
       "    <tr>\n",
       "      <th>4</th>\n",
       "      <td>sabr n femiorca karina ol flaiterio mapuchento...</td>\n",
       "      <td>1.0</td>\n",
       "    </tr>\n",
       "    <tr>\n",
       "      <th>5</th>\n",
       "      <td>antodellaw jonaoval carolinaleitao penalolen v...</td>\n",
       "      <td>0.0</td>\n",
       "    </tr>\n",
       "    <tr>\n",
       "      <th>9</th>\n",
       "      <td>ciudadanolevi debajo piedra flaiterio</td>\n",
       "      <td>0.0</td>\n",
       "    </tr>\n",
       "    <tr>\n",
       "      <th>...</th>\n",
       "      <td>...</td>\n",
       "      <td>...</td>\n",
       "    </tr>\n",
       "    <tr>\n",
       "      <th>20949</th>\n",
       "      <td>tere marinov toda raz n sra marinov hoy femini...</td>\n",
       "      <td>1.0</td>\n",
       "    </tr>\n",
       "    <tr>\n",
       "      <th>20951</th>\n",
       "      <td>anariagrando andreaenlaruta clintjoselint ver ...</td>\n",
       "      <td>0.0</td>\n",
       "    </tr>\n",
       "    <tr>\n",
       "      <th>20957</th>\n",
       "      <td>feminista tan agresor dan risa verdad asco con...</td>\n",
       "      <td>0.0</td>\n",
       "    </tr>\n",
       "    <tr>\n",
       "      <th>20958</th>\n",
       "      <td>machinet feminista dicen colega karina oliva</td>\n",
       "      <td>0.0</td>\n",
       "    </tr>\n",
       "    <tr>\n",
       "      <th>20960</th>\n",
       "      <td>andreaenlaruta clintjoselint entonc feminista ...</td>\n",
       "      <td>0.0</td>\n",
       "    </tr>\n",
       "  </tbody>\n",
       "</table>\n",
       "<p>9527 rows × 2 columns</p>\n",
       "</div>"
      ],
      "text/plain": [
       "                                       tweet a etiquetar  \\\n",
       "0      tan tan feminista invisibilizaban constantemen...   \n",
       "1      eneatipo cooperativa karina ol carga q convirt...   \n",
       "4      sabr n femiorca karina ol flaiterio mapuchento...   \n",
       "5      antodellaw jonaoval carolinaleitao penalolen v...   \n",
       "9                  ciudadanolevi debajo piedra flaiterio   \n",
       "...                                                  ...   \n",
       "20949  tere marinov toda raz n sra marinov hoy femini...   \n",
       "20951  anariagrando andreaenlaruta clintjoselint ver ...   \n",
       "20957  feminista tan agresor dan risa verdad asco con...   \n",
       "20958       machinet feminista dicen colega karina oliva   \n",
       "20960  andreaenlaruta clintjoselint entonc feminista ...   \n",
       "\n",
       "       hate speech/estereotipo  \n",
       "0                          0.0  \n",
       "1                          0.0  \n",
       "4                          1.0  \n",
       "5                          0.0  \n",
       "9                          0.0  \n",
       "...                        ...  \n",
       "20949                      1.0  \n",
       "20951                      0.0  \n",
       "20957                      0.0  \n",
       "20958                      0.0  \n",
       "20960                      0.0  \n",
       "\n",
       "[9527 rows x 2 columns]"
      ]
     },
     "execution_count": 24,
     "metadata": {},
     "output_type": "execute_result"
    }
   ],
   "source": [
    "En_Offen_span_2['tweet a etiquetar']=data\n",
    "En_Offen_span_2"
   ]
  },
  {
   "cell_type": "code",
   "execution_count": 25,
   "metadata": {
    "colab": {
     "base_uri": "https://localhost:8080/",
     "height": 175
    },
    "executionInfo": {
     "elapsed": 108,
     "status": "ok",
     "timestamp": 1708599656364,
     "user": {
      "displayName": "Arpana",
      "userId": "16719958102440739805"
     },
     "user_tz": -330
    },
    "id": "I2DyfnzadpfW",
    "outputId": "1c9053bd-e121-453e-9997-28ab95e900b6"
   },
   "outputs": [
    {
     "data": {
      "text/html": [
       "<div>\n",
       "<style scoped>\n",
       "    .dataframe tbody tr th:only-of-type {\n",
       "        vertical-align: middle;\n",
       "    }\n",
       "\n",
       "    .dataframe tbody tr th {\n",
       "        vertical-align: top;\n",
       "    }\n",
       "\n",
       "    .dataframe thead th {\n",
       "        text-align: right;\n",
       "    }\n",
       "</style>\n",
       "<table border=\"1\" class=\"dataframe\">\n",
       "  <thead>\n",
       "    <tr style=\"text-align: right;\">\n",
       "      <th></th>\n",
       "      <th>tweet a etiquetar</th>\n",
       "      <th>hate speech/estereotipo</th>\n",
       "    </tr>\n",
       "  </thead>\n",
       "  <tbody>\n",
       "    <tr>\n",
       "      <th>0</th>\n",
       "      <td>tan tan feminista invisibilizaban constantemen...</td>\n",
       "      <td>0.0</td>\n",
       "    </tr>\n",
       "    <tr>\n",
       "      <th>1</th>\n",
       "      <td>eneatipo cooperativa karina ol carga q convirt...</td>\n",
       "      <td>0.0</td>\n",
       "    </tr>\n",
       "    <tr>\n",
       "      <th>4</th>\n",
       "      <td>sabr n femiorca karina ol flaiterio mapuchento...</td>\n",
       "      <td>1.0</td>\n",
       "    </tr>\n",
       "    <tr>\n",
       "      <th>5</th>\n",
       "      <td>antodellaw jonaoval carolinaleitao penalolen v...</td>\n",
       "      <td>0.0</td>\n",
       "    </tr>\n",
       "  </tbody>\n",
       "</table>\n",
       "</div>"
      ],
      "text/plain": [
       "                                   tweet a etiquetar  hate speech/estereotipo\n",
       "0  tan tan feminista invisibilizaban constantemen...                      0.0\n",
       "1  eneatipo cooperativa karina ol carga q convirt...                      0.0\n",
       "4  sabr n femiorca karina ol flaiterio mapuchento...                      1.0\n",
       "5  antodellaw jonaoval carolinaleitao penalolen v...                      0.0"
      ]
     },
     "execution_count": 25,
     "metadata": {},
     "output_type": "execute_result"
    }
   ],
   "source": [
    "En_Offen_span_2.to_csv('Spanish_final.csv', index=False)\n",
    "En_Offen_span_2[:4]"
   ]
  }
 ],
 "metadata": {
  "colab": {
   "provenance": []
  },
  "kernelspec": {
   "display_name": "Python 3 (ipykernel)",
   "language": "python",
   "name": "python3"
  },
  "language_info": {
   "codemirror_mode": {
    "name": "ipython",
    "version": 3
   },
   "file_extension": ".py",
   "mimetype": "text/x-python",
   "name": "python",
   "nbconvert_exporter": "python",
   "pygments_lexer": "ipython3",
   "version": "3.11.3"
  }
 },
 "nbformat": 4,
 "nbformat_minor": 1
}
