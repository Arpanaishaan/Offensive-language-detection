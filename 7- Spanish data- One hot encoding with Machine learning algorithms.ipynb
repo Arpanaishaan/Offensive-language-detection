{
 "cells": [
  {
   "cell_type": "code",
   "execution_count": 2,
   "metadata": {
    "executionInfo": {
     "elapsed": 664,
     "status": "ok",
     "timestamp": 1708679439695,
     "user": {
      "displayName": "jadaprojects09",
      "userId": "16719958102440739805"
     },
     "user_tz": -330
    },
    "id": "amVfH2etbAKj"
   },
   "outputs": [],
   "source": [
    "import warnings as En_Offen_span__w\n",
    "En_Offen_span__w.filterwarnings(\"ignore\")\n",
    "import pandas as En_Offen_span__N"
   ]
  },
  {
   "cell_type": "code",
   "execution_count": 3,
   "metadata": {
    "colab": {
     "base_uri": "https://localhost:8080/",
     "height": 423
    },
    "executionInfo": {
     "elapsed": 1354,
     "status": "ok",
     "timestamp": 1708679441037,
     "user": {
      "displayName": "jadaprojects09",
      "userId": "16719958102440739805"
     },
     "user_tz": -330
    },
    "id": "XDwNWiYvbYOk",
    "outputId": "d2c35490-c6af-4526-aa21-e0181e4aea98"
   },
   "outputs": [
    {
     "data": {
      "application/vnd.google.colaboratory.intrinsic+json": {
       "summary": "{\n  \"name\": \"En_Offen_span_1\",\n  \"rows\": 9527,\n  \"fields\": [\n    {\n      \"column\": \"tweet a etiquetar\",\n      \"properties\": {\n        \"dtype\": \"string\",\n        \"num_unique_values\": 9497,\n        \"samples\": [\n          \"marcofloresriv miguelmontero aprendieron r pido haitiano\",\n          \"elweondelcool pipesh jalessandri seguro vo teni ma po cochino culiao seguro hai trabajado vida saco wea sigu dedic ndote abdominal dem s seguir haciendo plata\",\n          \"vicktoriav chilexpresshelp arimuack sernac supuestament iban respond hoy hicieron weon variar empresa zmartgam compr producto evaluado m s mil siempr preocupado hijo puta hicieron culpa encomienda qu\"\n        ],\n        \"semantic_type\": \"\",\n        \"description\": \"\"\n      }\n    },\n    {\n      \"column\": \"hate speech/estereotipo\",\n      \"properties\": {\n        \"dtype\": \"number\",\n        \"std\": 0.24444237822646114,\n        \"min\": 0.0,\n        \"max\": 1.0,\n        \"num_unique_values\": 2,\n        \"samples\": [\n          1.0,\n          0.0\n        ],\n        \"semantic_type\": \"\",\n        \"description\": \"\"\n      }\n    }\n  ]\n}",
       "type": "dataframe",
       "variable_name": "En_Offen_span_1"
      },
      "text/html": [
       "\n",
       "  <div id=\"df-4d18ee77-923b-43e1-988f-310599f70e3a\" class=\"colab-df-container\">\n",
       "    <div>\n",
       "<style scoped>\n",
       "    .dataframe tbody tr th:only-of-type {\n",
       "        vertical-align: middle;\n",
       "    }\n",
       "\n",
       "    .dataframe tbody tr th {\n",
       "        vertical-align: top;\n",
       "    }\n",
       "\n",
       "    .dataframe thead th {\n",
       "        text-align: right;\n",
       "    }\n",
       "</style>\n",
       "<table border=\"1\" class=\"dataframe\">\n",
       "  <thead>\n",
       "    <tr style=\"text-align: right;\">\n",
       "      <th></th>\n",
       "      <th>tweet a etiquetar</th>\n",
       "      <th>hate speech/estereotipo</th>\n",
       "    </tr>\n",
       "  </thead>\n",
       "  <tbody>\n",
       "    <tr>\n",
       "      <th>0</th>\n",
       "      <td>tan tan feminista invisibilizaban constantemen...</td>\n",
       "      <td>0.0</td>\n",
       "    </tr>\n",
       "    <tr>\n",
       "      <th>1</th>\n",
       "      <td>eneatipo cooperativa karina ol carga q convirt...</td>\n",
       "      <td>0.0</td>\n",
       "    </tr>\n",
       "    <tr>\n",
       "      <th>2</th>\n",
       "      <td>sabr n femiorca karina ol flaiterio mapuchento...</td>\n",
       "      <td>1.0</td>\n",
       "    </tr>\n",
       "    <tr>\n",
       "      <th>3</th>\n",
       "      <td>antodellaw jonaoval carolinaleitao penalolen v...</td>\n",
       "      <td>0.0</td>\n",
       "    </tr>\n",
       "    <tr>\n",
       "      <th>4</th>\n",
       "      <td>ciudadanolevi debajo piedra flaiterio</td>\n",
       "      <td>0.0</td>\n",
       "    </tr>\n",
       "    <tr>\n",
       "      <th>...</th>\n",
       "      <td>...</td>\n",
       "      <td>...</td>\n",
       "    </tr>\n",
       "    <tr>\n",
       "      <th>9522</th>\n",
       "      <td>tere marinov toda raz n sra marinov hoy femini...</td>\n",
       "      <td>1.0</td>\n",
       "    </tr>\n",
       "    <tr>\n",
       "      <th>9523</th>\n",
       "      <td>anariagrando andreaenlaruta clintjoselint ver ...</td>\n",
       "      <td>0.0</td>\n",
       "    </tr>\n",
       "    <tr>\n",
       "      <th>9524</th>\n",
       "      <td>feminista tan agresor dan risa verdad asco con...</td>\n",
       "      <td>0.0</td>\n",
       "    </tr>\n",
       "    <tr>\n",
       "      <th>9525</th>\n",
       "      <td>machinet feminista dicen colega karina oliva</td>\n",
       "      <td>0.0</td>\n",
       "    </tr>\n",
       "    <tr>\n",
       "      <th>9526</th>\n",
       "      <td>andreaenlaruta clintjoselint entonc feminista ...</td>\n",
       "      <td>0.0</td>\n",
       "    </tr>\n",
       "  </tbody>\n",
       "</table>\n",
       "<p>9527 rows × 2 columns</p>\n",
       "</div>\n",
       "    <div class=\"colab-df-buttons\">\n",
       "\n",
       "  <div class=\"colab-df-container\">\n",
       "    <button class=\"colab-df-convert\" onclick=\"convertToInteractive('df-4d18ee77-923b-43e1-988f-310599f70e3a')\"\n",
       "            title=\"Convert this dataframe to an interactive table.\"\n",
       "            style=\"display:none;\">\n",
       "\n",
       "  <svg xmlns=\"http://www.w3.org/2000/svg\" height=\"24px\" viewBox=\"0 -960 960 960\">\n",
       "    <path d=\"M120-120v-720h720v720H120Zm60-500h600v-160H180v160Zm220 220h160v-160H400v160Zm0 220h160v-160H400v160ZM180-400h160v-160H180v160Zm440 0h160v-160H620v160ZM180-180h160v-160H180v160Zm440 0h160v-160H620v160Z\"/>\n",
       "  </svg>\n",
       "    </button>\n",
       "\n",
       "  <style>\n",
       "    .colab-df-container {\n",
       "      display:flex;\n",
       "      gap: 12px;\n",
       "    }\n",
       "\n",
       "    .colab-df-convert {\n",
       "      background-color: #E8F0FE;\n",
       "      border: none;\n",
       "      border-radius: 50%;\n",
       "      cursor: pointer;\n",
       "      display: none;\n",
       "      fill: #1967D2;\n",
       "      height: 32px;\n",
       "      padding: 0 0 0 0;\n",
       "      width: 32px;\n",
       "    }\n",
       "\n",
       "    .colab-df-convert:hover {\n",
       "      background-color: #E2EBFA;\n",
       "      box-shadow: 0px 1px 2px rgba(60, 64, 67, 0.3), 0px 1px 3px 1px rgba(60, 64, 67, 0.15);\n",
       "      fill: #174EA6;\n",
       "    }\n",
       "\n",
       "    .colab-df-buttons div {\n",
       "      margin-bottom: 4px;\n",
       "    }\n",
       "\n",
       "    [theme=dark] .colab-df-convert {\n",
       "      background-color: #3B4455;\n",
       "      fill: #D2E3FC;\n",
       "    }\n",
       "\n",
       "    [theme=dark] .colab-df-convert:hover {\n",
       "      background-color: #434B5C;\n",
       "      box-shadow: 0px 1px 3px 1px rgba(0, 0, 0, 0.15);\n",
       "      filter: drop-shadow(0px 1px 2px rgba(0, 0, 0, 0.3));\n",
       "      fill: #FFFFFF;\n",
       "    }\n",
       "  </style>\n",
       "\n",
       "    <script>\n",
       "      const buttonEl =\n",
       "        document.querySelector('#df-4d18ee77-923b-43e1-988f-310599f70e3a button.colab-df-convert');\n",
       "      buttonEl.style.display =\n",
       "        google.colab.kernel.accessAllowed ? 'block' : 'none';\n",
       "\n",
       "      async function convertToInteractive(key) {\n",
       "        const element = document.querySelector('#df-4d18ee77-923b-43e1-988f-310599f70e3a');\n",
       "        const dataTable =\n",
       "          await google.colab.kernel.invokeFunction('convertToInteractive',\n",
       "                                                    [key], {});\n",
       "        if (!dataTable) return;\n",
       "\n",
       "        const docLinkHtml = 'Like what you see? Visit the ' +\n",
       "          '<a target=\"_blank\" href=https://colab.research.google.com/notebooks/data_table.ipynb>data table notebook</a>'\n",
       "          + ' to learn more about interactive tables.';\n",
       "        element.innerHTML = '';\n",
       "        dataTable['output_type'] = 'display_data';\n",
       "        await google.colab.output.renderOutput(dataTable, element);\n",
       "        const docLink = document.createElement('div');\n",
       "        docLink.innerHTML = docLinkHtml;\n",
       "        element.appendChild(docLink);\n",
       "      }\n",
       "    </script>\n",
       "  </div>\n",
       "\n",
       "\n",
       "<div id=\"df-6d0833c8-d1cd-4d32-8c3f-a6db6ee7da6b\">\n",
       "  <button class=\"colab-df-quickchart\" onclick=\"quickchart('df-6d0833c8-d1cd-4d32-8c3f-a6db6ee7da6b')\"\n",
       "            title=\"Suggest charts\"\n",
       "            style=\"display:none;\">\n",
       "\n",
       "<svg xmlns=\"http://www.w3.org/2000/svg\" height=\"24px\"viewBox=\"0 0 24 24\"\n",
       "     width=\"24px\">\n",
       "    <g>\n",
       "        <path d=\"M19 3H5c-1.1 0-2 .9-2 2v14c0 1.1.9 2 2 2h14c1.1 0 2-.9 2-2V5c0-1.1-.9-2-2-2zM9 17H7v-7h2v7zm4 0h-2V7h2v10zm4 0h-2v-4h2v4z\"/>\n",
       "    </g>\n",
       "</svg>\n",
       "  </button>\n",
       "\n",
       "<style>\n",
       "  .colab-df-quickchart {\n",
       "      --bg-color: #E8F0FE;\n",
       "      --fill-color: #1967D2;\n",
       "      --hover-bg-color: #E2EBFA;\n",
       "      --hover-fill-color: #174EA6;\n",
       "      --disabled-fill-color: #AAA;\n",
       "      --disabled-bg-color: #DDD;\n",
       "  }\n",
       "\n",
       "  [theme=dark] .colab-df-quickchart {\n",
       "      --bg-color: #3B4455;\n",
       "      --fill-color: #D2E3FC;\n",
       "      --hover-bg-color: #434B5C;\n",
       "      --hover-fill-color: #FFFFFF;\n",
       "      --disabled-bg-color: #3B4455;\n",
       "      --disabled-fill-color: #666;\n",
       "  }\n",
       "\n",
       "  .colab-df-quickchart {\n",
       "    background-color: var(--bg-color);\n",
       "    border: none;\n",
       "    border-radius: 50%;\n",
       "    cursor: pointer;\n",
       "    display: none;\n",
       "    fill: var(--fill-color);\n",
       "    height: 32px;\n",
       "    padding: 0;\n",
       "    width: 32px;\n",
       "  }\n",
       "\n",
       "  .colab-df-quickchart:hover {\n",
       "    background-color: var(--hover-bg-color);\n",
       "    box-shadow: 0 1px 2px rgba(60, 64, 67, 0.3), 0 1px 3px 1px rgba(60, 64, 67, 0.15);\n",
       "    fill: var(--button-hover-fill-color);\n",
       "  }\n",
       "\n",
       "  .colab-df-quickchart-complete:disabled,\n",
       "  .colab-df-quickchart-complete:disabled:hover {\n",
       "    background-color: var(--disabled-bg-color);\n",
       "    fill: var(--disabled-fill-color);\n",
       "    box-shadow: none;\n",
       "  }\n",
       "\n",
       "  .colab-df-spinner {\n",
       "    border: 2px solid var(--fill-color);\n",
       "    border-color: transparent;\n",
       "    border-bottom-color: var(--fill-color);\n",
       "    animation:\n",
       "      spin 1s steps(1) infinite;\n",
       "  }\n",
       "\n",
       "  @keyframes spin {\n",
       "    0% {\n",
       "      border-color: transparent;\n",
       "      border-bottom-color: var(--fill-color);\n",
       "      border-left-color: var(--fill-color);\n",
       "    }\n",
       "    20% {\n",
       "      border-color: transparent;\n",
       "      border-left-color: var(--fill-color);\n",
       "      border-top-color: var(--fill-color);\n",
       "    }\n",
       "    30% {\n",
       "      border-color: transparent;\n",
       "      border-left-color: var(--fill-color);\n",
       "      border-top-color: var(--fill-color);\n",
       "      border-right-color: var(--fill-color);\n",
       "    }\n",
       "    40% {\n",
       "      border-color: transparent;\n",
       "      border-right-color: var(--fill-color);\n",
       "      border-top-color: var(--fill-color);\n",
       "    }\n",
       "    60% {\n",
       "      border-color: transparent;\n",
       "      border-right-color: var(--fill-color);\n",
       "    }\n",
       "    80% {\n",
       "      border-color: transparent;\n",
       "      border-right-color: var(--fill-color);\n",
       "      border-bottom-color: var(--fill-color);\n",
       "    }\n",
       "    90% {\n",
       "      border-color: transparent;\n",
       "      border-bottom-color: var(--fill-color);\n",
       "    }\n",
       "  }\n",
       "</style>\n",
       "\n",
       "  <script>\n",
       "    async function quickchart(key) {\n",
       "      const quickchartButtonEl =\n",
       "        document.querySelector('#' + key + ' button');\n",
       "      quickchartButtonEl.disabled = true;  // To prevent multiple clicks.\n",
       "      quickchartButtonEl.classList.add('colab-df-spinner');\n",
       "      try {\n",
       "        const charts = await google.colab.kernel.invokeFunction(\n",
       "            'suggestCharts', [key], {});\n",
       "      } catch (error) {\n",
       "        console.error('Error during call to suggestCharts:', error);\n",
       "      }\n",
       "      quickchartButtonEl.classList.remove('colab-df-spinner');\n",
       "      quickchartButtonEl.classList.add('colab-df-quickchart-complete');\n",
       "    }\n",
       "    (() => {\n",
       "      let quickchartButtonEl =\n",
       "        document.querySelector('#df-6d0833c8-d1cd-4d32-8c3f-a6db6ee7da6b button');\n",
       "      quickchartButtonEl.style.display =\n",
       "        google.colab.kernel.accessAllowed ? 'block' : 'none';\n",
       "    })();\n",
       "  </script>\n",
       "</div>\n",
       "\n",
       "  <div id=\"id_f8feedff-63a7-42e4-95ec-35de906134f6\">\n",
       "    <style>\n",
       "      .colab-df-generate {\n",
       "        background-color: #E8F0FE;\n",
       "        border: none;\n",
       "        border-radius: 50%;\n",
       "        cursor: pointer;\n",
       "        display: none;\n",
       "        fill: #1967D2;\n",
       "        height: 32px;\n",
       "        padding: 0 0 0 0;\n",
       "        width: 32px;\n",
       "      }\n",
       "\n",
       "      .colab-df-generate:hover {\n",
       "        background-color: #E2EBFA;\n",
       "        box-shadow: 0px 1px 2px rgba(60, 64, 67, 0.3), 0px 1px 3px 1px rgba(60, 64, 67, 0.15);\n",
       "        fill: #174EA6;\n",
       "      }\n",
       "\n",
       "      [theme=dark] .colab-df-generate {\n",
       "        background-color: #3B4455;\n",
       "        fill: #D2E3FC;\n",
       "      }\n",
       "\n",
       "      [theme=dark] .colab-df-generate:hover {\n",
       "        background-color: #434B5C;\n",
       "        box-shadow: 0px 1px 3px 1px rgba(0, 0, 0, 0.15);\n",
       "        filter: drop-shadow(0px 1px 2px rgba(0, 0, 0, 0.3));\n",
       "        fill: #FFFFFF;\n",
       "      }\n",
       "    </style>\n",
       "    <button class=\"colab-df-generate\" onclick=\"generateWithVariable('En_Offen_span_1')\"\n",
       "            title=\"Generate code using this dataframe.\"\n",
       "            style=\"display:none;\">\n",
       "\n",
       "  <svg xmlns=\"http://www.w3.org/2000/svg\" height=\"24px\"viewBox=\"0 0 24 24\"\n",
       "       width=\"24px\">\n",
       "    <path d=\"M7,19H8.4L18.45,9,17,7.55,7,17.6ZM5,21V16.75L18.45,3.32a2,2,0,0,1,2.83,0l1.4,1.43a1.91,1.91,0,0,1,.58,1.4,1.91,1.91,0,0,1-.58,1.4L9.25,21ZM18.45,9,17,7.55Zm-12,3A5.31,5.31,0,0,0,4.9,8.1,5.31,5.31,0,0,0,1,6.5,5.31,5.31,0,0,0,4.9,4.9,5.31,5.31,0,0,0,6.5,1,5.31,5.31,0,0,0,8.1,4.9,5.31,5.31,0,0,0,12,6.5,5.46,5.46,0,0,0,6.5,12Z\"/>\n",
       "  </svg>\n",
       "    </button>\n",
       "    <script>\n",
       "      (() => {\n",
       "      const buttonEl =\n",
       "        document.querySelector('#id_f8feedff-63a7-42e4-95ec-35de906134f6 button.colab-df-generate');\n",
       "      buttonEl.style.display =\n",
       "        google.colab.kernel.accessAllowed ? 'block' : 'none';\n",
       "\n",
       "      buttonEl.onclick = () => {\n",
       "        google.colab.notebook.generateWithVariable('En_Offen_span_1');\n",
       "      }\n",
       "      })();\n",
       "    </script>\n",
       "  </div>\n",
       "\n",
       "    </div>\n",
       "  </div>\n"
      ],
      "text/plain": [
       "                                      tweet a etiquetar  \\\n",
       "0     tan tan feminista invisibilizaban constantemen...   \n",
       "1     eneatipo cooperativa karina ol carga q convirt...   \n",
       "2     sabr n femiorca karina ol flaiterio mapuchento...   \n",
       "3     antodellaw jonaoval carolinaleitao penalolen v...   \n",
       "4                 ciudadanolevi debajo piedra flaiterio   \n",
       "...                                                 ...   \n",
       "9522  tere marinov toda raz n sra marinov hoy femini...   \n",
       "9523  anariagrando andreaenlaruta clintjoselint ver ...   \n",
       "9524  feminista tan agresor dan risa verdad asco con...   \n",
       "9525       machinet feminista dicen colega karina oliva   \n",
       "9526  andreaenlaruta clintjoselint entonc feminista ...   \n",
       "\n",
       "      hate speech/estereotipo  \n",
       "0                         0.0  \n",
       "1                         0.0  \n",
       "2                         1.0  \n",
       "3                         0.0  \n",
       "4                         0.0  \n",
       "...                       ...  \n",
       "9522                      1.0  \n",
       "9523                      0.0  \n",
       "9524                      0.0  \n",
       "9525                      0.0  \n",
       "9526                      0.0  \n",
       "\n",
       "[9527 rows x 2 columns]"
      ]
     },
     "execution_count": 3,
     "metadata": {},
     "output_type": "execute_result"
    }
   ],
   "source": [
    "####### Spanish offensive language\n",
    "En_Offen_span_1 = En_Offen_span__N.read_csv('Spanish_final.csv')\n",
    "En_Offen_span_1"
   ]
  },
  {
   "cell_type": "code",
   "execution_count": 4,
   "metadata": {
    "colab": {
     "base_uri": "https://localhost:8080/"
    },
    "executionInfo": {
     "elapsed": 423,
     "status": "ok",
     "timestamp": 1708679452341,
     "user": {
      "displayName": "jadaprojects09",
      "userId": "16719958102440739805"
     },
     "user_tz": -330
    },
    "id": "sdeO03sXcKtJ",
    "outputId": "b960b00c-20ff-4593-b572-958826474b69"
   },
   "outputs": [
    {
     "data": {
      "text/plain": [
       "0.0    8919\n",
       "1.0     608\n",
       "Name: hate speech/estereotipo, dtype: int64"
      ]
     },
     "execution_count": 4,
     "metadata": {},
     "output_type": "execute_result"
    }
   ],
   "source": [
    "En_Offen_span_1['hate speech/estereotipo'].value_counts()"
   ]
  },
  {
   "cell_type": "code",
   "execution_count": 6,
   "metadata": {
    "executionInfo": {
     "elapsed": 1674,
     "status": "ok",
     "timestamp": 1708679516691,
     "user": {
      "displayName": "jadaprojects09",
      "userId": "16719958102440739805"
     },
     "user_tz": -330
    },
    "id": "5qF6XgCdzLpO"
   },
   "outputs": [],
   "source": [
    "from sklearn.feature_extraction.text import TfidfVectorizer as En_Offen_span_1tf\n",
    "\n",
    "En_Offen_span_1zer = En_Offen_span_1tf(analyzer='word', ngram_range= (1,1))\n",
    "En_Offen_span_1x = En_Offen_span_1zer.fit_transform(En_Offen_span_1['tweet a etiquetar'].values.astype('U')).toarray()"
   ]
  },
  {
   "cell_type": "code",
   "execution_count": 7,
   "metadata": {
    "colab": {
     "base_uri": "https://localhost:8080/"
    },
    "executionInfo": {
     "elapsed": 479,
     "status": "ok",
     "timestamp": 1708679525348,
     "user": {
      "displayName": "jadaprojects09",
      "userId": "16719958102440739805"
     },
     "user_tz": -330
    },
    "id": "gSZWa_qvPGqv",
    "outputId": "2c544b78-b19a-4c89-d506-91112d03b9c5"
   },
   "outputs": [
    {
     "data": {
      "text/plain": [
       "(9527, 26680)"
      ]
     },
     "execution_count": 7,
     "metadata": {},
     "output_type": "execute_result"
    }
   ],
   "source": [
    "En_Offen_span_1x.shape"
   ]
  },
  {
   "cell_type": "code",
   "execution_count": 8,
   "metadata": {
    "executionInfo": {
     "elapsed": 11,
     "status": "ok",
     "timestamp": 1708679528497,
     "user": {
      "displayName": "jadaprojects09",
      "userId": "16719958102440739805"
     },
     "user_tz": -330
    },
    "id": "hY3fdVp5dUuF"
   },
   "outputs": [],
   "source": [
    "En_Offen_span_1y = En_Offen_span_1['hate speech/estereotipo']"
   ]
  },
  {
   "cell_type": "code",
   "execution_count": 9,
   "metadata": {
    "colab": {
     "base_uri": "https://localhost:8080/"
    },
    "executionInfo": {
     "elapsed": 1111,
     "status": "ok",
     "timestamp": 1708679544965,
     "user": {
      "displayName": "jadaprojects09",
      "userId": "16719958102440739805"
     },
     "user_tz": -330
    },
    "id": "ek3KovBxddHU",
    "outputId": "4cf1731e-562f-4324-d13e-82bdf0dbb3fb"
   },
   "outputs": [
    {
     "name": "stdout",
     "output_type": "stream",
     "text": [
      "Original En_Offen_span_1 datashape Counter({0.0: 8919, 1.0: 608})\n",
      "Resampled En_Offen_span_1 datashape Counter({0.0: 608, 1.0: 608})\n"
     ]
    }
   ],
   "source": [
    "import imblearn\n",
    "from imblearn.under_sampling import RandomUnderSampler as En_Offen_span_1run\n",
    "from collections import Counter as En_Offen_span_1cn\n",
    "print('Original En_Offen_span_1 datashape %s' % En_Offen_span_1cn(En_Offen_span_1y))\n",
    "En_Offen_span_1ml = En_Offen_span_1run()\n",
    "En_Offen_span_1x, En_Offen_span_1y = En_Offen_span_1ml.fit_resample(En_Offen_span_1x, En_Offen_span_1y)\n",
    "print('Resampled En_Offen_span_1 datashape %s' % En_Offen_span_1cn(En_Offen_span_1y))\n"
   ]
  },
  {
   "cell_type": "code",
   "execution_count": 10,
   "metadata": {
    "colab": {
     "base_uri": "https://localhost:8080/"
    },
    "executionInfo": {
     "elapsed": 5927,
     "status": "ok",
     "timestamp": 1708679562415,
     "user": {
      "displayName": "jadaprojects09",
      "userId": "16719958102440739805"
     },
     "user_tz": -330
    },
    "id": "sUkr7ObUPOQk",
    "outputId": "3a67719c-f694-48eb-baea-4f68c741b5b3"
   },
   "outputs": [
    {
     "data": {
      "text/plain": [
       "(1216, 10)"
      ]
     },
     "execution_count": 10,
     "metadata": {},
     "output_type": "execute_result"
    }
   ],
   "source": [
    "from sklearn.decomposition import PCA as En_Offen_span_1pc\n",
    "En_Offen_span_1pcQ = En_Offen_span_1pc(n_components = 10)\n",
    "\n",
    "En_Offen_span_1x = En_Offen_span_1pcQ.fit_transform(En_Offen_span_1x)\n",
    "En_Offen_span_1x.shape"
   ]
  },
  {
   "cell_type": "code",
   "execution_count": 11,
   "metadata": {
    "colab": {
     "base_uri": "https://localhost:8080/"
    },
    "executionInfo": {
     "elapsed": 420,
     "status": "ok",
     "timestamp": 1708679570472,
     "user": {
      "displayName": "jadaprojects09",
      "userId": "16719958102440739805"
     },
     "user_tz": -330
    },
    "id": "yukMeM741CC9",
    "outputId": "72a9895c-4dca-4e3b-b4c8-3ba56209719a"
   },
   "outputs": [
    {
     "data": {
      "text/plain": [
       "(1216, 12140)"
      ]
     },
     "execution_count": 11,
     "metadata": {},
     "output_type": "execute_result"
    }
   ],
   "source": [
    "from sklearn.preprocessing import OneHotEncoder as En_Offen_span_Oh\n",
    "\n",
    "En_Offen_span_OhA = En_Offen_span_Oh()\n",
    "\n",
    "En_Offen_span_1x = En_Offen_span__N.DataFrame(En_Offen_span_OhA.fit_transform(En_Offen_span_1x).toarray())\n",
    "En_Offen_span_1x.shape"
   ]
  },
  {
   "cell_type": "code",
   "execution_count": 12,
   "metadata": {
    "colab": {
     "base_uri": "https://localhost:8080/"
    },
    "executionInfo": {
     "elapsed": 14742,
     "status": "ok",
     "timestamp": 1708679606611,
     "user": {
      "displayName": "jadaprojects09",
      "userId": "16719958102440739805"
     },
     "user_tz": -330
    },
    "id": "1wRlY0k_JKux",
    "outputId": "58d51de6-17d0-4b39-c1aa-d2619cc8d497"
   },
   "outputs": [
    {
     "data": {
      "text/plain": [
       "(1216, 500)"
      ]
     },
     "execution_count": 12,
     "metadata": {},
     "output_type": "execute_result"
    }
   ],
   "source": [
    "En_Offen_span_1pcQ = En_Offen_span_1pc(n_components = 500)\n",
    "\n",
    "En_Offen_span_1x = En_Offen_span_1pcQ.fit_transform(En_Offen_span_1x)\n",
    "En_Offen_span_1x.shape"
   ]
  },
  {
   "cell_type": "code",
   "execution_count": 13,
   "metadata": {
    "colab": {
     "base_uri": "https://localhost:8080/"
    },
    "executionInfo": {
     "elapsed": 468,
     "status": "ok",
     "timestamp": 1708679733180,
     "user": {
      "displayName": "jadaprojects09",
      "userId": "16719958102440739805"
     },
     "user_tz": -330
    },
    "id": "_zujK2ZJ4JvE",
    "outputId": "7aa75bcc-9e81-4646-da1c-25e95cafba49"
   },
   "outputs": [
    {
     "data": {
      "text/plain": [
       "(1216, 500)"
      ]
     },
     "execution_count": 13,
     "metadata": {},
     "output_type": "execute_result"
    }
   ],
   "source": [
    "En_Offen_span_1x.shape"
   ]
  },
  {
   "cell_type": "code",
   "execution_count": 14,
   "metadata": {
    "colab": {
     "base_uri": "https://localhost:8080/"
    },
    "executionInfo": {
     "elapsed": 8,
     "status": "ok",
     "timestamp": 1708679734648,
     "user": {
      "displayName": "jadaprojects09",
      "userId": "16719958102440739805"
     },
     "user_tz": -330
    },
    "id": "Z4biyScJeKf_",
    "outputId": "fc4782a6-ca68-451a-8003-ea5f2b68e318"
   },
   "outputs": [
    {
     "data": {
      "text/plain": [
       "(1216,)"
      ]
     },
     "execution_count": 14,
     "metadata": {},
     "output_type": "execute_result"
    }
   ],
   "source": [
    "En_Offen_span_1y.shape"
   ]
  },
  {
   "cell_type": "code",
   "execution_count": 15,
   "metadata": {
    "colab": {
     "base_uri": "https://localhost:8080/"
    },
    "executionInfo": {
     "elapsed": 505,
     "status": "ok",
     "timestamp": 1708679739656,
     "user": {
      "displayName": "jadaprojects09",
      "userId": "16719958102440739805"
     },
     "user_tz": -330
    },
    "id": "yR7QQtZjePpj",
    "outputId": "8b4667de-99fc-4c95-9d75-de90a84d42c4"
   },
   "outputs": [
    {
     "name": "stdout",
     "output_type": "stream",
     "text": [
      "(729, 500)\n",
      "(243, 500)\n",
      "(244, 500)\n"
     ]
    }
   ],
   "source": [
    "from sklearn.model_selection import train_test_split as En_Offen_span_1trs\n",
    "\n",
    "En_tssi =0.4\n",
    "En_rast = 40\n",
    "En_tssi1 =0.5\n",
    "\n",
    "En_Offen_span_1xr, En_Offen_span_1xe, En_Offen_span_1yr, En_Offen_span_1ye = En_Offen_span_1trs(En_Offen_span_1x, En_Offen_span_1y, test_size=En_tssi, random_state= En_rast)\n",
    "En_Offen_span_1xd, En_Offen_span_1xe, En_Offen_span_1yd, En_Offen_span_1ye = En_Offen_span_1trs(En_Offen_span_1xe, En_Offen_span_1ye, test_size= En_tssi1, random_state= En_rast)\n",
    "\n",
    "print(En_Offen_span_1xr.shape)\n",
    "print(En_Offen_span_1xd.shape)\n",
    "print(En_Offen_span_1xe.shape)"
   ]
  },
  {
   "cell_type": "markdown",
   "metadata": {
    "id": "e5zZTqeyf1Q0"
   },
   "source": [
    "### ML algorithm"
   ]
  },
  {
   "cell_type": "code",
   "execution_count": 16,
   "metadata": {
    "executionInfo": {
     "elapsed": 17,
     "status": "ok",
     "timestamp": 1708679741100,
     "user": {
      "displayName": "jadaprojects09",
      "userId": "16719958102440739805"
     },
     "user_tz": -330
    },
    "id": "KNQ4t7K1f5UH"
   },
   "outputs": [],
   "source": [
    "from sklearn.metrics import classification_report as En_Offen_span_1cffr\n",
    "from sklearn.metrics import confusion_matrix as En_Offen_span_1cfmt\n",
    "from sklearn.metrics import ConfusionMatrixDisplay as En_Offen_span_1cmxd\n",
    "from sklearn.model_selection import GridSearchCV as En_Offen_span_1grdsh\n",
    "import time as En_Offen_span_1tiim"
   ]
  },
  {
   "cell_type": "markdown",
   "metadata": {
    "id": "IAYiGqHTgUl1"
   },
   "source": [
    "#### decision tree"
   ]
  },
  {
   "cell_type": "code",
   "execution_count": 17,
   "metadata": {
    "colab": {
     "base_uri": "https://localhost:8080/"
    },
    "executionInfo": {
     "elapsed": 2409,
     "status": "ok",
     "timestamp": 1708679754335,
     "user": {
      "displayName": "jadaprojects09",
      "userId": "16719958102440739805"
     },
     "user_tz": -330
    },
    "id": "ng8dI6mXgcRA",
    "outputId": "fd1ab94c-83fc-4ea5-b15a-6b675de8c219"
   },
   "outputs": [
    {
     "name": "stdout",
     "output_type": "stream",
     "text": [
      "Fitting 2 folds for each of 18 candidates, totalling 36 fits\n",
      "[CV 1/2; 1/18] START criterion=entropy, max_features=log2, splitter=best........\n",
      "[CV 1/2; 1/18] END criterion=entropy, max_features=log2, splitter=best;, score=0.436 total time=   0.0s\n",
      "[CV 2/2; 1/18] START criterion=entropy, max_features=log2, splitter=best........\n",
      "[CV 2/2; 1/18] END criterion=entropy, max_features=log2, splitter=best;, score=0.520 total time=   0.0s\n",
      "[CV 1/2; 2/18] START criterion=entropy, max_features=log2, splitter=random......\n",
      "[CV 1/2; 2/18] END criterion=entropy, max_features=log2, splitter=random;, score=0.516 total time=   0.0s\n",
      "[CV 2/2; 2/18] START criterion=entropy, max_features=log2, splitter=random......\n",
      "[CV 2/2; 2/18] END criterion=entropy, max_features=log2, splitter=random;, score=0.428 total time=   0.0s\n",
      "[CV 1/2; 3/18] START criterion=entropy, max_features=sqrt, splitter=best........\n",
      "[CV 1/2; 3/18] END criterion=entropy, max_features=sqrt, splitter=best;, score=0.532 total time=   0.0s\n",
      "[CV 2/2; 3/18] START criterion=entropy, max_features=sqrt, splitter=best........\n",
      "[CV 2/2; 3/18] END criterion=entropy, max_features=sqrt, splitter=best;, score=0.488 total time=   0.0s\n",
      "[CV 1/2; 4/18] START criterion=entropy, max_features=sqrt, splitter=random......\n",
      "[CV 1/2; 4/18] END criterion=entropy, max_features=sqrt, splitter=random;, score=0.504 total time=   0.0s\n",
      "[CV 2/2; 4/18] START criterion=entropy, max_features=sqrt, splitter=random......\n",
      "[CV 2/2; 4/18] END criterion=entropy, max_features=sqrt, splitter=random;, score=0.532 total time=   0.0s\n",
      "[CV 1/2; 5/18] START criterion=entropy, max_features=None, splitter=best........\n",
      "[CV 1/2; 5/18] END criterion=entropy, max_features=None, splitter=best;, score=0.528 total time=   0.3s\n",
      "[CV 2/2; 5/18] START criterion=entropy, max_features=None, splitter=best........\n",
      "[CV 2/2; 5/18] END criterion=entropy, max_features=None, splitter=best;, score=0.548 total time=   0.2s\n",
      "[CV 1/2; 6/18] START criterion=entropy, max_features=None, splitter=random......\n",
      "[CV 1/2; 6/18] END criterion=entropy, max_features=None, splitter=random;, score=0.444 total time=   0.0s\n",
      "[CV 2/2; 6/18] START criterion=entropy, max_features=None, splitter=random......\n",
      "[CV 2/2; 6/18] END criterion=entropy, max_features=None, splitter=random;, score=0.536 total time=   0.0s\n",
      "[CV 1/2; 7/18] START criterion=gini, max_features=log2, splitter=best...........\n",
      "[CV 1/2; 7/18] END criterion=gini, max_features=log2, splitter=best;, score=0.468 total time=   0.0s\n",
      "[CV 2/2; 7/18] START criterion=gini, max_features=log2, splitter=best...........\n",
      "[CV 2/2; 7/18] END criterion=gini, max_features=log2, splitter=best;, score=0.568 total time=   0.0s\n",
      "[CV 1/2; 8/18] START criterion=gini, max_features=log2, splitter=random.........\n",
      "[CV 1/2; 8/18] END criterion=gini, max_features=log2, splitter=random;, score=0.504 total time=   0.0s\n",
      "[CV 2/2; 8/18] START criterion=gini, max_features=log2, splitter=random.........\n",
      "[CV 2/2; 8/18] END criterion=gini, max_features=log2, splitter=random;, score=0.464 total time=   0.0s\n",
      "[CV 1/2; 9/18] START criterion=gini, max_features=sqrt, splitter=best...........\n",
      "[CV 1/2; 9/18] END criterion=gini, max_features=sqrt, splitter=best;, score=0.472 total time=   0.0s\n",
      "[CV 2/2; 9/18] START criterion=gini, max_features=sqrt, splitter=best...........\n",
      "[CV 2/2; 9/18] END criterion=gini, max_features=sqrt, splitter=best;, score=0.476 total time=   0.0s\n",
      "[CV 1/2; 10/18] START criterion=gini, max_features=sqrt, splitter=random........\n",
      "[CV 1/2; 10/18] END criterion=gini, max_features=sqrt, splitter=random;, score=0.500 total time=   0.0s\n",
      "[CV 2/2; 10/18] START criterion=gini, max_features=sqrt, splitter=random........\n",
      "[CV 2/2; 10/18] END criterion=gini, max_features=sqrt, splitter=random;, score=0.480 total time=   0.0s\n",
      "[CV 1/2; 11/18] START criterion=gini, max_features=None, splitter=best..........\n",
      "[CV 1/2; 11/18] END criterion=gini, max_features=None, splitter=best;, score=0.500 total time=   0.2s\n",
      "[CV 2/2; 11/18] START criterion=gini, max_features=None, splitter=best..........\n",
      "[CV 2/2; 11/18] END criterion=gini, max_features=None, splitter=best;, score=0.520 total time=   0.1s\n",
      "[CV 1/2; 12/18] START criterion=gini, max_features=None, splitter=random........\n",
      "[CV 1/2; 12/18] END criterion=gini, max_features=None, splitter=random;, score=0.412 total time=   0.0s\n",
      "[CV 2/2; 12/18] START criterion=gini, max_features=None, splitter=random........\n",
      "[CV 2/2; 12/18] END criterion=gini, max_features=None, splitter=random;, score=0.492 total time=   0.0s\n",
      "[CV 1/2; 13/18] START criterion=log_loss, max_features=log2, splitter=best......\n",
      "[CV 1/2; 13/18] END criterion=log_loss, max_features=log2, splitter=best;, score=0.436 total time=   0.0s\n",
      "[CV 2/2; 13/18] START criterion=log_loss, max_features=log2, splitter=best......\n",
      "[CV 2/2; 13/18] END criterion=log_loss, max_features=log2, splitter=best;, score=0.520 total time=   0.0s\n",
      "[CV 1/2; 14/18] START criterion=log_loss, max_features=log2, splitter=random....\n",
      "[CV 1/2; 14/18] END criterion=log_loss, max_features=log2, splitter=random;, score=0.516 total time=   0.0s\n",
      "[CV 2/2; 14/18] START criterion=log_loss, max_features=log2, splitter=random....\n",
      "[CV 2/2; 14/18] END criterion=log_loss, max_features=log2, splitter=random;, score=0.428 total time=   0.0s\n",
      "[CV 1/2; 15/18] START criterion=log_loss, max_features=sqrt, splitter=best......\n",
      "[CV 1/2; 15/18] END criterion=log_loss, max_features=sqrt, splitter=best;, score=0.532 total time=   0.0s\n",
      "[CV 2/2; 15/18] START criterion=log_loss, max_features=sqrt, splitter=best......\n",
      "[CV 2/2; 15/18] END criterion=log_loss, max_features=sqrt, splitter=best;, score=0.488 total time=   0.0s\n",
      "[CV 1/2; 16/18] START criterion=log_loss, max_features=sqrt, splitter=random....\n",
      "[CV 1/2; 16/18] END criterion=log_loss, max_features=sqrt, splitter=random;, score=0.504 total time=   0.0s\n",
      "[CV 2/2; 16/18] START criterion=log_loss, max_features=sqrt, splitter=random....\n",
      "[CV 2/2; 16/18] END criterion=log_loss, max_features=sqrt, splitter=random;, score=0.532 total time=   0.0s\n",
      "[CV 1/2; 17/18] START criterion=log_loss, max_features=None, splitter=best......\n",
      "[CV 1/2; 17/18] END criterion=log_loss, max_features=None, splitter=best;, score=0.528 total time=   0.2s\n",
      "[CV 2/2; 17/18] START criterion=log_loss, max_features=None, splitter=best......\n",
      "[CV 2/2; 17/18] END criterion=log_loss, max_features=None, splitter=best;, score=0.548 total time=   0.2s\n",
      "[CV 1/2; 18/18] START criterion=log_loss, max_features=None, splitter=random....\n",
      "[CV 1/2; 18/18] END criterion=log_loss, max_features=None, splitter=random;, score=0.444 total time=   0.0s\n",
      "[CV 2/2; 18/18] START criterion=log_loss, max_features=None, splitter=random....\n",
      "[CV 2/2; 18/18] END criterion=log_loss, max_features=None, splitter=random;, score=0.536 total time=   0.0s\n",
      "{'criterion': 'entropy', 'max_features': None, 'splitter': 'best'}\n",
      "score-En_Offen_span_1:  0.538\n"
     ]
    }
   ],
   "source": [
    "from sklearn.tree import DecisionTreeClassifier as En_Offen_span_1dsne\n",
    "\n",
    "En_Hypm = { 'max_features': ['log2','sqrt',None],\n",
    "               'criterion': ['entropy','gini','log_loss'],\n",
    "               'splitter':['best','random']}\n",
    "\n",
    "\n",
    "En_Hypm_vsb = En_Offen_span_1dsne(random_state= En_rast)\n",
    "En_Hypm_vsb = En_Offen_span_1grdsh(En_Hypm_vsb, En_Hypm,\n",
    "                          cv=2, verbose=10)\n",
    "En_Hypm_vsb.fit(En_Offen_span_1xr[:500], En_Offen_span_1yr[:500])\n",
    "\n",
    "print(En_Hypm_vsb.best_params_)\n",
    "print(\"score-En_Offen_span_1: \", En_Hypm_vsb.best_score_)"
   ]
  },
  {
   "cell_type": "code",
   "execution_count": 18,
   "metadata": {
    "colab": {
     "base_uri": "https://localhost:8080/",
     "height": 709
    },
    "executionInfo": {
     "elapsed": 1167,
     "status": "ok",
     "timestamp": 1708679768398,
     "user": {
      "displayName": "jadaprojects09",
      "userId": "16719958102440739805"
     },
     "user_tz": -330
    },
    "id": "Z_klDQ6kgcSk",
    "outputId": "a72cd253-27ae-4585-dbb6-0561381d7172"
   },
   "outputs": [
    {
     "name": "stdout",
     "output_type": "stream",
     "text": [
      "\n",
      " training duration: 0.509366512298584 \n",
      "\n",
      "              precision    recall  f1-score   support\n",
      "\n",
      "         0.0       0.50      0.47      0.49       127\n",
      "         1.0       0.46      0.48      0.47       116\n",
      "\n",
      "    accuracy                           0.48       243\n",
      "   macro avg       0.48      0.48      0.48       243\n",
      "weighted avg       0.48      0.48      0.48       243\n",
      "\n",
      "\n",
      " validation duration: 0.056067705154418945 \n",
      "\n"
     ]
    },
    {
     "data": {
      "image/png": "[encoded data removed]",
      "text/plain": [
       "<Figure size 640x480 with 2 Axes>"
      ]
     },
     "metadata": {},
     "output_type": "display_data"
    }
   ],
   "source": [
    "En_pd1 = En_Offen_span_1tiim.time()\n",
    "\n",
    "En_Offen_span_MdA= En_Offen_span_1dsne(**En_Hypm_vsb.best_params_)\n",
    "En_Offen_span_MdA.fit(En_Offen_span_1xr, En_Offen_span_1yr)\n",
    "\n",
    "En_pd2 = En_Offen_span_1tiim.time()\n",
    "print(\"\\n training duration:\", En_pd2-En_pd1,\"\\n\")\n",
    "\n",
    "\n",
    "En_pd1 = En_Offen_span_1tiim.time()\n",
    "\n",
    "En_Offen_span_pct= En_Offen_span_MdA.predict(En_Offen_span_1xd)\n",
    "\n",
    "print(En_Offen_span_1cffr(En_Offen_span_1yd, En_Offen_span_pct))\n",
    "\n",
    "En_tk = En_Offen_span_1cfmt(En_Offen_span_1yd,En_Offen_span_pct)\n",
    "En_rd = En_Offen_span_1cmxd(confusion_matrix = En_tk, display_labels = [0,1])\n",
    "En_rd.plot()\n",
    "\n",
    "En_pd2= En_Offen_span_1tiim.time()\n",
    "print(\"\\n validation duration:\", En_pd2-En_pd1,\"\\n\")"
   ]
  },
  {
   "cell_type": "code",
   "execution_count": 19,
   "metadata": {
    "colab": {
     "base_uri": "https://localhost:8080/",
     "height": 489
    },
    "executionInfo": {
     "elapsed": 1004,
     "status": "ok",
     "timestamp": 1708679777692,
     "user": {
      "displayName": "jadaprojects09",
      "userId": "16719958102440739805"
     },
     "user_tz": -330
    },
    "id": "bQxMzST9gcqJ",
    "outputId": "a29d5aeb-e90b-40f6-a06d-070d2414d95d"
   },
   "outputs": [
    {
     "data": {
      "image/png": "[encoded data removed]",
      "text/plain": [
       "<Figure size 640x480 with 1 Axes>"
      ]
     },
     "metadata": {},
     "output_type": "display_data"
    },
    {
     "name": "stdout",
     "output_type": "stream",
     "text": [
      "auc- curve: 0.47759978278577253\n"
     ]
    }
   ],
   "source": [
    "from sklearn.metrics import roc_curve as En_Offen_span_rc\n",
    "from sklearn.metrics import roc_auc_score as En_Offen_span_ac\n",
    "import matplotlib.pyplot as En_Offen_span_mt\n",
    "\n",
    "En_Offen_span_Fals, En_Offen_span_tre, En_Offen_span_ths = En_Offen_span_rc(En_Offen_span_1yd, En_Offen_span_pct)\n",
    "En_Offen_span_mt.plot(En_Offen_span_Fals, En_Offen_span_tre)\n",
    "En_Offen_span_mt.ylabel('rate-Fals')\n",
    "En_Offen_span_mt.xlabel('rate-Tru')\n",
    "En_Offen_span_mt.title('roc curve')\n",
    "En_Offen_span_mt.show()\n",
    "print('auc- curve:', En_Offen_span_ac(En_Offen_span_1yd, En_Offen_span_pct))"
   ]
  },
  {
   "cell_type": "code",
   "execution_count": 20,
   "metadata": {
    "colab": {
     "base_uri": "https://localhost:8080/",
     "height": 657
    },
    "executionInfo": {
     "elapsed": 18,
     "status": "ok",
     "timestamp": 1708679777692,
     "user": {
      "displayName": "jadaprojects09",
      "userId": "16719958102440739805"
     },
     "user_tz": -330
    },
    "id": "CbxM3Mjfjty1",
    "outputId": "98fd8ecb-c32a-472f-e775-ca194f50a0b0"
   },
   "outputs": [
    {
     "name": "stdout",
     "output_type": "stream",
     "text": [
      "              precision    recall  f1-score   support\n",
      "\n",
      "         0.0       0.53      0.61      0.57       118\n",
      "         1.0       0.57      0.49      0.53       126\n",
      "\n",
      "    accuracy                           0.55       244\n",
      "   macro avg       0.55      0.55      0.55       244\n",
      "weighted avg       0.55      0.55      0.55       244\n",
      "\n",
      "\n",
      " testing duration: 0.06563115119934082 \n",
      "\n"
     ]
    },
    {
     "data": {
      "image/png": "[encoded data removed]",
      "text/plain": [
       "<Figure size 640x480 with 2 Axes>"
      ]
     },
     "metadata": {},
     "output_type": "display_data"
    }
   ],
   "source": [
    "En_pd1 = En_Offen_span_1tiim.time()\n",
    "\n",
    "En_Offen_span_pct= En_Offen_span_MdA.predict(En_Offen_span_1xe)\n",
    "\n",
    "print(En_Offen_span_1cffr(En_Offen_span_1ye, En_Offen_span_pct))\n",
    "\n",
    "En_tk = En_Offen_span_1cfmt(En_Offen_span_1ye,En_Offen_span_pct)\n",
    "En_rd = En_Offen_span_1cmxd(confusion_matrix = En_tk, display_labels = [0,1])\n",
    "En_rd.plot()\n",
    "\n",
    "En_pd2= En_Offen_span_1tiim.time()\n",
    "print(\"\\n testing duration:\", En_pd2-En_pd1,\"\\n\")"
   ]
  },
  {
   "cell_type": "code",
   "execution_count": 21,
   "metadata": {
    "colab": {
     "base_uri": "https://localhost:8080/",
     "height": 489
    },
    "executionInfo": {
     "elapsed": 760,
     "status": "ok",
     "timestamp": 1708679779827,
     "user": {
      "displayName": "jadaprojects09",
      "userId": "16719958102440739805"
     },
     "user_tz": -330
    },
    "id": "J5dOs9pUj4Hw",
    "outputId": "a6623fa5-dba7-415d-ec58-3d389bf1e48d"
   },
   "outputs": [
    {
     "data": {
      "image/png": "[encoded data removed]",
      "text/plain": [
       "<Figure size 640x480 with 1 Axes>"
      ]
     },
     "metadata": {},
     "output_type": "display_data"
    },
    {
     "name": "stdout",
     "output_type": "stream",
     "text": [
      "auc- curve: 0.5511164917944579\n"
     ]
    }
   ],
   "source": [
    "En_Offen_span_Fals, En_Offen_span_tre, En_Offen_span_ths = En_Offen_span_rc(En_Offen_span_1ye, En_Offen_span_pct)\n",
    "En_Offen_span_mt.plot(En_Offen_span_Fals, En_Offen_span_tre)\n",
    "En_Offen_span_mt.ylabel('rate-Fals')\n",
    "En_Offen_span_mt.xlabel('rate-Tru')\n",
    "En_Offen_span_mt.title('roc curve')\n",
    "En_Offen_span_mt.show()\n",
    "print('auc- curve:', En_Offen_span_ac(En_Offen_span_1ye, En_Offen_span_pct))"
   ]
  },
  {
   "cell_type": "markdown",
   "metadata": {
    "id": "GOK0iyp-krhA"
   },
   "source": [
    "#### SVM"
   ]
  },
  {
   "cell_type": "code",
   "execution_count": 22,
   "metadata": {
    "colab": {
     "base_uri": "https://localhost:8080/"
    },
    "executionInfo": {
     "elapsed": 4922,
     "status": "ok",
     "timestamp": 1708679801117,
     "user": {
      "displayName": "jadaprojects09",
      "userId": "16719958102440739805"
     },
     "user_tz": -330
    },
    "id": "falRLblIkyJS",
    "outputId": "8409ca6b-dda1-4082-b9ce-c13971033ccb"
   },
   "outputs": [
    {
     "name": "stdout",
     "output_type": "stream",
     "text": [
      "Fitting 2 folds for each of 48 candidates, totalling 96 fits\n",
      "[CV 1/2; 1/48] START degree=2, gamma=auto, kernel=sigmoid.......................\n",
      "[CV 1/2; 1/48] END degree=2, gamma=auto, kernel=sigmoid;, score=0.532 total time=   0.1s\n",
      "[CV 2/2; 1/48] START degree=2, gamma=auto, kernel=sigmoid.......................\n",
      "[CV 2/2; 1/48] END degree=2, gamma=auto, kernel=sigmoid;, score=0.500 total time=   0.1s\n",
      "[CV 1/2; 2/48] START degree=2, gamma=auto, kernel=poly..........................\n",
      "[CV 1/2; 2/48] END degree=2, gamma=auto, kernel=poly;, score=0.492 total time=   0.1s\n",
      "[CV 2/2; 2/48] START degree=2, gamma=auto, kernel=poly..........................\n",
      "[CV 2/2; 2/48] END degree=2, gamma=auto, kernel=poly;, score=0.500 total time=   0.1s\n",
      "[CV 1/2; 3/48] START degree=2, gamma=auto, kernel=rbg...........................\n",
      "[CV 1/2; 3/48] END degree=2, gamma=auto, kernel=rbg;, score=nan total time=   0.0s\n",
      "[CV 2/2; 3/48] START degree=2, gamma=auto, kernel=rbg...........................\n",
      "[CV 2/2; 3/48] END degree=2, gamma=auto, kernel=rbg;, score=nan total time=   0.0s\n",
      "[CV 1/2; 4/48] START degree=2, gamma=auto, kernel=linear........................\n",
      "[CV 1/2; 4/48] END degree=2, gamma=auto, kernel=linear;, score=0.516 total time=   0.1s\n",
      "[CV 2/2; 4/48] START degree=2, gamma=auto, kernel=linear........................\n",
      "[CV 2/2; 4/48] END degree=2, gamma=auto, kernel=linear;, score=0.504 total time=   0.1s\n",
      "[CV 1/2; 5/48] START degree=2, gamma=scale, kernel=sigmoid......................\n",
      "[CV 1/2; 5/48] END degree=2, gamma=scale, kernel=sigmoid;, score=0.532 total time=   0.1s\n",
      "[CV 2/2; 5/48] START degree=2, gamma=scale, kernel=sigmoid......................\n",
      "[CV 2/2; 5/48] END degree=2, gamma=scale, kernel=sigmoid;, score=0.508 total time=   0.1s\n",
      "[CV 1/2; 6/48] START degree=2, gamma=scale, kernel=poly.........................\n",
      "[CV 1/2; 6/48] END degree=2, gamma=scale, kernel=poly;, score=0.532 total time=   0.0s\n",
      "[CV 2/2; 6/48] START degree=2, gamma=scale, kernel=poly.........................\n",
      "[CV 2/2; 6/48] END degree=2, gamma=scale, kernel=poly;, score=0.500 total time=   0.1s\n",
      "[CV 1/2; 7/48] START degree=2, gamma=scale, kernel=rbg..........................\n",
      "[CV 1/2; 7/48] END degree=2, gamma=scale, kernel=rbg;, score=nan total time=   0.0s\n",
      "[CV 2/2; 7/48] START degree=2, gamma=scale, kernel=rbg..........................\n",
      "[CV 2/2; 7/48] END degree=2, gamma=scale, kernel=rbg;, score=nan total time=   0.0s\n",
      "[CV 1/2; 8/48] START degree=2, gamma=scale, kernel=linear.......................\n",
      "[CV 1/2; 8/48] END degree=2, gamma=scale, kernel=linear;, score=0.516 total time=   0.1s\n",
      "[CV 2/2; 8/48] START degree=2, gamma=scale, kernel=linear.......................\n",
      "[CV 2/2; 8/48] END degree=2, gamma=scale, kernel=linear;, score=0.504 total time=   0.0s\n",
      "[CV 1/2; 9/48] START degree=3, gamma=auto, kernel=sigmoid.......................\n",
      "[CV 1/2; 9/48] END degree=3, gamma=auto, kernel=sigmoid;, score=0.532 total time=   0.0s\n",
      "[CV 2/2; 9/48] START degree=3, gamma=auto, kernel=sigmoid.......................\n",
      "[CV 2/2; 9/48] END degree=3, gamma=auto, kernel=sigmoid;, score=0.500 total time=   0.0s\n",
      "[CV 1/2; 10/48] START degree=3, gamma=auto, kernel=poly.........................\n",
      "[CV 1/2; 10/48] END degree=3, gamma=auto, kernel=poly;, score=0.504 total time=   0.0s\n",
      "[CV 2/2; 10/48] START degree=3, gamma=auto, kernel=poly.........................\n",
      "[CV 2/2; 10/48] END degree=3, gamma=auto, kernel=poly;, score=0.500 total time=   0.0s\n",
      "[CV 1/2; 11/48] START degree=3, gamma=auto, kernel=rbg..........................\n",
      "[CV 1/2; 11/48] END degree=3, gamma=auto, kernel=rbg;, score=nan total time=   0.0s\n",
      "[CV 2/2; 11/48] START degree=3, gamma=auto, kernel=rbg..........................\n",
      "[CV 2/2; 11/48] END degree=3, gamma=auto, kernel=rbg;, score=nan total time=   0.0s\n",
      "[CV 1/2; 12/48] START degree=3, gamma=auto, kernel=linear.......................\n",
      "[CV 1/2; 12/48] END degree=3, gamma=auto, kernel=linear;, score=0.516 total time=   0.0s\n",
      "[CV 2/2; 12/48] START degree=3, gamma=auto, kernel=linear.......................\n",
      "[CV 2/2; 12/48] END degree=3, gamma=auto, kernel=linear;, score=0.504 total time=   0.1s\n",
      "[CV 1/2; 13/48] START degree=3, gamma=scale, kernel=sigmoid.....................\n",
      "[CV 1/2; 13/48] END degree=3, gamma=scale, kernel=sigmoid;, score=0.532 total time=   0.1s\n",
      "[CV 2/2; 13/48] START degree=3, gamma=scale, kernel=sigmoid.....................\n",
      "[CV 2/2; 13/48] END degree=3, gamma=scale, kernel=sigmoid;, score=0.508 total time=   0.1s\n",
      "[CV 1/2; 14/48] START degree=3, gamma=scale, kernel=poly........................\n",
      "[CV 1/2; 14/48] END degree=3, gamma=scale, kernel=poly;, score=0.496 total time=   0.1s\n",
      "[CV 2/2; 14/48] START degree=3, gamma=scale, kernel=poly........................\n",
      "[CV 2/2; 14/48] END degree=3, gamma=scale, kernel=poly;, score=0.500 total time=   0.1s\n",
      "[CV 1/2; 15/48] START degree=3, gamma=scale, kernel=rbg.........................\n",
      "[CV 1/2; 15/48] END degree=3, gamma=scale, kernel=rbg;, score=nan total time=   0.0s\n",
      "[CV 2/2; 15/48] START degree=3, gamma=scale, kernel=rbg.........................\n",
      "[CV 2/2; 15/48] END degree=3, gamma=scale, kernel=rbg;, score=nan total time=   0.0s\n",
      "[CV 1/2; 16/48] START degree=3, gamma=scale, kernel=linear......................\n",
      "[CV 1/2; 16/48] END degree=3, gamma=scale, kernel=linear;, score=0.516 total time=   0.1s\n",
      "[CV 2/2; 16/48] START degree=3, gamma=scale, kernel=linear......................\n",
      "[CV 2/2; 16/48] END degree=3, gamma=scale, kernel=linear;, score=0.504 total time=   0.1s\n",
      "[CV 1/2; 17/48] START degree=4, gamma=auto, kernel=sigmoid......................\n",
      "[CV 1/2; 17/48] END degree=4, gamma=auto, kernel=sigmoid;, score=0.532 total time=   0.1s\n",
      "[CV 2/2; 17/48] START degree=4, gamma=auto, kernel=sigmoid......................\n",
      "[CV 2/2; 17/48] END degree=4, gamma=auto, kernel=sigmoid;, score=0.500 total time=   0.1s\n",
      "[CV 1/2; 18/48] START degree=4, gamma=auto, kernel=poly.........................\n",
      "[CV 1/2; 18/48] END degree=4, gamma=auto, kernel=poly;, score=0.504 total time=   0.1s\n",
      "[CV 2/2; 18/48] START degree=4, gamma=auto, kernel=poly.........................\n",
      "[CV 2/2; 18/48] END degree=4, gamma=auto, kernel=poly;, score=0.500 total time=   0.1s\n",
      "[CV 1/2; 19/48] START degree=4, gamma=auto, kernel=rbg..........................\n",
      "[CV 1/2; 19/48] END degree=4, gamma=auto, kernel=rbg;, score=nan total time=   0.0s\n",
      "[CV 2/2; 19/48] START degree=4, gamma=auto, kernel=rbg..........................\n",
      "[CV 2/2; 19/48] END degree=4, gamma=auto, kernel=rbg;, score=nan total time=   0.0s\n",
      "[CV 1/2; 20/48] START degree=4, gamma=auto, kernel=linear.......................\n",
      "[CV 1/2; 20/48] END degree=4, gamma=auto, kernel=linear;, score=0.516 total time=   0.1s\n",
      "[CV 2/2; 20/48] START degree=4, gamma=auto, kernel=linear.......................\n",
      "[CV 2/2; 20/48] END degree=4, gamma=auto, kernel=linear;, score=0.504 total time=   0.1s\n",
      "[CV 1/2; 21/48] START degree=4, gamma=scale, kernel=sigmoid.....................\n",
      "[CV 1/2; 21/48] END degree=4, gamma=scale, kernel=sigmoid;, score=0.532 total time=   0.1s\n",
      "[CV 2/2; 21/48] START degree=4, gamma=scale, kernel=sigmoid.....................\n",
      "[CV 2/2; 21/48] END degree=4, gamma=scale, kernel=sigmoid;, score=0.508 total time=   0.1s\n",
      "[CV 1/2; 22/48] START degree=4, gamma=scale, kernel=poly........................\n",
      "[CV 1/2; 22/48] END degree=4, gamma=scale, kernel=poly;, score=0.496 total time=   0.1s\n",
      "[CV 2/2; 22/48] START degree=4, gamma=scale, kernel=poly........................\n",
      "[CV 2/2; 22/48] END degree=4, gamma=scale, kernel=poly;, score=0.500 total time=   0.1s\n",
      "[CV 1/2; 23/48] START degree=4, gamma=scale, kernel=rbg.........................\n",
      "[CV 1/2; 23/48] END degree=4, gamma=scale, kernel=rbg;, score=nan total time=   0.0s\n",
      "[CV 2/2; 23/48] START degree=4, gamma=scale, kernel=rbg.........................\n",
      "[CV 2/2; 23/48] END degree=4, gamma=scale, kernel=rbg;, score=nan total time=   0.0s\n",
      "[CV 1/2; 24/48] START degree=4, gamma=scale, kernel=linear......................\n",
      "[CV 1/2; 24/48] END degree=4, gamma=scale, kernel=linear;, score=0.516 total time=   0.0s\n",
      "[CV 2/2; 24/48] START degree=4, gamma=scale, kernel=linear......................\n",
      "[CV 2/2; 24/48] END degree=4, gamma=scale, kernel=linear;, score=0.504 total time=   0.0s\n",
      "[CV 1/2; 25/48] START degree=5, gamma=auto, kernel=sigmoid......................\n",
      "[CV 1/2; 25/48] END degree=5, gamma=auto, kernel=sigmoid;, score=0.532 total time=   0.0s\n",
      "[CV 2/2; 25/48] START degree=5, gamma=auto, kernel=sigmoid......................\n",
      "[CV 2/2; 25/48] END degree=5, gamma=auto, kernel=sigmoid;, score=0.500 total time=   0.1s\n",
      "[CV 1/2; 26/48] START degree=5, gamma=auto, kernel=poly.........................\n",
      "[CV 1/2; 26/48] END degree=5, gamma=auto, kernel=poly;, score=0.504 total time=   0.1s\n",
      "[CV 2/2; 26/48] START degree=5, gamma=auto, kernel=poly.........................\n",
      "[CV 2/2; 26/48] END degree=5, gamma=auto, kernel=poly;, score=0.500 total time=   0.1s\n",
      "[CV 1/2; 27/48] START degree=5, gamma=auto, kernel=rbg..........................\n",
      "[CV 1/2; 27/48] END degree=5, gamma=auto, kernel=rbg;, score=nan total time=   0.0s\n",
      "[CV 2/2; 27/48] START degree=5, gamma=auto, kernel=rbg..........................\n",
      "[CV 2/2; 27/48] END degree=5, gamma=auto, kernel=rbg;, score=nan total time=   0.0s\n",
      "[CV 1/2; 28/48] START degree=5, gamma=auto, kernel=linear.......................\n",
      "[CV 1/2; 28/48] END degree=5, gamma=auto, kernel=linear;, score=0.516 total time=   0.1s\n",
      "[CV 2/2; 28/48] START degree=5, gamma=auto, kernel=linear.......................\n",
      "[CV 2/2; 28/48] END degree=5, gamma=auto, kernel=linear;, score=0.504 total time=   0.1s\n",
      "[CV 1/2; 29/48] START degree=5, gamma=scale, kernel=sigmoid.....................\n",
      "[CV 1/2; 29/48] END degree=5, gamma=scale, kernel=sigmoid;, score=0.532 total time=   0.1s\n",
      "[CV 2/2; 29/48] START degree=5, gamma=scale, kernel=sigmoid.....................\n",
      "[CV 2/2; 29/48] END degree=5, gamma=scale, kernel=sigmoid;, score=0.508 total time=   0.1s\n",
      "[CV 1/2; 30/48] START degree=5, gamma=scale, kernel=poly........................\n",
      "[CV 1/2; 30/48] END degree=5, gamma=scale, kernel=poly;, score=0.496 total time=   0.1s\n",
      "[CV 2/2; 30/48] START degree=5, gamma=scale, kernel=poly........................\n",
      "[CV 2/2; 30/48] END degree=5, gamma=scale, kernel=poly;, score=0.500 total time=   0.1s\n",
      "[CV 1/2; 31/48] START degree=5, gamma=scale, kernel=rbg.........................\n",
      "[CV 1/2; 31/48] END degree=5, gamma=scale, kernel=rbg;, score=nan total time=   0.0s\n",
      "[CV 2/2; 31/48] START degree=5, gamma=scale, kernel=rbg.........................\n",
      "[CV 2/2; 31/48] END degree=5, gamma=scale, kernel=rbg;, score=nan total time=   0.0s\n",
      "[CV 1/2; 32/48] START degree=5, gamma=scale, kernel=linear......................\n",
      "[CV 1/2; 32/48] END degree=5, gamma=scale, kernel=linear;, score=0.516 total time=   0.0s\n",
      "[CV 2/2; 32/48] START degree=5, gamma=scale, kernel=linear......................\n",
      "[CV 2/2; 32/48] END degree=5, gamma=scale, kernel=linear;, score=0.504 total time=   0.1s\n",
      "[CV 1/2; 33/48] START degree=6, gamma=auto, kernel=sigmoid......................\n",
      "[CV 1/2; 33/48] END degree=6, gamma=auto, kernel=sigmoid;, score=0.532 total time=   0.1s\n",
      "[CV 2/2; 33/48] START degree=6, gamma=auto, kernel=sigmoid......................\n",
      "[CV 2/2; 33/48] END degree=6, gamma=auto, kernel=sigmoid;, score=0.500 total time=   0.1s\n",
      "[CV 1/2; 34/48] START degree=6, gamma=auto, kernel=poly.........................\n",
      "[CV 1/2; 34/48] END degree=6, gamma=auto, kernel=poly;, score=0.504 total time=   0.1s\n",
      "[CV 2/2; 34/48] START degree=6, gamma=auto, kernel=poly.........................\n",
      "[CV 2/2; 34/48] END degree=6, gamma=auto, kernel=poly;, score=0.500 total time=   0.1s\n",
      "[CV 1/2; 35/48] START degree=6, gamma=auto, kernel=rbg..........................\n",
      "[CV 1/2; 35/48] END degree=6, gamma=auto, kernel=rbg;, score=nan total time=   0.0s\n",
      "[CV 2/2; 35/48] START degree=6, gamma=auto, kernel=rbg..........................\n",
      "[CV 2/2; 35/48] END degree=6, gamma=auto, kernel=rbg;, score=nan total time=   0.0s\n",
      "[CV 1/2; 36/48] START degree=6, gamma=auto, kernel=linear.......................\n",
      "[CV 1/2; 36/48] END degree=6, gamma=auto, kernel=linear;, score=0.516 total time=   0.1s\n",
      "[CV 2/2; 36/48] START degree=6, gamma=auto, kernel=linear.......................\n",
      "[CV 2/2; 36/48] END degree=6, gamma=auto, kernel=linear;, score=0.504 total time=   0.0s\n",
      "[CV 1/2; 37/48] START degree=6, gamma=scale, kernel=sigmoid.....................\n",
      "[CV 1/2; 37/48] END degree=6, gamma=scale, kernel=sigmoid;, score=0.532 total time=   0.1s\n",
      "[CV 2/2; 37/48] START degree=6, gamma=scale, kernel=sigmoid.....................\n",
      "[CV 2/2; 37/48] END degree=6, gamma=scale, kernel=sigmoid;, score=0.508 total time=   0.0s\n",
      "[CV 1/2; 38/48] START degree=6, gamma=scale, kernel=poly........................\n",
      "[CV 1/2; 38/48] END degree=6, gamma=scale, kernel=poly;, score=0.496 total time=   0.0s\n",
      "[CV 2/2; 38/48] START degree=6, gamma=scale, kernel=poly........................\n",
      "[CV 2/2; 38/48] END degree=6, gamma=scale, kernel=poly;, score=0.500 total time=   0.0s\n",
      "[CV 1/2; 39/48] START degree=6, gamma=scale, kernel=rbg.........................\n",
      "[CV 1/2; 39/48] END degree=6, gamma=scale, kernel=rbg;, score=nan total time=   0.0s\n",
      "[CV 2/2; 39/48] START degree=6, gamma=scale, kernel=rbg.........................\n",
      "[CV 2/2; 39/48] END degree=6, gamma=scale, kernel=rbg;, score=nan total time=   0.0s\n",
      "[CV 1/2; 40/48] START degree=6, gamma=scale, kernel=linear......................\n",
      "[CV 1/2; 40/48] END degree=6, gamma=scale, kernel=linear;, score=0.516 total time=   0.0s\n",
      "[CV 2/2; 40/48] START degree=6, gamma=scale, kernel=linear......................\n",
      "[CV 2/2; 40/48] END degree=6, gamma=scale, kernel=linear;, score=0.504 total time=   0.0s\n",
      "[CV 1/2; 41/48] START degree=7, gamma=auto, kernel=sigmoid......................\n",
      "[CV 1/2; 41/48] END degree=7, gamma=auto, kernel=sigmoid;, score=0.532 total time=   0.0s\n",
      "[CV 2/2; 41/48] START degree=7, gamma=auto, kernel=sigmoid......................\n",
      "[CV 2/2; 41/48] END degree=7, gamma=auto, kernel=sigmoid;, score=0.500 total time=   0.0s\n",
      "[CV 1/2; 42/48] START degree=7, gamma=auto, kernel=poly.........................\n",
      "[CV 1/2; 42/48] END degree=7, gamma=auto, kernel=poly;, score=0.504 total time=   0.0s\n",
      "[CV 2/2; 42/48] START degree=7, gamma=auto, kernel=poly.........................\n",
      "[CV 2/2; 42/48] END degree=7, gamma=auto, kernel=poly;, score=0.500 total time=   0.0s\n",
      "[CV 1/2; 43/48] START degree=7, gamma=auto, kernel=rbg..........................\n",
      "[CV 1/2; 43/48] END degree=7, gamma=auto, kernel=rbg;, score=nan total time=   0.0s\n",
      "[CV 2/2; 43/48] START degree=7, gamma=auto, kernel=rbg..........................\n",
      "[CV 2/2; 43/48] END degree=7, gamma=auto, kernel=rbg;, score=nan total time=   0.0s\n",
      "[CV 1/2; 44/48] START degree=7, gamma=auto, kernel=linear.......................\n",
      "[CV 1/2; 44/48] END degree=7, gamma=auto, kernel=linear;, score=0.516 total time=   0.0s\n",
      "[CV 2/2; 44/48] START degree=7, gamma=auto, kernel=linear.......................\n",
      "[CV 2/2; 44/48] END degree=7, gamma=auto, kernel=linear;, score=0.504 total time=   0.0s\n",
      "[CV 1/2; 45/48] START degree=7, gamma=scale, kernel=sigmoid.....................\n",
      "[CV 1/2; 45/48] END degree=7, gamma=scale, kernel=sigmoid;, score=0.532 total time=   0.0s\n",
      "[CV 2/2; 45/48] START degree=7, gamma=scale, kernel=sigmoid.....................\n",
      "[CV 2/2; 45/48] END degree=7, gamma=scale, kernel=sigmoid;, score=0.508 total time=   0.0s\n",
      "[CV 1/2; 46/48] START degree=7, gamma=scale, kernel=poly........................\n",
      "[CV 1/2; 46/48] END degree=7, gamma=scale, kernel=poly;, score=0.496 total time=   0.0s\n",
      "[CV 2/2; 46/48] START degree=7, gamma=scale, kernel=poly........................\n",
      "[CV 2/2; 46/48] END degree=7, gamma=scale, kernel=poly;, score=0.500 total time=   0.0s\n",
      "[CV 1/2; 47/48] START degree=7, gamma=scale, kernel=rbg.........................\n",
      "[CV 1/2; 47/48] END degree=7, gamma=scale, kernel=rbg;, score=nan total time=   0.0s\n",
      "[CV 2/2; 47/48] START degree=7, gamma=scale, kernel=rbg.........................\n",
      "[CV 2/2; 47/48] END degree=7, gamma=scale, kernel=rbg;, score=nan total time=   0.0s\n",
      "[CV 1/2; 48/48] START degree=7, gamma=scale, kernel=linear......................\n",
      "[CV 1/2; 48/48] END degree=7, gamma=scale, kernel=linear;, score=0.516 total time=   0.0s\n",
      "[CV 2/2; 48/48] START degree=7, gamma=scale, kernel=linear......................\n",
      "[CV 2/2; 48/48] END degree=7, gamma=scale, kernel=linear;, score=0.504 total time=   0.0s\n",
      "{'degree': 2, 'gamma': 'scale', 'kernel': 'sigmoid'}\n",
      "score-En_Offen_span_1:  0.52\n"
     ]
    }
   ],
   "source": [
    "from sklearn.svm import SVC as En_Offen_span_1spv\n",
    "\n",
    "En_Hypm = { 'kernel': ['sigmoid','poly','rbg','linear'],\n",
    "               'gamma': ['auto','scale'],\n",
    "               'degree':[2,3,4,5,6,7]}\n",
    "\n",
    "\n",
    "En_Hypm_vsb = En_Offen_span_1spv(random_state= En_rast)\n",
    "En_Hypm_vsb = En_Offen_span_1grdsh(En_Hypm_vsb, En_Hypm,\n",
    "                          cv=2, verbose=10)\n",
    "En_Hypm_vsb.fit(En_Offen_span_1xr[:500], En_Offen_span_1yr[:500])\n",
    "\n",
    "print(En_Hypm_vsb.best_params_)\n",
    "print(\"score-En_Offen_span_1: \", En_Hypm_vsb.best_score_)"
   ]
  },
  {
   "cell_type": "code",
   "execution_count": 23,
   "metadata": {
    "colab": {
     "base_uri": "https://localhost:8080/",
     "height": 715
    },
    "executionInfo": {
     "elapsed": 930,
     "status": "ok",
     "timestamp": 1708679802007,
     "user": {
      "displayName": "jadaprojects09",
      "userId": "16719958102440739805"
     },
     "user_tz": -330
    },
    "id": "D_dBiPj8kyKz",
    "outputId": "17c83328-c474-47e1-f2c8-b78fd5b2e85a"
   },
   "outputs": [
    {
     "name": "stdout",
     "output_type": "stream",
     "text": [
      "\n",
      " training duration: 0.16370797157287598 \n",
      "\n",
      "              precision    recall  f1-score   support\n",
      "\n",
      "         0.0       0.51      0.47      0.49       127\n",
      "         1.0       0.46      0.50      0.48       116\n",
      "\n",
      "    accuracy                           0.49       243\n",
      "   macro avg       0.49      0.49      0.49       243\n",
      "weighted avg       0.49      0.49      0.49       243\n",
      "\n",
      "\n",
      " validation duration: 0.16143012046813965 \n",
      "\n"
     ]
    },
    {
     "data": {
      "image/png": "[encoded data removed]",
      "text/plain": [
       "<Figure size 640x480 with 2 Axes>"
      ]
     },
     "metadata": {},
     "output_type": "display_data"
    }
   ],
   "source": [
    "En_pd1 = En_Offen_span_1tiim.time()\n",
    "\n",
    "En_Offen_span_MdB= En_Offen_span_1spv(**En_Hypm_vsb.best_params_)\n",
    "En_Offen_span_MdB.fit(En_Offen_span_1xr, En_Offen_span_1yr)\n",
    "\n",
    "En_pd2 = En_Offen_span_1tiim.time()\n",
    "print(\"\\n training duration:\", En_pd2-En_pd1,\"\\n\")\n",
    "\n",
    "\n",
    "En_pd1 = En_Offen_span_1tiim.time()\n",
    "\n",
    "En_Offen_span_pct= En_Offen_span_MdB.predict(En_Offen_span_1xd)\n",
    "\n",
    "print(En_Offen_span_1cffr(En_Offen_span_1yd, En_Offen_span_pct))\n",
    "\n",
    "En_tk = En_Offen_span_1cfmt(En_Offen_span_1yd,En_Offen_span_pct)\n",
    "En_rd = En_Offen_span_1cmxd(confusion_matrix = En_tk, display_labels = [0,1])\n",
    "En_rd.plot()\n",
    "\n",
    "En_pd2= En_Offen_span_1tiim.time()\n",
    "print(\"\\n validation duration:\", En_pd2-En_pd1,\"\\n\")"
   ]
  },
  {
   "cell_type": "code",
   "execution_count": 24,
   "metadata": {
    "colab": {
     "base_uri": "https://localhost:8080/",
     "height": 489
    },
    "executionInfo": {
     "elapsed": 586,
     "status": "ok",
     "timestamp": 1708679802474,
     "user": {
      "displayName": "jadaprojects09",
      "userId": "16719958102440739805"
     },
     "user_tz": -330
    },
    "id": "kIeL9cV6mQja",
    "outputId": "1b30fef0-ea58-46d5-959d-886f968c366a"
   },
   "outputs": [
    {
     "data": {
      "image/png": "[encoded data removed]",
      "text/plain": [
       "<Figure size 640x480 with 1 Axes>"
      ]
     },
     "metadata": {},
     "output_type": "display_data"
    },
    {
     "name": "stdout",
     "output_type": "stream",
     "text": [
      "auc- curve: 0.4862204724409449\n"
     ]
    }
   ],
   "source": [
    "En_Offen_span_Fals, En_Offen_span_tre, En_Offen_span_ths = En_Offen_span_rc(En_Offen_span_1yd, En_Offen_span_pct)\n",
    "En_Offen_span_mt.plot(En_Offen_span_Fals, En_Offen_span_tre)\n",
    "En_Offen_span_mt.ylabel('rate-Fals')\n",
    "En_Offen_span_mt.xlabel('rate-Tru')\n",
    "En_Offen_span_mt.title('roc curve')\n",
    "En_Offen_span_mt.show()\n",
    "print('auc- curve:', En_Offen_span_ac(En_Offen_span_1yd, En_Offen_span_pct))"
   ]
  },
  {
   "cell_type": "code",
   "execution_count": 25,
   "metadata": {
    "colab": {
     "base_uri": "https://localhost:8080/",
     "height": 657
    },
    "executionInfo": {
     "elapsed": 797,
     "status": "ok",
     "timestamp": 1708679803225,
     "user": {
      "displayName": "jadaprojects09",
      "userId": "16719958102440739805"
     },
     "user_tz": -330
    },
    "id": "AIYWOoq8kyON",
    "outputId": "e7829aa9-cb24-4efd-8e79-bfc16535bde9"
   },
   "outputs": [
    {
     "name": "stdout",
     "output_type": "stream",
     "text": [
      "              precision    recall  f1-score   support\n",
      "\n",
      "         0.0       0.55      0.55      0.55       118\n",
      "         1.0       0.58      0.57      0.57       126\n",
      "\n",
      "    accuracy                           0.56       244\n",
      "   macro avg       0.56      0.56      0.56       244\n",
      "weighted avg       0.56      0.56      0.56       244\n",
      "\n",
      "\n",
      " testing duration: 0.1492612361907959 \n",
      "\n"
     ]
    },
    {
     "data": {
      "image/png": "[encoded data removed]",
      "text/plain": [
       "<Figure size 640x480 with 2 Axes>"
      ]
     },
     "metadata": {},
     "output_type": "display_data"
    }
   ],
   "source": [
    "En_pd1 = En_Offen_span_1tiim.time()\n",
    "\n",
    "En_Offen_span_pct= En_Offen_span_MdB.predict(En_Offen_span_1xe)\n",
    "\n",
    "print(En_Offen_span_1cffr(En_Offen_span_1ye, En_Offen_span_pct))\n",
    "\n",
    "En_tk = En_Offen_span_1cfmt(En_Offen_span_1ye,En_Offen_span_pct)\n",
    "En_rd = En_Offen_span_1cmxd(confusion_matrix = En_tk, display_labels = [0,1])\n",
    "En_rd.plot()\n",
    "\n",
    "En_pd2= En_Offen_span_1tiim.time()\n",
    "print(\"\\n testing duration:\", En_pd2-En_pd1,\"\\n\")"
   ]
  },
  {
   "cell_type": "code",
   "execution_count": 26,
   "metadata": {
    "colab": {
     "base_uri": "https://localhost:8080/",
     "height": 489
    },
    "executionInfo": {
     "elapsed": 68,
     "status": "ok",
     "timestamp": 1708679803226,
     "user": {
      "displayName": "jadaprojects09",
      "userId": "16719958102440739805"
     },
     "user_tz": -330
    },
    "id": "9qT2xKVHkyP0",
    "outputId": "de1a87b2-570d-48b9-ee13-9821672a902d"
   },
   "outputs": [
    {
     "data": {
      "image/png": "[encoded data removed]",
      "text/plain": [
       "<Figure size 640x480 with 1 Axes>"
      ]
     },
     "metadata": {},
     "output_type": "display_data"
    },
    {
     "name": "stdout",
     "output_type": "stream",
     "text": [
      "auc- curve: 0.5611380145278451\n"
     ]
    }
   ],
   "source": [
    "En_Offen_span_Fals, En_Offen_span_tre, En_Offen_span_ths = En_Offen_span_rc(En_Offen_span_1ye, En_Offen_span_pct)\n",
    "En_Offen_span_mt.plot(En_Offen_span_Fals, En_Offen_span_tre)\n",
    "En_Offen_span_mt.ylabel('rate-Fals')\n",
    "En_Offen_span_mt.xlabel('rate-Tru')\n",
    "En_Offen_span_mt.title('roc curve')\n",
    "En_Offen_span_mt.show()\n",
    "print('auc- curve:', En_Offen_span_ac(En_Offen_span_1ye, En_Offen_span_pct))"
   ]
  },
  {
   "cell_type": "markdown",
   "metadata": {
    "id": "C2Yg6t3gmlDM"
   },
   "source": [
    "#### naïve bayes"
   ]
  },
  {
   "cell_type": "code",
   "execution_count": 27,
   "metadata": {
    "colab": {
     "base_uri": "https://localhost:8080/"
    },
    "executionInfo": {
     "elapsed": 840,
     "status": "ok",
     "timestamp": 1708679804009,
     "user": {
      "displayName": "jadaprojects09",
      "userId": "16719958102440739805"
     },
     "user_tz": -330
    },
    "id": "FNB2XCWRmorB",
    "outputId": "a65f87dc-f857-43b6-db62-82d6d9a634e8"
   },
   "outputs": [
    {
     "name": "stdout",
     "output_type": "stream",
     "text": [
      "Fitting 2 folds for each of 5 candidates, totalling 10 fits\n",
      "[CV 1/2; 1/5] START var_smoothing=1e-09.........................................\n",
      "[CV 1/2; 1/5] END ..........var_smoothing=1e-09;, score=0.492 total time=   0.0s\n",
      "[CV 2/2; 1/5] START var_smoothing=1e-09.........................................\n",
      "[CV 2/2; 1/5] END ..........var_smoothing=1e-09;, score=0.492 total time=   0.0s\n",
      "[CV 1/2; 2/5] START var_smoothing=1e-10.........................................\n",
      "[CV 1/2; 2/5] END ..........var_smoothing=1e-10;, score=0.492 total time=   0.0s\n",
      "[CV 2/2; 2/5] START var_smoothing=1e-10.........................................\n",
      "[CV 2/2; 2/5] END ..........var_smoothing=1e-10;, score=0.492 total time=   0.0s\n",
      "[CV 1/2; 3/5] START var_smoothing=1e-11.........................................\n",
      "[CV 1/2; 3/5] END ..........var_smoothing=1e-11;, score=0.492 total time=   0.0s\n",
      "[CV 2/2; 3/5] START var_smoothing=1e-11.........................................\n",
      "[CV 2/2; 3/5] END ..........var_smoothing=1e-11;, score=0.492 total time=   0.0s\n",
      "[CV 1/2; 4/5] START var_smoothing=1e-12.........................................\n",
      "[CV 1/2; 4/5] END ..........var_smoothing=1e-12;, score=0.492 total time=   0.0s\n",
      "[CV 2/2; 4/5] START var_smoothing=1e-12.........................................\n",
      "[CV 2/2; 4/5] END ..........var_smoothing=1e-12;, score=0.492 total time=   0.0s\n",
      "[CV 1/2; 5/5] START var_smoothing=1e-13.........................................\n",
      "[CV 1/2; 5/5] END ..........var_smoothing=1e-13;, score=0.492 total time=   0.0s\n",
      "[CV 2/2; 5/5] START var_smoothing=1e-13.........................................\n",
      "[CV 2/2; 5/5] END ..........var_smoothing=1e-13;, score=0.492 total time=   0.0s\n",
      "{'var_smoothing': 1e-09}\n",
      "score-En_Offen_span_1:  0.492\n"
     ]
    }
   ],
   "source": [
    "from sklearn.naive_bayes import GaussianNB as En_Offen_span_1nvb\n",
    "\n",
    "En_Hypm = { 'var_smoothing': [1e-9,1e-10,1e-11,1e-12,1e-13]}\n",
    "\n",
    "\n",
    "En_Hypm_vsb = En_Offen_span_1nvb()\n",
    "En_Hypm_vsb = En_Offen_span_1grdsh(En_Hypm_vsb, En_Hypm,\n",
    "                          cv=2, verbose=10)\n",
    "En_Hypm_vsb.fit(En_Offen_span_1xr[:500], En_Offen_span_1yr[:500])\n",
    "\n",
    "print(En_Hypm_vsb.best_params_)\n",
    "print(\"score-En_Offen_span_1: \", En_Hypm_vsb.best_score_)"
   ]
  },
  {
   "cell_type": "code",
   "execution_count": 28,
   "metadata": {
    "colab": {
     "base_uri": "https://localhost:8080/",
     "height": 709
    },
    "executionInfo": {
     "elapsed": 25,
     "status": "ok",
     "timestamp": 1708679804010,
     "user": {
      "displayName": "jadaprojects09",
      "userId": "16719958102440739805"
     },
     "user_tz": -330
    },
    "id": "h2jnjuoZmotC",
    "outputId": "9533e931-75c3-4097-c2bc-54a87027600e"
   },
   "outputs": [
    {
     "name": "stdout",
     "output_type": "stream",
     "text": [
      "\n",
      " training duration: 0.014369487762451172 \n",
      "\n",
      "              precision    recall  f1-score   support\n",
      "\n",
      "         0.0       0.58      0.51      0.54       127\n",
      "         1.0       0.52      0.59      0.55       116\n",
      "\n",
      "    accuracy                           0.55       243\n",
      "   macro avg       0.55      0.55      0.55       243\n",
      "weighted avg       0.55      0.55      0.55       243\n",
      "\n",
      "\n",
      " validation duration: 0.09755420684814453 \n",
      "\n"
     ]
    },
    {
     "data": {
      "image/png": "[encoded data removed]",
      "text/plain": [
       "<Figure size 640x480 with 2 Axes>"
      ]
     },
     "metadata": {},
     "output_type": "display_data"
    }
   ],
   "source": [
    "En_pd1 = En_Offen_span_1tiim.time()\n",
    "\n",
    "En_Offen_span_MdC= En_Offen_span_1nvb(**En_Hypm_vsb.best_params_)\n",
    "En_Offen_span_MdC.fit(En_Offen_span_1xr, En_Offen_span_1yr)\n",
    "\n",
    "En_pd2 = En_Offen_span_1tiim.time()\n",
    "print(\"\\n training duration:\", En_pd2-En_pd1,\"\\n\")\n",
    "\n",
    "\n",
    "En_pd1 = En_Offen_span_1tiim.time()\n",
    "\n",
    "En_Offen_span_pct= En_Offen_span_MdC.predict(En_Offen_span_1xd)\n",
    "\n",
    "print(En_Offen_span_1cffr(En_Offen_span_1yd, En_Offen_span_pct))\n",
    "\n",
    "En_tk = En_Offen_span_1cfmt(En_Offen_span_1yd,En_Offen_span_pct)\n",
    "En_rd = En_Offen_span_1cmxd(confusion_matrix = En_tk, display_labels = [0,1])\n",
    "En_rd.plot()\n",
    "\n",
    "En_pd2= En_Offen_span_1tiim.time()\n",
    "print(\"\\n validation duration:\", En_pd2-En_pd1,\"\\n\")"
   ]
  },
  {
   "cell_type": "code",
   "execution_count": 29,
   "metadata": {
    "colab": {
     "base_uri": "https://localhost:8080/",
     "height": 489
    },
    "executionInfo": {
     "elapsed": 563,
     "status": "ok",
     "timestamp": 1708679804559,
     "user": {
      "displayName": "jadaprojects09",
      "userId": "16719958102440739805"
     },
     "user_tz": -330
    },
    "id": "UrlIwNMimowN",
    "outputId": "ab4c58eb-78f8-4564-a20a-dc811db2a5a3"
   },
   "outputs": [
    {
     "data": {
      "image/png": "[encoded data removed]",
      "text/plain": [
       "<Figure size 640x480 with 1 Axes>"
      ]
     },
     "metadata": {},
     "output_type": "display_data"
    },
    {
     "name": "stdout",
     "output_type": "stream",
     "text": [
      "auc- curve: 0.5490089600868857\n"
     ]
    }
   ],
   "source": [
    "En_Offen_span_Fals, En_Offen_span_tre, En_Offen_span_ths = En_Offen_span_rc(En_Offen_span_1yd, En_Offen_span_pct)\n",
    "En_Offen_span_mt.plot(En_Offen_span_Fals, En_Offen_span_tre)\n",
    "En_Offen_span_mt.ylabel('rate-Fals')\n",
    "En_Offen_span_mt.xlabel('rate-Tru')\n",
    "En_Offen_span_mt.title('roc curve')\n",
    "En_Offen_span_mt.show()\n",
    "print('auc- curve:', En_Offen_span_ac(En_Offen_span_1yd, En_Offen_span_pct))"
   ]
  },
  {
   "cell_type": "code",
   "execution_count": 30,
   "metadata": {
    "colab": {
     "base_uri": "https://localhost:8080/",
     "height": 657
    },
    "executionInfo": {
     "elapsed": 886,
     "status": "ok",
     "timestamp": 1708679805382,
     "user": {
      "displayName": "jadaprojects09",
      "userId": "16719958102440739805"
     },
     "user_tz": -330
    },
    "id": "Is3dwpcSmoxs",
    "outputId": "6ab47e2e-472d-4f80-acde-4aec6a48f160"
   },
   "outputs": [
    {
     "name": "stdout",
     "output_type": "stream",
     "text": [
      "              precision    recall  f1-score   support\n",
      "\n",
      "         0.0       0.53      0.56      0.54       118\n",
      "         1.0       0.56      0.53      0.55       126\n",
      "\n",
      "    accuracy                           0.55       244\n",
      "   macro avg       0.55      0.55      0.55       244\n",
      "weighted avg       0.55      0.55      0.55       244\n",
      "\n",
      "\n",
      " testing duration: 0.3331766128540039 \n",
      "\n"
     ]
    },
    {
     "data": {
      "image/png": "[encoded data removed]",
      "text/plain": [
       "<Figure size 640x480 with 2 Axes>"
      ]
     },
     "metadata": {},
     "output_type": "display_data"
    }
   ],
   "source": [
    "En_pd1 = En_Offen_span_1tiim.time()\n",
    "\n",
    "En_Offen_span_pct= En_Offen_span_MdC.predict(En_Offen_span_1xe)\n",
    "\n",
    "print(En_Offen_span_1cffr(En_Offen_span_1ye, En_Offen_span_pct))\n",
    "\n",
    "En_tk = En_Offen_span_1cfmt(En_Offen_span_1ye,En_Offen_span_pct)\n",
    "En_rd = En_Offen_span_1cmxd(confusion_matrix = En_tk, display_labels = [0,1])\n",
    "En_rd.plot()\n",
    "\n",
    "En_pd2= En_Offen_span_1tiim.time()\n",
    "print(\"\\n testing duration:\", En_pd2-En_pd1,\"\\n\")"
   ]
  },
  {
   "cell_type": "code",
   "execution_count": 31,
   "metadata": {
    "colab": {
     "base_uri": "https://localhost:8080/",
     "height": 489
    },
    "executionInfo": {
     "elapsed": 751,
     "status": "ok",
     "timestamp": 1708679806034,
     "user": {
      "displayName": "jadaprojects09",
      "userId": "16719958102440739805"
     },
     "user_tz": -330
    },
    "id": "ePVg_YPhntk1",
    "outputId": "dec00ca4-4c9c-4a25-a80d-e7654bd595b5"
   },
   "outputs": [
    {
     "data": {
      "image/png": "[encoded data removed]",
      "text/plain": [
       "<Figure size 640x480 with 1 Axes>"
      ]
     },
     "metadata": {},
     "output_type": "display_data"
    },
    {
     "name": "stdout",
     "output_type": "stream",
     "text": [
      "auc- curve: 0.5455340328221685\n"
     ]
    }
   ],
   "source": [
    "En_Offen_span_Fals, En_Offen_span_tre, En_Offen_span_ths = En_Offen_span_rc(En_Offen_span_1ye, En_Offen_span_pct)\n",
    "En_Offen_span_mt.plot(En_Offen_span_Fals, En_Offen_span_tre)\n",
    "En_Offen_span_mt.ylabel('rate-Fals')\n",
    "En_Offen_span_mt.xlabel('rate-Tru')\n",
    "En_Offen_span_mt.title('roc curve')\n",
    "En_Offen_span_mt.show()\n",
    "print('auc- curve:', En_Offen_span_ac(En_Offen_span_1ye, En_Offen_span_pct))"
   ]
  },
  {
   "cell_type": "markdown",
   "metadata": {
    "id": "ZJHeOEI3oOL4"
   },
   "source": [
    "#### Adaboost"
   ]
  },
  {
   "cell_type": "code",
   "execution_count": 32,
   "metadata": {
    "colab": {
     "base_uri": "https://localhost:8080/"
    },
    "executionInfo": {
     "elapsed": 119160,
     "status": "ok",
     "timestamp": 1708679925124,
     "user": {
      "displayName": "jadaprojects09",
      "userId": "16719958102440739805"
     },
     "user_tz": -330
    },
    "id": "id78XeTkoR4i",
    "outputId": "5249bb8e-a6d1-4363-9fee-3a422462bb8a"
   },
   "outputs": [
    {
     "name": "stdout",
     "output_type": "stream",
     "text": [
      "Fitting 2 folds for each of 50 candidates, totalling 100 fits\n",
      "[CV 1/2; 1/50] START algorithm=SAMME.R, learning_rate=1.0, n_estimators=40......\n",
      "[CV 1/2; 1/50] END algorithm=SAMME.R, learning_rate=1.0, n_estimators=40;, score=0.512 total time=   1.1s\n",
      "[CV 2/2; 1/50] START algorithm=SAMME.R, learning_rate=1.0, n_estimators=40......\n",
      "[CV 2/2; 1/50] END algorithm=SAMME.R, learning_rate=1.0, n_estimators=40;, score=0.520 total time=   0.8s\n",
      "[CV 1/2; 2/50] START algorithm=SAMME.R, learning_rate=1.0, n_estimators=50......\n",
      "[CV 1/2; 2/50] END algorithm=SAMME.R, learning_rate=1.0, n_estimators=50;, score=0.492 total time=   0.9s\n",
      "[CV 2/2; 2/50] START algorithm=SAMME.R, learning_rate=1.0, n_estimators=50......\n",
      "[CV 2/2; 2/50] END algorithm=SAMME.R, learning_rate=1.0, n_estimators=50;, score=0.544 total time=   0.9s\n",
      "[CV 1/2; 3/50] START algorithm=SAMME.R, learning_rate=1.0, n_estimators=60......\n",
      "[CV 1/2; 3/50] END algorithm=SAMME.R, learning_rate=1.0, n_estimators=60;, score=0.492 total time=   1.1s\n",
      "[CV 2/2; 3/50] START algorithm=SAMME.R, learning_rate=1.0, n_estimators=60......\n",
      "[CV 2/2; 3/50] END algorithm=SAMME.R, learning_rate=1.0, n_estimators=60;, score=0.536 total time=   1.3s\n",
      "[CV 1/2; 4/50] START algorithm=SAMME.R, learning_rate=1.0, n_estimators=70......\n",
      "[CV 1/2; 4/50] END algorithm=SAMME.R, learning_rate=1.0, n_estimators=70;, score=0.528 total time=   1.7s\n",
      "[CV 2/2; 4/50] START algorithm=SAMME.R, learning_rate=1.0, n_estimators=70......\n",
      "[CV 2/2; 4/50] END algorithm=SAMME.R, learning_rate=1.0, n_estimators=70;, score=0.524 total time=   1.5s\n",
      "[CV 1/2; 5/50] START algorithm=SAMME.R, learning_rate=1.0, n_estimators=80......\n",
      "[CV 1/2; 5/50] END algorithm=SAMME.R, learning_rate=1.0, n_estimators=80;, score=0.536 total time=   1.4s\n",
      "[CV 2/2; 5/50] START algorithm=SAMME.R, learning_rate=1.0, n_estimators=80......\n",
      "[CV 2/2; 5/50] END algorithm=SAMME.R, learning_rate=1.0, n_estimators=80;, score=0.540 total time=   1.4s\n",
      "[CV 1/2; 6/50] START algorithm=SAMME.R, learning_rate=2.0, n_estimators=40......\n",
      "[CV 1/2; 6/50] END algorithm=SAMME.R, learning_rate=2.0, n_estimators=40;, score=0.480 total time=   0.7s\n",
      "[CV 2/2; 6/50] START algorithm=SAMME.R, learning_rate=2.0, n_estimators=40......\n",
      "[CV 2/2; 6/50] END algorithm=SAMME.R, learning_rate=2.0, n_estimators=40;, score=0.548 total time=   0.7s\n",
      "[CV 1/2; 7/50] START algorithm=SAMME.R, learning_rate=2.0, n_estimators=50......\n",
      "[CV 1/2; 7/50] END algorithm=SAMME.R, learning_rate=2.0, n_estimators=50;, score=0.504 total time=   0.9s\n",
      "[CV 2/2; 7/50] START algorithm=SAMME.R, learning_rate=2.0, n_estimators=50......\n",
      "[CV 2/2; 7/50] END algorithm=SAMME.R, learning_rate=2.0, n_estimators=50;, score=0.544 total time=   0.9s\n",
      "[CV 1/2; 8/50] START algorithm=SAMME.R, learning_rate=2.0, n_estimators=60......\n",
      "[CV 1/2; 8/50] END algorithm=SAMME.R, learning_rate=2.0, n_estimators=60;, score=0.520 total time=   1.1s\n",
      "[CV 2/2; 8/50] START algorithm=SAMME.R, learning_rate=2.0, n_estimators=60......\n",
      "[CV 2/2; 8/50] END algorithm=SAMME.R, learning_rate=2.0, n_estimators=60;, score=0.544 total time=   1.1s\n",
      "[CV 1/2; 9/50] START algorithm=SAMME.R, learning_rate=2.0, n_estimators=70......\n",
      "[CV 1/2; 9/50] END algorithm=SAMME.R, learning_rate=2.0, n_estimators=70;, score=0.536 total time=   1.3s\n",
      "[CV 2/2; 9/50] START algorithm=SAMME.R, learning_rate=2.0, n_estimators=70......\n",
      "[CV 2/2; 9/50] END algorithm=SAMME.R, learning_rate=2.0, n_estimators=70;, score=0.544 total time=   1.7s\n",
      "[CV 1/2; 10/50] START algorithm=SAMME.R, learning_rate=2.0, n_estimators=80.....\n",
      "[CV 1/2; 10/50] END algorithm=SAMME.R, learning_rate=2.0, n_estimators=80;, score=0.528 total time=   1.9s\n",
      "[CV 2/2; 10/50] START algorithm=SAMME.R, learning_rate=2.0, n_estimators=80.....\n",
      "[CV 2/2; 10/50] END algorithm=SAMME.R, learning_rate=2.0, n_estimators=80;, score=0.552 total time=   1.4s\n",
      "[CV 1/2; 11/50] START algorithm=SAMME.R, learning_rate=3.0, n_estimators=40.....\n",
      "[CV 1/2; 11/50] END algorithm=SAMME.R, learning_rate=3.0, n_estimators=40;, score=0.444 total time=   0.7s\n",
      "[CV 2/2; 11/50] START algorithm=SAMME.R, learning_rate=3.0, n_estimators=40.....\n",
      "[CV 2/2; 11/50] END algorithm=SAMME.R, learning_rate=3.0, n_estimators=40;, score=0.484 total time=   0.7s\n",
      "[CV 1/2; 12/50] START algorithm=SAMME.R, learning_rate=3.0, n_estimators=50.....\n",
      "[CV 1/2; 12/50] END algorithm=SAMME.R, learning_rate=3.0, n_estimators=50;, score=0.448 total time=   0.9s\n",
      "[CV 2/2; 12/50] START algorithm=SAMME.R, learning_rate=3.0, n_estimators=50.....\n",
      "[CV 2/2; 12/50] END algorithm=SAMME.R, learning_rate=3.0, n_estimators=50;, score=0.484 total time=   0.9s\n",
      "[CV 1/2; 13/50] START algorithm=SAMME.R, learning_rate=3.0, n_estimators=60.....\n",
      "[CV 1/2; 13/50] END algorithm=SAMME.R, learning_rate=3.0, n_estimators=60;, score=0.448 total time=   1.1s\n",
      "[CV 2/2; 13/50] START algorithm=SAMME.R, learning_rate=3.0, n_estimators=60.....\n",
      "[CV 2/2; 13/50] END algorithm=SAMME.R, learning_rate=3.0, n_estimators=60;, score=0.484 total time=   1.1s\n",
      "[CV 1/2; 14/50] START algorithm=SAMME.R, learning_rate=3.0, n_estimators=70.....\n",
      "[CV 1/2; 14/50] END algorithm=SAMME.R, learning_rate=3.0, n_estimators=70;, score=0.448 total time=   1.3s\n",
      "[CV 2/2; 14/50] START algorithm=SAMME.R, learning_rate=3.0, n_estimators=70.....\n",
      "[CV 2/2; 14/50] END algorithm=SAMME.R, learning_rate=3.0, n_estimators=70;, score=0.484 total time=   1.3s\n",
      "[CV 1/2; 15/50] START algorithm=SAMME.R, learning_rate=3.0, n_estimators=80.....\n",
      "[CV 1/2; 15/50] END algorithm=SAMME.R, learning_rate=3.0, n_estimators=80;, score=0.460 total time=   1.7s\n",
      "[CV 2/2; 15/50] START algorithm=SAMME.R, learning_rate=3.0, n_estimators=80.....\n",
      "[CV 2/2; 15/50] END algorithm=SAMME.R, learning_rate=3.0, n_estimators=80;, score=0.484 total time=   1.9s\n",
      "[CV 1/2; 16/50] START algorithm=SAMME.R, learning_rate=4.0, n_estimators=40.....\n",
      "[CV 1/2; 16/50] END algorithm=SAMME.R, learning_rate=4.0, n_estimators=40;, score=0.440 total time=   0.8s\n",
      "[CV 2/2; 16/50] START algorithm=SAMME.R, learning_rate=4.0, n_estimators=40.....\n",
      "[CV 2/2; 16/50] END algorithm=SAMME.R, learning_rate=4.0, n_estimators=40;, score=0.484 total time=   0.7s\n",
      "[CV 1/2; 17/50] START algorithm=SAMME.R, learning_rate=4.0, n_estimators=50.....\n",
      "[CV 1/2; 17/50] END algorithm=SAMME.R, learning_rate=4.0, n_estimators=50;, score=0.440 total time=   0.9s\n",
      "[CV 2/2; 17/50] START algorithm=SAMME.R, learning_rate=4.0, n_estimators=50.....\n",
      "[CV 2/2; 17/50] END algorithm=SAMME.R, learning_rate=4.0, n_estimators=50;, score=0.484 total time=   0.9s\n",
      "[CV 1/2; 18/50] START algorithm=SAMME.R, learning_rate=4.0, n_estimators=60.....\n",
      "[CV 1/2; 18/50] END algorithm=SAMME.R, learning_rate=4.0, n_estimators=60;, score=0.440 total time=   1.1s\n",
      "[CV 2/2; 18/50] START algorithm=SAMME.R, learning_rate=4.0, n_estimators=60.....\n",
      "[CV 2/2; 18/50] END algorithm=SAMME.R, learning_rate=4.0, n_estimators=60;, score=0.484 total time=   1.1s\n",
      "[CV 1/2; 19/50] START algorithm=SAMME.R, learning_rate=4.0, n_estimators=70.....\n",
      "[CV 1/2; 19/50] END algorithm=SAMME.R, learning_rate=4.0, n_estimators=70;, score=0.440 total time=   1.2s\n",
      "[CV 2/2; 19/50] START algorithm=SAMME.R, learning_rate=4.0, n_estimators=70.....\n",
      "[CV 2/2; 19/50] END algorithm=SAMME.R, learning_rate=4.0, n_estimators=70;, score=0.484 total time=   1.2s\n",
      "[CV 1/2; 20/50] START algorithm=SAMME.R, learning_rate=4.0, n_estimators=80.....\n",
      "[CV 1/2; 20/50] END algorithm=SAMME.R, learning_rate=4.0, n_estimators=80;, score=0.440 total time=   1.4s\n",
      "[CV 2/2; 20/50] START algorithm=SAMME.R, learning_rate=4.0, n_estimators=80.....\n",
      "[CV 2/2; 20/50] END algorithm=SAMME.R, learning_rate=4.0, n_estimators=80;, score=0.484 total time=   1.6s\n",
      "[CV 1/2; 21/50] START algorithm=SAMME.R, learning_rate=5.0, n_estimators=40.....\n",
      "[CV 1/2; 21/50] END algorithm=SAMME.R, learning_rate=5.0, n_estimators=40;, score=0.448 total time=   0.9s\n",
      "[CV 2/2; 21/50] START algorithm=SAMME.R, learning_rate=5.0, n_estimators=40.....\n",
      "[CV 2/2; 21/50] END algorithm=SAMME.R, learning_rate=5.0, n_estimators=40;, score=0.536 total time=   0.9s\n",
      "[CV 1/2; 22/50] START algorithm=SAMME.R, learning_rate=5.0, n_estimators=50.....\n",
      "[CV 1/2; 22/50] END algorithm=SAMME.R, learning_rate=5.0, n_estimators=50;, score=0.448 total time=   1.2s\n",
      "[CV 2/2; 22/50] START algorithm=SAMME.R, learning_rate=5.0, n_estimators=50.....\n",
      "[CV 2/2; 22/50] END algorithm=SAMME.R, learning_rate=5.0, n_estimators=50;, score=0.536 total time=   0.9s\n",
      "[CV 1/2; 23/50] START algorithm=SAMME.R, learning_rate=5.0, n_estimators=60.....\n",
      "[CV 1/2; 23/50] END algorithm=SAMME.R, learning_rate=5.0, n_estimators=60;, score=0.448 total time=   1.1s\n",
      "[CV 2/2; 23/50] START algorithm=SAMME.R, learning_rate=5.0, n_estimators=60.....\n",
      "[CV 2/2; 23/50] END algorithm=SAMME.R, learning_rate=5.0, n_estimators=60;, score=0.536 total time=   1.1s\n",
      "[CV 1/2; 24/50] START algorithm=SAMME.R, learning_rate=5.0, n_estimators=70.....\n",
      "[CV 1/2; 24/50] END algorithm=SAMME.R, learning_rate=5.0, n_estimators=70;, score=0.448 total time=   1.2s\n",
      "[CV 2/2; 24/50] START algorithm=SAMME.R, learning_rate=5.0, n_estimators=70.....\n",
      "[CV 2/2; 24/50] END algorithm=SAMME.R, learning_rate=5.0, n_estimators=70;, score=0.536 total time=   1.3s\n",
      "[CV 1/2; 25/50] START algorithm=SAMME.R, learning_rate=5.0, n_estimators=80.....\n",
      "[CV 1/2; 25/50] END algorithm=SAMME.R, learning_rate=5.0, n_estimators=80;, score=0.448 total time=   1.4s\n",
      "[CV 2/2; 25/50] START algorithm=SAMME.R, learning_rate=5.0, n_estimators=80.....\n",
      "[CV 2/2; 25/50] END algorithm=SAMME.R, learning_rate=5.0, n_estimators=80;, score=0.536 total time=   1.4s\n",
      "[CV 1/2; 26/50] START algorithm=SAMME, learning_rate=1.0, n_estimators=40.......\n",
      "[CV 1/2; 26/50] END algorithm=SAMME, learning_rate=1.0, n_estimators=40;, score=0.476 total time=   1.2s\n",
      "[CV 2/2; 26/50] START algorithm=SAMME, learning_rate=1.0, n_estimators=40.......\n",
      "[CV 2/2; 26/50] END algorithm=SAMME, learning_rate=1.0, n_estimators=40;, score=0.556 total time=   0.9s\n",
      "[CV 1/2; 27/50] START algorithm=SAMME, learning_rate=1.0, n_estimators=50.......\n",
      "[CV 1/2; 27/50] END algorithm=SAMME, learning_rate=1.0, n_estimators=50;, score=0.504 total time=   1.2s\n",
      "[CV 2/2; 27/50] START algorithm=SAMME, learning_rate=1.0, n_estimators=50.......\n",
      "[CV 2/2; 27/50] END algorithm=SAMME, learning_rate=1.0, n_estimators=50;, score=0.516 total time=   1.2s\n",
      "[CV 1/2; 28/50] START algorithm=SAMME, learning_rate=1.0, n_estimators=60.......\n",
      "[CV 1/2; 28/50] END algorithm=SAMME, learning_rate=1.0, n_estimators=60;, score=0.496 total time=   1.2s\n",
      "[CV 2/2; 28/50] START algorithm=SAMME, learning_rate=1.0, n_estimators=60.......\n",
      "[CV 2/2; 28/50] END algorithm=SAMME, learning_rate=1.0, n_estimators=60;, score=0.540 total time=   1.1s\n",
      "[CV 1/2; 29/50] START algorithm=SAMME, learning_rate=1.0, n_estimators=70.......\n",
      "[CV 1/2; 29/50] END algorithm=SAMME, learning_rate=1.0, n_estimators=70;, score=0.508 total time=   1.9s\n",
      "[CV 2/2; 29/50] START algorithm=SAMME, learning_rate=1.0, n_estimators=70.......\n",
      "[CV 2/2; 29/50] END algorithm=SAMME, learning_rate=1.0, n_estimators=70;, score=0.572 total time=   1.7s\n",
      "[CV 1/2; 30/50] START algorithm=SAMME, learning_rate=1.0, n_estimators=80.......\n",
      "[CV 1/2; 30/50] END algorithm=SAMME, learning_rate=1.0, n_estimators=80;, score=0.524 total time=   1.4s\n",
      "[CV 2/2; 30/50] START algorithm=SAMME, learning_rate=1.0, n_estimators=80.......\n",
      "[CV 2/2; 30/50] END algorithm=SAMME, learning_rate=1.0, n_estimators=80;, score=0.564 total time=   1.4s\n",
      "[CV 1/2; 31/50] START algorithm=SAMME, learning_rate=2.0, n_estimators=40.......\n",
      "[CV 1/2; 31/50] END algorithm=SAMME, learning_rate=2.0, n_estimators=40;, score=0.500 total time=   0.7s\n",
      "[CV 2/2; 31/50] START algorithm=SAMME, learning_rate=2.0, n_estimators=40.......\n",
      "[CV 2/2; 31/50] END algorithm=SAMME, learning_rate=2.0, n_estimators=40;, score=0.500 total time=   0.7s\n",
      "[CV 1/2; 32/50] START algorithm=SAMME, learning_rate=2.0, n_estimators=50.......\n",
      "[CV 1/2; 32/50] END algorithm=SAMME, learning_rate=2.0, n_estimators=50;, score=0.500 total time=   1.0s\n",
      "[CV 2/2; 32/50] START algorithm=SAMME, learning_rate=2.0, n_estimators=50.......\n",
      "[CV 2/2; 32/50] END algorithm=SAMME, learning_rate=2.0, n_estimators=50;, score=0.508 total time=   1.2s\n",
      "[CV 1/2; 33/50] START algorithm=SAMME, learning_rate=2.0, n_estimators=60.......\n",
      "[CV 1/2; 33/50] END algorithm=SAMME, learning_rate=2.0, n_estimators=60;, score=0.504 total time=   1.4s\n",
      "[CV 2/2; 33/50] START algorithm=SAMME, learning_rate=2.0, n_estimators=60.......\n",
      "[CV 2/2; 33/50] END algorithm=SAMME, learning_rate=2.0, n_estimators=60;, score=0.500 total time=   1.2s\n",
      "[CV 1/2; 34/50] START algorithm=SAMME, learning_rate=2.0, n_estimators=70.......\n",
      "[CV 1/2; 34/50] END algorithm=SAMME, learning_rate=2.0, n_estimators=70;, score=0.500 total time=   1.2s\n",
      "[CV 2/2; 34/50] START algorithm=SAMME, learning_rate=2.0, n_estimators=70.......\n",
      "[CV 2/2; 34/50] END algorithm=SAMME, learning_rate=2.0, n_estimators=70;, score=0.500 total time=   1.2s\n",
      "[CV 1/2; 35/50] START algorithm=SAMME, learning_rate=2.0, n_estimators=80.......\n",
      "[CV 1/2; 35/50] END algorithm=SAMME, learning_rate=2.0, n_estimators=80;, score=0.496 total time=   1.4s\n",
      "[CV 2/2; 35/50] START algorithm=SAMME, learning_rate=2.0, n_estimators=80.......\n",
      "[CV 2/2; 35/50] END algorithm=SAMME, learning_rate=2.0, n_estimators=80;, score=0.496 total time=   1.4s\n",
      "[CV 1/2; 36/50] START algorithm=SAMME, learning_rate=3.0, n_estimators=40.......\n",
      "[CV 1/2; 36/50] END algorithm=SAMME, learning_rate=3.0, n_estimators=40;, score=0.480 total time=   0.7s\n",
      "[CV 2/2; 36/50] START algorithm=SAMME, learning_rate=3.0, n_estimators=40.......\n",
      "[CV 2/2; 36/50] END algorithm=SAMME, learning_rate=3.0, n_estimators=40;, score=0.512 total time=   0.7s\n",
      "[CV 1/2; 37/50] START algorithm=SAMME, learning_rate=3.0, n_estimators=50.......\n",
      "[CV 1/2; 37/50] END algorithm=SAMME, learning_rate=3.0, n_estimators=50;, score=0.480 total time=   0.9s\n",
      "[CV 2/2; 37/50] START algorithm=SAMME, learning_rate=3.0, n_estimators=50.......\n",
      "[CV 2/2; 37/50] END algorithm=SAMME, learning_rate=3.0, n_estimators=50;, score=0.512 total time=   0.9s\n",
      "[CV 1/2; 38/50] START algorithm=SAMME, learning_rate=3.0, n_estimators=60.......\n",
      "[CV 1/2; 38/50] END algorithm=SAMME, learning_rate=3.0, n_estimators=60;, score=0.480 total time=   1.2s\n",
      "[CV 2/2; 38/50] START algorithm=SAMME, learning_rate=3.0, n_estimators=60.......\n",
      "[CV 2/2; 38/50] END algorithm=SAMME, learning_rate=3.0, n_estimators=60;, score=0.512 total time=   1.4s\n",
      "[CV 1/2; 39/50] START algorithm=SAMME, learning_rate=3.0, n_estimators=70.......\n",
      "[CV 1/2; 39/50] END algorithm=SAMME, learning_rate=3.0, n_estimators=70;, score=0.480 total time=   1.6s\n",
      "[CV 2/2; 39/50] START algorithm=SAMME, learning_rate=3.0, n_estimators=70.......\n",
      "[CV 2/2; 39/50] END algorithm=SAMME, learning_rate=3.0, n_estimators=70;, score=0.512 total time=   1.2s\n",
      "[CV 1/2; 40/50] START algorithm=SAMME, learning_rate=3.0, n_estimators=80.......\n",
      "[CV 1/2; 40/50] END algorithm=SAMME, learning_rate=3.0, n_estimators=80;, score=0.480 total time=   1.4s\n",
      "[CV 2/2; 40/50] START algorithm=SAMME, learning_rate=3.0, n_estimators=80.......\n",
      "[CV 2/2; 40/50] END algorithm=SAMME, learning_rate=3.0, n_estimators=80;, score=0.512 total time=   1.4s\n",
      "[CV 1/2; 41/50] START algorithm=SAMME, learning_rate=4.0, n_estimators=40.......\n",
      "[CV 1/2; 41/50] END algorithm=SAMME, learning_rate=4.0, n_estimators=40;, score=0.512 total time=   0.7s\n",
      "[CV 2/2; 41/50] START algorithm=SAMME, learning_rate=4.0, n_estimators=40.......\n",
      "[CV 2/2; 41/50] END algorithm=SAMME, learning_rate=4.0, n_estimators=40;, score=0.496 total time=   0.7s\n",
      "[CV 1/2; 42/50] START algorithm=SAMME, learning_rate=4.0, n_estimators=50.......\n",
      "[CV 1/2; 42/50] END algorithm=SAMME, learning_rate=4.0, n_estimators=50;, score=0.512 total time=   0.9s\n",
      "[CV 2/2; 42/50] START algorithm=SAMME, learning_rate=4.0, n_estimators=50.......\n",
      "[CV 2/2; 42/50] END algorithm=SAMME, learning_rate=4.0, n_estimators=50;, score=0.496 total time=   0.9s\n",
      "[CV 1/2; 43/50] START algorithm=SAMME, learning_rate=4.0, n_estimators=60.......\n",
      "[CV 1/2; 43/50] END algorithm=SAMME, learning_rate=4.0, n_estimators=60;, score=0.512 total time=   1.0s\n",
      "[CV 2/2; 43/50] START algorithm=SAMME, learning_rate=4.0, n_estimators=60.......\n",
      "[CV 2/2; 43/50] END algorithm=SAMME, learning_rate=4.0, n_estimators=60;, score=0.496 total time=   1.1s\n",
      "[CV 1/2; 44/50] START algorithm=SAMME, learning_rate=4.0, n_estimators=70.......\n",
      "[CV 1/2; 44/50] END algorithm=SAMME, learning_rate=4.0, n_estimators=70;, score=0.512 total time=   1.4s\n",
      "[CV 2/2; 44/50] START algorithm=SAMME, learning_rate=4.0, n_estimators=70.......\n",
      "[CV 2/2; 44/50] END algorithm=SAMME, learning_rate=4.0, n_estimators=70;, score=0.496 total time=   1.6s\n",
      "[CV 1/2; 45/50] START algorithm=SAMME, learning_rate=4.0, n_estimators=80.......\n",
      "[CV 1/2; 45/50] END algorithm=SAMME, learning_rate=4.0, n_estimators=80;, score=0.512 total time=   1.7s\n",
      "[CV 2/2; 45/50] START algorithm=SAMME, learning_rate=4.0, n_estimators=80.......\n",
      "[CV 2/2; 45/50] END algorithm=SAMME, learning_rate=4.0, n_estimators=80;, score=0.496 total time=   1.4s\n",
      "[CV 1/2; 46/50] START algorithm=SAMME, learning_rate=5.0, n_estimators=40.......\n",
      "[CV 1/2; 46/50] END algorithm=SAMME, learning_rate=5.0, n_estimators=40;, score=0.480 total time=   0.7s\n",
      "[CV 2/2; 46/50] START algorithm=SAMME, learning_rate=5.0, n_estimators=40.......\n",
      "[CV 2/2; 46/50] END algorithm=SAMME, learning_rate=5.0, n_estimators=40;, score=0.496 total time=   0.7s\n",
      "[CV 1/2; 47/50] START algorithm=SAMME, learning_rate=5.0, n_estimators=50.......\n",
      "[CV 1/2; 47/50] END algorithm=SAMME, learning_rate=5.0, n_estimators=50;, score=0.480 total time=   0.9s\n",
      "[CV 2/2; 47/50] START algorithm=SAMME, learning_rate=5.0, n_estimators=50.......\n",
      "[CV 2/2; 47/50] END algorithm=SAMME, learning_rate=5.0, n_estimators=50;, score=0.496 total time=   0.9s\n",
      "[CV 1/2; 48/50] START algorithm=SAMME, learning_rate=5.0, n_estimators=60.......\n",
      "[CV 1/2; 48/50] END algorithm=SAMME, learning_rate=5.0, n_estimators=60;, score=0.480 total time=   1.1s\n",
      "[CV 2/2; 48/50] START algorithm=SAMME, learning_rate=5.0, n_estimators=60.......\n",
      "[CV 2/2; 48/50] END algorithm=SAMME, learning_rate=5.0, n_estimators=60;, score=0.496 total time=   1.1s\n",
      "[CV 1/2; 49/50] START algorithm=SAMME, learning_rate=5.0, n_estimators=70.......\n",
      "[CV 1/2; 49/50] END algorithm=SAMME, learning_rate=5.0, n_estimators=70;, score=0.480 total time=   1.2s\n",
      "[CV 2/2; 49/50] START algorithm=SAMME, learning_rate=5.0, n_estimators=70.......\n",
      "[CV 2/2; 49/50] END algorithm=SAMME, learning_rate=5.0, n_estimators=70;, score=0.496 total time=   1.2s\n",
      "[CV 1/2; 50/50] START algorithm=SAMME, learning_rate=5.0, n_estimators=80.......\n",
      "[CV 1/2; 50/50] END algorithm=SAMME, learning_rate=5.0, n_estimators=80;, score=0.480 total time=   1.8s\n",
      "[CV 2/2; 50/50] START algorithm=SAMME, learning_rate=5.0, n_estimators=80.......\n",
      "[CV 2/2; 50/50] END algorithm=SAMME, learning_rate=5.0, n_estimators=80;, score=0.496 total time=   1.9s\n",
      "{'algorithm': 'SAMME', 'learning_rate': 1.0, 'n_estimators': 80}\n",
      "score-En_Offen_span_1:  0.544\n"
     ]
    }
   ],
   "source": [
    "from sklearn.ensemble import AdaBoostClassifier as En_Offen_span_1ads\n",
    "\n",
    "En_Hypm = { 'algorithm': ['SAMME.R','SAMME'],\n",
    "               'learning_rate': [1.0,2.0,3.0,4.0,5.0],\n",
    "               'n_estimators':[40,50,60,70,80]}\n",
    "\n",
    "\n",
    "En_Hypm_vsb = En_Offen_span_1ads(random_state= En_rast)\n",
    "En_Hypm_vsb = En_Offen_span_1grdsh(En_Hypm_vsb, En_Hypm,\n",
    "                          cv=2, verbose=10)\n",
    "En_Hypm_vsb.fit(En_Offen_span_1xr[:500], En_Offen_span_1yr[:500])\n",
    "\n",
    "print(En_Hypm_vsb.best_params_)\n",
    "print(\"score-En_Offen_span_1: \", En_Hypm_vsb.best_score_)"
   ]
  },
  {
   "cell_type": "code",
   "execution_count": 33,
   "metadata": {
    "colab": {
     "base_uri": "https://localhost:8080/",
     "height": 709
    },
    "executionInfo": {
     "elapsed": 4770,
     "status": "ok",
     "timestamp": 1708679929888,
     "user": {
      "displayName": "jadaprojects09",
      "userId": "16719958102440739805"
     },
     "user_tz": -330
    },
    "id": "v0e5qH3AoSit",
    "outputId": "7e19d957-ad5b-4dd6-9381-13bd4749c4ac"
   },
   "outputs": [
    {
     "name": "stdout",
     "output_type": "stream",
     "text": [
      "\n",
      " training duration: 4.123845338821411 \n",
      "\n",
      "              precision    recall  f1-score   support\n",
      "\n",
      "         0.0       0.52      0.46      0.49       127\n",
      "         1.0       0.48      0.54      0.51       116\n",
      "\n",
      "    accuracy                           0.50       243\n",
      "   macro avg       0.50      0.50      0.50       243\n",
      "weighted avg       0.50      0.50      0.50       243\n",
      "\n",
      "\n",
      " validation duration: 0.07314229011535645 \n",
      "\n"
     ]
    },
    {
     "data": {
      "image/png": "[encoded data removed]",
      "text/plain": [
       "<Figure size 640x480 with 2 Axes>"
      ]
     },
     "metadata": {},
     "output_type": "display_data"
    }
   ],
   "source": [
    "En_pd1 = En_Offen_span_1tiim.time()\n",
    "\n",
    "En_Offen_span_MdD= En_Offen_span_1ads(**En_Hypm_vsb.best_params_)\n",
    "En_Offen_span_MdD.fit(En_Offen_span_1xr, En_Offen_span_1yr)\n",
    "\n",
    "En_pd2 = En_Offen_span_1tiim.time()\n",
    "print(\"\\n training duration:\", En_pd2-En_pd1,\"\\n\")\n",
    "\n",
    "\n",
    "En_pd1 = En_Offen_span_1tiim.time()\n",
    "\n",
    "En_Offen_span_pct= En_Offen_span_MdD.predict(En_Offen_span_1xd)\n",
    "\n",
    "print(En_Offen_span_1cffr(En_Offen_span_1yd, En_Offen_span_pct))\n",
    "\n",
    "En_tk = En_Offen_span_1cfmt(En_Offen_span_1yd,En_Offen_span_pct)\n",
    "En_rd = En_Offen_span_1cmxd(confusion_matrix = En_tk, display_labels = [0,1])\n",
    "En_rd.plot()\n",
    "\n",
    "En_pd2= En_Offen_span_1tiim.time()\n",
    "print(\"\\n validation duration:\", En_pd2-En_pd1,\"\\n\")"
   ]
  },
  {
   "cell_type": "code",
   "execution_count": 34,
   "metadata": {
    "colab": {
     "base_uri": "https://localhost:8080/",
     "height": 489
    },
    "executionInfo": {
     "elapsed": 94,
     "status": "ok",
     "timestamp": 1708679929890,
     "user": {
      "displayName": "jadaprojects09",
      "userId": "16719958102440739805"
     },
     "user_tz": -330
    },
    "id": "LFvV87SqoSkU",
    "outputId": "250ceb98-d6b0-4343-d7cb-84e8ac93d1ea"
   },
   "outputs": [
    {
     "data": {
      "image/png": "[encoded data removed]",
      "text/plain": [
       "<Figure size 640x480 with 1 Axes>"
      ]
     },
     "metadata": {},
     "output_type": "display_data"
    },
    {
     "name": "stdout",
     "output_type": "stream",
     "text": [
      "auc- curve: 0.4998981808308444\n"
     ]
    }
   ],
   "source": [
    "En_Offen_span_Fals, En_Offen_span_tre, En_Offen_span_ths = En_Offen_span_rc(En_Offen_span_1yd, En_Offen_span_pct)\n",
    "En_Offen_span_mt.plot(En_Offen_span_Fals, En_Offen_span_tre)\n",
    "En_Offen_span_mt.ylabel('rate-Fals')\n",
    "En_Offen_span_mt.xlabel('rate-Tru')\n",
    "En_Offen_span_mt.title('roc curve')\n",
    "En_Offen_span_mt.show()\n",
    "print('auc- curve:', En_Offen_span_ac(En_Offen_span_1yd, En_Offen_span_pct))"
   ]
  },
  {
   "cell_type": "code",
   "execution_count": 35,
   "metadata": {
    "colab": {
     "base_uri": "https://localhost:8080/",
     "height": 663
    },
    "executionInfo": {
     "elapsed": 1172,
     "status": "ok",
     "timestamp": 1708679930977,
     "user": {
      "displayName": "jadaprojects09",
      "userId": "16719958102440739805"
     },
     "user_tz": -330
    },
    "id": "hrR1ffK-oSok",
    "outputId": "daf1e6bf-389e-4707-a568-70d7af90fee4"
   },
   "outputs": [
    {
     "name": "stdout",
     "output_type": "stream",
     "text": [
      "              precision    recall  f1-score   support\n",
      "\n",
      "         0.0       0.51      0.48      0.50       118\n",
      "         1.0       0.54      0.57      0.56       126\n",
      "\n",
      "    accuracy                           0.53       244\n",
      "   macro avg       0.53      0.53      0.53       244\n",
      "weighted avg       0.53      0.53      0.53       244\n",
      "\n",
      "\n",
      " testing duration: 0.07375168800354004 \n",
      "\n"
     ]
    },
    {
     "data": {
      "image/png": "[encoded data removed]",
      "text/plain": [
       "<Figure size 640x480 with 2 Axes>"
      ]
     },
     "metadata": {},
     "output_type": "display_data"
    }
   ],
   "source": [
    "En_pd1 = En_Offen_span_1tiim.time()\n",
    "\n",
    "En_Offen_span_pct= En_Offen_span_MdD.predict(En_Offen_span_1xe)\n",
    "\n",
    "print(En_Offen_span_1cffr(En_Offen_span_1ye, En_Offen_span_pct))\n",
    "\n",
    "En_tk = En_Offen_span_1cfmt(En_Offen_span_1ye,En_Offen_span_pct)\n",
    "En_rd = En_Offen_span_1cmxd(confusion_matrix = En_tk, display_labels = [0,1])\n",
    "En_rd.plot()\n",
    "\n",
    "En_pd2= En_Offen_span_1tiim.time()\n",
    "print(\"\\n testing duration:\", En_pd2-En_pd1,\"\\n\")"
   ]
  },
  {
   "cell_type": "code",
   "execution_count": 36,
   "metadata": {
    "colab": {
     "base_uri": "https://localhost:8080/",
     "height": 489
    },
    "executionInfo": {
     "elapsed": 53,
     "status": "ok",
     "timestamp": 1708679930979,
     "user": {
      "displayName": "jadaprojects09",
      "userId": "16719958102440739805"
     },
     "user_tz": -330
    },
    "id": "Q-pWzEa-pnQ_",
    "outputId": "048f3dba-f8e2-4fa8-9c71-6e53c0346f35"
   },
   "outputs": [
    {
     "data": {
      "image/png": "[encoded data removed]",
      "text/plain": [
       "<Figure size 640x480 with 1 Axes>"
      ]
     },
     "metadata": {},
     "output_type": "display_data"
    },
    {
     "name": "stdout",
     "output_type": "stream",
     "text": [
      "auc- curve: 0.5272397094430993\n"
     ]
    }
   ],
   "source": [
    "En_Offen_span_Fals, En_Offen_span_tre, En_Offen_span_ths = En_Offen_span_rc(En_Offen_span_1ye, En_Offen_span_pct)\n",
    "En_Offen_span_mt.plot(En_Offen_span_Fals, En_Offen_span_tre)\n",
    "En_Offen_span_mt.ylabel('rate-Fals')\n",
    "En_Offen_span_mt.xlabel('rate-Tru')\n",
    "En_Offen_span_mt.title('roc curve')\n",
    "En_Offen_span_mt.show()\n",
    "print('auc- curve:', En_Offen_span_ac(En_Offen_span_1ye, En_Offen_span_pct))"
   ]
  },
  {
   "cell_type": "markdown",
   "metadata": {
    "id": "T5pp7G1vpx_z"
   },
   "source": [
    "#### XGBoost"
   ]
  },
  {
   "cell_type": "code",
   "execution_count": 37,
   "metadata": {
    "colab": {
     "base_uri": "https://localhost:8080/"
    },
    "executionInfo": {
     "elapsed": 31103,
     "status": "ok",
     "timestamp": 1708679962037,
     "user": {
      "displayName": "jadaprojects09",
      "userId": "16719958102440739805"
     },
     "user_tz": -330
    },
    "id": "oGLtnj5zp1lj",
    "outputId": "c783fc1e-3155-4e65-dc49-4ee808974506"
   },
   "outputs": [
    {
     "name": "stdout",
     "output_type": "stream",
     "text": [
      "Fitting 2 folds for each of 64 candidates, totalling 128 fits\n",
      "[CV 1/2; 1/64] START learning_rate=0.1, n_estimators=20, subsample=0.01.........\n",
      "[CV 1/2; 1/64] END learning_rate=0.1, n_estimators=20, subsample=0.01;, score=0.496 total time=   0.1s\n",
      "[CV 2/2; 1/64] START learning_rate=0.1, n_estimators=20, subsample=0.01.........\n",
      "[CV 2/2; 1/64] END learning_rate=0.1, n_estimators=20, subsample=0.01;, score=0.500 total time=   0.1s\n",
      "[CV 1/2; 2/64] START learning_rate=0.1, n_estimators=20, subsample=0.04.........\n",
      "[CV 1/2; 2/64] END learning_rate=0.1, n_estimators=20, subsample=0.04;, score=0.456 total time=   0.1s\n",
      "[CV 2/2; 2/64] START learning_rate=0.1, n_estimators=20, subsample=0.04.........\n",
      "[CV 2/2; 2/64] END learning_rate=0.1, n_estimators=20, subsample=0.04;, score=0.496 total time=   0.1s\n",
      "[CV 1/2; 3/64] START learning_rate=0.1, n_estimators=20, subsample=0.06.........\n",
      "[CV 1/2; 3/64] END learning_rate=0.1, n_estimators=20, subsample=0.06;, score=0.500 total time=   0.2s\n",
      "[CV 2/2; 3/64] START learning_rate=0.1, n_estimators=20, subsample=0.06.........\n",
      "[CV 2/2; 3/64] END learning_rate=0.1, n_estimators=20, subsample=0.06;, score=0.476 total time=   0.2s\n",
      "[CV 1/2; 4/64] START learning_rate=0.1, n_estimators=20, subsample=0.09.........\n",
      "[CV 1/2; 4/64] END learning_rate=0.1, n_estimators=20, subsample=0.09;, score=0.536 total time=   0.2s\n",
      "[CV 2/2; 4/64] START learning_rate=0.1, n_estimators=20, subsample=0.09.........\n",
      "[CV 2/2; 4/64] END learning_rate=0.1, n_estimators=20, subsample=0.09;, score=0.504 total time=   0.2s\n",
      "[CV 1/2; 5/64] START learning_rate=0.1, n_estimators=40, subsample=0.01.........\n",
      "[CV 1/2; 5/64] END learning_rate=0.1, n_estimators=40, subsample=0.01;, score=0.496 total time=   0.1s\n",
      "[CV 2/2; 5/64] START learning_rate=0.1, n_estimators=40, subsample=0.01.........\n",
      "[CV 2/2; 5/64] END learning_rate=0.1, n_estimators=40, subsample=0.01;, score=0.500 total time=   0.1s\n",
      "[CV 1/2; 6/64] START learning_rate=0.1, n_estimators=40, subsample=0.04.........\n",
      "[CV 1/2; 6/64] END learning_rate=0.1, n_estimators=40, subsample=0.04;, score=0.508 total time=   0.2s\n",
      "[CV 2/2; 6/64] START learning_rate=0.1, n_estimators=40, subsample=0.04.........\n",
      "[CV 2/2; 6/64] END learning_rate=0.1, n_estimators=40, subsample=0.04;, score=0.528 total time=   0.2s\n",
      "[CV 1/2; 7/64] START learning_rate=0.1, n_estimators=40, subsample=0.06.........\n",
      "[CV 1/2; 7/64] END learning_rate=0.1, n_estimators=40, subsample=0.06;, score=0.532 total time=   0.3s\n",
      "[CV 2/2; 7/64] START learning_rate=0.1, n_estimators=40, subsample=0.06.........\n",
      "[CV 2/2; 7/64] END learning_rate=0.1, n_estimators=40, subsample=0.06;, score=0.496 total time=   0.3s\n",
      "[CV 1/2; 8/64] START learning_rate=0.1, n_estimators=40, subsample=0.09.........\n",
      "[CV 1/2; 8/64] END learning_rate=0.1, n_estimators=40, subsample=0.09;, score=0.536 total time=   2.7s\n",
      "[CV 2/2; 8/64] START learning_rate=0.1, n_estimators=40, subsample=0.09.........\n",
      "[CV 2/2; 8/64] END learning_rate=0.1, n_estimators=40, subsample=0.09;, score=0.544 total time=   0.4s\n",
      "[CV 1/2; 9/64] START learning_rate=0.1, n_estimators=60, subsample=0.01.........\n",
      "[CV 1/2; 9/64] END learning_rate=0.1, n_estimators=60, subsample=0.01;, score=0.496 total time=   0.1s\n",
      "[CV 2/2; 9/64] START learning_rate=0.1, n_estimators=60, subsample=0.01.........\n",
      "[CV 2/2; 9/64] END learning_rate=0.1, n_estimators=60, subsample=0.01;, score=0.500 total time=   0.1s\n",
      "[CV 1/2; 10/64] START learning_rate=0.1, n_estimators=60, subsample=0.04........\n",
      "[CV 1/2; 10/64] END learning_rate=0.1, n_estimators=60, subsample=0.04;, score=0.516 total time=   0.2s\n",
      "[CV 2/2; 10/64] START learning_rate=0.1, n_estimators=60, subsample=0.04........\n",
      "[CV 2/2; 10/64] END learning_rate=0.1, n_estimators=60, subsample=0.04;, score=0.528 total time=   0.2s\n",
      "[CV 1/2; 11/64] START learning_rate=0.1, n_estimators=60, subsample=0.06........\n",
      "[CV 1/2; 11/64] END learning_rate=0.1, n_estimators=60, subsample=0.06;, score=0.532 total time=   0.3s\n",
      "[CV 2/2; 11/64] START learning_rate=0.1, n_estimators=60, subsample=0.06........\n",
      "[CV 2/2; 11/64] END learning_rate=0.1, n_estimators=60, subsample=0.06;, score=0.480 total time=   0.3s\n",
      "[CV 1/2; 12/64] START learning_rate=0.1, n_estimators=60, subsample=0.09........\n",
      "[CV 1/2; 12/64] END learning_rate=0.1, n_estimators=60, subsample=0.09;, score=0.568 total time=   0.5s\n",
      "[CV 2/2; 12/64] START learning_rate=0.1, n_estimators=60, subsample=0.09........\n",
      "[CV 2/2; 12/64] END learning_rate=0.1, n_estimators=60, subsample=0.09;, score=0.528 total time=   0.5s\n",
      "[CV 1/2; 13/64] START learning_rate=0.1, n_estimators=80, subsample=0.01........\n",
      "[CV 1/2; 13/64] END learning_rate=0.1, n_estimators=80, subsample=0.01;, score=0.496 total time=   0.1s\n",
      "[CV 2/2; 13/64] START learning_rate=0.1, n_estimators=80, subsample=0.01........\n",
      "[CV 2/2; 13/64] END learning_rate=0.1, n_estimators=80, subsample=0.01;, score=0.500 total time=   0.1s\n",
      "[CV 1/2; 14/64] START learning_rate=0.1, n_estimators=80, subsample=0.04........\n",
      "[CV 1/2; 14/64] END learning_rate=0.1, n_estimators=80, subsample=0.04;, score=0.524 total time=   0.3s\n",
      "[CV 2/2; 14/64] START learning_rate=0.1, n_estimators=80, subsample=0.04........\n",
      "[CV 2/2; 14/64] END learning_rate=0.1, n_estimators=80, subsample=0.04;, score=0.540 total time=   0.3s\n",
      "[CV 1/2; 15/64] START learning_rate=0.1, n_estimators=80, subsample=0.06........\n",
      "[CV 1/2; 15/64] END learning_rate=0.1, n_estimators=80, subsample=0.06;, score=0.556 total time=   0.4s\n",
      "[CV 2/2; 15/64] START learning_rate=0.1, n_estimators=80, subsample=0.06........\n",
      "[CV 2/2; 15/64] END learning_rate=0.1, n_estimators=80, subsample=0.06;, score=0.488 total time=   0.4s\n",
      "[CV 1/2; 16/64] START learning_rate=0.1, n_estimators=80, subsample=0.09........\n",
      "[CV 1/2; 16/64] END learning_rate=0.1, n_estimators=80, subsample=0.09;, score=0.520 total time=   0.6s\n",
      "[CV 2/2; 16/64] START learning_rate=0.1, n_estimators=80, subsample=0.09........\n",
      "[CV 2/2; 16/64] END learning_rate=0.1, n_estimators=80, subsample=0.09;, score=0.540 total time=   0.6s\n",
      "[CV 1/2; 17/64] START learning_rate=0.3, n_estimators=20, subsample=0.01........\n",
      "[CV 1/2; 17/64] END learning_rate=0.3, n_estimators=20, subsample=0.01;, score=0.496 total time=   0.1s\n",
      "[CV 2/2; 17/64] START learning_rate=0.3, n_estimators=20, subsample=0.01........\n",
      "[CV 2/2; 17/64] END learning_rate=0.3, n_estimators=20, subsample=0.01;, score=0.500 total time=   0.1s\n",
      "[CV 1/2; 18/64] START learning_rate=0.3, n_estimators=20, subsample=0.04........\n",
      "[CV 1/2; 18/64] END learning_rate=0.3, n_estimators=20, subsample=0.04;, score=0.496 total time=   0.1s\n",
      "[CV 2/2; 18/64] START learning_rate=0.3, n_estimators=20, subsample=0.04........\n",
      "[CV 2/2; 18/64] END learning_rate=0.3, n_estimators=20, subsample=0.04;, score=0.524 total time=   0.1s\n",
      "[CV 1/2; 19/64] START learning_rate=0.3, n_estimators=20, subsample=0.06........\n",
      "[CV 1/2; 19/64] END learning_rate=0.3, n_estimators=20, subsample=0.06;, score=0.488 total time=   0.1s\n",
      "[CV 2/2; 19/64] START learning_rate=0.3, n_estimators=20, subsample=0.06........\n",
      "[CV 2/2; 19/64] END learning_rate=0.3, n_estimators=20, subsample=0.06;, score=0.484 total time=   0.2s\n",
      "[CV 1/2; 20/64] START learning_rate=0.3, n_estimators=20, subsample=0.09........\n",
      "[CV 1/2; 20/64] END learning_rate=0.3, n_estimators=20, subsample=0.09;, score=0.508 total time=   0.2s\n",
      "[CV 2/2; 20/64] START learning_rate=0.3, n_estimators=20, subsample=0.09........\n",
      "[CV 2/2; 20/64] END learning_rate=0.3, n_estimators=20, subsample=0.09;, score=0.472 total time=   0.2s\n",
      "[CV 1/2; 21/64] START learning_rate=0.3, n_estimators=40, subsample=0.01........\n",
      "[CV 1/2; 21/64] END learning_rate=0.3, n_estimators=40, subsample=0.01;, score=0.504 total time=   0.1s\n",
      "[CV 2/2; 21/64] START learning_rate=0.3, n_estimators=40, subsample=0.01........\n",
      "[CV 2/2; 21/64] END learning_rate=0.3, n_estimators=40, subsample=0.01;, score=0.500 total time=   0.1s\n",
      "[CV 1/2; 22/64] START learning_rate=0.3, n_estimators=40, subsample=0.04........\n",
      "[CV 1/2; 22/64] END learning_rate=0.3, n_estimators=40, subsample=0.04;, score=0.500 total time=   0.1s\n",
      "[CV 2/2; 22/64] START learning_rate=0.3, n_estimators=40, subsample=0.04........\n",
      "[CV 2/2; 22/64] END learning_rate=0.3, n_estimators=40, subsample=0.04;, score=0.552 total time=   0.1s\n",
      "[CV 1/2; 23/64] START learning_rate=0.3, n_estimators=40, subsample=0.06........\n",
      "[CV 1/2; 23/64] END learning_rate=0.3, n_estimators=40, subsample=0.06;, score=0.524 total time=   0.2s\n",
      "[CV 2/2; 23/64] START learning_rate=0.3, n_estimators=40, subsample=0.06........\n",
      "[CV 2/2; 23/64] END learning_rate=0.3, n_estimators=40, subsample=0.06;, score=0.492 total time=   0.2s\n",
      "[CV 1/2; 24/64] START learning_rate=0.3, n_estimators=40, subsample=0.09........\n",
      "[CV 1/2; 24/64] END learning_rate=0.3, n_estimators=40, subsample=0.09;, score=0.512 total time=   0.3s\n",
      "[CV 2/2; 24/64] START learning_rate=0.3, n_estimators=40, subsample=0.09........\n",
      "[CV 2/2; 24/64] END learning_rate=0.3, n_estimators=40, subsample=0.09;, score=0.512 total time=   0.3s\n",
      "[CV 1/2; 25/64] START learning_rate=0.3, n_estimators=60, subsample=0.01........\n",
      "[CV 1/2; 25/64] END learning_rate=0.3, n_estimators=60, subsample=0.01;, score=0.496 total time=   0.1s\n",
      "[CV 2/2; 25/64] START learning_rate=0.3, n_estimators=60, subsample=0.01........\n",
      "[CV 2/2; 25/64] END learning_rate=0.3, n_estimators=60, subsample=0.01;, score=0.500 total time=   0.1s\n",
      "[CV 1/2; 26/64] START learning_rate=0.3, n_estimators=60, subsample=0.04........\n",
      "[CV 1/2; 26/64] END learning_rate=0.3, n_estimators=60, subsample=0.04;, score=0.504 total time=   0.2s\n",
      "[CV 2/2; 26/64] START learning_rate=0.3, n_estimators=60, subsample=0.04........\n",
      "[CV 2/2; 26/64] END learning_rate=0.3, n_estimators=60, subsample=0.04;, score=0.536 total time=   0.2s\n",
      "[CV 1/2; 27/64] START learning_rate=0.3, n_estimators=60, subsample=0.06........\n",
      "[CV 1/2; 27/64] END learning_rate=0.3, n_estimators=60, subsample=0.06;, score=0.488 total time=   0.3s\n",
      "[CV 2/2; 27/64] START learning_rate=0.3, n_estimators=60, subsample=0.06........\n",
      "[CV 2/2; 27/64] END learning_rate=0.3, n_estimators=60, subsample=0.06;, score=0.488 total time=   0.2s\n",
      "[CV 1/2; 28/64] START learning_rate=0.3, n_estimators=60, subsample=0.09........\n",
      "[CV 1/2; 28/64] END learning_rate=0.3, n_estimators=60, subsample=0.09;, score=0.504 total time=   0.4s\n",
      "[CV 2/2; 28/64] START learning_rate=0.3, n_estimators=60, subsample=0.09........\n",
      "[CV 2/2; 28/64] END learning_rate=0.3, n_estimators=60, subsample=0.09;, score=0.512 total time=   0.4s\n",
      "[CV 1/2; 29/64] START learning_rate=0.3, n_estimators=80, subsample=0.01........\n",
      "[CV 1/2; 29/64] END learning_rate=0.3, n_estimators=80, subsample=0.01;, score=0.496 total time=   0.1s\n",
      "[CV 2/2; 29/64] START learning_rate=0.3, n_estimators=80, subsample=0.01........\n",
      "[CV 2/2; 29/64] END learning_rate=0.3, n_estimators=80, subsample=0.01;, score=0.500 total time=   0.1s\n",
      "[CV 1/2; 30/64] START learning_rate=0.3, n_estimators=80, subsample=0.04........\n",
      "[CV 1/2; 30/64] END learning_rate=0.3, n_estimators=80, subsample=0.04;, score=0.492 total time=   1.3s\n",
      "[CV 2/2; 30/64] START learning_rate=0.3, n_estimators=80, subsample=0.04........\n",
      "[CV 2/2; 30/64] END learning_rate=0.3, n_estimators=80, subsample=0.04;, score=0.508 total time=   1.5s\n",
      "[CV 1/2; 31/64] START learning_rate=0.3, n_estimators=80, subsample=0.06........\n",
      "[CV 1/2; 31/64] END learning_rate=0.3, n_estimators=80, subsample=0.06;, score=0.508 total time=   0.3s\n",
      "[CV 2/2; 31/64] START learning_rate=0.3, n_estimators=80, subsample=0.06........\n",
      "[CV 2/2; 31/64] END learning_rate=0.3, n_estimators=80, subsample=0.06;, score=0.496 total time=   0.3s\n",
      "[CV 1/2; 32/64] START learning_rate=0.3, n_estimators=80, subsample=0.09........\n",
      "[CV 1/2; 32/64] END learning_rate=0.3, n_estimators=80, subsample=0.09;, score=0.540 total time=   0.4s\n",
      "[CV 2/2; 32/64] START learning_rate=0.3, n_estimators=80, subsample=0.09........\n",
      "[CV 2/2; 32/64] END learning_rate=0.3, n_estimators=80, subsample=0.09;, score=0.508 total time=   0.4s\n",
      "[CV 1/2; 33/64] START learning_rate=0.5, n_estimators=20, subsample=0.01........\n",
      "[CV 1/2; 33/64] END learning_rate=0.5, n_estimators=20, subsample=0.01;, score=0.496 total time=   0.1s\n",
      "[CV 2/2; 33/64] START learning_rate=0.5, n_estimators=20, subsample=0.01........\n",
      "[CV 2/2; 33/64] END learning_rate=0.5, n_estimators=20, subsample=0.01;, score=0.500 total time=   0.1s\n",
      "[CV 1/2; 34/64] START learning_rate=0.5, n_estimators=20, subsample=0.04........\n",
      "[CV 1/2; 34/64] END learning_rate=0.5, n_estimators=20, subsample=0.04;, score=0.528 total time=   0.1s\n",
      "[CV 2/2; 34/64] START learning_rate=0.5, n_estimators=20, subsample=0.04........\n",
      "[CV 2/2; 34/64] END learning_rate=0.5, n_estimators=20, subsample=0.04;, score=0.532 total time=   0.1s\n",
      "[CV 1/2; 35/64] START learning_rate=0.5, n_estimators=20, subsample=0.06........\n",
      "[CV 1/2; 35/64] END learning_rate=0.5, n_estimators=20, subsample=0.06;, score=0.500 total time=   0.1s\n",
      "[CV 2/2; 35/64] START learning_rate=0.5, n_estimators=20, subsample=0.06........\n",
      "[CV 2/2; 35/64] END learning_rate=0.5, n_estimators=20, subsample=0.06;, score=0.464 total time=   0.1s\n",
      "[CV 1/2; 36/64] START learning_rate=0.5, n_estimators=20, subsample=0.09........\n",
      "[CV 1/2; 36/64] END learning_rate=0.5, n_estimators=20, subsample=0.09;, score=0.480 total time=   0.2s\n",
      "[CV 2/2; 36/64] START learning_rate=0.5, n_estimators=20, subsample=0.09........\n",
      "[CV 2/2; 36/64] END learning_rate=0.5, n_estimators=20, subsample=0.09;, score=0.484 total time=   0.1s\n",
      "[CV 1/2; 37/64] START learning_rate=0.5, n_estimators=40, subsample=0.01........\n",
      "[CV 1/2; 37/64] END learning_rate=0.5, n_estimators=40, subsample=0.01;, score=0.504 total time=   0.1s\n",
      "[CV 2/2; 37/64] START learning_rate=0.5, n_estimators=40, subsample=0.01........\n",
      "[CV 2/2; 37/64] END learning_rate=0.5, n_estimators=40, subsample=0.01;, score=0.500 total time=   0.1s\n",
      "[CV 1/2; 38/64] START learning_rate=0.5, n_estimators=40, subsample=0.04........\n",
      "[CV 1/2; 38/64] END learning_rate=0.5, n_estimators=40, subsample=0.04;, score=0.524 total time=   0.1s\n",
      "[CV 2/2; 38/64] START learning_rate=0.5, n_estimators=40, subsample=0.04........\n",
      "[CV 2/2; 38/64] END learning_rate=0.5, n_estimators=40, subsample=0.04;, score=0.500 total time=   0.1s\n",
      "[CV 1/2; 39/64] START learning_rate=0.5, n_estimators=40, subsample=0.06........\n",
      "[CV 1/2; 39/64] END learning_rate=0.5, n_estimators=40, subsample=0.06;, score=0.524 total time=   0.2s\n",
      "[CV 2/2; 39/64] START learning_rate=0.5, n_estimators=40, subsample=0.06........\n",
      "[CV 2/2; 39/64] END learning_rate=0.5, n_estimators=40, subsample=0.06;, score=0.476 total time=   0.1s\n",
      "[CV 1/2; 40/64] START learning_rate=0.5, n_estimators=40, subsample=0.09........\n",
      "[CV 1/2; 40/64] END learning_rate=0.5, n_estimators=40, subsample=0.09;, score=0.488 total time=   0.2s\n",
      "[CV 2/2; 40/64] START learning_rate=0.5, n_estimators=40, subsample=0.09........\n",
      "[CV 2/2; 40/64] END learning_rate=0.5, n_estimators=40, subsample=0.09;, score=0.520 total time=   0.2s\n",
      "[CV 1/2; 41/64] START learning_rate=0.5, n_estimators=60, subsample=0.01........\n",
      "[CV 1/2; 41/64] END learning_rate=0.5, n_estimators=60, subsample=0.01;, score=0.496 total time=   0.1s\n",
      "[CV 2/2; 41/64] START learning_rate=0.5, n_estimators=60, subsample=0.01........\n",
      "[CV 2/2; 41/64] END learning_rate=0.5, n_estimators=60, subsample=0.01;, score=0.500 total time=   0.1s\n",
      "[CV 1/2; 42/64] START learning_rate=0.5, n_estimators=60, subsample=0.04........\n",
      "[CV 1/2; 42/64] END learning_rate=0.5, n_estimators=60, subsample=0.04;, score=0.532 total time=   0.1s\n",
      "[CV 2/2; 42/64] START learning_rate=0.5, n_estimators=60, subsample=0.04........\n",
      "[CV 2/2; 42/64] END learning_rate=0.5, n_estimators=60, subsample=0.04;, score=0.532 total time=   0.1s\n",
      "[CV 1/2; 43/64] START learning_rate=0.5, n_estimators=60, subsample=0.06........\n",
      "[CV 1/2; 43/64] END learning_rate=0.5, n_estimators=60, subsample=0.06;, score=0.508 total time=   0.2s\n",
      "[CV 2/2; 43/64] START learning_rate=0.5, n_estimators=60, subsample=0.06........\n",
      "[CV 2/2; 43/64] END learning_rate=0.5, n_estimators=60, subsample=0.06;, score=0.492 total time=   0.2s\n",
      "[CV 1/2; 44/64] START learning_rate=0.5, n_estimators=60, subsample=0.09........\n",
      "[CV 1/2; 44/64] END learning_rate=0.5, n_estimators=60, subsample=0.09;, score=0.444 total time=   0.2s\n",
      "[CV 2/2; 44/64] START learning_rate=0.5, n_estimators=60, subsample=0.09........\n",
      "[CV 2/2; 44/64] END learning_rate=0.5, n_estimators=60, subsample=0.09;, score=0.528 total time=   0.3s\n",
      "[CV 1/2; 45/64] START learning_rate=0.5, n_estimators=80, subsample=0.01........\n",
      "[CV 1/2; 45/64] END learning_rate=0.5, n_estimators=80, subsample=0.01;, score=0.496 total time=   0.1s\n",
      "[CV 2/2; 45/64] START learning_rate=0.5, n_estimators=80, subsample=0.01........\n",
      "[CV 2/2; 45/64] END learning_rate=0.5, n_estimators=80, subsample=0.01;, score=0.500 total time=   0.1s\n",
      "[CV 1/2; 46/64] START learning_rate=0.5, n_estimators=80, subsample=0.04........\n",
      "[CV 1/2; 46/64] END learning_rate=0.5, n_estimators=80, subsample=0.04;, score=0.512 total time=   0.2s\n",
      "[CV 2/2; 46/64] START learning_rate=0.5, n_estimators=80, subsample=0.04........\n",
      "[CV 2/2; 46/64] END learning_rate=0.5, n_estimators=80, subsample=0.04;, score=0.548 total time=   0.1s\n",
      "[CV 1/2; 47/64] START learning_rate=0.5, n_estimators=80, subsample=0.06........\n",
      "[CV 1/2; 47/64] END learning_rate=0.5, n_estimators=80, subsample=0.06;, score=0.476 total time=   0.2s\n",
      "[CV 2/2; 47/64] START learning_rate=0.5, n_estimators=80, subsample=0.06........\n",
      "[CV 2/2; 47/64] END learning_rate=0.5, n_estimators=80, subsample=0.06;, score=0.500 total time=   0.2s\n",
      "[CV 1/2; 48/64] START learning_rate=0.5, n_estimators=80, subsample=0.09........\n",
      "[CV 1/2; 48/64] END learning_rate=0.5, n_estimators=80, subsample=0.09;, score=0.472 total time=   0.3s\n",
      "[CV 2/2; 48/64] START learning_rate=0.5, n_estimators=80, subsample=0.09........\n",
      "[CV 2/2; 48/64] END learning_rate=0.5, n_estimators=80, subsample=0.09;, score=0.516 total time=   0.3s\n",
      "[CV 1/2; 49/64] START learning_rate=0.7, n_estimators=20, subsample=0.01........\n",
      "[CV 1/2; 49/64] END learning_rate=0.7, n_estimators=20, subsample=0.01;, score=0.504 total time=   0.1s\n",
      "[CV 2/2; 49/64] START learning_rate=0.7, n_estimators=20, subsample=0.01........\n",
      "[CV 2/2; 49/64] END learning_rate=0.7, n_estimators=20, subsample=0.01;, score=0.500 total time=   0.1s\n",
      "[CV 1/2; 50/64] START learning_rate=0.7, n_estimators=20, subsample=0.04........\n",
      "[CV 1/2; 50/64] END learning_rate=0.7, n_estimators=20, subsample=0.04;, score=0.516 total time=   0.1s\n",
      "[CV 2/2; 50/64] START learning_rate=0.7, n_estimators=20, subsample=0.04........\n",
      "[CV 2/2; 50/64] END learning_rate=0.7, n_estimators=20, subsample=0.04;, score=0.468 total time=   0.1s\n",
      "[CV 1/2; 51/64] START learning_rate=0.7, n_estimators=20, subsample=0.06........\n",
      "[CV 1/2; 51/64] END learning_rate=0.7, n_estimators=20, subsample=0.06;, score=0.484 total time=   0.1s\n",
      "[CV 2/2; 51/64] START learning_rate=0.7, n_estimators=20, subsample=0.06........\n",
      "[CV 2/2; 51/64] END learning_rate=0.7, n_estimators=20, subsample=0.06;, score=0.460 total time=   0.1s\n",
      "[CV 1/2; 52/64] START learning_rate=0.7, n_estimators=20, subsample=0.09........\n",
      "[CV 1/2; 52/64] END learning_rate=0.7, n_estimators=20, subsample=0.09;, score=0.456 total time=   0.1s\n",
      "[CV 2/2; 52/64] START learning_rate=0.7, n_estimators=20, subsample=0.09........\n",
      "[CV 2/2; 52/64] END learning_rate=0.7, n_estimators=20, subsample=0.09;, score=0.536 total time=   0.1s\n",
      "[CV 1/2; 53/64] START learning_rate=0.7, n_estimators=40, subsample=0.01........\n",
      "[CV 1/2; 53/64] END learning_rate=0.7, n_estimators=40, subsample=0.01;, score=0.504 total time=   0.1s\n",
      "[CV 2/2; 53/64] START learning_rate=0.7, n_estimators=40, subsample=0.01........\n",
      "[CV 2/2; 53/64] END learning_rate=0.7, n_estimators=40, subsample=0.01;, score=0.500 total time=   0.1s\n",
      "[CV 1/2; 54/64] START learning_rate=0.7, n_estimators=40, subsample=0.04........\n",
      "[CV 1/2; 54/64] END learning_rate=0.7, n_estimators=40, subsample=0.04;, score=0.504 total time=   0.1s\n",
      "[CV 2/2; 54/64] START learning_rate=0.7, n_estimators=40, subsample=0.04........\n",
      "[CV 2/2; 54/64] END learning_rate=0.7, n_estimators=40, subsample=0.04;, score=0.508 total time=   0.1s\n",
      "[CV 1/2; 55/64] START learning_rate=0.7, n_estimators=40, subsample=0.06........\n",
      "[CV 1/2; 55/64] END learning_rate=0.7, n_estimators=40, subsample=0.06;, score=0.464 total time=   0.1s\n",
      "[CV 2/2; 55/64] START learning_rate=0.7, n_estimators=40, subsample=0.06........\n",
      "[CV 2/2; 55/64] END learning_rate=0.7, n_estimators=40, subsample=0.06;, score=0.512 total time=   0.1s\n",
      "[CV 1/2; 56/64] START learning_rate=0.7, n_estimators=40, subsample=0.09........\n",
      "[CV 1/2; 56/64] END learning_rate=0.7, n_estimators=40, subsample=0.09;, score=0.476 total time=   0.2s\n",
      "[CV 2/2; 56/64] START learning_rate=0.7, n_estimators=40, subsample=0.09........\n",
      "[CV 2/2; 56/64] END learning_rate=0.7, n_estimators=40, subsample=0.09;, score=0.512 total time=   0.2s\n",
      "[CV 1/2; 57/64] START learning_rate=0.7, n_estimators=60, subsample=0.01........\n",
      "[CV 1/2; 57/64] END learning_rate=0.7, n_estimators=60, subsample=0.01;, score=0.496 total time=   0.1s\n",
      "[CV 2/2; 57/64] START learning_rate=0.7, n_estimators=60, subsample=0.01........\n",
      "[CV 2/2; 57/64] END learning_rate=0.7, n_estimators=60, subsample=0.01;, score=0.500 total time=   0.1s\n",
      "[CV 1/2; 58/64] START learning_rate=0.7, n_estimators=60, subsample=0.04........\n",
      "[CV 1/2; 58/64] END learning_rate=0.7, n_estimators=60, subsample=0.04;, score=0.512 total time=   0.1s\n",
      "[CV 2/2; 58/64] START learning_rate=0.7, n_estimators=60, subsample=0.04........\n",
      "[CV 2/2; 58/64] END learning_rate=0.7, n_estimators=60, subsample=0.04;, score=0.496 total time=   0.1s\n",
      "[CV 1/2; 59/64] START learning_rate=0.7, n_estimators=60, subsample=0.06........\n",
      "[CV 1/2; 59/64] END learning_rate=0.7, n_estimators=60, subsample=0.06;, score=0.532 total time=   0.1s\n",
      "[CV 2/2; 59/64] START learning_rate=0.7, n_estimators=60, subsample=0.06........\n",
      "[CV 2/2; 59/64] END learning_rate=0.7, n_estimators=60, subsample=0.06;, score=0.536 total time=   0.1s\n",
      "[CV 1/2; 60/64] START learning_rate=0.7, n_estimators=60, subsample=0.09........\n",
      "[CV 1/2; 60/64] END learning_rate=0.7, n_estimators=60, subsample=0.09;, score=0.496 total time=   0.2s\n",
      "[CV 2/2; 60/64] START learning_rate=0.7, n_estimators=60, subsample=0.09........\n",
      "[CV 2/2; 60/64] END learning_rate=0.7, n_estimators=60, subsample=0.09;, score=0.536 total time=   0.2s\n",
      "[CV 1/2; 61/64] START learning_rate=0.7, n_estimators=80, subsample=0.01........\n",
      "[CV 1/2; 61/64] END learning_rate=0.7, n_estimators=80, subsample=0.01;, score=0.496 total time=   0.1s\n",
      "[CV 2/2; 61/64] START learning_rate=0.7, n_estimators=80, subsample=0.01........\n",
      "[CV 2/2; 61/64] END learning_rate=0.7, n_estimators=80, subsample=0.01;, score=0.500 total time=   0.1s\n",
      "[CV 1/2; 62/64] START learning_rate=0.7, n_estimators=80, subsample=0.04........\n",
      "[CV 1/2; 62/64] END learning_rate=0.7, n_estimators=80, subsample=0.04;, score=0.504 total time=   0.1s\n",
      "[CV 2/2; 62/64] START learning_rate=0.7, n_estimators=80, subsample=0.04........\n",
      "[CV 2/2; 62/64] END learning_rate=0.7, n_estimators=80, subsample=0.04;, score=0.496 total time=   0.1s\n",
      "[CV 1/2; 63/64] START learning_rate=0.7, n_estimators=80, subsample=0.06........\n",
      "[CV 1/2; 63/64] END learning_rate=0.7, n_estimators=80, subsample=0.06;, score=0.504 total time=   0.2s\n",
      "[CV 2/2; 63/64] START learning_rate=0.7, n_estimators=80, subsample=0.06........\n",
      "[CV 2/2; 63/64] END learning_rate=0.7, n_estimators=80, subsample=0.06;, score=0.500 total time=   0.2s\n",
      "[CV 1/2; 64/64] START learning_rate=0.7, n_estimators=80, subsample=0.09........\n",
      "[CV 1/2; 64/64] END learning_rate=0.7, n_estimators=80, subsample=0.09;, score=0.488 total time=   0.4s\n",
      "[CV 2/2; 64/64] START learning_rate=0.7, n_estimators=80, subsample=0.09........\n",
      "[CV 2/2; 64/64] END learning_rate=0.7, n_estimators=80, subsample=0.09;, score=0.524 total time=   1.8s\n",
      "{'learning_rate': 0.1, 'n_estimators': 60, 'subsample': 0.09}\n",
      "score-En_Offen_span_1:  0.548\n"
     ]
    }
   ],
   "source": [
    "from xgboost import XGBClassifier as En_Offen_span_1etg\n",
    "\n",
    "En_Hypm = { 'n_estimators': [20,40,60,80],\n",
    "               'subsample': [0.01,0.04,0.06,0.09],\n",
    "               'learning_rate':[0.1,0.3,0.5,0.7]}\n",
    "\n",
    "\n",
    "En_Hypm_vsb = En_Offen_span_1etg(random_state= En_rast)\n",
    "En_Hypm_vsb = En_Offen_span_1grdsh(En_Hypm_vsb, En_Hypm,\n",
    "                          cv=2, verbose=10)\n",
    "En_Hypm_vsb.fit(En_Offen_span_1xr[:500], En_Offen_span_1yr[:500])\n",
    "\n",
    "print(En_Hypm_vsb.best_params_)\n",
    "print(\"score-En_Offen_span_1: \", En_Hypm_vsb.best_score_)"
   ]
  },
  {
   "cell_type": "code",
   "execution_count": 38,
   "metadata": {
    "colab": {
     "base_uri": "https://localhost:8080/",
     "height": 715
    },
    "executionInfo": {
     "elapsed": 2095,
     "status": "ok",
     "timestamp": 1708679964078,
     "user": {
      "displayName": "jadaprojects09",
      "userId": "16719958102440739805"
     },
     "user_tz": -330
    },
    "id": "rBupKsGMp1nS",
    "outputId": "d5003e3c-6e9b-4686-b458-3cd64d3c430b"
   },
   "outputs": [
    {
     "name": "stdout",
     "output_type": "stream",
     "text": [
      "\n",
      " training duration: 1.6949634552001953 \n",
      "\n",
      "              precision    recall  f1-score   support\n",
      "\n",
      "         0.0       0.51      0.50      0.51       127\n",
      "         1.0       0.46      0.47      0.46       116\n",
      "\n",
      "    accuracy                           0.49       243\n",
      "   macro avg       0.48      0.48      0.48       243\n",
      "weighted avg       0.49      0.49      0.49       243\n",
      "\n",
      "\n",
      " validation duration: 0.05348992347717285 \n",
      "\n"
     ]
    },
    {
     "data": {
      "image/png": "[encoded data removed]",
      "text/plain": [
       "<Figure size 640x480 with 2 Axes>"
      ]
     },
     "metadata": {},
     "output_type": "display_data"
    }
   ],
   "source": [
    "En_pd1 = En_Offen_span_1tiim.time()\n",
    "\n",
    "En_Offen_span_MdE= En_Offen_span_1etg(**En_Hypm_vsb.best_params_)\n",
    "En_Offen_span_MdE.fit(En_Offen_span_1xr, En_Offen_span_1yr)\n",
    "\n",
    "En_pd2 = En_Offen_span_1tiim.time()\n",
    "print(\"\\n training duration:\", En_pd2-En_pd1,\"\\n\")\n",
    "\n",
    "\n",
    "En_pd1 = En_Offen_span_1tiim.time()\n",
    "\n",
    "En_Offen_span_pct= En_Offen_span_MdE.predict(En_Offen_span_1xd)\n",
    "\n",
    "print(En_Offen_span_1cffr(En_Offen_span_1yd, En_Offen_span_pct))\n",
    "\n",
    "En_tk = En_Offen_span_1cfmt(En_Offen_span_1yd,En_Offen_span_pct)\n",
    "En_rd = En_Offen_span_1cmxd(confusion_matrix = En_tk, display_labels = [0,1])\n",
    "En_rd.plot()\n",
    "\n",
    "En_pd2= En_Offen_span_1tiim.time()\n",
    "print(\"\\n validation duration:\", En_pd2-En_pd1,\"\\n\")"
   ]
  },
  {
   "cell_type": "code",
   "execution_count": 39,
   "metadata": {
    "colab": {
     "base_uri": "https://localhost:8080/",
     "height": 489
    },
    "executionInfo": {
     "elapsed": 744,
     "status": "ok",
     "timestamp": 1708679964732,
     "user": {
      "displayName": "jadaprojects09",
      "userId": "16719958102440739805"
     },
     "user_tz": -330
    },
    "id": "uIdfxXbLp1sW",
    "outputId": "e83f0f66-a397-4f74-bd6b-0604d8c36917"
   },
   "outputs": [
    {
     "data": {
      "image/png": "[encoded data removed]",
      "text/plain": [
       "<Figure size 640x480 with 1 Axes>"
      ]
     },
     "metadata": {},
     "output_type": "display_data"
    },
    {
     "name": "stdout",
     "output_type": "stream",
     "text": [
      "auc- curve: 0.484727124626663\n"
     ]
    }
   ],
   "source": [
    "En_Offen_span_Fals, En_Offen_span_tre, En_Offen_span_ths = En_Offen_span_rc(En_Offen_span_1yd, En_Offen_span_pct)\n",
    "En_Offen_span_mt.plot(En_Offen_span_Fals, En_Offen_span_tre)\n",
    "En_Offen_span_mt.ylabel('rate-Fals')\n",
    "En_Offen_span_mt.xlabel('rate-Tru')\n",
    "En_Offen_span_mt.title('roc curve')\n",
    "En_Offen_span_mt.show()\n",
    "print('auc- curve:', En_Offen_span_ac(En_Offen_span_1yd, En_Offen_span_pct))"
   ]
  },
  {
   "cell_type": "code",
   "execution_count": 40,
   "metadata": {
    "colab": {
     "base_uri": "https://localhost:8080/",
     "height": 657
    },
    "executionInfo": {
     "elapsed": 34,
     "status": "ok",
     "timestamp": 1708679964733,
     "user": {
      "displayName": "jadaprojects09",
      "userId": "16719958102440739805"
     },
     "user_tz": -330
    },
    "id": "S7C95mO9p28v",
    "outputId": "b4f78410-24f5-47db-eda9-339b37cbb631"
   },
   "outputs": [
    {
     "name": "stdout",
     "output_type": "stream",
     "text": [
      "              precision    recall  f1-score   support\n",
      "\n",
      "         0.0       0.48      0.53      0.50       118\n",
      "         1.0       0.51      0.45      0.48       126\n",
      "\n",
      "    accuracy                           0.49       244\n",
      "   macro avg       0.49      0.49      0.49       244\n",
      "weighted avg       0.49      0.49      0.49       244\n",
      "\n",
      "\n",
      " testing duration: 0.06540679931640625 \n",
      "\n"
     ]
    },
    {
     "data": {
      "image/png": "[encoded data removed]",
      "text/plain": [
       "<Figure size 640x480 with 2 Axes>"
      ]
     },
     "metadata": {},
     "output_type": "display_data"
    }
   ],
   "source": [
    "En_pd1 = En_Offen_span_1tiim.time()\n",
    "\n",
    "En_Offen_span_pct= En_Offen_span_MdE.predict(En_Offen_span_1xe)\n",
    "\n",
    "print(En_Offen_span_1cffr(En_Offen_span_1ye, En_Offen_span_pct))\n",
    "\n",
    "En_tk = En_Offen_span_1cfmt(En_Offen_span_1ye,En_Offen_span_pct)\n",
    "En_rd = En_Offen_span_1cmxd(confusion_matrix = En_tk, display_labels = [0,1])\n",
    "En_rd.plot()\n",
    "\n",
    "En_pd2= En_Offen_span_1tiim.time()\n",
    "print(\"\\n testing duration:\", En_pd2-En_pd1,\"\\n\")"
   ]
  },
  {
   "cell_type": "code",
   "execution_count": 41,
   "metadata": {
    "colab": {
     "base_uri": "https://localhost:8080/",
     "height": 489
    },
    "executionInfo": {
     "elapsed": 28,
     "status": "ok",
     "timestamp": 1708679964740,
     "user": {
      "displayName": "jadaprojects09",
      "userId": "16719958102440739805"
     },
     "user_tz": -330
    },
    "id": "RFA7E9ecp2-h",
    "outputId": "65aed1b2-ac1c-4cc2-e916-f7a483f85905"
   },
   "outputs": [
    {
     "data": {
      "image/png": "[encoded data removed]",
      "text/plain": [
       "<Figure size 640x480 with 1 Axes>"
      ]
     },
     "metadata": {},
     "output_type": "display_data"
    },
    {
     "name": "stdout",
     "output_type": "stream",
     "text": [
      "auc- curve: 0.4931396287328491\n"
     ]
    }
   ],
   "source": [
    "En_Offen_span_Fals, En_Offen_span_tre, En_Offen_span_ths = En_Offen_span_rc(En_Offen_span_1ye, En_Offen_span_pct)\n",
    "En_Offen_span_mt.plot(En_Offen_span_Fals, En_Offen_span_tre)\n",
    "En_Offen_span_mt.ylabel('rate-Fals')\n",
    "En_Offen_span_mt.xlabel('rate-Tru')\n",
    "En_Offen_span_mt.title('roc curve')\n",
    "En_Offen_span_mt.show()\n",
    "print('auc- curve:', En_Offen_span_ac(En_Offen_span_1ye, En_Offen_span_pct))"
   ]
  }
 ],
 "metadata": {
  "colab": {
   "provenance": []
  },
  "kernelspec": {
   "display_name": "Python 3 (ipykernel)",
   "language": "python",
   "name": "python3"
  },
  "language_info": {
   "codemirror_mode": {
    "name": "ipython",
    "version": 3
   },
   "file_extension": ".py",
   "mimetype": "text/x-python",
   "name": "python",
   "nbconvert_exporter": "python",
   "pygments_lexer": "ipython3",
   "version": "3.11.3"
  }
 },
 "nbformat": 4,
 "nbformat_minor": 1
}
