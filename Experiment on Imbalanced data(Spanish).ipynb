{
 "cells": [
  {
   "cell_type": "code",
   "execution_count": 1,
   "id": "7fb678f8",
   "metadata": {},
   "outputs": [],
   "source": [
    "import warnings as En_Offen_span__w\n",
    "En_Offen_span__w.filterwarnings(\"ignore\")\n",
    "import pandas as En_Offen_span__N"
   ]
  },
  {
   "cell_type": "code",
   "execution_count": 2,
   "id": "693f74fe",
   "metadata": {},
   "outputs": [
    {
     "data": {
      "text/html": [
       "<div>\n",
       "<style scoped>\n",
       "    .dataframe tbody tr th:only-of-type {\n",
       "        vertical-align: middle;\n",
       "    }\n",
       "\n",
       "    .dataframe tbody tr th {\n",
       "        vertical-align: top;\n",
       "    }\n",
       "\n",
       "    .dataframe thead th {\n",
       "        text-align: right;\n",
       "    }\n",
       "</style>\n",
       "<table border=\"1\" class=\"dataframe\">\n",
       "  <thead>\n",
       "    <tr style=\"text-align: right;\">\n",
       "      <th></th>\n",
       "      <th>tweet a etiquetar</th>\n",
       "      <th>hate speech/estereotipo</th>\n",
       "    </tr>\n",
       "  </thead>\n",
       "  <tbody>\n",
       "    <tr>\n",
       "      <th>0</th>\n",
       "      <td>tan tan feminista invisibilizaban constantemen...</td>\n",
       "      <td>0.0</td>\n",
       "    </tr>\n",
       "    <tr>\n",
       "      <th>1</th>\n",
       "      <td>eneatipo cooperativa karina ol carga q convirt...</td>\n",
       "      <td>0.0</td>\n",
       "    </tr>\n",
       "    <tr>\n",
       "      <th>2</th>\n",
       "      <td>sabr n femiorca karina ol flaiterio mapuchento...</td>\n",
       "      <td>1.0</td>\n",
       "    </tr>\n",
       "    <tr>\n",
       "      <th>3</th>\n",
       "      <td>antodellaw jonaoval carolinaleitao penalolen v...</td>\n",
       "      <td>0.0</td>\n",
       "    </tr>\n",
       "    <tr>\n",
       "      <th>4</th>\n",
       "      <td>ciudadanolevi debajo piedra flaiterio</td>\n",
       "      <td>0.0</td>\n",
       "    </tr>\n",
       "    <tr>\n",
       "      <th>...</th>\n",
       "      <td>...</td>\n",
       "      <td>...</td>\n",
       "    </tr>\n",
       "    <tr>\n",
       "      <th>9522</th>\n",
       "      <td>tere marinov toda raz n sra marinov hoy femini...</td>\n",
       "      <td>1.0</td>\n",
       "    </tr>\n",
       "    <tr>\n",
       "      <th>9523</th>\n",
       "      <td>anariagrando andreaenlaruta clintjoselint ver ...</td>\n",
       "      <td>0.0</td>\n",
       "    </tr>\n",
       "    <tr>\n",
       "      <th>9524</th>\n",
       "      <td>feminista tan agresor dan risa verdad asco con...</td>\n",
       "      <td>0.0</td>\n",
       "    </tr>\n",
       "    <tr>\n",
       "      <th>9525</th>\n",
       "      <td>machinet feminista dicen colega karina oliva</td>\n",
       "      <td>0.0</td>\n",
       "    </tr>\n",
       "    <tr>\n",
       "      <th>9526</th>\n",
       "      <td>andreaenlaruta clintjoselint entonc feminista ...</td>\n",
       "      <td>0.0</td>\n",
       "    </tr>\n",
       "  </tbody>\n",
       "</table>\n",
       "<p>9527 rows × 2 columns</p>\n",
       "</div>"
      ],
      "text/plain": [
       "                                      tweet a etiquetar  \\\n",
       "0     tan tan feminista invisibilizaban constantemen...   \n",
       "1     eneatipo cooperativa karina ol carga q convirt...   \n",
       "2     sabr n femiorca karina ol flaiterio mapuchento...   \n",
       "3     antodellaw jonaoval carolinaleitao penalolen v...   \n",
       "4                 ciudadanolevi debajo piedra flaiterio   \n",
       "...                                                 ...   \n",
       "9522  tere marinov toda raz n sra marinov hoy femini...   \n",
       "9523  anariagrando andreaenlaruta clintjoselint ver ...   \n",
       "9524  feminista tan agresor dan risa verdad asco con...   \n",
       "9525       machinet feminista dicen colega karina oliva   \n",
       "9526  andreaenlaruta clintjoselint entonc feminista ...   \n",
       "\n",
       "      hate speech/estereotipo  \n",
       "0                         0.0  \n",
       "1                         0.0  \n",
       "2                         1.0  \n",
       "3                         0.0  \n",
       "4                         0.0  \n",
       "...                       ...  \n",
       "9522                      1.0  \n",
       "9523                      0.0  \n",
       "9524                      0.0  \n",
       "9525                      0.0  \n",
       "9526                      0.0  \n",
       "\n",
       "[9527 rows x 2 columns]"
      ]
     },
     "execution_count": 2,
     "metadata": {},
     "output_type": "execute_result"
    }
   ],
   "source": [
    "####### Spanish offensive language\n",
    "En_Offen_span_1 = En_Offen_span__N.read_csv('Spanish_final.csv')\n",
    "En_Offen_span_1"
   ]
  },
  {
   "cell_type": "code",
   "execution_count": 3,
   "id": "6d1d80a7",
   "metadata": {},
   "outputs": [
    {
     "data": {
      "text/plain": [
       "0.0    8919\n",
       "1.0     608\n",
       "Name: hate speech/estereotipo, dtype: int64"
      ]
     },
     "execution_count": 3,
     "metadata": {},
     "output_type": "execute_result"
    }
   ],
   "source": [
    "En_Offen_span_1['hate speech/estereotipo'].value_counts()"
   ]
  },
  {
   "cell_type": "code",
   "execution_count": 4,
   "id": "2b0dd6e9",
   "metadata": {},
   "outputs": [],
   "source": [
    "from sklearn.feature_extraction.text import TfidfVectorizer as En_Offen_span_1tf\n",
    "\n",
    "En_Offen_span_1zer = En_Offen_span_1tf(analyzer='word', ngram_range= (1,1))\n",
    "En_Offen_span_1x = En_Offen_span_1zer.fit_transform(En_Offen_span_1['tweet a etiquetar'].values.astype('U')).toarray()"
   ]
  },
  {
   "cell_type": "code",
   "execution_count": 5,
   "id": "502903b1",
   "metadata": {},
   "outputs": [
    {
     "data": {
      "text/plain": [
       "(9527, 26680)"
      ]
     },
     "execution_count": 5,
     "metadata": {},
     "output_type": "execute_result"
    }
   ],
   "source": [
    "En_Offen_span_1x.shape"
   ]
  },
  {
   "cell_type": "code",
   "execution_count": 6,
   "id": "40aaaddd",
   "metadata": {},
   "outputs": [],
   "source": [
    "En_Offen_span_1y = En_Offen_span_1['hate speech/estereotipo']"
   ]
  },
  {
   "cell_type": "code",
   "execution_count": 7,
   "id": "b3644a93",
   "metadata": {},
   "outputs": [
    {
     "data": {
      "text/plain": [
       "(9527,)"
      ]
     },
     "execution_count": 7,
     "metadata": {},
     "output_type": "execute_result"
    }
   ],
   "source": [
    "En_Offen_span_1y.shape"
   ]
  },
  {
   "cell_type": "code",
   "execution_count": 8,
   "id": "c493b511",
   "metadata": {},
   "outputs": [
    {
     "name": "stdout",
     "output_type": "stream",
     "text": [
      "(5716, 26680)\n",
      "(1905, 26680)\n",
      "(1906, 26680)\n"
     ]
    }
   ],
   "source": [
    "from sklearn.model_selection import train_test_split as En_Offen_span_1trs\n",
    "\n",
    "En_tssi =0.4\n",
    "En_rast = 40\n",
    "En_tssi1 =0.5\n",
    "\n",
    "En_Offen_span_1xr, En_Offen_span_1xe, En_Offen_span_1yr, En_Offen_span_1ye = En_Offen_span_1trs(En_Offen_span_1x, En_Offen_span_1y, test_size=En_tssi, random_state= En_rast)\n",
    "En_Offen_span_1xd, En_Offen_span_1xe, En_Offen_span_1yd, En_Offen_span_1ye = En_Offen_span_1trs(En_Offen_span_1xe, En_Offen_span_1ye, test_size= En_tssi1, random_state= En_rast)\n",
    "\n",
    "print(En_Offen_span_1xr.shape)\n",
    "print(En_Offen_span_1xd.shape)\n",
    "print(En_Offen_span_1xe.shape)"
   ]
  },
  {
   "cell_type": "code",
   "execution_count": 9,
   "id": "cca30462",
   "metadata": {},
   "outputs": [],
   "source": [
    "from sklearn.metrics import classification_report as En_Offen_span_1cffr\n",
    "from sklearn.metrics import confusion_matrix as En_Offen_span_1cfmt\n",
    "from sklearn.metrics import ConfusionMatrixDisplay as En_Offen_span_1cmxd\n",
    "from sklearn.model_selection import GridSearchCV as En_Offen_span_1grdsh\n",
    "import time as En_Offen_span_1tiim"
   ]
  },
  {
   "cell_type": "code",
   "execution_count": 10,
   "id": "cd46f535",
   "metadata": {},
   "outputs": [
    {
     "name": "stdout",
     "output_type": "stream",
     "text": [
      "Fitting 2 folds for each of 48 candidates, totalling 96 fits\n",
      "[CV 1/2; 1/48] START degree=2, gamma=auto, kernel=sigmoid.......................\n",
      "[CV 1/2; 1/48] END degree=2, gamma=auto, kernel=sigmoid;, score=0.932 total time=   1.6s\n",
      "[CV 2/2; 1/48] START degree=2, gamma=auto, kernel=sigmoid.......................\n",
      "[CV 2/2; 1/48] END degree=2, gamma=auto, kernel=sigmoid;, score=0.932 total time=   1.1s\n",
      "[CV 1/2; 2/48] START degree=2, gamma=auto, kernel=poly..........................\n",
      "[CV 1/2; 2/48] END degree=2, gamma=auto, kernel=poly;, score=0.932 total time=   1.0s\n",
      "[CV 2/2; 2/48] START degree=2, gamma=auto, kernel=poly..........................\n",
      "[CV 2/2; 2/48] END degree=2, gamma=auto, kernel=poly;, score=0.932 total time=   1.1s\n",
      "[CV 1/2; 3/48] START degree=2, gamma=auto, kernel=rbg...........................\n",
      "[CV 1/2; 3/48] END degree=2, gamma=auto, kernel=rbg;, score=nan total time=   0.0s\n",
      "[CV 2/2; 3/48] START degree=2, gamma=auto, kernel=rbg...........................\n",
      "[CV 2/2; 3/48] END degree=2, gamma=auto, kernel=rbg;, score=nan total time=   0.0s\n",
      "[CV 1/2; 4/48] START degree=2, gamma=auto, kernel=linear........................\n",
      "[CV 1/2; 4/48] END degree=2, gamma=auto, kernel=linear;, score=0.932 total time=   8.5s\n",
      "[CV 2/2; 4/48] START degree=2, gamma=auto, kernel=linear........................\n",
      "[CV 2/2; 4/48] END degree=2, gamma=auto, kernel=linear;, score=0.932 total time=   8.5s\n",
      "[CV 1/2; 5/48] START degree=2, gamma=scale, kernel=sigmoid......................\n",
      "[CV 1/2; 5/48] END degree=2, gamma=scale, kernel=sigmoid;, score=0.932 total time=   8.3s\n",
      "[CV 2/2; 5/48] START degree=2, gamma=scale, kernel=sigmoid......................\n",
      "[CV 2/2; 5/48] END degree=2, gamma=scale, kernel=sigmoid;, score=0.932 total time=   7.6s\n",
      "[CV 1/2; 6/48] START degree=2, gamma=scale, kernel=poly.........................\n",
      "[CV 1/2; 6/48] END degree=2, gamma=scale, kernel=poly;, score=0.932 total time=   9.9s\n",
      "[CV 2/2; 6/48] START degree=2, gamma=scale, kernel=poly.........................\n",
      "[CV 2/2; 6/48] END degree=2, gamma=scale, kernel=poly;, score=0.932 total time=   8.9s\n",
      "[CV 1/2; 7/48] START degree=2, gamma=scale, kernel=rbg..........................\n",
      "[CV 1/2; 7/48] END degree=2, gamma=scale, kernel=rbg;, score=nan total time=   0.0s\n",
      "[CV 2/2; 7/48] START degree=2, gamma=scale, kernel=rbg..........................\n",
      "[CV 2/2; 7/48] END degree=2, gamma=scale, kernel=rbg;, score=nan total time=   0.0s\n",
      "[CV 1/2; 8/48] START degree=2, gamma=scale, kernel=linear.......................\n",
      "[CV 1/2; 8/48] END degree=2, gamma=scale, kernel=linear;, score=0.932 total time=   9.4s\n",
      "[CV 2/2; 8/48] START degree=2, gamma=scale, kernel=linear.......................\n",
      "[CV 2/2; 8/48] END degree=2, gamma=scale, kernel=linear;, score=0.932 total time=   8.3s\n",
      "[CV 1/2; 9/48] START degree=3, gamma=auto, kernel=sigmoid.......................\n",
      "[CV 1/2; 9/48] END degree=3, gamma=auto, kernel=sigmoid;, score=0.932 total time=   1.2s\n",
      "[CV 2/2; 9/48] START degree=3, gamma=auto, kernel=sigmoid.......................\n",
      "[CV 2/2; 9/48] END degree=3, gamma=auto, kernel=sigmoid;, score=0.932 total time=   1.3s\n",
      "[CV 1/2; 10/48] START degree=3, gamma=auto, kernel=poly.........................\n",
      "[CV 1/2; 10/48] END degree=3, gamma=auto, kernel=poly;, score=0.932 total time=   1.2s\n",
      "[CV 2/2; 10/48] START degree=3, gamma=auto, kernel=poly.........................\n",
      "[CV 2/2; 10/48] END degree=3, gamma=auto, kernel=poly;, score=0.932 total time=   1.3s\n",
      "[CV 1/2; 11/48] START degree=3, gamma=auto, kernel=rbg..........................\n",
      "[CV 1/2; 11/48] END degree=3, gamma=auto, kernel=rbg;, score=nan total time=   0.0s\n",
      "[CV 2/2; 11/48] START degree=3, gamma=auto, kernel=rbg..........................\n",
      "[CV 2/2; 11/48] END degree=3, gamma=auto, kernel=rbg;, score=nan total time=   0.0s\n",
      "[CV 1/2; 12/48] START degree=3, gamma=auto, kernel=linear.......................\n",
      "[CV 1/2; 12/48] END degree=3, gamma=auto, kernel=linear;, score=0.932 total time=   8.1s\n",
      "[CV 2/2; 12/48] START degree=3, gamma=auto, kernel=linear.......................\n",
      "[CV 2/2; 12/48] END degree=3, gamma=auto, kernel=linear;, score=0.932 total time=   9.3s\n",
      "[CV 1/2; 13/48] START degree=3, gamma=scale, kernel=sigmoid.....................\n",
      "[CV 1/2; 13/48] END degree=3, gamma=scale, kernel=sigmoid;, score=0.932 total time=   7.6s\n",
      "[CV 2/2; 13/48] START degree=3, gamma=scale, kernel=sigmoid.....................\n",
      "[CV 2/2; 13/48] END degree=3, gamma=scale, kernel=sigmoid;, score=0.932 total time=   7.8s\n",
      "[CV 1/2; 14/48] START degree=3, gamma=scale, kernel=poly........................\n",
      "[CV 1/2; 14/48] END degree=3, gamma=scale, kernel=poly;, score=0.932 total time=   8.2s\n",
      "[CV 2/2; 14/48] START degree=3, gamma=scale, kernel=poly........................\n",
      "[CV 2/2; 14/48] END degree=3, gamma=scale, kernel=poly;, score=0.932 total time=   9.6s\n",
      "[CV 1/2; 15/48] START degree=3, gamma=scale, kernel=rbg.........................\n",
      "[CV 1/2; 15/48] END degree=3, gamma=scale, kernel=rbg;, score=nan total time=   0.0s\n",
      "[CV 2/2; 15/48] START degree=3, gamma=scale, kernel=rbg.........................\n",
      "[CV 2/2; 15/48] END degree=3, gamma=scale, kernel=rbg;, score=nan total time=   0.0s\n",
      "[CV 1/2; 16/48] START degree=3, gamma=scale, kernel=linear......................\n",
      "[CV 1/2; 16/48] END degree=3, gamma=scale, kernel=linear;, score=0.932 total time=   9.7s\n",
      "[CV 2/2; 16/48] START degree=3, gamma=scale, kernel=linear......................\n",
      "[CV 2/2; 16/48] END degree=3, gamma=scale, kernel=linear;, score=0.932 total time=   9.2s\n",
      "[CV 1/2; 17/48] START degree=4, gamma=auto, kernel=sigmoid......................\n",
      "[CV 1/2; 17/48] END degree=4, gamma=auto, kernel=sigmoid;, score=0.932 total time=   1.3s\n",
      "[CV 2/2; 17/48] START degree=4, gamma=auto, kernel=sigmoid......................\n",
      "[CV 2/2; 17/48] END degree=4, gamma=auto, kernel=sigmoid;, score=0.932 total time=   1.3s\n",
      "[CV 1/2; 18/48] START degree=4, gamma=auto, kernel=poly.........................\n",
      "[CV 1/2; 18/48] END degree=4, gamma=auto, kernel=poly;, score=0.932 total time=   1.4s\n",
      "[CV 2/2; 18/48] START degree=4, gamma=auto, kernel=poly.........................\n",
      "[CV 2/2; 18/48] END degree=4, gamma=auto, kernel=poly;, score=0.932 total time=   1.3s\n",
      "[CV 1/2; 19/48] START degree=4, gamma=auto, kernel=rbg..........................\n",
      "[CV 1/2; 19/48] END degree=4, gamma=auto, kernel=rbg;, score=nan total time=   0.0s\n",
      "[CV 2/2; 19/48] START degree=4, gamma=auto, kernel=rbg..........................\n",
      "[CV 2/2; 19/48] END degree=4, gamma=auto, kernel=rbg;, score=nan total time=   0.0s\n",
      "[CV 1/2; 20/48] START degree=4, gamma=auto, kernel=linear.......................\n",
      "[CV 1/2; 20/48] END degree=4, gamma=auto, kernel=linear;, score=0.932 total time=   8.2s\n",
      "[CV 2/2; 20/48] START degree=4, gamma=auto, kernel=linear.......................\n",
      "[CV 2/2; 20/48] END degree=4, gamma=auto, kernel=linear;, score=0.932 total time=   9.5s\n",
      "[CV 1/2; 21/48] START degree=4, gamma=scale, kernel=sigmoid.....................\n",
      "[CV 1/2; 21/48] END degree=4, gamma=scale, kernel=sigmoid;, score=0.932 total time=   8.9s\n",
      "[CV 2/2; 21/48] START degree=4, gamma=scale, kernel=sigmoid.....................\n",
      "[CV 2/2; 21/48] END degree=4, gamma=scale, kernel=sigmoid;, score=0.932 total time=   8.3s\n",
      "[CV 1/2; 22/48] START degree=4, gamma=scale, kernel=poly........................\n",
      "[CV 1/2; 22/48] END degree=4, gamma=scale, kernel=poly;, score=0.932 total time=   8.4s\n",
      "[CV 2/2; 22/48] START degree=4, gamma=scale, kernel=poly........................\n",
      "[CV 2/2; 22/48] END degree=4, gamma=scale, kernel=poly;, score=0.932 total time=   8.7s\n",
      "[CV 1/2; 23/48] START degree=4, gamma=scale, kernel=rbg.........................\n",
      "[CV 1/2; 23/48] END degree=4, gamma=scale, kernel=rbg;, score=nan total time=   0.0s\n",
      "[CV 2/2; 23/48] START degree=4, gamma=scale, kernel=rbg.........................\n",
      "[CV 2/2; 23/48] END degree=4, gamma=scale, kernel=rbg;, score=nan total time=   0.0s\n",
      "[CV 1/2; 24/48] START degree=4, gamma=scale, kernel=linear......................\n",
      "[CV 1/2; 24/48] END degree=4, gamma=scale, kernel=linear;, score=0.932 total time=   7.7s\n",
      "[CV 2/2; 24/48] START degree=4, gamma=scale, kernel=linear......................\n",
      "[CV 2/2; 24/48] END degree=4, gamma=scale, kernel=linear;, score=0.932 total time=   9.4s\n",
      "[CV 1/2; 25/48] START degree=5, gamma=auto, kernel=sigmoid......................\n"
     ]
    },
    {
     "name": "stdout",
     "output_type": "stream",
     "text": [
      "[CV 1/2; 25/48] END degree=5, gamma=auto, kernel=sigmoid;, score=0.932 total time=   1.1s\n",
      "[CV 2/2; 25/48] START degree=5, gamma=auto, kernel=sigmoid......................\n",
      "[CV 2/2; 25/48] END degree=5, gamma=auto, kernel=sigmoid;, score=0.932 total time=   1.0s\n",
      "[CV 1/2; 26/48] START degree=5, gamma=auto, kernel=poly.........................\n",
      "[CV 1/2; 26/48] END degree=5, gamma=auto, kernel=poly;, score=0.932 total time=   1.3s\n",
      "[CV 2/2; 26/48] START degree=5, gamma=auto, kernel=poly.........................\n",
      "[CV 2/2; 26/48] END degree=5, gamma=auto, kernel=poly;, score=0.932 total time=   1.3s\n",
      "[CV 1/2; 27/48] START degree=5, gamma=auto, kernel=rbg..........................\n",
      "[CV 1/2; 27/48] END degree=5, gamma=auto, kernel=rbg;, score=nan total time=   0.0s\n",
      "[CV 2/2; 27/48] START degree=5, gamma=auto, kernel=rbg..........................\n",
      "[CV 2/2; 27/48] END degree=5, gamma=auto, kernel=rbg;, score=nan total time=   0.0s\n",
      "[CV 1/2; 28/48] START degree=5, gamma=auto, kernel=linear.......................\n",
      "[CV 1/2; 28/48] END degree=5, gamma=auto, kernel=linear;, score=0.932 total time=   8.9s\n",
      "[CV 2/2; 28/48] START degree=5, gamma=auto, kernel=linear.......................\n",
      "[CV 2/2; 28/48] END degree=5, gamma=auto, kernel=linear;, score=0.932 total time=   8.1s\n",
      "[CV 1/2; 29/48] START degree=5, gamma=scale, kernel=sigmoid.....................\n",
      "[CV 1/2; 29/48] END degree=5, gamma=scale, kernel=sigmoid;, score=0.932 total time=   7.5s\n",
      "[CV 2/2; 29/48] START degree=5, gamma=scale, kernel=sigmoid.....................\n",
      "[CV 2/2; 29/48] END degree=5, gamma=scale, kernel=sigmoid;, score=0.932 total time=   6.6s\n",
      "[CV 1/2; 30/48] START degree=5, gamma=scale, kernel=poly........................\n",
      "[CV 1/2; 30/48] END degree=5, gamma=scale, kernel=poly;, score=0.932 total time=   7.5s\n",
      "[CV 2/2; 30/48] START degree=5, gamma=scale, kernel=poly........................\n",
      "[CV 2/2; 30/48] END degree=5, gamma=scale, kernel=poly;, score=0.932 total time=   8.2s\n",
      "[CV 1/2; 31/48] START degree=5, gamma=scale, kernel=rbg.........................\n",
      "[CV 1/2; 31/48] END degree=5, gamma=scale, kernel=rbg;, score=nan total time=   0.0s\n",
      "[CV 2/2; 31/48] START degree=5, gamma=scale, kernel=rbg.........................\n",
      "[CV 2/2; 31/48] END degree=5, gamma=scale, kernel=rbg;, score=nan total time=   0.0s\n",
      "[CV 1/2; 32/48] START degree=5, gamma=scale, kernel=linear......................\n",
      "[CV 1/2; 32/48] END degree=5, gamma=scale, kernel=linear;, score=0.932 total time=   8.9s\n",
      "[CV 2/2; 32/48] START degree=5, gamma=scale, kernel=linear......................\n",
      "[CV 2/2; 32/48] END degree=5, gamma=scale, kernel=linear;, score=0.932 total time=   7.4s\n",
      "[CV 1/2; 33/48] START degree=6, gamma=auto, kernel=sigmoid......................\n",
      "[CV 1/2; 33/48] END degree=6, gamma=auto, kernel=sigmoid;, score=0.932 total time=   1.2s\n",
      "[CV 2/2; 33/48] START degree=6, gamma=auto, kernel=sigmoid......................\n",
      "[CV 2/2; 33/48] END degree=6, gamma=auto, kernel=sigmoid;, score=0.932 total time=   1.2s\n",
      "[CV 1/2; 34/48] START degree=6, gamma=auto, kernel=poly.........................\n",
      "[CV 1/2; 34/48] END degree=6, gamma=auto, kernel=poly;, score=0.932 total time=   1.3s\n",
      "[CV 2/2; 34/48] START degree=6, gamma=auto, kernel=poly.........................\n",
      "[CV 2/2; 34/48] END degree=6, gamma=auto, kernel=poly;, score=0.932 total time=   1.1s\n",
      "[CV 1/2; 35/48] START degree=6, gamma=auto, kernel=rbg..........................\n",
      "[CV 1/2; 35/48] END degree=6, gamma=auto, kernel=rbg;, score=nan total time=   0.0s\n",
      "[CV 2/2; 35/48] START degree=6, gamma=auto, kernel=rbg..........................\n",
      "[CV 2/2; 35/48] END degree=6, gamma=auto, kernel=rbg;, score=nan total time=   0.0s\n",
      "[CV 1/2; 36/48] START degree=6, gamma=auto, kernel=linear.......................\n",
      "[CV 1/2; 36/48] END degree=6, gamma=auto, kernel=linear;, score=0.932 total time=   7.4s\n",
      "[CV 2/2; 36/48] START degree=6, gamma=auto, kernel=linear.......................\n",
      "[CV 2/2; 36/48] END degree=6, gamma=auto, kernel=linear;, score=0.932 total time=   7.9s\n",
      "[CV 1/2; 37/48] START degree=6, gamma=scale, kernel=sigmoid.....................\n",
      "[CV 1/2; 37/48] END degree=6, gamma=scale, kernel=sigmoid;, score=0.932 total time=   7.2s\n",
      "[CV 2/2; 37/48] START degree=6, gamma=scale, kernel=sigmoid.....................\n",
      "[CV 2/2; 37/48] END degree=6, gamma=scale, kernel=sigmoid;, score=0.932 total time=   7.3s\n",
      "[CV 1/2; 38/48] START degree=6, gamma=scale, kernel=poly........................\n",
      "[CV 1/2; 38/48] END degree=6, gamma=scale, kernel=poly;, score=0.932 total time=   8.1s\n",
      "[CV 2/2; 38/48] START degree=6, gamma=scale, kernel=poly........................\n",
      "[CV 2/2; 38/48] END degree=6, gamma=scale, kernel=poly;, score=0.932 total time=   7.8s\n",
      "[CV 1/2; 39/48] START degree=6, gamma=scale, kernel=rbg.........................\n",
      "[CV 1/2; 39/48] END degree=6, gamma=scale, kernel=rbg;, score=nan total time=   0.0s\n",
      "[CV 2/2; 39/48] START degree=6, gamma=scale, kernel=rbg.........................\n",
      "[CV 2/2; 39/48] END degree=6, gamma=scale, kernel=rbg;, score=nan total time=   0.0s\n",
      "[CV 1/2; 40/48] START degree=6, gamma=scale, kernel=linear......................\n",
      "[CV 1/2; 40/48] END degree=6, gamma=scale, kernel=linear;, score=0.932 total time=   7.6s\n",
      "[CV 2/2; 40/48] START degree=6, gamma=scale, kernel=linear......................\n",
      "[CV 2/2; 40/48] END degree=6, gamma=scale, kernel=linear;, score=0.932 total time=   7.4s\n",
      "[CV 1/2; 41/48] START degree=7, gamma=auto, kernel=sigmoid......................\n",
      "[CV 1/2; 41/48] END degree=7, gamma=auto, kernel=sigmoid;, score=0.932 total time=   1.0s\n",
      "[CV 2/2; 41/48] START degree=7, gamma=auto, kernel=sigmoid......................\n",
      "[CV 2/2; 41/48] END degree=7, gamma=auto, kernel=sigmoid;, score=0.932 total time=   0.9s\n",
      "[CV 1/2; 42/48] START degree=7, gamma=auto, kernel=poly.........................\n",
      "[CV 1/2; 42/48] END degree=7, gamma=auto, kernel=poly;, score=0.932 total time=   1.0s\n",
      "[CV 2/2; 42/48] START degree=7, gamma=auto, kernel=poly.........................\n",
      "[CV 2/2; 42/48] END degree=7, gamma=auto, kernel=poly;, score=0.932 total time=   1.0s\n",
      "[CV 1/2; 43/48] START degree=7, gamma=auto, kernel=rbg..........................\n",
      "[CV 1/2; 43/48] END degree=7, gamma=auto, kernel=rbg;, score=nan total time=   0.0s\n",
      "[CV 2/2; 43/48] START degree=7, gamma=auto, kernel=rbg..........................\n",
      "[CV 2/2; 43/48] END degree=7, gamma=auto, kernel=rbg;, score=nan total time=   0.0s\n",
      "[CV 1/2; 44/48] START degree=7, gamma=auto, kernel=linear.......................\n",
      "[CV 1/2; 44/48] END degree=7, gamma=auto, kernel=linear;, score=0.932 total time=   7.4s\n",
      "[CV 2/2; 44/48] START degree=7, gamma=auto, kernel=linear.......................\n",
      "[CV 2/2; 44/48] END degree=7, gamma=auto, kernel=linear;, score=0.932 total time=   7.2s\n",
      "[CV 1/2; 45/48] START degree=7, gamma=scale, kernel=sigmoid.....................\n",
      "[CV 1/2; 45/48] END degree=7, gamma=scale, kernel=sigmoid;, score=0.932 total time=   7.8s\n",
      "[CV 2/2; 45/48] START degree=7, gamma=scale, kernel=sigmoid.....................\n",
      "[CV 2/2; 45/48] END degree=7, gamma=scale, kernel=sigmoid;, score=0.932 total time=   8.6s\n",
      "[CV 1/2; 46/48] START degree=7, gamma=scale, kernel=poly........................\n",
      "[CV 1/2; 46/48] END degree=7, gamma=scale, kernel=poly;, score=0.932 total time=   9.2s\n",
      "[CV 2/2; 46/48] START degree=7, gamma=scale, kernel=poly........................\n",
      "[CV 2/2; 46/48] END degree=7, gamma=scale, kernel=poly;, score=0.932 total time=  10.2s\n",
      "[CV 1/2; 47/48] START degree=7, gamma=scale, kernel=rbg.........................\n",
      "[CV 1/2; 47/48] END degree=7, gamma=scale, kernel=rbg;, score=nan total time=   0.0s\n",
      "[CV 2/2; 47/48] START degree=7, gamma=scale, kernel=rbg.........................\n",
      "[CV 2/2; 47/48] END degree=7, gamma=scale, kernel=rbg;, score=nan total time=   0.0s\n",
      "[CV 1/2; 48/48] START degree=7, gamma=scale, kernel=linear......................\n",
      "[CV 1/2; 48/48] END degree=7, gamma=scale, kernel=linear;, score=0.932 total time=   8.6s\n",
      "[CV 2/2; 48/48] START degree=7, gamma=scale, kernel=linear......................\n",
      "[CV 2/2; 48/48] END degree=7, gamma=scale, kernel=linear;, score=0.932 total time=   9.1s\n",
      "{'degree': 2, 'gamma': 'auto', 'kernel': 'sigmoid'}\n",
      "score-En_Offen_span_1:  0.932\n"
     ]
    }
   ],
   "source": [
    "from sklearn.svm import SVC as En_Offen_span_1spv\n",
    "\n",
    "En_Hypm = { 'kernel': ['sigmoid','poly','rbg','linear'],\n",
    "               'gamma': ['auto','scale'],\n",
    "               'degree':[2,3,4,5,6,7]}\n",
    "\n",
    "\n",
    "En_Hypm_vsb = En_Offen_span_1spv(random_state= En_rast)\n",
    "En_Hypm_vsb = En_Offen_span_1grdsh(En_Hypm_vsb, En_Hypm,\n",
    "                          cv=2, verbose=10)\n",
    "En_Hypm_vsb.fit(En_Offen_span_1xr[:500], En_Offen_span_1yr[:500])\n",
    "\n",
    "print(En_Hypm_vsb.best_params_)\n",
    "print(\"score-En_Offen_span_1: \", En_Hypm_vsb.best_score_)"
   ]
  },
  {
   "cell_type": "code",
   "execution_count": 11,
   "id": "55456793",
   "metadata": {},
   "outputs": [
    {
     "name": "stdout",
     "output_type": "stream",
     "text": [
      "\n",
      " training duration: 315.12355184555054 \n",
      "\n",
      "              precision    recall  f1-score   support\n",
      "\n",
      "         0.0       0.94      1.00      0.97      1784\n",
      "         1.0       0.00      0.00      0.00       121\n",
      "\n",
      "    accuracy                           0.94      1905\n",
      "   macro avg       0.47      0.50      0.48      1905\n",
      "weighted avg       0.88      0.94      0.91      1905\n",
      "\n",
      "\n",
      " validation duration: 55.95710325241089 \n",
      "\n"
     ]
    },
    {
     "data": {
      "image/png": "[encoded data removed]",
      "text/plain": [
       "<Figure size 640x480 with 2 Axes>"
      ]
     },
     "metadata": {},
     "output_type": "display_data"
    }
   ],
   "source": [
    "En_pd1 = En_Offen_span_1tiim.time()\n",
    "\n",
    "En_Offen_span_MdB= En_Offen_span_1spv(**En_Hypm_vsb.best_params_)\n",
    "En_Offen_span_MdB.fit(En_Offen_span_1xr, En_Offen_span_1yr)\n",
    "\n",
    "En_pd2 = En_Offen_span_1tiim.time()\n",
    "print(\"\\n training duration:\", En_pd2-En_pd1,\"\\n\")\n",
    "\n",
    "\n",
    "En_pd1 = En_Offen_span_1tiim.time()\n",
    "\n",
    "En_Offen_span_pct= En_Offen_span_MdB.predict(En_Offen_span_1xd)\n",
    "\n",
    "print(En_Offen_span_1cffr(En_Offen_span_1yd, En_Offen_span_pct))\n",
    "\n",
    "En_tk = En_Offen_span_1cfmt(En_Offen_span_1yd,En_Offen_span_pct)\n",
    "En_rd = En_Offen_span_1cmxd(confusion_matrix = En_tk, display_labels = [0,1])\n",
    "En_rd.plot()\n",
    "\n",
    "En_pd2= En_Offen_span_1tiim.time()\n",
    "print(\"\\n validation duration:\", En_pd2-En_pd1,\"\\n\")"
   ]
  },
  {
   "cell_type": "code",
   "execution_count": 13,
   "id": "45ca15f9",
   "metadata": {},
   "outputs": [
    {
     "data": {
      "image/png": "[encoded data removed]",
      "text/plain": [
       "<Figure size 640x480 with 1 Axes>"
      ]
     },
     "metadata": {},
     "output_type": "display_data"
    },
    {
     "name": "stdout",
     "output_type": "stream",
     "text": [
      "auc- curve: 0.5\n"
     ]
    }
   ],
   "source": [
    "from sklearn.metrics import roc_curve as En_Offen_span_rc\n",
    "from sklearn.metrics import roc_auc_score as En_Offen_span_ac\n",
    "import matplotlib.pyplot as En_Offen_span_mt\n",
    "\n",
    "En_Offen_span_Fals, En_Offen_span_tre, En_Offen_span_ths = En_Offen_span_rc(En_Offen_span_1yd, En_Offen_span_pct)\n",
    "En_Offen_span_mt.plot(En_Offen_span_Fals, En_Offen_span_tre)\n",
    "En_Offen_span_mt.ylabel('rate-Fals')\n",
    "En_Offen_span_mt.xlabel('rate-Tru')\n",
    "En_Offen_span_mt.title('roc curve')\n",
    "En_Offen_span_mt.show()\n",
    "print('auc- curve:', En_Offen_span_ac(En_Offen_span_1yd, En_Offen_span_pct))"
   ]
  },
  {
   "cell_type": "code",
   "execution_count": 14,
   "id": "f653c853",
   "metadata": {},
   "outputs": [
    {
     "name": "stdout",
     "output_type": "stream",
     "text": [
      "              precision    recall  f1-score   support\n",
      "\n",
      "         0.0       0.94      1.00      0.97      1789\n",
      "         1.0       0.00      0.00      0.00       117\n",
      "\n",
      "    accuracy                           0.94      1906\n",
      "   macro avg       0.47      0.50      0.48      1906\n",
      "weighted avg       0.88      0.94      0.91      1906\n",
      "\n",
      "\n",
      " testing duration: 43.21664071083069 \n",
      "\n"
     ]
    },
    {
     "data": {
      "image/png": "[encoded data removed]",
      "text/plain": [
       "<Figure size 640x480 with 2 Axes>"
      ]
     },
     "metadata": {},
     "output_type": "display_data"
    }
   ],
   "source": [
    "En_pd1 = En_Offen_span_1tiim.time()\n",
    "\n",
    "En_Offen_span_pct= En_Offen_span_MdB.predict(En_Offen_span_1xe)\n",
    "\n",
    "print(En_Offen_span_1cffr(En_Offen_span_1ye, En_Offen_span_pct))\n",
    "\n",
    "En_tk = En_Offen_span_1cfmt(En_Offen_span_1ye,En_Offen_span_pct)\n",
    "En_rd = En_Offen_span_1cmxd(confusion_matrix = En_tk, display_labels = [0,1])\n",
    "En_rd.plot()\n",
    "\n",
    "En_pd2= En_Offen_span_1tiim.time()\n",
    "print(\"\\n testing duration:\", En_pd2-En_pd1,\"\\n\")"
   ]
  },
  {
   "cell_type": "code",
   "execution_count": 15,
   "id": "f672cb7f",
   "metadata": {},
   "outputs": [
    {
     "data": {
      "image/png": "[encoded data removed]",
      "text/plain": [
       "<Figure size 640x480 with 1 Axes>"
      ]
     },
     "metadata": {},
     "output_type": "display_data"
    },
    {
     "name": "stdout",
     "output_type": "stream",
     "text": [
      "auc- curve: 0.5\n"
     ]
    }
   ],
   "source": [
    "En_Offen_span_Fals, En_Offen_span_tre, En_Offen_span_ths = En_Offen_span_rc(En_Offen_span_1ye, En_Offen_span_pct)\n",
    "En_Offen_span_mt.plot(En_Offen_span_Fals, En_Offen_span_tre)\n",
    "En_Offen_span_mt.ylabel('rate-Fals')\n",
    "En_Offen_span_mt.xlabel('rate-Tru')\n",
    "En_Offen_span_mt.title('roc curve')\n",
    "En_Offen_span_mt.show()\n",
    "print('auc- curve:', En_Offen_span_ac(En_Offen_span_1ye, En_Offen_span_pct))"
   ]
  }
 ],
 "metadata": {
  "kernelspec": {
   "display_name": "Python 3 (ipykernel)",
   "language": "python",
   "name": "python3"
  },
  "language_info": {
   "codemirror_mode": {
    "name": "ipython",
    "version": 3
   },
   "file_extension": ".py",
   "mimetype": "text/x-python",
   "name": "python",
   "nbconvert_exporter": "python",
   "pygments_lexer": "ipython3",
   "version": "3.11.3"
  }
 },
 "nbformat": 4,
 "nbformat_minor": 5
}
